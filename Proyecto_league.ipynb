{
  "cells": [
    {
      "cell_type": "markdown",
      "metadata": {
        "id": "uNIY-PdGEtl_"
      },
      "source": [
        "# Librerias a Utilizar\n"
      ]
    },
    {
      "cell_type": "code",
      "execution_count": null,
      "metadata": {
        "id": "DLBJyXmVEx1U"
      },
      "outputs": [],
      "source": [
        "import graphviz\n",
        "import pandas as pd\n",
        "import seaborn as sns\n",
        "from sklearn import tree\n",
        "from sklearn.tree import DecisionTreeRegressor\n",
        "from sklearn.tree import DecisionTreeClassifier\n",
        "from sklearn.model_selection import GridSearchCV\n",
        "from sklearn.linear_model import LinearRegression\n",
        "from sklearn.ensemble import RandomForestRegressor\n",
        "from sklearn.model_selection import train_test_split\n",
        "from sklearn.ensemble import GradientBoostingRegressor\n",
        "from sklearn.metrics import confusion_matrix,classification_report"
      ]
    },
    {
      "cell_type": "markdown",
      "metadata": {
        "id": "C1dZVjTCDL9m"
      },
      "source": [
        "# Entregable Algoritmos de Machine Learning"
      ]
    },
    {
      "cell_type": "markdown",
      "metadata": {
        "id": "JEwBW6X1efQ9"
      },
      "source": [
        "El primer modelo se basa en predecir que equipo va a ganar el juego, se usa un algoritmo de regresion llamado decision tree"
      ]
    },
    {
      "cell_type": "markdown",
      "metadata": {
        "id": "5BpwMvWmC9ZT"
      },
      "source": [
        "## Modelo de regresion para el juego"
      ]
    },
    {
      "cell_type": "code",
      "execution_count": null,
      "metadata": {
        "colab": {
          "base_uri": "https://localhost:8080/",
          "height": 255
        },
        "id": "js_wFylne9E7",
        "outputId": "d55c08ca-acc4-4a84-893b-49d5a7322a64"
      },
      "outputs": [
        {
          "output_type": "execute_result",
          "data": {
            "text/plain": [
              "       gameId   creationTime  gameDuration  seasonId  winner  firstBlood  \\\n",
              "0  3326086514  1504279457970          1949         9       1           2   \n",
              "1  3229566029  1497848803862          1851         9       1           1   \n",
              "2  3327363504  1504360103310          1493         9       1           2   \n",
              "3  3326856598  1504348503996          1758         9       1           1   \n",
              "4  3330080762  1504554410899          2094         9       1           2   \n",
              "\n",
              "   firstTower  firstInhibitor  firstBaron  firstDragon  ...  t2_towerKills  \\\n",
              "0           1               1           1            1  ...              5   \n",
              "1           1               1           0            1  ...              2   \n",
              "2           1               1           1            2  ...              2   \n",
              "3           1               1           1            1  ...              0   \n",
              "4           1               1           1            1  ...              3   \n",
              "\n",
              "   t2_inhibitorKills  t2_baronKills  t2_dragonKills  t2_riftHeraldKills  \\\n",
              "0                  0              0               1                   1   \n",
              "1                  0              0               0                   0   \n",
              "2                  0              0               1                   0   \n",
              "3                  0              0               0                   0   \n",
              "4                  0              0               1                   0   \n",
              "\n",
              "   t2_ban1  t2_ban2  t2_ban3  t2_ban4  t2_ban5  \n",
              "0      114       67       43       16       51  \n",
              "1       11       67      238       51      420  \n",
              "2      157      238      121       57       28  \n",
              "3      164       18      141       40       51  \n",
              "4       86       11      201      122       18  \n",
              "\n",
              "[5 rows x 61 columns]"
            ],
            "text/html": [
              "\n",
              "  <div id=\"df-708e90b9-b10e-4a44-8888-1d69a091e646\" class=\"colab-df-container\">\n",
              "    <div>\n",
              "<style scoped>\n",
              "    .dataframe tbody tr th:only-of-type {\n",
              "        vertical-align: middle;\n",
              "    }\n",
              "\n",
              "    .dataframe tbody tr th {\n",
              "        vertical-align: top;\n",
              "    }\n",
              "\n",
              "    .dataframe thead th {\n",
              "        text-align: right;\n",
              "    }\n",
              "</style>\n",
              "<table border=\"1\" class=\"dataframe\">\n",
              "  <thead>\n",
              "    <tr style=\"text-align: right;\">\n",
              "      <th></th>\n",
              "      <th>gameId</th>\n",
              "      <th>creationTime</th>\n",
              "      <th>gameDuration</th>\n",
              "      <th>seasonId</th>\n",
              "      <th>winner</th>\n",
              "      <th>firstBlood</th>\n",
              "      <th>firstTower</th>\n",
              "      <th>firstInhibitor</th>\n",
              "      <th>firstBaron</th>\n",
              "      <th>firstDragon</th>\n",
              "      <th>...</th>\n",
              "      <th>t2_towerKills</th>\n",
              "      <th>t2_inhibitorKills</th>\n",
              "      <th>t2_baronKills</th>\n",
              "      <th>t2_dragonKills</th>\n",
              "      <th>t2_riftHeraldKills</th>\n",
              "      <th>t2_ban1</th>\n",
              "      <th>t2_ban2</th>\n",
              "      <th>t2_ban3</th>\n",
              "      <th>t2_ban4</th>\n",
              "      <th>t2_ban5</th>\n",
              "    </tr>\n",
              "  </thead>\n",
              "  <tbody>\n",
              "    <tr>\n",
              "      <th>0</th>\n",
              "      <td>3326086514</td>\n",
              "      <td>1504279457970</td>\n",
              "      <td>1949</td>\n",
              "      <td>9</td>\n",
              "      <td>1</td>\n",
              "      <td>2</td>\n",
              "      <td>1</td>\n",
              "      <td>1</td>\n",
              "      <td>1</td>\n",
              "      <td>1</td>\n",
              "      <td>...</td>\n",
              "      <td>5</td>\n",
              "      <td>0</td>\n",
              "      <td>0</td>\n",
              "      <td>1</td>\n",
              "      <td>1</td>\n",
              "      <td>114</td>\n",
              "      <td>67</td>\n",
              "      <td>43</td>\n",
              "      <td>16</td>\n",
              "      <td>51</td>\n",
              "    </tr>\n",
              "    <tr>\n",
              "      <th>1</th>\n",
              "      <td>3229566029</td>\n",
              "      <td>1497848803862</td>\n",
              "      <td>1851</td>\n",
              "      <td>9</td>\n",
              "      <td>1</td>\n",
              "      <td>1</td>\n",
              "      <td>1</td>\n",
              "      <td>1</td>\n",
              "      <td>0</td>\n",
              "      <td>1</td>\n",
              "      <td>...</td>\n",
              "      <td>2</td>\n",
              "      <td>0</td>\n",
              "      <td>0</td>\n",
              "      <td>0</td>\n",
              "      <td>0</td>\n",
              "      <td>11</td>\n",
              "      <td>67</td>\n",
              "      <td>238</td>\n",
              "      <td>51</td>\n",
              "      <td>420</td>\n",
              "    </tr>\n",
              "    <tr>\n",
              "      <th>2</th>\n",
              "      <td>3327363504</td>\n",
              "      <td>1504360103310</td>\n",
              "      <td>1493</td>\n",
              "      <td>9</td>\n",
              "      <td>1</td>\n",
              "      <td>2</td>\n",
              "      <td>1</td>\n",
              "      <td>1</td>\n",
              "      <td>1</td>\n",
              "      <td>2</td>\n",
              "      <td>...</td>\n",
              "      <td>2</td>\n",
              "      <td>0</td>\n",
              "      <td>0</td>\n",
              "      <td>1</td>\n",
              "      <td>0</td>\n",
              "      <td>157</td>\n",
              "      <td>238</td>\n",
              "      <td>121</td>\n",
              "      <td>57</td>\n",
              "      <td>28</td>\n",
              "    </tr>\n",
              "    <tr>\n",
              "      <th>3</th>\n",
              "      <td>3326856598</td>\n",
              "      <td>1504348503996</td>\n",
              "      <td>1758</td>\n",
              "      <td>9</td>\n",
              "      <td>1</td>\n",
              "      <td>1</td>\n",
              "      <td>1</td>\n",
              "      <td>1</td>\n",
              "      <td>1</td>\n",
              "      <td>1</td>\n",
              "      <td>...</td>\n",
              "      <td>0</td>\n",
              "      <td>0</td>\n",
              "      <td>0</td>\n",
              "      <td>0</td>\n",
              "      <td>0</td>\n",
              "      <td>164</td>\n",
              "      <td>18</td>\n",
              "      <td>141</td>\n",
              "      <td>40</td>\n",
              "      <td>51</td>\n",
              "    </tr>\n",
              "    <tr>\n",
              "      <th>4</th>\n",
              "      <td>3330080762</td>\n",
              "      <td>1504554410899</td>\n",
              "      <td>2094</td>\n",
              "      <td>9</td>\n",
              "      <td>1</td>\n",
              "      <td>2</td>\n",
              "      <td>1</td>\n",
              "      <td>1</td>\n",
              "      <td>1</td>\n",
              "      <td>1</td>\n",
              "      <td>...</td>\n",
              "      <td>3</td>\n",
              "      <td>0</td>\n",
              "      <td>0</td>\n",
              "      <td>1</td>\n",
              "      <td>0</td>\n",
              "      <td>86</td>\n",
              "      <td>11</td>\n",
              "      <td>201</td>\n",
              "      <td>122</td>\n",
              "      <td>18</td>\n",
              "    </tr>\n",
              "  </tbody>\n",
              "</table>\n",
              "<p>5 rows × 61 columns</p>\n",
              "</div>\n",
              "    <div class=\"colab-df-buttons\">\n",
              "\n",
              "  <div class=\"colab-df-container\">\n",
              "    <button class=\"colab-df-convert\" onclick=\"convertToInteractive('df-708e90b9-b10e-4a44-8888-1d69a091e646')\"\n",
              "            title=\"Convert this dataframe to an interactive table.\"\n",
              "            style=\"display:none;\">\n",
              "\n",
              "  <svg xmlns=\"http://www.w3.org/2000/svg\" height=\"24px\" viewBox=\"0 -960 960 960\">\n",
              "    <path d=\"M120-120v-720h720v720H120Zm60-500h600v-160H180v160Zm220 220h160v-160H400v160Zm0 220h160v-160H400v160ZM180-400h160v-160H180v160Zm440 0h160v-160H620v160ZM180-180h160v-160H180v160Zm440 0h160v-160H620v160Z\"/>\n",
              "  </svg>\n",
              "    </button>\n",
              "\n",
              "  <style>\n",
              "    .colab-df-container {\n",
              "      display:flex;\n",
              "      gap: 12px;\n",
              "    }\n",
              "\n",
              "    .colab-df-convert {\n",
              "      background-color: #E8F0FE;\n",
              "      border: none;\n",
              "      border-radius: 50%;\n",
              "      cursor: pointer;\n",
              "      display: none;\n",
              "      fill: #1967D2;\n",
              "      height: 32px;\n",
              "      padding: 0 0 0 0;\n",
              "      width: 32px;\n",
              "    }\n",
              "\n",
              "    .colab-df-convert:hover {\n",
              "      background-color: #E2EBFA;\n",
              "      box-shadow: 0px 1px 2px rgba(60, 64, 67, 0.3), 0px 1px 3px 1px rgba(60, 64, 67, 0.15);\n",
              "      fill: #174EA6;\n",
              "    }\n",
              "\n",
              "    .colab-df-buttons div {\n",
              "      margin-bottom: 4px;\n",
              "    }\n",
              "\n",
              "    [theme=dark] .colab-df-convert {\n",
              "      background-color: #3B4455;\n",
              "      fill: #D2E3FC;\n",
              "    }\n",
              "\n",
              "    [theme=dark] .colab-df-convert:hover {\n",
              "      background-color: #434B5C;\n",
              "      box-shadow: 0px 1px 3px 1px rgba(0, 0, 0, 0.15);\n",
              "      filter: drop-shadow(0px 1px 2px rgba(0, 0, 0, 0.3));\n",
              "      fill: #FFFFFF;\n",
              "    }\n",
              "  </style>\n",
              "\n",
              "    <script>\n",
              "      const buttonEl =\n",
              "        document.querySelector('#df-708e90b9-b10e-4a44-8888-1d69a091e646 button.colab-df-convert');\n",
              "      buttonEl.style.display =\n",
              "        google.colab.kernel.accessAllowed ? 'block' : 'none';\n",
              "\n",
              "      async function convertToInteractive(key) {\n",
              "        const element = document.querySelector('#df-708e90b9-b10e-4a44-8888-1d69a091e646');\n",
              "        const dataTable =\n",
              "          await google.colab.kernel.invokeFunction('convertToInteractive',\n",
              "                                                    [key], {});\n",
              "        if (!dataTable) return;\n",
              "\n",
              "        const docLinkHtml = 'Like what you see? Visit the ' +\n",
              "          '<a target=\"_blank\" href=https://colab.research.google.com/notebooks/data_table.ipynb>data table notebook</a>'\n",
              "          + ' to learn more about interactive tables.';\n",
              "        element.innerHTML = '';\n",
              "        dataTable['output_type'] = 'display_data';\n",
              "        await google.colab.output.renderOutput(dataTable, element);\n",
              "        const docLink = document.createElement('div');\n",
              "        docLink.innerHTML = docLinkHtml;\n",
              "        element.appendChild(docLink);\n",
              "      }\n",
              "    </script>\n",
              "  </div>\n",
              "\n",
              "\n",
              "<div id=\"df-46c847bd-9cc8-4f5b-b9ca-f3c00b50cb2e\">\n",
              "  <button class=\"colab-df-quickchart\" onclick=\"quickchart('df-46c847bd-9cc8-4f5b-b9ca-f3c00b50cb2e')\"\n",
              "            title=\"Suggest charts\"\n",
              "            style=\"display:none;\">\n",
              "\n",
              "<svg xmlns=\"http://www.w3.org/2000/svg\" height=\"24px\"viewBox=\"0 0 24 24\"\n",
              "     width=\"24px\">\n",
              "    <g>\n",
              "        <path d=\"M19 3H5c-1.1 0-2 .9-2 2v14c0 1.1.9 2 2 2h14c1.1 0 2-.9 2-2V5c0-1.1-.9-2-2-2zM9 17H7v-7h2v7zm4 0h-2V7h2v10zm4 0h-2v-4h2v4z\"/>\n",
              "    </g>\n",
              "</svg>\n",
              "  </button>\n",
              "\n",
              "<style>\n",
              "  .colab-df-quickchart {\n",
              "      --bg-color: #E8F0FE;\n",
              "      --fill-color: #1967D2;\n",
              "      --hover-bg-color: #E2EBFA;\n",
              "      --hover-fill-color: #174EA6;\n",
              "      --disabled-fill-color: #AAA;\n",
              "      --disabled-bg-color: #DDD;\n",
              "  }\n",
              "\n",
              "  [theme=dark] .colab-df-quickchart {\n",
              "      --bg-color: #3B4455;\n",
              "      --fill-color: #D2E3FC;\n",
              "      --hover-bg-color: #434B5C;\n",
              "      --hover-fill-color: #FFFFFF;\n",
              "      --disabled-bg-color: #3B4455;\n",
              "      --disabled-fill-color: #666;\n",
              "  }\n",
              "\n",
              "  .colab-df-quickchart {\n",
              "    background-color: var(--bg-color);\n",
              "    border: none;\n",
              "    border-radius: 50%;\n",
              "    cursor: pointer;\n",
              "    display: none;\n",
              "    fill: var(--fill-color);\n",
              "    height: 32px;\n",
              "    padding: 0;\n",
              "    width: 32px;\n",
              "  }\n",
              "\n",
              "  .colab-df-quickchart:hover {\n",
              "    background-color: var(--hover-bg-color);\n",
              "    box-shadow: 0 1px 2px rgba(60, 64, 67, 0.3), 0 1px 3px 1px rgba(60, 64, 67, 0.15);\n",
              "    fill: var(--button-hover-fill-color);\n",
              "  }\n",
              "\n",
              "  .colab-df-quickchart-complete:disabled,\n",
              "  .colab-df-quickchart-complete:disabled:hover {\n",
              "    background-color: var(--disabled-bg-color);\n",
              "    fill: var(--disabled-fill-color);\n",
              "    box-shadow: none;\n",
              "  }\n",
              "\n",
              "  .colab-df-spinner {\n",
              "    border: 2px solid var(--fill-color);\n",
              "    border-color: transparent;\n",
              "    border-bottom-color: var(--fill-color);\n",
              "    animation:\n",
              "      spin 1s steps(1) infinite;\n",
              "  }\n",
              "\n",
              "  @keyframes spin {\n",
              "    0% {\n",
              "      border-color: transparent;\n",
              "      border-bottom-color: var(--fill-color);\n",
              "      border-left-color: var(--fill-color);\n",
              "    }\n",
              "    20% {\n",
              "      border-color: transparent;\n",
              "      border-left-color: var(--fill-color);\n",
              "      border-top-color: var(--fill-color);\n",
              "    }\n",
              "    30% {\n",
              "      border-color: transparent;\n",
              "      border-left-color: var(--fill-color);\n",
              "      border-top-color: var(--fill-color);\n",
              "      border-right-color: var(--fill-color);\n",
              "    }\n",
              "    40% {\n",
              "      border-color: transparent;\n",
              "      border-right-color: var(--fill-color);\n",
              "      border-top-color: var(--fill-color);\n",
              "    }\n",
              "    60% {\n",
              "      border-color: transparent;\n",
              "      border-right-color: var(--fill-color);\n",
              "    }\n",
              "    80% {\n",
              "      border-color: transparent;\n",
              "      border-right-color: var(--fill-color);\n",
              "      border-bottom-color: var(--fill-color);\n",
              "    }\n",
              "    90% {\n",
              "      border-color: transparent;\n",
              "      border-bottom-color: var(--fill-color);\n",
              "    }\n",
              "  }\n",
              "</style>\n",
              "\n",
              "  <script>\n",
              "    async function quickchart(key) {\n",
              "      const quickchartButtonEl =\n",
              "        document.querySelector('#' + key + ' button');\n",
              "      quickchartButtonEl.disabled = true;  // To prevent multiple clicks.\n",
              "      quickchartButtonEl.classList.add('colab-df-spinner');\n",
              "      try {\n",
              "        const charts = await google.colab.kernel.invokeFunction(\n",
              "            'suggestCharts', [key], {});\n",
              "      } catch (error) {\n",
              "        console.error('Error during call to suggestCharts:', error);\n",
              "      }\n",
              "      quickchartButtonEl.classList.remove('colab-df-spinner');\n",
              "      quickchartButtonEl.classList.add('colab-df-quickchart-complete');\n",
              "    }\n",
              "    (() => {\n",
              "      let quickchartButtonEl =\n",
              "        document.querySelector('#df-46c847bd-9cc8-4f5b-b9ca-f3c00b50cb2e button');\n",
              "      quickchartButtonEl.style.display =\n",
              "        google.colab.kernel.accessAllowed ? 'block' : 'none';\n",
              "    })();\n",
              "  </script>\n",
              "</div>\n",
              "\n",
              "    </div>\n",
              "  </div>\n"
            ],
            "application/vnd.google.colaboratory.intrinsic+json": {
              "type": "dataframe",
              "variable_name": "df"
            }
          },
          "metadata": {},
          "execution_count": 58
        }
      ],
      "source": [
        "df = pd.read_csv('./games.csv')\n",
        "df.head()"
      ]
    },
    {
      "cell_type": "code",
      "execution_count": null,
      "metadata": {
        "id": "aNv4b8JGf2Zs"
      },
      "outputs": [],
      "source": [
        "data=df[[\"winner\",\"firstBlood\",\"firstTower\",\"firstInhibitor\",\"firstBaron\",\"firstDragon\",\"firstRiftHerald\",\"t1_towerKills\",\"t1_inhibitorKills\",'t1_baronKills',\n",
        "       't1_dragonKills','t2_towerKills','t2_inhibitorKills', 't2_baronKills', 't2_dragonKills'\n",
        "       ]]"
      ]
    },
    {
      "cell_type": "code",
      "execution_count": null,
      "metadata": {
        "colab": {
          "base_uri": "https://localhost:8080/"
        },
        "id": "fupPRMoGf6Ji",
        "outputId": "c6fb5732-5fe2-471a-8e45-c391d976a5be"
      },
      "outputs": [
        {
          "output_type": "stream",
          "name": "stderr",
          "text": [
            "<ipython-input-60-0bc8aa4390d2>:1: SettingWithCopyWarning: \n",
            "A value is trying to be set on a copy of a slice from a DataFrame\n",
            "\n",
            "See the caveats in the documentation: https://pandas.pydata.org/pandas-docs/stable/user_guide/indexing.html#returning-a-view-versus-a-copy\n",
            "  data.drop([524,839,867,5325,5340,6472,7408,7430,7570,7711,7874,7900,3858,4031,4467,4551,4646,4696,4897,4907,5002,5027,1241,1347,1452,1712,1962,2681,2799,2837,2960,3010,3093,3234,3325,3534,3634,3659,3747,3806,3848],inplace=True)\n"
          ]
        }
      ],
      "source": [
        "data.drop([524,839,867,5325,5340,6472,7408,7430,7570,7711,7874,7900,3858,4031,4467,4551,4646,4696,4897,4907,5002,5027,1241,1347,1452,1712,1962,2681,2799,2837,2960,3010,3093,3234,3325,3534,3634,3659,3747,3806,3848],inplace=True)\n",
        "data=data.reset_index()\n",
        "data.drop([\"index\"],axis=1,inplace=True)"
      ]
    },
    {
      "cell_type": "code",
      "execution_count": null,
      "metadata": {
        "colab": {
          "base_uri": "https://localhost:8080/",
          "height": 226
        },
        "id": "PvNqHsUFf7XW",
        "outputId": "71e8f859-2e1f-4b2b-d580-5b439d93d619"
      },
      "outputs": [
        {
          "output_type": "execute_result",
          "data": {
            "text/plain": [
              "   winner  firstBlood  firstTower  firstInhibitor  firstBaron  firstDragon  \\\n",
              "0       1           2           1               1           1            1   \n",
              "1       1           1           1               1           0            1   \n",
              "2       1           2           1               1           1            2   \n",
              "3       1           1           1               1           1            1   \n",
              "4       1           2           1               1           1            1   \n",
              "\n",
              "   firstRiftHerald  t1_towerKills  t1_inhibitorKills  t1_baronKills  \\\n",
              "0                2             11                  1              2   \n",
              "1                1             10                  4              0   \n",
              "2                0              8                  1              1   \n",
              "3                0              9                  2              1   \n",
              "4                0              9                  2              1   \n",
              "\n",
              "   t1_dragonKills  t2_towerKills  t2_inhibitorKills  t2_baronKills  \\\n",
              "0               3              5                  0              0   \n",
              "1               2              2                  0              0   \n",
              "2               1              2                  0              0   \n",
              "3               2              0                  0              0   \n",
              "4               3              3                  0              0   \n",
              "\n",
              "   t2_dragonKills  \n",
              "0               1  \n",
              "1               0  \n",
              "2               1  \n",
              "3               0  \n",
              "4               1  "
            ],
            "text/html": [
              "\n",
              "  <div id=\"df-a47d7afb-5359-439a-9c4e-a9ce7ba9ac72\" class=\"colab-df-container\">\n",
              "    <div>\n",
              "<style scoped>\n",
              "    .dataframe tbody tr th:only-of-type {\n",
              "        vertical-align: middle;\n",
              "    }\n",
              "\n",
              "    .dataframe tbody tr th {\n",
              "        vertical-align: top;\n",
              "    }\n",
              "\n",
              "    .dataframe thead th {\n",
              "        text-align: right;\n",
              "    }\n",
              "</style>\n",
              "<table border=\"1\" class=\"dataframe\">\n",
              "  <thead>\n",
              "    <tr style=\"text-align: right;\">\n",
              "      <th></th>\n",
              "      <th>winner</th>\n",
              "      <th>firstBlood</th>\n",
              "      <th>firstTower</th>\n",
              "      <th>firstInhibitor</th>\n",
              "      <th>firstBaron</th>\n",
              "      <th>firstDragon</th>\n",
              "      <th>firstRiftHerald</th>\n",
              "      <th>t1_towerKills</th>\n",
              "      <th>t1_inhibitorKills</th>\n",
              "      <th>t1_baronKills</th>\n",
              "      <th>t1_dragonKills</th>\n",
              "      <th>t2_towerKills</th>\n",
              "      <th>t2_inhibitorKills</th>\n",
              "      <th>t2_baronKills</th>\n",
              "      <th>t2_dragonKills</th>\n",
              "    </tr>\n",
              "  </thead>\n",
              "  <tbody>\n",
              "    <tr>\n",
              "      <th>0</th>\n",
              "      <td>1</td>\n",
              "      <td>2</td>\n",
              "      <td>1</td>\n",
              "      <td>1</td>\n",
              "      <td>1</td>\n",
              "      <td>1</td>\n",
              "      <td>2</td>\n",
              "      <td>11</td>\n",
              "      <td>1</td>\n",
              "      <td>2</td>\n",
              "      <td>3</td>\n",
              "      <td>5</td>\n",
              "      <td>0</td>\n",
              "      <td>0</td>\n",
              "      <td>1</td>\n",
              "    </tr>\n",
              "    <tr>\n",
              "      <th>1</th>\n",
              "      <td>1</td>\n",
              "      <td>1</td>\n",
              "      <td>1</td>\n",
              "      <td>1</td>\n",
              "      <td>0</td>\n",
              "      <td>1</td>\n",
              "      <td>1</td>\n",
              "      <td>10</td>\n",
              "      <td>4</td>\n",
              "      <td>0</td>\n",
              "      <td>2</td>\n",
              "      <td>2</td>\n",
              "      <td>0</td>\n",
              "      <td>0</td>\n",
              "      <td>0</td>\n",
              "    </tr>\n",
              "    <tr>\n",
              "      <th>2</th>\n",
              "      <td>1</td>\n",
              "      <td>2</td>\n",
              "      <td>1</td>\n",
              "      <td>1</td>\n",
              "      <td>1</td>\n",
              "      <td>2</td>\n",
              "      <td>0</td>\n",
              "      <td>8</td>\n",
              "      <td>1</td>\n",
              "      <td>1</td>\n",
              "      <td>1</td>\n",
              "      <td>2</td>\n",
              "      <td>0</td>\n",
              "      <td>0</td>\n",
              "      <td>1</td>\n",
              "    </tr>\n",
              "    <tr>\n",
              "      <th>3</th>\n",
              "      <td>1</td>\n",
              "      <td>1</td>\n",
              "      <td>1</td>\n",
              "      <td>1</td>\n",
              "      <td>1</td>\n",
              "      <td>1</td>\n",
              "      <td>0</td>\n",
              "      <td>9</td>\n",
              "      <td>2</td>\n",
              "      <td>1</td>\n",
              "      <td>2</td>\n",
              "      <td>0</td>\n",
              "      <td>0</td>\n",
              "      <td>0</td>\n",
              "      <td>0</td>\n",
              "    </tr>\n",
              "    <tr>\n",
              "      <th>4</th>\n",
              "      <td>1</td>\n",
              "      <td>2</td>\n",
              "      <td>1</td>\n",
              "      <td>1</td>\n",
              "      <td>1</td>\n",
              "      <td>1</td>\n",
              "      <td>0</td>\n",
              "      <td>9</td>\n",
              "      <td>2</td>\n",
              "      <td>1</td>\n",
              "      <td>3</td>\n",
              "      <td>3</td>\n",
              "      <td>0</td>\n",
              "      <td>0</td>\n",
              "      <td>1</td>\n",
              "    </tr>\n",
              "  </tbody>\n",
              "</table>\n",
              "</div>\n",
              "    <div class=\"colab-df-buttons\">\n",
              "\n",
              "  <div class=\"colab-df-container\">\n",
              "    <button class=\"colab-df-convert\" onclick=\"convertToInteractive('df-a47d7afb-5359-439a-9c4e-a9ce7ba9ac72')\"\n",
              "            title=\"Convert this dataframe to an interactive table.\"\n",
              "            style=\"display:none;\">\n",
              "\n",
              "  <svg xmlns=\"http://www.w3.org/2000/svg\" height=\"24px\" viewBox=\"0 -960 960 960\">\n",
              "    <path d=\"M120-120v-720h720v720H120Zm60-500h600v-160H180v160Zm220 220h160v-160H400v160Zm0 220h160v-160H400v160ZM180-400h160v-160H180v160Zm440 0h160v-160H620v160ZM180-180h160v-160H180v160Zm440 0h160v-160H620v160Z\"/>\n",
              "  </svg>\n",
              "    </button>\n",
              "\n",
              "  <style>\n",
              "    .colab-df-container {\n",
              "      display:flex;\n",
              "      gap: 12px;\n",
              "    }\n",
              "\n",
              "    .colab-df-convert {\n",
              "      background-color: #E8F0FE;\n",
              "      border: none;\n",
              "      border-radius: 50%;\n",
              "      cursor: pointer;\n",
              "      display: none;\n",
              "      fill: #1967D2;\n",
              "      height: 32px;\n",
              "      padding: 0 0 0 0;\n",
              "      width: 32px;\n",
              "    }\n",
              "\n",
              "    .colab-df-convert:hover {\n",
              "      background-color: #E2EBFA;\n",
              "      box-shadow: 0px 1px 2px rgba(60, 64, 67, 0.3), 0px 1px 3px 1px rgba(60, 64, 67, 0.15);\n",
              "      fill: #174EA6;\n",
              "    }\n",
              "\n",
              "    .colab-df-buttons div {\n",
              "      margin-bottom: 4px;\n",
              "    }\n",
              "\n",
              "    [theme=dark] .colab-df-convert {\n",
              "      background-color: #3B4455;\n",
              "      fill: #D2E3FC;\n",
              "    }\n",
              "\n",
              "    [theme=dark] .colab-df-convert:hover {\n",
              "      background-color: #434B5C;\n",
              "      box-shadow: 0px 1px 3px 1px rgba(0, 0, 0, 0.15);\n",
              "      filter: drop-shadow(0px 1px 2px rgba(0, 0, 0, 0.3));\n",
              "      fill: #FFFFFF;\n",
              "    }\n",
              "  </style>\n",
              "\n",
              "    <script>\n",
              "      const buttonEl =\n",
              "        document.querySelector('#df-a47d7afb-5359-439a-9c4e-a9ce7ba9ac72 button.colab-df-convert');\n",
              "      buttonEl.style.display =\n",
              "        google.colab.kernel.accessAllowed ? 'block' : 'none';\n",
              "\n",
              "      async function convertToInteractive(key) {\n",
              "        const element = document.querySelector('#df-a47d7afb-5359-439a-9c4e-a9ce7ba9ac72');\n",
              "        const dataTable =\n",
              "          await google.colab.kernel.invokeFunction('convertToInteractive',\n",
              "                                                    [key], {});\n",
              "        if (!dataTable) return;\n",
              "\n",
              "        const docLinkHtml = 'Like what you see? Visit the ' +\n",
              "          '<a target=\"_blank\" href=https://colab.research.google.com/notebooks/data_table.ipynb>data table notebook</a>'\n",
              "          + ' to learn more about interactive tables.';\n",
              "        element.innerHTML = '';\n",
              "        dataTable['output_type'] = 'display_data';\n",
              "        await google.colab.output.renderOutput(dataTable, element);\n",
              "        const docLink = document.createElement('div');\n",
              "        docLink.innerHTML = docLinkHtml;\n",
              "        element.appendChild(docLink);\n",
              "      }\n",
              "    </script>\n",
              "  </div>\n",
              "\n",
              "\n",
              "<div id=\"df-7c062321-6b9d-4649-b776-06d224113696\">\n",
              "  <button class=\"colab-df-quickchart\" onclick=\"quickchart('df-7c062321-6b9d-4649-b776-06d224113696')\"\n",
              "            title=\"Suggest charts\"\n",
              "            style=\"display:none;\">\n",
              "\n",
              "<svg xmlns=\"http://www.w3.org/2000/svg\" height=\"24px\"viewBox=\"0 0 24 24\"\n",
              "     width=\"24px\">\n",
              "    <g>\n",
              "        <path d=\"M19 3H5c-1.1 0-2 .9-2 2v14c0 1.1.9 2 2 2h14c1.1 0 2-.9 2-2V5c0-1.1-.9-2-2-2zM9 17H7v-7h2v7zm4 0h-2V7h2v10zm4 0h-2v-4h2v4z\"/>\n",
              "    </g>\n",
              "</svg>\n",
              "  </button>\n",
              "\n",
              "<style>\n",
              "  .colab-df-quickchart {\n",
              "      --bg-color: #E8F0FE;\n",
              "      --fill-color: #1967D2;\n",
              "      --hover-bg-color: #E2EBFA;\n",
              "      --hover-fill-color: #174EA6;\n",
              "      --disabled-fill-color: #AAA;\n",
              "      --disabled-bg-color: #DDD;\n",
              "  }\n",
              "\n",
              "  [theme=dark] .colab-df-quickchart {\n",
              "      --bg-color: #3B4455;\n",
              "      --fill-color: #D2E3FC;\n",
              "      --hover-bg-color: #434B5C;\n",
              "      --hover-fill-color: #FFFFFF;\n",
              "      --disabled-bg-color: #3B4455;\n",
              "      --disabled-fill-color: #666;\n",
              "  }\n",
              "\n",
              "  .colab-df-quickchart {\n",
              "    background-color: var(--bg-color);\n",
              "    border: none;\n",
              "    border-radius: 50%;\n",
              "    cursor: pointer;\n",
              "    display: none;\n",
              "    fill: var(--fill-color);\n",
              "    height: 32px;\n",
              "    padding: 0;\n",
              "    width: 32px;\n",
              "  }\n",
              "\n",
              "  .colab-df-quickchart:hover {\n",
              "    background-color: var(--hover-bg-color);\n",
              "    box-shadow: 0 1px 2px rgba(60, 64, 67, 0.3), 0 1px 3px 1px rgba(60, 64, 67, 0.15);\n",
              "    fill: var(--button-hover-fill-color);\n",
              "  }\n",
              "\n",
              "  .colab-df-quickchart-complete:disabled,\n",
              "  .colab-df-quickchart-complete:disabled:hover {\n",
              "    background-color: var(--disabled-bg-color);\n",
              "    fill: var(--disabled-fill-color);\n",
              "    box-shadow: none;\n",
              "  }\n",
              "\n",
              "  .colab-df-spinner {\n",
              "    border: 2px solid var(--fill-color);\n",
              "    border-color: transparent;\n",
              "    border-bottom-color: var(--fill-color);\n",
              "    animation:\n",
              "      spin 1s steps(1) infinite;\n",
              "  }\n",
              "\n",
              "  @keyframes spin {\n",
              "    0% {\n",
              "      border-color: transparent;\n",
              "      border-bottom-color: var(--fill-color);\n",
              "      border-left-color: var(--fill-color);\n",
              "    }\n",
              "    20% {\n",
              "      border-color: transparent;\n",
              "      border-left-color: var(--fill-color);\n",
              "      border-top-color: var(--fill-color);\n",
              "    }\n",
              "    30% {\n",
              "      border-color: transparent;\n",
              "      border-left-color: var(--fill-color);\n",
              "      border-top-color: var(--fill-color);\n",
              "      border-right-color: var(--fill-color);\n",
              "    }\n",
              "    40% {\n",
              "      border-color: transparent;\n",
              "      border-right-color: var(--fill-color);\n",
              "      border-top-color: var(--fill-color);\n",
              "    }\n",
              "    60% {\n",
              "      border-color: transparent;\n",
              "      border-right-color: var(--fill-color);\n",
              "    }\n",
              "    80% {\n",
              "      border-color: transparent;\n",
              "      border-right-color: var(--fill-color);\n",
              "      border-bottom-color: var(--fill-color);\n",
              "    }\n",
              "    90% {\n",
              "      border-color: transparent;\n",
              "      border-bottom-color: var(--fill-color);\n",
              "    }\n",
              "  }\n",
              "</style>\n",
              "\n",
              "  <script>\n",
              "    async function quickchart(key) {\n",
              "      const quickchartButtonEl =\n",
              "        document.querySelector('#' + key + ' button');\n",
              "      quickchartButtonEl.disabled = true;  // To prevent multiple clicks.\n",
              "      quickchartButtonEl.classList.add('colab-df-spinner');\n",
              "      try {\n",
              "        const charts = await google.colab.kernel.invokeFunction(\n",
              "            'suggestCharts', [key], {});\n",
              "      } catch (error) {\n",
              "        console.error('Error during call to suggestCharts:', error);\n",
              "      }\n",
              "      quickchartButtonEl.classList.remove('colab-df-spinner');\n",
              "      quickchartButtonEl.classList.add('colab-df-quickchart-complete');\n",
              "    }\n",
              "    (() => {\n",
              "      let quickchartButtonEl =\n",
              "        document.querySelector('#df-7c062321-6b9d-4649-b776-06d224113696 button');\n",
              "      quickchartButtonEl.style.display =\n",
              "        google.colab.kernel.accessAllowed ? 'block' : 'none';\n",
              "    })();\n",
              "  </script>\n",
              "</div>\n",
              "\n",
              "    </div>\n",
              "  </div>\n"
            ],
            "application/vnd.google.colaboratory.intrinsic+json": {
              "type": "dataframe",
              "variable_name": "data",
              "summary": "{\n  \"name\": \"data\",\n  \"rows\": 51449,\n  \"fields\": [\n    {\n      \"column\": \"winner\",\n      \"properties\": {\n        \"dtype\": \"number\",\n        \"std\": 0,\n        \"min\": 1,\n        \"max\": 2,\n        \"num_unique_values\": 2,\n        \"samples\": [\n          2,\n          1\n        ],\n        \"semantic_type\": \"\",\n        \"description\": \"\"\n      }\n    },\n    {\n      \"column\": \"firstBlood\",\n      \"properties\": {\n        \"dtype\": \"number\",\n        \"std\": 0,\n        \"min\": 0,\n        \"max\": 2,\n        \"num_unique_values\": 3,\n        \"samples\": [\n          2,\n          1\n        ],\n        \"semantic_type\": \"\",\n        \"description\": \"\"\n      }\n    },\n    {\n      \"column\": \"firstTower\",\n      \"properties\": {\n        \"dtype\": \"number\",\n        \"std\": 0,\n        \"min\": 0,\n        \"max\": 2,\n        \"num_unique_values\": 3,\n        \"samples\": [\n          1,\n          2\n        ],\n        \"semantic_type\": \"\",\n        \"description\": \"\"\n      }\n    },\n    {\n      \"column\": \"firstInhibitor\",\n      \"properties\": {\n        \"dtype\": \"number\",\n        \"std\": 0,\n        \"min\": 0,\n        \"max\": 2,\n        \"num_unique_values\": 3,\n        \"samples\": [\n          1,\n          0\n        ],\n        \"semantic_type\": \"\",\n        \"description\": \"\"\n      }\n    },\n    {\n      \"column\": \"firstBaron\",\n      \"properties\": {\n        \"dtype\": \"number\",\n        \"std\": 0,\n        \"min\": 0,\n        \"max\": 2,\n        \"num_unique_values\": 3,\n        \"samples\": [\n          1,\n          0\n        ],\n        \"semantic_type\": \"\",\n        \"description\": \"\"\n      }\n    },\n    {\n      \"column\": \"firstDragon\",\n      \"properties\": {\n        \"dtype\": \"number\",\n        \"std\": 0,\n        \"min\": 0,\n        \"max\": 2,\n        \"num_unique_values\": 3,\n        \"samples\": [\n          1,\n          2\n        ],\n        \"semantic_type\": \"\",\n        \"description\": \"\"\n      }\n    },\n    {\n      \"column\": \"firstRiftHerald\",\n      \"properties\": {\n        \"dtype\": \"number\",\n        \"std\": 0,\n        \"min\": 0,\n        \"max\": 2,\n        \"num_unique_values\": 3,\n        \"samples\": [\n          2,\n          1\n        ],\n        \"semantic_type\": \"\",\n        \"description\": \"\"\n      }\n    },\n    {\n      \"column\": \"t1_towerKills\",\n      \"properties\": {\n        \"dtype\": \"number\",\n        \"std\": 3,\n        \"min\": 0,\n        \"max\": 11,\n        \"num_unique_values\": 12,\n        \"samples\": [\n          2,\n          5\n        ],\n        \"semantic_type\": \"\",\n        \"description\": \"\"\n      }\n    },\n    {\n      \"column\": \"t1_inhibitorKills\",\n      \"properties\": {\n        \"dtype\": \"number\",\n        \"std\": 1,\n        \"min\": 0,\n        \"max\": 10,\n        \"num_unique_values\": 11,\n        \"samples\": [\n          3,\n          1\n        ],\n        \"semantic_type\": \"\",\n        \"description\": \"\"\n      }\n    },\n    {\n      \"column\": \"t1_baronKills\",\n      \"properties\": {\n        \"dtype\": \"number\",\n        \"std\": 0,\n        \"min\": 0,\n        \"max\": 5,\n        \"num_unique_values\": 6,\n        \"samples\": [\n          2,\n          0\n        ],\n        \"semantic_type\": \"\",\n        \"description\": \"\"\n      }\n    },\n    {\n      \"column\": \"t1_dragonKills\",\n      \"properties\": {\n        \"dtype\": \"number\",\n        \"std\": 1,\n        \"min\": 0,\n        \"max\": 6,\n        \"num_unique_values\": 7,\n        \"samples\": [\n          3,\n          2\n        ],\n        \"semantic_type\": \"\",\n        \"description\": \"\"\n      }\n    },\n    {\n      \"column\": \"t2_towerKills\",\n      \"properties\": {\n        \"dtype\": \"number\",\n        \"std\": 3,\n        \"min\": 0,\n        \"max\": 11,\n        \"num_unique_values\": 12,\n        \"samples\": [\n          1,\n          7\n        ],\n        \"semantic_type\": \"\",\n        \"description\": \"\"\n      }\n    },\n    {\n      \"column\": \"t2_inhibitorKills\",\n      \"properties\": {\n        \"dtype\": \"number\",\n        \"std\": 1,\n        \"min\": 0,\n        \"max\": 10,\n        \"num_unique_values\": 11,\n        \"samples\": [\n          5,\n          0\n        ],\n        \"semantic_type\": \"\",\n        \"description\": \"\"\n      }\n    },\n    {\n      \"column\": \"t2_baronKills\",\n      \"properties\": {\n        \"dtype\": \"number\",\n        \"std\": 0,\n        \"min\": 0,\n        \"max\": 4,\n        \"num_unique_values\": 5,\n        \"samples\": [\n          1,\n          4\n        ],\n        \"semantic_type\": \"\",\n        \"description\": \"\"\n      }\n    },\n    {\n      \"column\": \"t2_dragonKills\",\n      \"properties\": {\n        \"dtype\": \"number\",\n        \"std\": 1,\n        \"min\": 0,\n        \"max\": 6,\n        \"num_unique_values\": 7,\n        \"samples\": [\n          1,\n          0\n        ],\n        \"semantic_type\": \"\",\n        \"description\": \"\"\n      }\n    }\n  ]\n}"
            }
          },
          "metadata": {},
          "execution_count": 61
        }
      ],
      "source": [
        "data.head()"
      ]
    },
    {
      "cell_type": "code",
      "source": [
        "data = data.dropna()"
      ],
      "metadata": {
        "id": "XhgKT46whGgp"
      },
      "execution_count": null,
      "outputs": []
    },
    {
      "cell_type": "markdown",
      "metadata": {
        "id": "q7hAZGtaFSGr"
      },
      "source": [
        "### Parametros,Entrenamiento, Desarrollo del Decision tree"
      ]
    },
    {
      "cell_type": "code",
      "execution_count": null,
      "metadata": {
        "id": "PQ2pr9cqgKhP"
      },
      "outputs": [],
      "source": [
        "y = data[\"winner\"].values\n",
        "x = data.drop([\"winner\"],axis=1)\n",
        "x_train, x_test, y_train, y_test = train_test_split(x,y,test_size = 0.2,random_state=1)"
      ]
    },
    {
      "cell_type": "code",
      "execution_count": null,
      "metadata": {
        "id": "QpbcsvFFE52S"
      },
      "outputs": [],
      "source": [
        "criterion=[\"gini\",\"entropy\"]\n",
        "max_depth=range(1,20,2)\n",
        "splitter=[\"best\",\"random\"]\n",
        "dt=DecisionTreeClassifier()\n",
        "grid_decision_tree=GridSearchCV(estimator=dt,cv=15,param_grid=dict(criterion=criterion,max_depth=max_depth,splitter=splitter))"
      ]
    },
    {
      "cell_type": "code",
      "execution_count": null,
      "metadata": {
        "colab": {
          "base_uri": "https://localhost:8080/"
        },
        "id": "Fg8IF9GHgO1o",
        "outputId": "4b496144-f8c9-404b-f4ec-43a63af50ba2"
      },
      "outputs": [
        {
          "output_type": "stream",
          "name": "stdout",
          "text": [
            "best score:  0.9687796518534503\n",
            "best param:  {'criterion': 'entropy', 'max_depth': 7, 'splitter': 'best'}\n"
          ]
        }
      ],
      "source": [
        "grid_decision_tree.fit(x_train,y_train)\n",
        "print(\"best score: \", grid_decision_tree.best_score_)\n",
        "print(\"best param: \", grid_decision_tree.best_params_)"
      ]
    },
    {
      "cell_type": "code",
      "execution_count": null,
      "metadata": {
        "id": "RIFz_u76gRR8",
        "colab": {
          "base_uri": "https://localhost:8080/"
        },
        "outputId": "6f13af4a-822f-46aa-e45f-60ccea3df010"
      },
      "outputs": [
        {
          "output_type": "stream",
          "name": "stdout",
          "text": [
            "score: 0.9653061224489796\n"
          ]
        }
      ],
      "source": [
        "dt2=DecisionTreeClassifier(criterion=\"entropy\",max_depth=7, splitter=\"best\")\n",
        "dt2.fit(x_train,y_train)\n",
        "print(\"score:\", dt2.score(x_test,y_test))"
      ]
    },
    {
      "cell_type": "markdown",
      "metadata": {
        "id": "VJrBZBO7DcUC"
      },
      "source": [
        "### visualizacion del arbol"
      ]
    },
    {
      "cell_type": "code",
      "execution_count": null,
      "metadata": {
        "id": "VeXabbDEgbxm",
        "colab": {
          "base_uri": "https://localhost:8080/",
          "height": 1000
        },
        "outputId": "740097ad-9c1a-4d13-9ebf-462666299c2c"
      },
      "outputs": [
        {
          "output_type": "execute_result",
          "data": {
            "image/svg+xml": "<?xml version=\"1.0\" encoding=\"UTF-8\" standalone=\"no\"?>\n<!DOCTYPE svg PUBLIC \"-//W3C//DTD SVG 1.1//EN\"\n \"http://www.w3.org/Graphics/SVG/1.1/DTD/svg11.dtd\">\n<!-- Generated by graphviz version 2.43.0 (0)\n -->\n<!-- Title: Tree Pages: 1 -->\n<svg width=\"11342pt\" height=\"909pt\"\n viewBox=\"0.00 0.00 11342.00 909.00\" xmlns=\"http://www.w3.org/2000/svg\" xmlns:xlink=\"http://www.w3.org/1999/xlink\">\n<g id=\"graph0\" class=\"graph\" transform=\"scale(1 1) rotate(0) translate(4 905)\">\n<title>Tree</title>\n<polygon fill=\"white\" stroke=\"transparent\" points=\"-4,4 -4,-905 11338,-905 11338,4 -4,4\"/>\n<!-- 0 -->\n<g id=\"node1\" class=\"node\">\n<title>0</title>\n<path fill=\"#fffdfc\" stroke=\"black\" d=\"M6220,-901C6220,-901 6089,-901 6089,-901 6083,-901 6077,-895 6077,-889 6077,-889 6077,-830 6077,-830 6077,-824 6083,-818 6089,-818 6089,-818 6220,-818 6220,-818 6226,-818 6232,-824 6232,-830 6232,-830 6232,-889 6232,-889 6232,-895 6226,-901 6220,-901\"/>\n<text text-anchor=\"start\" x=\"6099\" y=\"-885.8\" font-family=\"Helvetica,sans-Serif\" font-size=\"14.00\">t2_towerKills ≤ 6.5</text>\n<text text-anchor=\"start\" x=\"6114.5\" y=\"-870.8\" font-family=\"Helvetica,sans-Serif\" font-size=\"14.00\">entropy = 1.0</text>\n<text text-anchor=\"start\" x=\"6102\" y=\"-855.8\" font-family=\"Helvetica,sans-Serif\" font-size=\"14.00\">samples = 41159</text>\n<text text-anchor=\"start\" x=\"6085\" y=\"-840.8\" font-family=\"Helvetica,sans-Serif\" font-size=\"14.00\">value = [20750, 20409]</text>\n<text text-anchor=\"start\" x=\"6127\" y=\"-825.8\" font-family=\"Helvetica,sans-Serif\" font-size=\"14.00\">class = 1</text>\n</g>\n<!-- 1 -->\n<g id=\"node2\" class=\"node\">\n<title>1</title>\n<path fill=\"#e99457\" stroke=\"black\" d=\"M4682,-782C4682,-782 4559,-782 4559,-782 4553,-782 4547,-776 4547,-770 4547,-770 4547,-711 4547,-711 4547,-705 4553,-699 4559,-699 4559,-699 4682,-699 4682,-699 4688,-699 4694,-705 4694,-711 4694,-711 4694,-770 4694,-770 4694,-776 4688,-782 4682,-782\"/>\n<text text-anchor=\"start\" x=\"4565\" y=\"-766.8\" font-family=\"Helvetica,sans-Serif\" font-size=\"14.00\">t1_towerKills ≤ 3.5</text>\n<text text-anchor=\"start\" x=\"4573\" y=\"-751.8\" font-family=\"Helvetica,sans-Serif\" font-size=\"14.00\">entropy = 0.562</text>\n<text text-anchor=\"start\" x=\"4568\" y=\"-736.8\" font-family=\"Helvetica,sans-Serif\" font-size=\"14.00\">samples = 22152</text>\n<text text-anchor=\"start\" x=\"4555\" y=\"-721.8\" font-family=\"Helvetica,sans-Serif\" font-size=\"14.00\">value = [19237, 2915]</text>\n<text text-anchor=\"start\" x=\"4593\" y=\"-706.8\" font-family=\"Helvetica,sans-Serif\" font-size=\"14.00\">class = 1</text>\n</g>\n<!-- 0&#45;&gt;1 -->\n<g id=\"edge1\" class=\"edge\">\n<title>0&#45;&gt;1</title>\n<path fill=\"none\" stroke=\"black\" d=\"M6076.85,-852.58C5816.18,-832.7 4973.64,-768.43 4704.19,-747.88\"/>\n<polygon fill=\"black\" stroke=\"black\" points=\"4704.32,-744.38 4694.09,-747.11 4703.79,-751.36 4704.32,-744.38\"/>\n<text text-anchor=\"middle\" x=\"4710.37\" y=\"-762.38\" font-family=\"Helvetica,sans-Serif\" font-size=\"14.00\">True</text>\n</g>\n<!-- 106 -->\n<g id=\"node107\" class=\"node\">\n<title>106</title>\n<path fill=\"#4aa5e7\" stroke=\"black\" d=\"M6893,-782C6893,-782 6770,-782 6770,-782 6764,-782 6758,-776 6758,-770 6758,-770 6758,-711 6758,-711 6758,-705 6764,-699 6770,-699 6770,-699 6893,-699 6893,-699 6899,-699 6905,-705 6905,-711 6905,-711 6905,-770 6905,-770 6905,-776 6899,-782 6893,-782\"/>\n<text text-anchor=\"start\" x=\"6776\" y=\"-766.8\" font-family=\"Helvetica,sans-Serif\" font-size=\"14.00\">t1_towerKills ≤ 6.5</text>\n<text text-anchor=\"start\" x=\"6784\" y=\"-751.8\" font-family=\"Helvetica,sans-Serif\" font-size=\"14.00\">entropy = 0.401</text>\n<text text-anchor=\"start\" x=\"6779\" y=\"-736.8\" font-family=\"Helvetica,sans-Serif\" font-size=\"14.00\">samples = 19007</text>\n<text text-anchor=\"start\" x=\"6766\" y=\"-721.8\" font-family=\"Helvetica,sans-Serif\" font-size=\"14.00\">value = [1513, 17494]</text>\n<text text-anchor=\"start\" x=\"6804\" y=\"-706.8\" font-family=\"Helvetica,sans-Serif\" font-size=\"14.00\">class = 2</text>\n</g>\n<!-- 0&#45;&gt;106 -->\n<g id=\"edge106\" class=\"edge\">\n<title>0&#45;&gt;106</title>\n<path fill=\"none\" stroke=\"black\" d=\"M6232.16,-845.08C6360.45,-822.91 6615.58,-778.82 6747.76,-755.97\"/>\n<polygon fill=\"black\" stroke=\"black\" points=\"6748.57,-759.38 6757.83,-754.23 6747.38,-752.49 6748.57,-759.38\"/>\n<text text-anchor=\"middle\" x=\"6743.42\" y=\"-770.96\" font-family=\"Helvetica,sans-Serif\" font-size=\"14.00\">False</text>\n</g>\n<!-- 2 -->\n<g id=\"node3\" class=\"node\">\n<title>2</title>\n<path fill=\"#86c3ef\" stroke=\"black\" d=\"M2253.5,-663C2253.5,-663 2145.5,-663 2145.5,-663 2139.5,-663 2133.5,-657 2133.5,-651 2133.5,-651 2133.5,-592 2133.5,-592 2133.5,-586 2139.5,-580 2145.5,-580 2145.5,-580 2253.5,-580 2253.5,-580 2259.5,-580 2265.5,-586 2265.5,-592 2265.5,-592 2265.5,-651 2265.5,-651 2265.5,-657 2259.5,-663 2253.5,-663\"/>\n<text text-anchor=\"start\" x=\"2144\" y=\"-647.8\" font-family=\"Helvetica,sans-Serif\" font-size=\"14.00\">t2_towerKills ≤ 2.5</text>\n<text text-anchor=\"start\" x=\"2152\" y=\"-632.8\" font-family=\"Helvetica,sans-Serif\" font-size=\"14.00\">entropy = 0.855</text>\n<text text-anchor=\"start\" x=\"2151\" y=\"-617.8\" font-family=\"Helvetica,sans-Serif\" font-size=\"14.00\">samples = 3532</text>\n<text text-anchor=\"start\" x=\"2141.5\" y=\"-602.8\" font-family=\"Helvetica,sans-Serif\" font-size=\"14.00\">value = [987, 2545]</text>\n<text text-anchor=\"start\" x=\"2172\" y=\"-587.8\" font-family=\"Helvetica,sans-Serif\" font-size=\"14.00\">class = 2</text>\n</g>\n<!-- 1&#45;&gt;2 -->\n<g id=\"edge2\" class=\"edge\">\n<title>1&#45;&gt;2</title>\n<path fill=\"none\" stroke=\"black\" d=\"M4546.72,-735.93C4189.19,-718.66 2639.2,-643.75 2275.9,-626.19\"/>\n<polygon fill=\"black\" stroke=\"black\" points=\"2275.91,-622.69 2265.75,-625.7 2275.57,-629.68 2275.91,-622.69\"/>\n</g>\n<!-- 47 -->\n<g id=\"node48\" class=\"node\">\n<title>47</title>\n<path fill=\"#e6843d\" stroke=\"black\" d=\"M4679,-663C4679,-663 4562,-663 4562,-663 4556,-663 4550,-657 4550,-651 4550,-651 4550,-592 4550,-592 4550,-586 4556,-580 4562,-580 4562,-580 4679,-580 4679,-580 4685,-580 4691,-586 4691,-592 4691,-592 4691,-651 4691,-651 4691,-657 4685,-663 4679,-663\"/>\n<text text-anchor=\"start\" x=\"4558\" y=\"-647.8\" font-family=\"Helvetica,sans-Serif\" font-size=\"14.00\">t2_inhibitorKills ≤ 0.5</text>\n<text text-anchor=\"start\" x=\"4573\" y=\"-632.8\" font-family=\"Helvetica,sans-Serif\" font-size=\"14.00\">entropy = 0.141</text>\n<text text-anchor=\"start\" x=\"4568\" y=\"-617.8\" font-family=\"Helvetica,sans-Serif\" font-size=\"14.00\">samples = 18620</text>\n<text text-anchor=\"start\" x=\"4558.5\" y=\"-602.8\" font-family=\"Helvetica,sans-Serif\" font-size=\"14.00\">value = [18250, 370]</text>\n<text text-anchor=\"start\" x=\"4593\" y=\"-587.8\" font-family=\"Helvetica,sans-Serif\" font-size=\"14.00\">class = 1</text>\n</g>\n<!-- 1&#45;&gt;47 -->\n<g id=\"edge47\" class=\"edge\">\n<title>1&#45;&gt;47</title>\n<path fill=\"none\" stroke=\"black\" d=\"M4620.5,-698.91C4620.5,-690.65 4620.5,-681.86 4620.5,-673.3\"/>\n<polygon fill=\"black\" stroke=\"black\" points=\"4624,-673.02 4620.5,-663.02 4617,-673.02 4624,-673.02\"/>\n</g>\n<!-- 3 -->\n<g id=\"node4\" class=\"node\">\n<title>3</title>\n<path fill=\"#f7d8c2\" stroke=\"black\" d=\"M1397,-544C1397,-544 1294,-544 1294,-544 1288,-544 1282,-538 1282,-532 1282,-532 1282,-473 1282,-473 1282,-467 1288,-461 1294,-461 1294,-461 1397,-461 1397,-461 1403,-461 1409,-467 1409,-473 1409,-473 1409,-532 1409,-532 1409,-538 1403,-544 1397,-544\"/>\n<text text-anchor=\"start\" x=\"1290\" y=\"-528.8\" font-family=\"Helvetica,sans-Serif\" font-size=\"14.00\">t1_towerKills ≤ 1.5</text>\n<text text-anchor=\"start\" x=\"1298\" y=\"-513.8\" font-family=\"Helvetica,sans-Serif\" font-size=\"14.00\">entropy = 0.976</text>\n<text text-anchor=\"start\" x=\"1297\" y=\"-498.8\" font-family=\"Helvetica,sans-Serif\" font-size=\"14.00\">samples = 1600</text>\n<text text-anchor=\"start\" x=\"1291\" y=\"-483.8\" font-family=\"Helvetica,sans-Serif\" font-size=\"14.00\">value = [947, 653]</text>\n<text text-anchor=\"start\" x=\"1318\" y=\"-468.8\" font-family=\"Helvetica,sans-Serif\" font-size=\"14.00\">class = 1</text>\n</g>\n<!-- 2&#45;&gt;3 -->\n<g id=\"edge3\" class=\"edge\">\n<title>2&#45;&gt;3</title>\n<path fill=\"none\" stroke=\"black\" d=\"M2133.2,-611.42C1976.3,-589.92 1583.12,-536.05 1419.13,-513.59\"/>\n<polygon fill=\"black\" stroke=\"black\" points=\"1419.52,-510.11 1409.14,-512.22 1418.57,-517.04 1419.52,-510.11\"/>\n</g>\n<!-- 32 -->\n<g id=\"node33\" class=\"node\">\n<title>32</title>\n<path fill=\"#3d9fe6\" stroke=\"black\" d=\"M2251,-544C2251,-544 2148,-544 2148,-544 2142,-544 2136,-538 2136,-532 2136,-532 2136,-473 2136,-473 2136,-467 2142,-461 2148,-461 2148,-461 2251,-461 2251,-461 2257,-461 2263,-467 2263,-473 2263,-473 2263,-532 2263,-532 2263,-538 2257,-544 2251,-544\"/>\n<text text-anchor=\"start\" x=\"2144\" y=\"-528.8\" font-family=\"Helvetica,sans-Serif\" font-size=\"14.00\">t1_towerKills ≤ 1.5</text>\n<text text-anchor=\"start\" x=\"2152\" y=\"-513.8\" font-family=\"Helvetica,sans-Serif\" font-size=\"14.00\">entropy = 0.145</text>\n<text text-anchor=\"start\" x=\"2151\" y=\"-498.8\" font-family=\"Helvetica,sans-Serif\" font-size=\"14.00\">samples = 1932</text>\n<text text-anchor=\"start\" x=\"2145\" y=\"-483.8\" font-family=\"Helvetica,sans-Serif\" font-size=\"14.00\">value = [40, 1892]</text>\n<text text-anchor=\"start\" x=\"2172\" y=\"-468.8\" font-family=\"Helvetica,sans-Serif\" font-size=\"14.00\">class = 2</text>\n</g>\n<!-- 2&#45;&gt;32 -->\n<g id=\"edge32\" class=\"edge\">\n<title>2&#45;&gt;32</title>\n<path fill=\"none\" stroke=\"black\" d=\"M2199.5,-579.91C2199.5,-571.65 2199.5,-562.86 2199.5,-554.3\"/>\n<polygon fill=\"black\" stroke=\"black\" points=\"2203,-554.02 2199.5,-544.02 2196,-554.02 2203,-554.02\"/>\n</g>\n<!-- 4 -->\n<g id=\"node5\" class=\"node\">\n<title>4</title>\n<path fill=\"#e0f0fb\" stroke=\"black\" d=\"M841,-425C841,-425 740,-425 740,-425 734,-425 728,-419 728,-413 728,-413 728,-354 728,-354 728,-348 734,-342 740,-342 740,-342 841,-342 841,-342 847,-342 853,-348 853,-354 853,-354 853,-413 853,-413 853,-419 847,-425 841,-425\"/>\n<text text-anchor=\"start\" x=\"744.5\" y=\"-409.8\" font-family=\"Helvetica,sans-Serif\" font-size=\"14.00\">firstTower ≤ 1.5</text>\n<text text-anchor=\"start\" x=\"743\" y=\"-394.8\" font-family=\"Helvetica,sans-Serif\" font-size=\"14.00\">entropy = 0.995</text>\n<text text-anchor=\"start\" x=\"742\" y=\"-379.8\" font-family=\"Helvetica,sans-Serif\" font-size=\"14.00\">samples = 1155</text>\n<text text-anchor=\"start\" x=\"736\" y=\"-364.8\" font-family=\"Helvetica,sans-Serif\" font-size=\"14.00\">value = [528, 627]</text>\n<text text-anchor=\"start\" x=\"763\" y=\"-349.8\" font-family=\"Helvetica,sans-Serif\" font-size=\"14.00\">class = 2</text>\n</g>\n<!-- 3&#45;&gt;4 -->\n<g id=\"edge4\" class=\"edge\">\n<title>3&#45;&gt;4</title>\n<path fill=\"none\" stroke=\"black\" d=\"M1281.83,-488.08C1178.02,-466.19 972.89,-422.95 863.39,-399.87\"/>\n<polygon fill=\"black\" stroke=\"black\" points=\"863.93,-396.4 853.42,-397.76 862.49,-403.25 863.93,-396.4\"/>\n</g>\n<!-- 19 -->\n<g id=\"node20\" class=\"node\">\n<title>19</title>\n<path fill=\"#e78945\" stroke=\"black\" d=\"M1397,-425C1397,-425 1294,-425 1294,-425 1288,-425 1282,-419 1282,-413 1282,-413 1282,-354 1282,-354 1282,-348 1288,-342 1294,-342 1294,-342 1397,-342 1397,-342 1403,-342 1409,-348 1409,-354 1409,-354 1409,-413 1409,-413 1409,-419 1403,-425 1397,-425\"/>\n<text text-anchor=\"start\" x=\"1290\" y=\"-409.8\" font-family=\"Helvetica,sans-Serif\" font-size=\"14.00\">t2_towerKills ≤ 1.5</text>\n<text text-anchor=\"start\" x=\"1298\" y=\"-394.8\" font-family=\"Helvetica,sans-Serif\" font-size=\"14.00\">entropy = 0.321</text>\n<text text-anchor=\"start\" x=\"1300.5\" y=\"-379.8\" font-family=\"Helvetica,sans-Serif\" font-size=\"14.00\">samples = 445</text>\n<text text-anchor=\"start\" x=\"1295\" y=\"-364.8\" font-family=\"Helvetica,sans-Serif\" font-size=\"14.00\">value = [419, 26]</text>\n<text text-anchor=\"start\" x=\"1318\" y=\"-349.8\" font-family=\"Helvetica,sans-Serif\" font-size=\"14.00\">class = 1</text>\n</g>\n<!-- 3&#45;&gt;19 -->\n<g id=\"edge19\" class=\"edge\">\n<title>3&#45;&gt;19</title>\n<path fill=\"none\" stroke=\"black\" d=\"M1345.5,-460.91C1345.5,-452.65 1345.5,-443.86 1345.5,-435.3\"/>\n<polygon fill=\"black\" stroke=\"black\" points=\"1349,-435.02 1345.5,-425.02 1342,-435.02 1349,-435.02\"/>\n</g>\n<!-- 5 -->\n<g id=\"node6\" class=\"node\">\n<title>5</title>\n<path fill=\"#fdf5ef\" stroke=\"black\" d=\"M460,-306C460,-306 359,-306 359,-306 353,-306 347,-300 347,-294 347,-294 347,-235 347,-235 347,-229 353,-223 359,-223 359,-223 460,-223 460,-223 466,-223 472,-229 472,-235 472,-235 472,-294 472,-294 472,-300 466,-306 460,-306\"/>\n<text text-anchor=\"start\" x=\"364\" y=\"-290.8\" font-family=\"Helvetica,sans-Serif\" font-size=\"14.00\">firstBlood ≤ 1.5</text>\n<text text-anchor=\"start\" x=\"362\" y=\"-275.8\" font-family=\"Helvetica,sans-Serif\" font-size=\"14.00\">entropy = 0.999</text>\n<text text-anchor=\"start\" x=\"364.5\" y=\"-260.8\" font-family=\"Helvetica,sans-Serif\" font-size=\"14.00\">samples = 996</text>\n<text text-anchor=\"start\" x=\"355\" y=\"-245.8\" font-family=\"Helvetica,sans-Serif\" font-size=\"14.00\">value = [519, 477]</text>\n<text text-anchor=\"start\" x=\"382\" y=\"-230.8\" font-family=\"Helvetica,sans-Serif\" font-size=\"14.00\">class = 1</text>\n</g>\n<!-- 4&#45;&gt;5 -->\n<g id=\"edge5\" class=\"edge\">\n<title>4&#45;&gt;5</title>\n<path fill=\"none\" stroke=\"black\" d=\"M727.59,-363.18C660.06,-342.44 552.96,-309.55 481.96,-287.75\"/>\n<polygon fill=\"black\" stroke=\"black\" points=\"482.78,-284.34 472.19,-284.75 480.72,-291.03 482.78,-284.34\"/>\n</g>\n<!-- 12 -->\n<g id=\"node13\" class=\"node\">\n<title>12</title>\n<path fill=\"#45a3e7\" stroke=\"black\" d=\"M846.5,-306C846.5,-306 734.5,-306 734.5,-306 728.5,-306 722.5,-300 722.5,-294 722.5,-294 722.5,-235 722.5,-235 722.5,-229 728.5,-223 734.5,-223 734.5,-223 846.5,-223 846.5,-223 852.5,-223 858.5,-229 858.5,-235 858.5,-235 858.5,-294 858.5,-294 858.5,-300 852.5,-306 846.5,-306\"/>\n<text text-anchor=\"start\" x=\"730.5\" y=\"-290.8\" font-family=\"Helvetica,sans-Serif\" font-size=\"14.00\">t1_dragonKills ≤ 0.5</text>\n<text text-anchor=\"start\" x=\"743\" y=\"-275.8\" font-family=\"Helvetica,sans-Serif\" font-size=\"14.00\">entropy = 0.314</text>\n<text text-anchor=\"start\" x=\"745.5\" y=\"-260.8\" font-family=\"Helvetica,sans-Serif\" font-size=\"14.00\">samples = 159</text>\n<text text-anchor=\"start\" x=\"743.5\" y=\"-245.8\" font-family=\"Helvetica,sans-Serif\" font-size=\"14.00\">value = [9, 150]</text>\n<text text-anchor=\"start\" x=\"763\" y=\"-230.8\" font-family=\"Helvetica,sans-Serif\" font-size=\"14.00\">class = 2</text>\n</g>\n<!-- 4&#45;&gt;12 -->\n<g id=\"edge12\" class=\"edge\">\n<title>4&#45;&gt;12</title>\n<path fill=\"none\" stroke=\"black\" d=\"M790.5,-341.91C790.5,-333.65 790.5,-324.86 790.5,-316.3\"/>\n<polygon fill=\"black\" stroke=\"black\" points=\"794,-316.02 790.5,-306.02 787,-316.02 794,-316.02\"/>\n</g>\n<!-- 6 -->\n<g id=\"node7\" class=\"node\">\n<title>6</title>\n<path fill=\"#f9e0ce\" stroke=\"black\" d=\"M250,-187C250,-187 147,-187 147,-187 141,-187 135,-181 135,-175 135,-175 135,-116 135,-116 135,-110 141,-104 147,-104 147,-104 250,-104 250,-104 256,-104 262,-110 262,-116 262,-116 262,-175 262,-175 262,-181 256,-187 250,-187\"/>\n<text text-anchor=\"start\" x=\"143\" y=\"-171.8\" font-family=\"Helvetica,sans-Serif\" font-size=\"14.00\">t1_towerKills ≤ 0.5</text>\n<text text-anchor=\"start\" x=\"151\" y=\"-156.8\" font-family=\"Helvetica,sans-Serif\" font-size=\"14.00\">entropy = 0.986</text>\n<text text-anchor=\"start\" x=\"153.5\" y=\"-141.8\" font-family=\"Helvetica,sans-Serif\" font-size=\"14.00\">samples = 708</text>\n<text text-anchor=\"start\" x=\"144\" y=\"-126.8\" font-family=\"Helvetica,sans-Serif\" font-size=\"14.00\">value = [404, 304]</text>\n<text text-anchor=\"start\" x=\"171\" y=\"-111.8\" font-family=\"Helvetica,sans-Serif\" font-size=\"14.00\">class = 1</text>\n</g>\n<!-- 5&#45;&gt;6 -->\n<g id=\"edge6\" class=\"edge\">\n<title>5&#45;&gt;6</title>\n<path fill=\"none\" stroke=\"black\" d=\"M346.76,-228.71C322.96,-215.51 295.66,-200.38 271.03,-186.72\"/>\n<polygon fill=\"black\" stroke=\"black\" points=\"272.53,-183.55 262.09,-181.76 269.14,-189.67 272.53,-183.55\"/>\n</g>\n<!-- 9 -->\n<g id=\"node10\" class=\"node\">\n<title>9</title>\n<path fill=\"#bddef6\" stroke=\"black\" d=\"M465.5,-187C465.5,-187 353.5,-187 353.5,-187 347.5,-187 341.5,-181 341.5,-175 341.5,-175 341.5,-116 341.5,-116 341.5,-110 347.5,-104 353.5,-104 353.5,-104 465.5,-104 465.5,-104 471.5,-104 477.5,-110 477.5,-116 477.5,-116 477.5,-175 477.5,-175 477.5,-181 471.5,-187 465.5,-187\"/>\n<text text-anchor=\"start\" x=\"349.5\" y=\"-171.8\" font-family=\"Helvetica,sans-Serif\" font-size=\"14.00\">t1_dragonKills ≤ 0.5</text>\n<text text-anchor=\"start\" x=\"362\" y=\"-156.8\" font-family=\"Helvetica,sans-Serif\" font-size=\"14.00\">entropy = 0.971</text>\n<text text-anchor=\"start\" x=\"364.5\" y=\"-141.8\" font-family=\"Helvetica,sans-Serif\" font-size=\"14.00\">samples = 288</text>\n<text text-anchor=\"start\" x=\"355\" y=\"-126.8\" font-family=\"Helvetica,sans-Serif\" font-size=\"14.00\">value = [115, 173]</text>\n<text text-anchor=\"start\" x=\"382\" y=\"-111.8\" font-family=\"Helvetica,sans-Serif\" font-size=\"14.00\">class = 2</text>\n</g>\n<!-- 5&#45;&gt;9 -->\n<g id=\"edge9\" class=\"edge\">\n<title>5&#45;&gt;9</title>\n<path fill=\"none\" stroke=\"black\" d=\"M409.5,-222.91C409.5,-214.65 409.5,-205.86 409.5,-197.3\"/>\n<polygon fill=\"black\" stroke=\"black\" points=\"413,-197.02 409.5,-187.02 406,-197.02 413,-197.02\"/>\n</g>\n<!-- 7 -->\n<g id=\"node8\" class=\"node\">\n<title>7</title>\n<path fill=\"#fae7d9\" stroke=\"black\" d=\"M113,-68C113,-68 12,-68 12,-68 6,-68 0,-62 0,-56 0,-56 0,-12 0,-12 0,-6 6,0 12,0 12,0 113,0 113,0 119,0 125,-6 125,-12 125,-12 125,-56 125,-56 125,-62 119,-68 113,-68\"/>\n<text text-anchor=\"start\" x=\"15\" y=\"-52.8\" font-family=\"Helvetica,sans-Serif\" font-size=\"14.00\">entropy = 0.992</text>\n<text text-anchor=\"start\" x=\"17.5\" y=\"-37.8\" font-family=\"Helvetica,sans-Serif\" font-size=\"14.00\">samples = 665</text>\n<text text-anchor=\"start\" x=\"8\" y=\"-22.8\" font-family=\"Helvetica,sans-Serif\" font-size=\"14.00\">value = [368, 297]</text>\n<text text-anchor=\"start\" x=\"35\" y=\"-7.8\" font-family=\"Helvetica,sans-Serif\" font-size=\"14.00\">class = 1</text>\n</g>\n<!-- 6&#45;&gt;7 -->\n<g id=\"edge7\" class=\"edge\">\n<title>6&#45;&gt;7</title>\n<path fill=\"none\" stroke=\"black\" d=\"M147.86,-103.73C136.08,-94.24 123.55,-84.16 111.83,-74.72\"/>\n<polygon fill=\"black\" stroke=\"black\" points=\"113.84,-71.84 103.86,-68.3 109.45,-77.3 113.84,-71.84\"/>\n</g>\n<!-- 8 -->\n<g id=\"node9\" class=\"node\">\n<title>8</title>\n<path fill=\"#ea9a5f\" stroke=\"black\" d=\"M242,-68C242,-68 155,-68 155,-68 149,-68 143,-62 143,-56 143,-56 143,-12 143,-12 143,-6 149,0 155,0 155,0 242,0 242,0 248,0 254,-6 254,-12 254,-12 254,-56 254,-56 254,-62 248,-68 242,-68\"/>\n<text text-anchor=\"start\" x=\"151\" y=\"-52.8\" font-family=\"Helvetica,sans-Serif\" font-size=\"14.00\">entropy = 0.641</text>\n<text text-anchor=\"start\" x=\"157.5\" y=\"-37.8\" font-family=\"Helvetica,sans-Serif\" font-size=\"14.00\">samples = 43</text>\n<text text-anchor=\"start\" x=\"155.5\" y=\"-22.8\" font-family=\"Helvetica,sans-Serif\" font-size=\"14.00\">value = [36, 7]</text>\n<text text-anchor=\"start\" x=\"171\" y=\"-7.8\" font-family=\"Helvetica,sans-Serif\" font-size=\"14.00\">class = 1</text>\n</g>\n<!-- 6&#45;&gt;8 -->\n<g id=\"edge8\" class=\"edge\">\n<title>6&#45;&gt;8</title>\n<path fill=\"none\" stroke=\"black\" d=\"M198.5,-103.73C198.5,-95.52 198.5,-86.86 198.5,-78.56\"/>\n<polygon fill=\"black\" stroke=\"black\" points=\"202,-78.3 198.5,-68.3 195,-78.3 202,-78.3\"/>\n</g>\n<!-- 10 -->\n<g id=\"node11\" class=\"node\">\n<title>10</title>\n<path fill=\"#b1d8f5\" stroke=\"black\" d=\"M385,-68C385,-68 284,-68 284,-68 278,-68 272,-62 272,-56 272,-56 272,-12 272,-12 272,-6 278,0 284,0 284,0 385,0 385,0 391,0 397,-6 397,-12 397,-12 397,-56 397,-56 397,-62 391,-68 385,-68\"/>\n<text text-anchor=\"start\" x=\"287\" y=\"-52.8\" font-family=\"Helvetica,sans-Serif\" font-size=\"14.00\">entropy = 0.955</text>\n<text text-anchor=\"start\" x=\"289.5\" y=\"-37.8\" font-family=\"Helvetica,sans-Serif\" font-size=\"14.00\">samples = 271</text>\n<text text-anchor=\"start\" x=\"280\" y=\"-22.8\" font-family=\"Helvetica,sans-Serif\" font-size=\"14.00\">value = [102, 169]</text>\n<text text-anchor=\"start\" x=\"307\" y=\"-7.8\" font-family=\"Helvetica,sans-Serif\" font-size=\"14.00\">class = 2</text>\n</g>\n<!-- 9&#45;&gt;10 -->\n<g id=\"edge10\" class=\"edge\">\n<title>9&#45;&gt;10</title>\n<path fill=\"none\" stroke=\"black\" d=\"M381.57,-103.73C375.51,-94.88 369.1,-85.51 363.01,-76.63\"/>\n<polygon fill=\"black\" stroke=\"black\" points=\"365.85,-74.57 357.31,-68.3 360.07,-78.53 365.85,-74.57\"/>\n</g>\n<!-- 11 -->\n<g id=\"node12\" class=\"node\">\n<title>11</title>\n<path fill=\"#eda876\" stroke=\"black\" d=\"M514,-68C514,-68 427,-68 427,-68 421,-68 415,-62 415,-56 415,-56 415,-12 415,-12 415,-6 421,0 427,0 427,0 514,0 514,0 520,0 526,-6 526,-12 526,-12 526,-56 526,-56 526,-62 520,-68 514,-68\"/>\n<text text-anchor=\"start\" x=\"423\" y=\"-52.8\" font-family=\"Helvetica,sans-Serif\" font-size=\"14.00\">entropy = 0.787</text>\n<text text-anchor=\"start\" x=\"429.5\" y=\"-37.8\" font-family=\"Helvetica,sans-Serif\" font-size=\"14.00\">samples = 17</text>\n<text text-anchor=\"start\" x=\"427.5\" y=\"-22.8\" font-family=\"Helvetica,sans-Serif\" font-size=\"14.00\">value = [13, 4]</text>\n<text text-anchor=\"start\" x=\"443\" y=\"-7.8\" font-family=\"Helvetica,sans-Serif\" font-size=\"14.00\">class = 1</text>\n</g>\n<!-- 9&#45;&gt;11 -->\n<g id=\"edge11\" class=\"edge\">\n<title>9&#45;&gt;11</title>\n<path fill=\"none\" stroke=\"black\" d=\"M432.21,-103.73C437.04,-95.06 442.15,-85.9 447,-77.18\"/>\n<polygon fill=\"black\" stroke=\"black\" points=\"450.14,-78.74 451.95,-68.3 444.03,-75.33 450.14,-78.74\"/>\n</g>\n<!-- 13 -->\n<g id=\"node14\" class=\"node\">\n<title>13</title>\n<path fill=\"#3d9fe6\" stroke=\"black\" d=\"M770,-187C770,-187 667,-187 667,-187 661,-187 655,-181 655,-175 655,-175 655,-116 655,-116 655,-110 661,-104 667,-104 667,-104 770,-104 770,-104 776,-104 782,-110 782,-116 782,-116 782,-175 782,-175 782,-181 776,-187 770,-187\"/>\n<text text-anchor=\"start\" x=\"663\" y=\"-171.8\" font-family=\"Helvetica,sans-Serif\" font-size=\"14.00\">t2_towerKills ≤ 1.5</text>\n<text text-anchor=\"start\" x=\"674.5\" y=\"-156.8\" font-family=\"Helvetica,sans-Serif\" font-size=\"14.00\">entropy = 0.15</text>\n<text text-anchor=\"start\" x=\"673.5\" y=\"-141.8\" font-family=\"Helvetica,sans-Serif\" font-size=\"14.00\">samples = 139</text>\n<text text-anchor=\"start\" x=\"671.5\" y=\"-126.8\" font-family=\"Helvetica,sans-Serif\" font-size=\"14.00\">value = [3, 136]</text>\n<text text-anchor=\"start\" x=\"691\" y=\"-111.8\" font-family=\"Helvetica,sans-Serif\" font-size=\"14.00\">class = 2</text>\n</g>\n<!-- 12&#45;&gt;13 -->\n<g id=\"edge13\" class=\"edge\">\n<title>12&#45;&gt;13</title>\n<path fill=\"none\" stroke=\"black\" d=\"M765.52,-222.91C760.1,-214.1 754.32,-204.7 748.72,-195.61\"/>\n<polygon fill=\"black\" stroke=\"black\" points=\"751.66,-193.7 743.44,-187.02 745.7,-197.37 751.66,-193.7\"/>\n</g>\n<!-- 16 -->\n<g id=\"node17\" class=\"node\">\n<title>16</title>\n<path fill=\"#8ec7f0\" stroke=\"black\" d=\"M915,-187C915,-187 812,-187 812,-187 806,-187 800,-181 800,-175 800,-175 800,-116 800,-116 800,-110 806,-104 812,-104 812,-104 915,-104 915,-104 921,-104 927,-110 927,-116 927,-116 927,-175 927,-175 927,-181 921,-187 915,-187\"/>\n<text text-anchor=\"start\" x=\"808\" y=\"-171.8\" font-family=\"Helvetica,sans-Serif\" font-size=\"14.00\">t1_towerKills ≤ 0.5</text>\n<text text-anchor=\"start\" x=\"816\" y=\"-156.8\" font-family=\"Helvetica,sans-Serif\" font-size=\"14.00\">entropy = 0.881</text>\n<text text-anchor=\"start\" x=\"822.5\" y=\"-141.8\" font-family=\"Helvetica,sans-Serif\" font-size=\"14.00\">samples = 20</text>\n<text text-anchor=\"start\" x=\"820.5\" y=\"-126.8\" font-family=\"Helvetica,sans-Serif\" font-size=\"14.00\">value = [6, 14]</text>\n<text text-anchor=\"start\" x=\"836\" y=\"-111.8\" font-family=\"Helvetica,sans-Serif\" font-size=\"14.00\">class = 2</text>\n</g>\n<!-- 12&#45;&gt;16 -->\n<g id=\"edge16\" class=\"edge\">\n<title>12&#45;&gt;16</title>\n<path fill=\"none\" stroke=\"black\" d=\"M815.83,-222.91C821.32,-214.1 827.19,-204.7 832.86,-195.61\"/>\n<polygon fill=\"black\" stroke=\"black\" points=\"835.89,-197.36 838.22,-187.02 829.95,-193.65 835.89,-197.36\"/>\n</g>\n<!-- 14 -->\n<g id=\"node15\" class=\"node\">\n<title>14</title>\n<path fill=\"#4ca6e7\" stroke=\"black\" d=\"M643,-68C643,-68 556,-68 556,-68 550,-68 544,-62 544,-56 544,-56 544,-12 544,-12 544,-6 550,0 556,0 556,0 643,0 643,0 649,0 655,-6 655,-12 655,-12 655,-56 655,-56 655,-62 649,-68 643,-68\"/>\n<text text-anchor=\"start\" x=\"552\" y=\"-52.8\" font-family=\"Helvetica,sans-Serif\" font-size=\"14.00\">entropy = 0.422</text>\n<text text-anchor=\"start\" x=\"558.5\" y=\"-37.8\" font-family=\"Helvetica,sans-Serif\" font-size=\"14.00\">samples = 35</text>\n<text text-anchor=\"start\" x=\"556.5\" y=\"-22.8\" font-family=\"Helvetica,sans-Serif\" font-size=\"14.00\">value = [3, 32]</text>\n<text text-anchor=\"start\" x=\"572\" y=\"-7.8\" font-family=\"Helvetica,sans-Serif\" font-size=\"14.00\">class = 2</text>\n</g>\n<!-- 13&#45;&gt;14 -->\n<g id=\"edge14\" class=\"edge\">\n<title>13&#45;&gt;14</title>\n<path fill=\"none\" stroke=\"black\" d=\"M674.19,-103.73C664.08,-94.42 653.34,-84.54 643.25,-75.26\"/>\n<polygon fill=\"black\" stroke=\"black\" points=\"645.42,-72.5 635.69,-68.3 640.68,-77.65 645.42,-72.5\"/>\n</g>\n<!-- 15 -->\n<g id=\"node16\" class=\"node\">\n<title>15</title>\n<path fill=\"#399de5\" stroke=\"black\" d=\"M771.5,-68C771.5,-68 685.5,-68 685.5,-68 679.5,-68 673.5,-62 673.5,-56 673.5,-56 673.5,-12 673.5,-12 673.5,-6 679.5,0 685.5,0 685.5,0 771.5,0 771.5,0 777.5,0 783.5,-6 783.5,-12 783.5,-12 783.5,-56 783.5,-56 783.5,-62 777.5,-68 771.5,-68\"/>\n<text text-anchor=\"start\" x=\"688.5\" y=\"-52.8\" font-family=\"Helvetica,sans-Serif\" font-size=\"14.00\">entropy = 0.0</text>\n<text text-anchor=\"start\" x=\"683.5\" y=\"-37.8\" font-family=\"Helvetica,sans-Serif\" font-size=\"14.00\">samples = 104</text>\n<text text-anchor=\"start\" x=\"681.5\" y=\"-22.8\" font-family=\"Helvetica,sans-Serif\" font-size=\"14.00\">value = [0, 104]</text>\n<text text-anchor=\"start\" x=\"701\" y=\"-7.8\" font-family=\"Helvetica,sans-Serif\" font-size=\"14.00\">class = 2</text>\n</g>\n<!-- 13&#45;&gt;15 -->\n<g id=\"edge15\" class=\"edge\">\n<title>13&#45;&gt;15</title>\n<path fill=\"none\" stroke=\"black\" d=\"M722.22,-103.73C722.98,-95.43 723.78,-86.67 724.55,-78.28\"/>\n<polygon fill=\"black\" stroke=\"black\" points=\"728.03,-78.58 725.46,-68.3 721.06,-77.94 728.03,-78.58\"/>\n</g>\n<!-- 17 -->\n<g id=\"node18\" class=\"node\">\n<title>17</title>\n<path fill=\"#399de5\" stroke=\"black\" d=\"M891.5,-68C891.5,-68 813.5,-68 813.5,-68 807.5,-68 801.5,-62 801.5,-56 801.5,-56 801.5,-12 801.5,-12 801.5,-6 807.5,0 813.5,0 813.5,0 891.5,0 891.5,0 897.5,0 903.5,-6 903.5,-12 903.5,-12 903.5,-56 903.5,-56 903.5,-62 897.5,-68 891.5,-68\"/>\n<text text-anchor=\"start\" x=\"812.5\" y=\"-52.8\" font-family=\"Helvetica,sans-Serif\" font-size=\"14.00\">entropy = 0.0</text>\n<text text-anchor=\"start\" x=\"811.5\" y=\"-37.8\" font-family=\"Helvetica,sans-Serif\" font-size=\"14.00\">samples = 10</text>\n<text text-anchor=\"start\" x=\"809.5\" y=\"-22.8\" font-family=\"Helvetica,sans-Serif\" font-size=\"14.00\">value = [0, 10]</text>\n<text text-anchor=\"start\" x=\"825\" y=\"-7.8\" font-family=\"Helvetica,sans-Serif\" font-size=\"14.00\">class = 2</text>\n</g>\n<!-- 16&#45;&gt;17 -->\n<g id=\"edge17\" class=\"edge\">\n<title>16&#45;&gt;17</title>\n<path fill=\"none\" stroke=\"black\" d=\"M859.4,-103.73C858.57,-95.43 857.69,-86.67 856.85,-78.28\"/>\n<polygon fill=\"black\" stroke=\"black\" points=\"860.33,-77.9 855.85,-68.3 853.36,-78.6 860.33,-77.9\"/>\n</g>\n<!-- 18 -->\n<g id=\"node19\" class=\"node\">\n<title>18</title>\n<path fill=\"#f6d5bd\" stroke=\"black\" d=\"M1021,-68C1021,-68 934,-68 934,-68 928,-68 922,-62 922,-56 922,-56 922,-12 922,-12 922,-6 928,0 934,0 934,0 1021,0 1021,0 1027,0 1033,-6 1033,-12 1033,-12 1033,-56 1033,-56 1033,-62 1027,-68 1021,-68\"/>\n<text text-anchor=\"start\" x=\"930\" y=\"-52.8\" font-family=\"Helvetica,sans-Serif\" font-size=\"14.00\">entropy = 0.971</text>\n<text text-anchor=\"start\" x=\"936.5\" y=\"-37.8\" font-family=\"Helvetica,sans-Serif\" font-size=\"14.00\">samples = 10</text>\n<text text-anchor=\"start\" x=\"938\" y=\"-22.8\" font-family=\"Helvetica,sans-Serif\" font-size=\"14.00\">value = [6, 4]</text>\n<text text-anchor=\"start\" x=\"950\" y=\"-7.8\" font-family=\"Helvetica,sans-Serif\" font-size=\"14.00\">class = 1</text>\n</g>\n<!-- 16&#45;&gt;18 -->\n<g id=\"edge18\" class=\"edge\">\n<title>16&#45;&gt;18</title>\n<path fill=\"none\" stroke=\"black\" d=\"M905.95,-103.73C915.63,-94.42 925.92,-84.54 935.58,-75.26\"/>\n<polygon fill=\"black\" stroke=\"black\" points=\"938.04,-77.75 942.83,-68.3 933.2,-72.7 938.04,-77.75\"/>\n</g>\n<!-- 20 -->\n<g id=\"node21\" class=\"node\">\n<title>20</title>\n<path fill=\"#e5833c\" stroke=\"black\" d=\"M1283.5,-306C1283.5,-306 1171.5,-306 1171.5,-306 1165.5,-306 1159.5,-300 1159.5,-294 1159.5,-294 1159.5,-235 1159.5,-235 1159.5,-229 1165.5,-223 1171.5,-223 1171.5,-223 1283.5,-223 1283.5,-223 1289.5,-223 1295.5,-229 1295.5,-235 1295.5,-235 1295.5,-294 1295.5,-294 1295.5,-300 1289.5,-306 1283.5,-306\"/>\n<text text-anchor=\"start\" x=\"1167.5\" y=\"-290.8\" font-family=\"Helvetica,sans-Serif\" font-size=\"14.00\">t2_dragonKills ≤ 0.5</text>\n<text text-anchor=\"start\" x=\"1180\" y=\"-275.8\" font-family=\"Helvetica,sans-Serif\" font-size=\"14.00\">entropy = 0.101</text>\n<text text-anchor=\"start\" x=\"1182.5\" y=\"-260.8\" font-family=\"Helvetica,sans-Serif\" font-size=\"14.00\">samples = 380</text>\n<text text-anchor=\"start\" x=\"1180.5\" y=\"-245.8\" font-family=\"Helvetica,sans-Serif\" font-size=\"14.00\">value = [375, 5]</text>\n<text text-anchor=\"start\" x=\"1200\" y=\"-230.8\" font-family=\"Helvetica,sans-Serif\" font-size=\"14.00\">class = 1</text>\n</g>\n<!-- 19&#45;&gt;20 -->\n<g id=\"edge20\" class=\"edge\">\n<title>19&#45;&gt;20</title>\n<path fill=\"none\" stroke=\"black\" d=\"M1304.56,-341.91C1295.22,-332.65 1285.22,-322.73 1275.62,-313.21\"/>\n<polygon fill=\"black\" stroke=\"black\" points=\"1277.93,-310.58 1268.37,-306.02 1273,-315.55 1277.93,-310.58\"/>\n</g>\n<!-- 25 -->\n<g id=\"node26\" class=\"node\">\n<title>25</title>\n<path fill=\"#f1bd98\" stroke=\"black\" d=\"M1478.5,-306C1478.5,-306 1366.5,-306 1366.5,-306 1360.5,-306 1354.5,-300 1354.5,-294 1354.5,-294 1354.5,-235 1354.5,-235 1354.5,-229 1360.5,-223 1366.5,-223 1366.5,-223 1478.5,-223 1478.5,-223 1484.5,-223 1490.5,-229 1490.5,-235 1490.5,-235 1490.5,-294 1490.5,-294 1490.5,-300 1484.5,-306 1478.5,-306\"/>\n<text text-anchor=\"start\" x=\"1362.5\" y=\"-290.8\" font-family=\"Helvetica,sans-Serif\" font-size=\"14.00\">t1_dragonKills ≤ 0.5</text>\n<text text-anchor=\"start\" x=\"1375\" y=\"-275.8\" font-family=\"Helvetica,sans-Serif\" font-size=\"14.00\">entropy = 0.908</text>\n<text text-anchor=\"start\" x=\"1381.5\" y=\"-260.8\" font-family=\"Helvetica,sans-Serif\" font-size=\"14.00\">samples = 65</text>\n<text text-anchor=\"start\" x=\"1375.5\" y=\"-245.8\" font-family=\"Helvetica,sans-Serif\" font-size=\"14.00\">value = [44, 21]</text>\n<text text-anchor=\"start\" x=\"1395\" y=\"-230.8\" font-family=\"Helvetica,sans-Serif\" font-size=\"14.00\">class = 1</text>\n</g>\n<!-- 19&#45;&gt;25 -->\n<g id=\"edge25\" class=\"edge\">\n<title>19&#45;&gt;25</title>\n<path fill=\"none\" stroke=\"black\" d=\"M1372.21,-341.91C1378.01,-333.1 1384.2,-323.7 1390.18,-314.61\"/>\n<polygon fill=\"black\" stroke=\"black\" points=\"1393.26,-316.3 1395.83,-306.02 1387.41,-312.45 1393.26,-316.3\"/>\n</g>\n<!-- 21 -->\n<g id=\"node22\" class=\"node\">\n<title>21</title>\n<path fill=\"#e58139\" stroke=\"black\" d=\"M1141.5,-179.5C1141.5,-179.5 1055.5,-179.5 1055.5,-179.5 1049.5,-179.5 1043.5,-173.5 1043.5,-167.5 1043.5,-167.5 1043.5,-123.5 1043.5,-123.5 1043.5,-117.5 1049.5,-111.5 1055.5,-111.5 1055.5,-111.5 1141.5,-111.5 1141.5,-111.5 1147.5,-111.5 1153.5,-117.5 1153.5,-123.5 1153.5,-123.5 1153.5,-167.5 1153.5,-167.5 1153.5,-173.5 1147.5,-179.5 1141.5,-179.5\"/>\n<text text-anchor=\"start\" x=\"1058.5\" y=\"-164.3\" font-family=\"Helvetica,sans-Serif\" font-size=\"14.00\">entropy = 0.0</text>\n<text text-anchor=\"start\" x=\"1053.5\" y=\"-149.3\" font-family=\"Helvetica,sans-Serif\" font-size=\"14.00\">samples = 326</text>\n<text text-anchor=\"start\" x=\"1051.5\" y=\"-134.3\" font-family=\"Helvetica,sans-Serif\" font-size=\"14.00\">value = [326, 0]</text>\n<text text-anchor=\"start\" x=\"1071\" y=\"-119.3\" font-family=\"Helvetica,sans-Serif\" font-size=\"14.00\">class = 1</text>\n</g>\n<!-- 20&#45;&gt;21 -->\n<g id=\"edge21\" class=\"edge\">\n<title>20&#45;&gt;21</title>\n<path fill=\"none\" stroke=\"black\" d=\"M1182.74,-222.91C1169.73,-211.1 1155.52,-198.22 1142.55,-186.45\"/>\n<polygon fill=\"black\" stroke=\"black\" points=\"1144.83,-183.79 1135.07,-179.67 1140.12,-188.98 1144.83,-183.79\"/>\n</g>\n<!-- 22 -->\n<g id=\"node23\" class=\"node\">\n<title>22</title>\n<path fill=\"#e88e4d\" stroke=\"black\" d=\"M1271,-187C1271,-187 1184,-187 1184,-187 1178,-187 1172,-181 1172,-175 1172,-175 1172,-116 1172,-116 1172,-110 1178,-104 1184,-104 1184,-104 1271,-104 1271,-104 1277,-104 1283,-110 1283,-116 1283,-116 1283,-175 1283,-175 1283,-181 1277,-187 1271,-187\"/>\n<text text-anchor=\"start\" x=\"1182\" y=\"-171.8\" font-family=\"Helvetica,sans-Serif\" font-size=\"14.00\">firstBlood ≤ 1.5</text>\n<text text-anchor=\"start\" x=\"1180\" y=\"-156.8\" font-family=\"Helvetica,sans-Serif\" font-size=\"14.00\">entropy = 0.445</text>\n<text text-anchor=\"start\" x=\"1186.5\" y=\"-141.8\" font-family=\"Helvetica,sans-Serif\" font-size=\"14.00\">samples = 54</text>\n<text text-anchor=\"start\" x=\"1184.5\" y=\"-126.8\" font-family=\"Helvetica,sans-Serif\" font-size=\"14.00\">value = [49, 5]</text>\n<text text-anchor=\"start\" x=\"1200\" y=\"-111.8\" font-family=\"Helvetica,sans-Serif\" font-size=\"14.00\">class = 1</text>\n</g>\n<!-- 20&#45;&gt;22 -->\n<g id=\"edge22\" class=\"edge\">\n<title>20&#45;&gt;22</title>\n<path fill=\"none\" stroke=\"black\" d=\"M1227.5,-222.91C1227.5,-214.65 1227.5,-205.86 1227.5,-197.3\"/>\n<polygon fill=\"black\" stroke=\"black\" points=\"1231,-197.02 1227.5,-187.02 1224,-197.02 1231,-197.02\"/>\n</g>\n<!-- 23 -->\n<g id=\"node24\" class=\"node\">\n<title>23</title>\n<path fill=\"#e58139\" stroke=\"black\" d=\"M1141.5,-68C1141.5,-68 1063.5,-68 1063.5,-68 1057.5,-68 1051.5,-62 1051.5,-56 1051.5,-56 1051.5,-12 1051.5,-12 1051.5,-6 1057.5,0 1063.5,0 1063.5,0 1141.5,0 1141.5,0 1147.5,0 1153.5,-6 1153.5,-12 1153.5,-12 1153.5,-56 1153.5,-56 1153.5,-62 1147.5,-68 1141.5,-68\"/>\n<text text-anchor=\"start\" x=\"1062.5\" y=\"-52.8\" font-family=\"Helvetica,sans-Serif\" font-size=\"14.00\">entropy = 0.0</text>\n<text text-anchor=\"start\" x=\"1061.5\" y=\"-37.8\" font-family=\"Helvetica,sans-Serif\" font-size=\"14.00\">samples = 37</text>\n<text text-anchor=\"start\" x=\"1059.5\" y=\"-22.8\" font-family=\"Helvetica,sans-Serif\" font-size=\"14.00\">value = [37, 0]</text>\n<text text-anchor=\"start\" x=\"1075\" y=\"-7.8\" font-family=\"Helvetica,sans-Serif\" font-size=\"14.00\">class = 1</text>\n</g>\n<!-- 22&#45;&gt;23 -->\n<g id=\"edge23\" class=\"edge\">\n<title>22&#45;&gt;23</title>\n<path fill=\"none\" stroke=\"black\" d=\"M1180.95,-103.73C1170.23,-94.33 1158.83,-84.35 1148.15,-74.99\"/>\n<polygon fill=\"black\" stroke=\"black\" points=\"1150.34,-72.26 1140.51,-68.3 1145.73,-77.52 1150.34,-72.26\"/>\n</g>\n<!-- 24 -->\n<g id=\"node25\" class=\"node\">\n<title>24</title>\n<path fill=\"#f0b58b\" stroke=\"black\" d=\"M1271,-68C1271,-68 1184,-68 1184,-68 1178,-68 1172,-62 1172,-56 1172,-56 1172,-12 1172,-12 1172,-6 1178,0 1184,0 1184,0 1271,0 1271,0 1277,0 1283,-6 1283,-12 1283,-12 1283,-56 1283,-56 1283,-62 1277,-68 1271,-68\"/>\n<text text-anchor=\"start\" x=\"1180\" y=\"-52.8\" font-family=\"Helvetica,sans-Serif\" font-size=\"14.00\">entropy = 0.874</text>\n<text text-anchor=\"start\" x=\"1186.5\" y=\"-37.8\" font-family=\"Helvetica,sans-Serif\" font-size=\"14.00\">samples = 17</text>\n<text text-anchor=\"start\" x=\"1184.5\" y=\"-22.8\" font-family=\"Helvetica,sans-Serif\" font-size=\"14.00\">value = [12, 5]</text>\n<text text-anchor=\"start\" x=\"1200\" y=\"-7.8\" font-family=\"Helvetica,sans-Serif\" font-size=\"14.00\">class = 1</text>\n</g>\n<!-- 22&#45;&gt;24 -->\n<g id=\"edge24\" class=\"edge\">\n<title>22&#45;&gt;24</title>\n<path fill=\"none\" stroke=\"black\" d=\"M1227.5,-103.73C1227.5,-95.52 1227.5,-86.86 1227.5,-78.56\"/>\n<polygon fill=\"black\" stroke=\"black\" points=\"1231,-78.3 1227.5,-68.3 1224,-78.3 1231,-78.3\"/>\n</g>\n<!-- 26 -->\n<g id=\"node27\" class=\"node\">\n<title>26</title>\n<path fill=\"#b8dcf6\" stroke=\"black\" d=\"M1478.5,-187C1478.5,-187 1366.5,-187 1366.5,-187 1360.5,-187 1354.5,-181 1354.5,-175 1354.5,-175 1354.5,-116 1354.5,-116 1354.5,-110 1360.5,-104 1366.5,-104 1366.5,-104 1478.5,-104 1478.5,-104 1484.5,-104 1490.5,-110 1490.5,-116 1490.5,-116 1490.5,-175 1490.5,-175 1490.5,-181 1484.5,-187 1478.5,-187\"/>\n<text text-anchor=\"start\" x=\"1362.5\" y=\"-171.8\" font-family=\"Helvetica,sans-Serif\" font-size=\"14.00\">t2_dragonKills ≤ 1.5</text>\n<text text-anchor=\"start\" x=\"1375\" y=\"-156.8\" font-family=\"Helvetica,sans-Serif\" font-size=\"14.00\">entropy = 0.966</text>\n<text text-anchor=\"start\" x=\"1381.5\" y=\"-141.8\" font-family=\"Helvetica,sans-Serif\" font-size=\"14.00\">samples = 23</text>\n<text text-anchor=\"start\" x=\"1379.5\" y=\"-126.8\" font-family=\"Helvetica,sans-Serif\" font-size=\"14.00\">value = [9, 14]</text>\n<text text-anchor=\"start\" x=\"1395\" y=\"-111.8\" font-family=\"Helvetica,sans-Serif\" font-size=\"14.00\">class = 2</text>\n</g>\n<!-- 25&#45;&gt;26 -->\n<g id=\"edge26\" class=\"edge\">\n<title>25&#45;&gt;26</title>\n<path fill=\"none\" stroke=\"black\" d=\"M1422.5,-222.91C1422.5,-214.65 1422.5,-205.86 1422.5,-197.3\"/>\n<polygon fill=\"black\" stroke=\"black\" points=\"1426,-197.02 1422.5,-187.02 1419,-197.02 1426,-197.02\"/>\n</g>\n<!-- 29 -->\n<g id=\"node30\" class=\"node\">\n<title>29</title>\n<path fill=\"#ea9a61\" stroke=\"black\" d=\"M1666,-187C1666,-187 1563,-187 1563,-187 1557,-187 1551,-181 1551,-175 1551,-175 1551,-116 1551,-116 1551,-110 1557,-104 1563,-104 1563,-104 1666,-104 1666,-104 1672,-104 1678,-110 1678,-116 1678,-116 1678,-175 1678,-175 1678,-181 1672,-187 1666,-187\"/>\n<text text-anchor=\"start\" x=\"1559\" y=\"-171.8\" font-family=\"Helvetica,sans-Serif\" font-size=\"14.00\">t1_towerKills ≤ 2.5</text>\n<text text-anchor=\"start\" x=\"1570.5\" y=\"-156.8\" font-family=\"Helvetica,sans-Serif\" font-size=\"14.00\">entropy = 0.65</text>\n<text text-anchor=\"start\" x=\"1573.5\" y=\"-141.8\" font-family=\"Helvetica,sans-Serif\" font-size=\"14.00\">samples = 42</text>\n<text text-anchor=\"start\" x=\"1571.5\" y=\"-126.8\" font-family=\"Helvetica,sans-Serif\" font-size=\"14.00\">value = [35, 7]</text>\n<text text-anchor=\"start\" x=\"1587\" y=\"-111.8\" font-family=\"Helvetica,sans-Serif\" font-size=\"14.00\">class = 1</text>\n</g>\n<!-- 25&#45;&gt;29 -->\n<g id=\"edge29\" class=\"edge\">\n<title>25&#45;&gt;29</title>\n<path fill=\"none\" stroke=\"black\" d=\"M1489.11,-222.91C1506.18,-212.51 1524.61,-201.28 1541.96,-190.71\"/>\n<polygon fill=\"black\" stroke=\"black\" points=\"1544.2,-193.44 1550.91,-185.25 1540.55,-187.46 1544.2,-193.44\"/>\n</g>\n<!-- 27 -->\n<g id=\"node28\" class=\"node\">\n<title>27</title>\n<path fill=\"#f6d5bd\" stroke=\"black\" d=\"M1400,-68C1400,-68 1313,-68 1313,-68 1307,-68 1301,-62 1301,-56 1301,-56 1301,-12 1301,-12 1301,-6 1307,0 1313,0 1313,0 1400,0 1400,0 1406,0 1412,-6 1412,-12 1412,-12 1412,-56 1412,-56 1412,-62 1406,-68 1400,-68\"/>\n<text text-anchor=\"start\" x=\"1309\" y=\"-52.8\" font-family=\"Helvetica,sans-Serif\" font-size=\"14.00\">entropy = 0.971</text>\n<text text-anchor=\"start\" x=\"1315.5\" y=\"-37.8\" font-family=\"Helvetica,sans-Serif\" font-size=\"14.00\">samples = 10</text>\n<text text-anchor=\"start\" x=\"1317\" y=\"-22.8\" font-family=\"Helvetica,sans-Serif\" font-size=\"14.00\">value = [6, 4]</text>\n<text text-anchor=\"start\" x=\"1329\" y=\"-7.8\" font-family=\"Helvetica,sans-Serif\" font-size=\"14.00\">class = 1</text>\n</g>\n<!-- 26&#45;&gt;27 -->\n<g id=\"edge27\" class=\"edge\">\n<title>26&#45;&gt;27</title>\n<path fill=\"none\" stroke=\"black\" d=\"M1397.92,-103.73C1392.65,-94.97 1387.06,-85.7 1381.76,-76.91\"/>\n<polygon fill=\"black\" stroke=\"black\" points=\"1384.73,-75.06 1376.57,-68.3 1378.74,-78.67 1384.73,-75.06\"/>\n</g>\n<!-- 28 -->\n<g id=\"node29\" class=\"node\">\n<title>28</title>\n<path fill=\"#74baed\" stroke=\"black\" d=\"M1529,-68C1529,-68 1442,-68 1442,-68 1436,-68 1430,-62 1430,-56 1430,-56 1430,-12 1430,-12 1430,-6 1436,0 1442,0 1442,0 1529,0 1529,0 1535,0 1541,-6 1541,-12 1541,-12 1541,-56 1541,-56 1541,-62 1535,-68 1529,-68\"/>\n<text text-anchor=\"start\" x=\"1438\" y=\"-52.8\" font-family=\"Helvetica,sans-Serif\" font-size=\"14.00\">entropy = 0.779</text>\n<text text-anchor=\"start\" x=\"1444.5\" y=\"-37.8\" font-family=\"Helvetica,sans-Serif\" font-size=\"14.00\">samples = 13</text>\n<text text-anchor=\"start\" x=\"1442.5\" y=\"-22.8\" font-family=\"Helvetica,sans-Serif\" font-size=\"14.00\">value = [3, 10]</text>\n<text text-anchor=\"start\" x=\"1458\" y=\"-7.8\" font-family=\"Helvetica,sans-Serif\" font-size=\"14.00\">class = 2</text>\n</g>\n<!-- 26&#45;&gt;28 -->\n<g id=\"edge28\" class=\"edge\">\n<title>26&#45;&gt;28</title>\n<path fill=\"none\" stroke=\"black\" d=\"M1445.96,-103.73C1450.94,-95.06 1456.22,-85.9 1461.23,-77.18\"/>\n<polygon fill=\"black\" stroke=\"black\" points=\"1464.39,-78.71 1466.34,-68.3 1458.32,-75.22 1464.39,-78.71\"/>\n</g>\n<!-- 30 -->\n<g id=\"node31\" class=\"node\">\n<title>30</title>\n<path fill=\"#f6d5bd\" stroke=\"black\" d=\"M1658,-68C1658,-68 1571,-68 1571,-68 1565,-68 1559,-62 1559,-56 1559,-56 1559,-12 1559,-12 1559,-6 1565,0 1571,0 1571,0 1658,0 1658,0 1664,0 1670,-6 1670,-12 1670,-12 1670,-56 1670,-56 1670,-62 1664,-68 1658,-68\"/>\n<text text-anchor=\"start\" x=\"1567\" y=\"-52.8\" font-family=\"Helvetica,sans-Serif\" font-size=\"14.00\">entropy = 0.971</text>\n<text text-anchor=\"start\" x=\"1573.5\" y=\"-37.8\" font-family=\"Helvetica,sans-Serif\" font-size=\"14.00\">samples = 10</text>\n<text text-anchor=\"start\" x=\"1575\" y=\"-22.8\" font-family=\"Helvetica,sans-Serif\" font-size=\"14.00\">value = [6, 4]</text>\n<text text-anchor=\"start\" x=\"1587\" y=\"-7.8\" font-family=\"Helvetica,sans-Serif\" font-size=\"14.00\">class = 1</text>\n</g>\n<!-- 29&#45;&gt;30 -->\n<g id=\"edge30\" class=\"edge\">\n<title>29&#45;&gt;30</title>\n<path fill=\"none\" stroke=\"black\" d=\"M1614.5,-103.73C1614.5,-95.52 1614.5,-86.86 1614.5,-78.56\"/>\n<polygon fill=\"black\" stroke=\"black\" points=\"1618,-78.3 1614.5,-68.3 1611,-78.3 1618,-78.3\"/>\n</g>\n<!-- 31 -->\n<g id=\"node32\" class=\"node\">\n<title>31</title>\n<path fill=\"#e88e4d\" stroke=\"black\" d=\"M1787,-68C1787,-68 1700,-68 1700,-68 1694,-68 1688,-62 1688,-56 1688,-56 1688,-12 1688,-12 1688,-6 1694,0 1700,0 1700,0 1787,0 1787,0 1793,0 1799,-6 1799,-12 1799,-12 1799,-56 1799,-56 1799,-62 1793,-68 1787,-68\"/>\n<text text-anchor=\"start\" x=\"1696\" y=\"-52.8\" font-family=\"Helvetica,sans-Serif\" font-size=\"14.00\">entropy = 0.449</text>\n<text text-anchor=\"start\" x=\"1702.5\" y=\"-37.8\" font-family=\"Helvetica,sans-Serif\" font-size=\"14.00\">samples = 32</text>\n<text text-anchor=\"start\" x=\"1700.5\" y=\"-22.8\" font-family=\"Helvetica,sans-Serif\" font-size=\"14.00\">value = [29, 3]</text>\n<text text-anchor=\"start\" x=\"1716\" y=\"-7.8\" font-family=\"Helvetica,sans-Serif\" font-size=\"14.00\">class = 1</text>\n</g>\n<!-- 29&#45;&gt;31 -->\n<g id=\"edge31\" class=\"edge\">\n<title>29&#45;&gt;31</title>\n<path fill=\"none\" stroke=\"black\" d=\"M1662.53,-103.73C1673.6,-94.33 1685.36,-84.35 1696.39,-74.99\"/>\n<polygon fill=\"black\" stroke=\"black\" points=\"1698.91,-77.44 1704.27,-68.3 1694.38,-72.1 1698.91,-77.44\"/>\n</g>\n<!-- 33 -->\n<g id=\"node34\" class=\"node\">\n<title>33</title>\n<path fill=\"#399de5\" stroke=\"black\" d=\"M2176,-417.5C2176,-417.5 2083,-417.5 2083,-417.5 2077,-417.5 2071,-411.5 2071,-405.5 2071,-405.5 2071,-361.5 2071,-361.5 2071,-355.5 2077,-349.5 2083,-349.5 2083,-349.5 2176,-349.5 2176,-349.5 2182,-349.5 2188,-355.5 2188,-361.5 2188,-361.5 2188,-405.5 2188,-405.5 2188,-411.5 2182,-417.5 2176,-417.5\"/>\n<text text-anchor=\"start\" x=\"2089.5\" y=\"-402.3\" font-family=\"Helvetica,sans-Serif\" font-size=\"14.00\">entropy = 0.0</text>\n<text text-anchor=\"start\" x=\"2081\" y=\"-387.3\" font-family=\"Helvetica,sans-Serif\" font-size=\"14.00\">samples = 1366</text>\n<text text-anchor=\"start\" x=\"2079\" y=\"-372.3\" font-family=\"Helvetica,sans-Serif\" font-size=\"14.00\">value = [0, 1366]</text>\n<text text-anchor=\"start\" x=\"2102\" y=\"-357.3\" font-family=\"Helvetica,sans-Serif\" font-size=\"14.00\">class = 2</text>\n</g>\n<!-- 32&#45;&gt;33 -->\n<g id=\"edge33\" class=\"edge\">\n<title>32&#45;&gt;33</title>\n<path fill=\"none\" stroke=\"black\" d=\"M2175.21,-460.91C2168.55,-449.76 2161.3,-437.66 2154.59,-426.44\"/>\n<polygon fill=\"black\" stroke=\"black\" points=\"2157.48,-424.45 2149.34,-417.67 2151.47,-428.05 2157.48,-424.45\"/>\n</g>\n<!-- 34 -->\n<g id=\"node35\" class=\"node\">\n<title>34</title>\n<path fill=\"#48a4e7\" stroke=\"black\" d=\"M2321,-425C2321,-425 2218,-425 2218,-425 2212,-425 2206,-419 2206,-413 2206,-413 2206,-354 2206,-354 2206,-348 2212,-342 2218,-342 2218,-342 2321,-342 2321,-342 2327,-342 2333,-348 2333,-354 2333,-354 2333,-413 2333,-413 2333,-419 2327,-425 2321,-425\"/>\n<text text-anchor=\"start\" x=\"2214\" y=\"-409.8\" font-family=\"Helvetica,sans-Serif\" font-size=\"14.00\">t2_towerKills ≤ 3.5</text>\n<text text-anchor=\"start\" x=\"2222\" y=\"-394.8\" font-family=\"Helvetica,sans-Serif\" font-size=\"14.00\">entropy = 0.368</text>\n<text text-anchor=\"start\" x=\"2224.5\" y=\"-379.8\" font-family=\"Helvetica,sans-Serif\" font-size=\"14.00\">samples = 566</text>\n<text text-anchor=\"start\" x=\"2219\" y=\"-364.8\" font-family=\"Helvetica,sans-Serif\" font-size=\"14.00\">value = [40, 526]</text>\n<text text-anchor=\"start\" x=\"2242\" y=\"-349.8\" font-family=\"Helvetica,sans-Serif\" font-size=\"14.00\">class = 2</text>\n</g>\n<!-- 32&#45;&gt;34 -->\n<g id=\"edge34\" class=\"edge\">\n<title>32&#45;&gt;34</title>\n<path fill=\"none\" stroke=\"black\" d=\"M2223.79,-460.91C2229.05,-452.1 2234.68,-442.7 2240.12,-433.61\"/>\n<polygon fill=\"black\" stroke=\"black\" points=\"2243.13,-435.4 2245.26,-425.02 2237.12,-431.81 2243.13,-435.4\"/>\n</g>\n<!-- 35 -->\n<g id=\"node36\" class=\"node\">\n<title>35</title>\n<path fill=\"#7abdee\" stroke=\"black\" d=\"M2230.5,-306C2230.5,-306 2118.5,-306 2118.5,-306 2112.5,-306 2106.5,-300 2106.5,-294 2106.5,-294 2106.5,-235 2106.5,-235 2106.5,-229 2112.5,-223 2118.5,-223 2118.5,-223 2230.5,-223 2230.5,-223 2236.5,-223 2242.5,-229 2242.5,-235 2242.5,-235 2242.5,-294 2242.5,-294 2242.5,-300 2236.5,-306 2230.5,-306\"/>\n<text text-anchor=\"start\" x=\"2114.5\" y=\"-290.8\" font-family=\"Helvetica,sans-Serif\" font-size=\"14.00\">t1_dragonKills ≤ 1.5</text>\n<text text-anchor=\"start\" x=\"2127\" y=\"-275.8\" font-family=\"Helvetica,sans-Serif\" font-size=\"14.00\">entropy = 0.807</text>\n<text text-anchor=\"start\" x=\"2133.5\" y=\"-260.8\" font-family=\"Helvetica,sans-Serif\" font-size=\"14.00\">samples = 89</text>\n<text text-anchor=\"start\" x=\"2127.5\" y=\"-245.8\" font-family=\"Helvetica,sans-Serif\" font-size=\"14.00\">value = [22, 67]</text>\n<text text-anchor=\"start\" x=\"2147\" y=\"-230.8\" font-family=\"Helvetica,sans-Serif\" font-size=\"14.00\">class = 2</text>\n</g>\n<!-- 34&#45;&gt;35 -->\n<g id=\"edge35\" class=\"edge\">\n<title>34&#45;&gt;35</title>\n<path fill=\"none\" stroke=\"black\" d=\"M2236.54,-341.91C2229.25,-332.92 2221.44,-323.32 2213.92,-314.05\"/>\n<polygon fill=\"black\" stroke=\"black\" points=\"2216.42,-311.58 2207.4,-306.02 2210.99,-315.99 2216.42,-311.58\"/>\n</g>\n<!-- 42 -->\n<g id=\"node43\" class=\"node\">\n<title>42</title>\n<path fill=\"#41a1e6\" stroke=\"black\" d=\"M2424,-306C2424,-306 2307,-306 2307,-306 2301,-306 2295,-300 2295,-294 2295,-294 2295,-235 2295,-235 2295,-229 2301,-223 2307,-223 2307,-223 2424,-223 2424,-223 2430,-223 2436,-229 2436,-235 2436,-235 2436,-294 2436,-294 2436,-300 2430,-306 2424,-306\"/>\n<text text-anchor=\"start\" x=\"2303\" y=\"-290.8\" font-family=\"Helvetica,sans-Serif\" font-size=\"14.00\">t2_inhibitorKills ≤ 0.5</text>\n<text text-anchor=\"start\" x=\"2318\" y=\"-275.8\" font-family=\"Helvetica,sans-Serif\" font-size=\"14.00\">entropy = 0.232</text>\n<text text-anchor=\"start\" x=\"2320.5\" y=\"-260.8\" font-family=\"Helvetica,sans-Serif\" font-size=\"14.00\">samples = 477</text>\n<text text-anchor=\"start\" x=\"2315\" y=\"-245.8\" font-family=\"Helvetica,sans-Serif\" font-size=\"14.00\">value = [18, 459]</text>\n<text text-anchor=\"start\" x=\"2338\" y=\"-230.8\" font-family=\"Helvetica,sans-Serif\" font-size=\"14.00\">class = 2</text>\n</g>\n<!-- 34&#45;&gt;42 -->\n<g id=\"edge42\" class=\"edge\">\n<title>34&#45;&gt;42</title>\n<path fill=\"none\" stroke=\"black\" d=\"M2302.81,-341.91C2310.25,-332.83 2318.22,-323.12 2325.89,-313.77\"/>\n<polygon fill=\"black\" stroke=\"black\" points=\"2328.61,-315.97 2332.25,-306.02 2323.2,-311.53 2328.61,-315.97\"/>\n</g>\n<!-- 36 -->\n<g id=\"node37\" class=\"node\">\n<title>36</title>\n<path fill=\"#59ade9\" stroke=\"black\" d=\"M2045.5,-187C2045.5,-187 1933.5,-187 1933.5,-187 1927.5,-187 1921.5,-181 1921.5,-175 1921.5,-175 1921.5,-116 1921.5,-116 1921.5,-110 1927.5,-104 1933.5,-104 1933.5,-104 2045.5,-104 2045.5,-104 2051.5,-104 2057.5,-110 2057.5,-116 2057.5,-116 2057.5,-175 2057.5,-175 2057.5,-181 2051.5,-187 2045.5,-187\"/>\n<text text-anchor=\"start\" x=\"1929.5\" y=\"-171.8\" font-family=\"Helvetica,sans-Serif\" font-size=\"14.00\">t2_dragonKills ≤ 0.5</text>\n<text text-anchor=\"start\" x=\"1942\" y=\"-156.8\" font-family=\"Helvetica,sans-Serif\" font-size=\"14.00\">entropy = 0.586</text>\n<text text-anchor=\"start\" x=\"1948.5\" y=\"-141.8\" font-family=\"Helvetica,sans-Serif\" font-size=\"14.00\">samples = 71</text>\n<text text-anchor=\"start\" x=\"1942.5\" y=\"-126.8\" font-family=\"Helvetica,sans-Serif\" font-size=\"14.00\">value = [10, 61]</text>\n<text text-anchor=\"start\" x=\"1962\" y=\"-111.8\" font-family=\"Helvetica,sans-Serif\" font-size=\"14.00\">class = 2</text>\n</g>\n<!-- 35&#45;&gt;36 -->\n<g id=\"edge36\" class=\"edge\">\n<title>35&#45;&gt;36</title>\n<path fill=\"none\" stroke=\"black\" d=\"M2110.32,-222.91C2094.82,-213.11 2078.15,-202.56 2062.29,-192.53\"/>\n<polygon fill=\"black\" stroke=\"black\" points=\"2063.89,-189.41 2053.57,-187.02 2060.15,-195.32 2063.89,-189.41\"/>\n</g>\n<!-- 39 -->\n<g id=\"node40\" class=\"node\">\n<title>39</title>\n<path fill=\"#f2c09c\" stroke=\"black\" d=\"M2226.5,-187C2226.5,-187 2122.5,-187 2122.5,-187 2116.5,-187 2110.5,-181 2110.5,-175 2110.5,-175 2110.5,-116 2110.5,-116 2110.5,-110 2116.5,-104 2122.5,-104 2122.5,-104 2226.5,-104 2226.5,-104 2232.5,-104 2238.5,-110 2238.5,-116 2238.5,-116 2238.5,-175 2238.5,-175 2238.5,-181 2232.5,-187 2226.5,-187\"/>\n<text text-anchor=\"start\" x=\"2118.5\" y=\"-171.8\" font-family=\"Helvetica,sans-Serif\" font-size=\"14.00\">t2_baronKills ≤ 0.5</text>\n<text text-anchor=\"start\" x=\"2127\" y=\"-156.8\" font-family=\"Helvetica,sans-Serif\" font-size=\"14.00\">entropy = 0.918</text>\n<text text-anchor=\"start\" x=\"2133.5\" y=\"-141.8\" font-family=\"Helvetica,sans-Serif\" font-size=\"14.00\">samples = 18</text>\n<text text-anchor=\"start\" x=\"2131.5\" y=\"-126.8\" font-family=\"Helvetica,sans-Serif\" font-size=\"14.00\">value = [12, 6]</text>\n<text text-anchor=\"start\" x=\"2147\" y=\"-111.8\" font-family=\"Helvetica,sans-Serif\" font-size=\"14.00\">class = 1</text>\n</g>\n<!-- 35&#45;&gt;39 -->\n<g id=\"edge39\" class=\"edge\">\n<title>35&#45;&gt;39</title>\n<path fill=\"none\" stroke=\"black\" d=\"M2174.5,-222.91C2174.5,-214.65 2174.5,-205.86 2174.5,-197.3\"/>\n<polygon fill=\"black\" stroke=\"black\" points=\"2178,-197.02 2174.5,-187.02 2171,-197.02 2178,-197.02\"/>\n</g>\n<!-- 37 -->\n<g id=\"node38\" class=\"node\">\n<title>37</title>\n<path fill=\"#ffffff\" stroke=\"black\" d=\"M1903.5,-68C1903.5,-68 1829.5,-68 1829.5,-68 1823.5,-68 1817.5,-62 1817.5,-56 1817.5,-56 1817.5,-12 1817.5,-12 1817.5,-6 1823.5,0 1829.5,0 1829.5,0 1903.5,0 1903.5,0 1909.5,0 1915.5,-6 1915.5,-12 1915.5,-12 1915.5,-56 1915.5,-56 1915.5,-62 1909.5,-68 1903.5,-68\"/>\n<text text-anchor=\"start\" x=\"1826.5\" y=\"-52.8\" font-family=\"Helvetica,sans-Serif\" font-size=\"14.00\">entropy = 1.0</text>\n<text text-anchor=\"start\" x=\"1825.5\" y=\"-37.8\" font-family=\"Helvetica,sans-Serif\" font-size=\"14.00\">samples = 14</text>\n<text text-anchor=\"start\" x=\"1827\" y=\"-22.8\" font-family=\"Helvetica,sans-Serif\" font-size=\"14.00\">value = [7, 7]</text>\n<text text-anchor=\"start\" x=\"1839\" y=\"-7.8\" font-family=\"Helvetica,sans-Serif\" font-size=\"14.00\">class = 1</text>\n</g>\n<!-- 36&#45;&gt;37 -->\n<g id=\"edge37\" class=\"edge\">\n<title>36&#45;&gt;37</title>\n<path fill=\"none\" stroke=\"black\" d=\"M1943.7,-103.73C1933.15,-94.33 1921.93,-84.35 1911.42,-74.99\"/>\n<polygon fill=\"black\" stroke=\"black\" points=\"1913.7,-72.33 1903.91,-68.3 1909.05,-77.56 1913.7,-72.33\"/>\n</g>\n<!-- 38 -->\n<g id=\"node39\" class=\"node\">\n<title>38</title>\n<path fill=\"#44a2e6\" stroke=\"black\" d=\"M2033,-68C2033,-68 1946,-68 1946,-68 1940,-68 1934,-62 1934,-56 1934,-56 1934,-12 1934,-12 1934,-6 1940,0 1946,0 1946,0 2033,0 2033,0 2039,0 2045,-6 2045,-12 2045,-12 2045,-56 2045,-56 2045,-62 2039,-68 2033,-68\"/>\n<text text-anchor=\"start\" x=\"1942\" y=\"-52.8\" font-family=\"Helvetica,sans-Serif\" font-size=\"14.00\">entropy = 0.297</text>\n<text text-anchor=\"start\" x=\"1948.5\" y=\"-37.8\" font-family=\"Helvetica,sans-Serif\" font-size=\"14.00\">samples = 57</text>\n<text text-anchor=\"start\" x=\"1946.5\" y=\"-22.8\" font-family=\"Helvetica,sans-Serif\" font-size=\"14.00\">value = [3, 54]</text>\n<text text-anchor=\"start\" x=\"1962\" y=\"-7.8\" font-family=\"Helvetica,sans-Serif\" font-size=\"14.00\">class = 2</text>\n</g>\n<!-- 36&#45;&gt;38 -->\n<g id=\"edge38\" class=\"edge\">\n<title>36&#45;&gt;38</title>\n<path fill=\"none\" stroke=\"black\" d=\"M1989.5,-103.73C1989.5,-95.52 1989.5,-86.86 1989.5,-78.56\"/>\n<polygon fill=\"black\" stroke=\"black\" points=\"1993,-78.3 1989.5,-68.3 1986,-78.3 1993,-78.3\"/>\n</g>\n<!-- 40 -->\n<g id=\"node41\" class=\"node\">\n<title>40</title>\n<path fill=\"#eeab7b\" stroke=\"black\" d=\"M2162,-68C2162,-68 2075,-68 2075,-68 2069,-68 2063,-62 2063,-56 2063,-56 2063,-12 2063,-12 2063,-6 2069,0 2075,0 2075,0 2162,0 2162,0 2168,0 2174,-6 2174,-12 2174,-12 2174,-56 2174,-56 2174,-62 2168,-68 2162,-68\"/>\n<text text-anchor=\"start\" x=\"2071\" y=\"-52.8\" font-family=\"Helvetica,sans-Serif\" font-size=\"14.00\">entropy = 0.811</text>\n<text text-anchor=\"start\" x=\"2077.5\" y=\"-37.8\" font-family=\"Helvetica,sans-Serif\" font-size=\"14.00\">samples = 16</text>\n<text text-anchor=\"start\" x=\"2075.5\" y=\"-22.8\" font-family=\"Helvetica,sans-Serif\" font-size=\"14.00\">value = [12, 4]</text>\n<text text-anchor=\"start\" x=\"2091\" y=\"-7.8\" font-family=\"Helvetica,sans-Serif\" font-size=\"14.00\">class = 1</text>\n</g>\n<!-- 39&#45;&gt;40 -->\n<g id=\"edge40\" class=\"edge\">\n<title>39&#45;&gt;40</title>\n<path fill=\"none\" stroke=\"black\" d=\"M2153.65,-103.73C2149.26,-95.15 2144.63,-86.09 2140.21,-77.46\"/>\n<polygon fill=\"black\" stroke=\"black\" points=\"2143.2,-75.61 2135.53,-68.3 2136.97,-78.8 2143.2,-75.61\"/>\n</g>\n<!-- 41 -->\n<g id=\"node42\" class=\"node\">\n<title>41</title>\n<path fill=\"#399de5\" stroke=\"black\" d=\"M2276.5,-68C2276.5,-68 2204.5,-68 2204.5,-68 2198.5,-68 2192.5,-62 2192.5,-56 2192.5,-56 2192.5,-12 2192.5,-12 2192.5,-6 2198.5,0 2204.5,0 2204.5,0 2276.5,0 2276.5,0 2282.5,0 2288.5,-6 2288.5,-12 2288.5,-12 2288.5,-56 2288.5,-56 2288.5,-62 2282.5,-68 2276.5,-68\"/>\n<text text-anchor=\"start\" x=\"2200.5\" y=\"-52.8\" font-family=\"Helvetica,sans-Serif\" font-size=\"14.00\">entropy = 0.0</text>\n<text text-anchor=\"start\" x=\"2203\" y=\"-37.8\" font-family=\"Helvetica,sans-Serif\" font-size=\"14.00\">samples = 2</text>\n<text text-anchor=\"start\" x=\"2201\" y=\"-22.8\" font-family=\"Helvetica,sans-Serif\" font-size=\"14.00\">value = [0, 2]</text>\n<text text-anchor=\"start\" x=\"2213\" y=\"-7.8\" font-family=\"Helvetica,sans-Serif\" font-size=\"14.00\">class = 2</text>\n</g>\n<!-- 39&#45;&gt;41 -->\n<g id=\"edge41\" class=\"edge\">\n<title>39&#45;&gt;41</title>\n<path fill=\"none\" stroke=\"black\" d=\"M2199.08,-103.73C2204.35,-94.97 2209.94,-85.7 2215.24,-76.91\"/>\n<polygon fill=\"black\" stroke=\"black\" points=\"2218.26,-78.67 2220.43,-68.3 2212.27,-75.06 2218.26,-78.67\"/>\n</g>\n<!-- 43 -->\n<g id=\"node44\" class=\"node\">\n<title>43</title>\n<path fill=\"#46a3e7\" stroke=\"black\" d=\"M2417.5,-187C2417.5,-187 2313.5,-187 2313.5,-187 2307.5,-187 2301.5,-181 2301.5,-175 2301.5,-175 2301.5,-116 2301.5,-116 2301.5,-110 2307.5,-104 2313.5,-104 2313.5,-104 2417.5,-104 2417.5,-104 2423.5,-104 2429.5,-110 2429.5,-116 2429.5,-116 2429.5,-175 2429.5,-175 2429.5,-181 2423.5,-187 2417.5,-187\"/>\n<text text-anchor=\"start\" x=\"2309.5\" y=\"-171.8\" font-family=\"Helvetica,sans-Serif\" font-size=\"14.00\">t1_baronKills ≤ 0.5</text>\n<text text-anchor=\"start\" x=\"2318\" y=\"-156.8\" font-family=\"Helvetica,sans-Serif\" font-size=\"14.00\">entropy = 0.325</text>\n<text text-anchor=\"start\" x=\"2320.5\" y=\"-141.8\" font-family=\"Helvetica,sans-Serif\" font-size=\"14.00\">samples = 303</text>\n<text text-anchor=\"start\" x=\"2315\" y=\"-126.8\" font-family=\"Helvetica,sans-Serif\" font-size=\"14.00\">value = [18, 285]</text>\n<text text-anchor=\"start\" x=\"2338\" y=\"-111.8\" font-family=\"Helvetica,sans-Serif\" font-size=\"14.00\">class = 2</text>\n</g>\n<!-- 42&#45;&gt;43 -->\n<g id=\"edge43\" class=\"edge\">\n<title>42&#45;&gt;43</title>\n<path fill=\"none\" stroke=\"black\" d=\"M2365.5,-222.91C2365.5,-214.65 2365.5,-205.86 2365.5,-197.3\"/>\n<polygon fill=\"black\" stroke=\"black\" points=\"2369,-197.02 2365.5,-187.02 2362,-197.02 2369,-197.02\"/>\n</g>\n<!-- 46 -->\n<g id=\"node47\" class=\"node\">\n<title>46</title>\n<path fill=\"#399de5\" stroke=\"black\" d=\"M2545.5,-179.5C2545.5,-179.5 2459.5,-179.5 2459.5,-179.5 2453.5,-179.5 2447.5,-173.5 2447.5,-167.5 2447.5,-167.5 2447.5,-123.5 2447.5,-123.5 2447.5,-117.5 2453.5,-111.5 2459.5,-111.5 2459.5,-111.5 2545.5,-111.5 2545.5,-111.5 2551.5,-111.5 2557.5,-117.5 2557.5,-123.5 2557.5,-123.5 2557.5,-167.5 2557.5,-167.5 2557.5,-173.5 2551.5,-179.5 2545.5,-179.5\"/>\n<text text-anchor=\"start\" x=\"2462.5\" y=\"-164.3\" font-family=\"Helvetica,sans-Serif\" font-size=\"14.00\">entropy = 0.0</text>\n<text text-anchor=\"start\" x=\"2457.5\" y=\"-149.3\" font-family=\"Helvetica,sans-Serif\" font-size=\"14.00\">samples = 174</text>\n<text text-anchor=\"start\" x=\"2455.5\" y=\"-134.3\" font-family=\"Helvetica,sans-Serif\" font-size=\"14.00\">value = [0, 174]</text>\n<text text-anchor=\"start\" x=\"2475\" y=\"-119.3\" font-family=\"Helvetica,sans-Serif\" font-size=\"14.00\">class = 2</text>\n</g>\n<!-- 42&#45;&gt;46 -->\n<g id=\"edge46\" class=\"edge\">\n<title>42&#45;&gt;46</title>\n<path fill=\"none\" stroke=\"black\" d=\"M2413.03,-222.91C2426.86,-211.1 2441.94,-198.22 2455.72,-186.45\"/>\n<polygon fill=\"black\" stroke=\"black\" points=\"2458.33,-188.82 2463.66,-179.67 2453.79,-183.5 2458.33,-188.82\"/>\n</g>\n<!-- 44 -->\n<g id=\"node45\" class=\"node\">\n<title>44</title>\n<path fill=\"#43a2e6\" stroke=\"black\" d=\"M2412,-68C2412,-68 2319,-68 2319,-68 2313,-68 2307,-62 2307,-56 2307,-56 2307,-12 2307,-12 2307,-6 2313,0 2319,0 2319,0 2412,0 2412,0 2418,0 2424,-6 2424,-12 2424,-12 2424,-56 2424,-56 2424,-62 2418,-68 2412,-68\"/>\n<text text-anchor=\"start\" x=\"2318\" y=\"-52.8\" font-family=\"Helvetica,sans-Serif\" font-size=\"14.00\">entropy = 0.275</text>\n<text text-anchor=\"start\" x=\"2320.5\" y=\"-37.8\" font-family=\"Helvetica,sans-Serif\" font-size=\"14.00\">samples = 296</text>\n<text text-anchor=\"start\" x=\"2315\" y=\"-22.8\" font-family=\"Helvetica,sans-Serif\" font-size=\"14.00\">value = [14, 282]</text>\n<text text-anchor=\"start\" x=\"2338\" y=\"-7.8\" font-family=\"Helvetica,sans-Serif\" font-size=\"14.00\">class = 2</text>\n</g>\n<!-- 43&#45;&gt;44 -->\n<g id=\"edge44\" class=\"edge\">\n<title>43&#45;&gt;44</title>\n<path fill=\"none\" stroke=\"black\" d=\"M2365.5,-103.73C2365.5,-95.52 2365.5,-86.86 2365.5,-78.56\"/>\n<polygon fill=\"black\" stroke=\"black\" points=\"2369,-78.3 2365.5,-68.3 2362,-78.3 2369,-78.3\"/>\n</g>\n<!-- 45 -->\n<g id=\"node46\" class=\"node\">\n<title>45</title>\n<path fill=\"#f8e0ce\" stroke=\"black\" d=\"M2541,-68C2541,-68 2454,-68 2454,-68 2448,-68 2442,-62 2442,-56 2442,-56 2442,-12 2442,-12 2442,-6 2448,0 2454,0 2454,0 2541,0 2541,0 2547,0 2553,-6 2553,-12 2553,-12 2553,-56 2553,-56 2553,-62 2547,-68 2541,-68\"/>\n<text text-anchor=\"start\" x=\"2450\" y=\"-52.8\" font-family=\"Helvetica,sans-Serif\" font-size=\"14.00\">entropy = 0.985</text>\n<text text-anchor=\"start\" x=\"2460\" y=\"-37.8\" font-family=\"Helvetica,sans-Serif\" font-size=\"14.00\">samples = 7</text>\n<text text-anchor=\"start\" x=\"2458\" y=\"-22.8\" font-family=\"Helvetica,sans-Serif\" font-size=\"14.00\">value = [4, 3]</text>\n<text text-anchor=\"start\" x=\"2470\" y=\"-7.8\" font-family=\"Helvetica,sans-Serif\" font-size=\"14.00\">class = 1</text>\n</g>\n<!-- 43&#45;&gt;45 -->\n<g id=\"edge45\" class=\"edge\">\n<title>43&#45;&gt;45</title>\n<path fill=\"none\" stroke=\"black\" d=\"M2414.65,-103.73C2426.09,-94.24 2438.24,-84.16 2449.62,-74.72\"/>\n<polygon fill=\"black\" stroke=\"black\" points=\"2451.9,-77.38 2457.36,-68.3 2447.43,-71.99 2451.9,-77.38\"/>\n</g>\n<!-- 48 -->\n<g id=\"node49\" class=\"node\">\n<title>48</title>\n<path fill=\"#e5823a\" stroke=\"black\" d=\"M4174.5,-544C4174.5,-544 4058.5,-544 4058.5,-544 4052.5,-544 4046.5,-538 4046.5,-532 4046.5,-532 4046.5,-473 4046.5,-473 4046.5,-467 4052.5,-461 4058.5,-461 4058.5,-461 4174.5,-461 4174.5,-461 4180.5,-461 4186.5,-467 4186.5,-473 4186.5,-473 4186.5,-532 4186.5,-532 4186.5,-538 4180.5,-544 4174.5,-544\"/>\n<text text-anchor=\"start\" x=\"4064.5\" y=\"-528.8\" font-family=\"Helvetica,sans-Serif\" font-size=\"14.00\">firstInhibitor ≤ 0.5</text>\n<text text-anchor=\"start\" x=\"4069\" y=\"-513.8\" font-family=\"Helvetica,sans-Serif\" font-size=\"14.00\">entropy = 0.059</text>\n<text text-anchor=\"start\" x=\"4064\" y=\"-498.8\" font-family=\"Helvetica,sans-Serif\" font-size=\"14.00\">samples = 17562</text>\n<text text-anchor=\"start\" x=\"4054.5\" y=\"-483.8\" font-family=\"Helvetica,sans-Serif\" font-size=\"14.00\">value = [17441, 121]</text>\n<text text-anchor=\"start\" x=\"4089\" y=\"-468.8\" font-family=\"Helvetica,sans-Serif\" font-size=\"14.00\">class = 1</text>\n</g>\n<!-- 47&#45;&gt;48 -->\n<g id=\"edge48\" class=\"edge\">\n<title>47&#45;&gt;48</title>\n<path fill=\"none\" stroke=\"black\" d=\"M4549.89,-604.11C4456.91,-582.52 4293.84,-544.67 4196.43,-522.06\"/>\n<polygon fill=\"black\" stroke=\"black\" points=\"4197.16,-518.63 4186.63,-519.78 4195.58,-525.45 4197.16,-518.63\"/>\n</g>\n<!-- 79 -->\n<g id=\"node80\" class=\"node\">\n<title>79</title>\n<path fill=\"#eda876\" stroke=\"black\" d=\"M4915,-544C4915,-544 4798,-544 4798,-544 4792,-544 4786,-538 4786,-532 4786,-532 4786,-473 4786,-473 4786,-467 4792,-461 4798,-461 4798,-461 4915,-461 4915,-461 4921,-461 4927,-467 4927,-473 4927,-473 4927,-532 4927,-532 4927,-538 4921,-544 4915,-544\"/>\n<text text-anchor=\"start\" x=\"4794\" y=\"-528.8\" font-family=\"Helvetica,sans-Serif\" font-size=\"14.00\">t1_inhibitorKills ≤ 0.5</text>\n<text text-anchor=\"start\" x=\"4809\" y=\"-513.8\" font-family=\"Helvetica,sans-Serif\" font-size=\"14.00\">entropy = 0.787</text>\n<text text-anchor=\"start\" x=\"4808\" y=\"-498.8\" font-family=\"Helvetica,sans-Serif\" font-size=\"14.00\">samples = 1058</text>\n<text text-anchor=\"start\" x=\"4802\" y=\"-483.8\" font-family=\"Helvetica,sans-Serif\" font-size=\"14.00\">value = [809, 249]</text>\n<text text-anchor=\"start\" x=\"4829\" y=\"-468.8\" font-family=\"Helvetica,sans-Serif\" font-size=\"14.00\">class = 1</text>\n</g>\n<!-- 47&#45;&gt;79 -->\n<g id=\"edge79\" class=\"edge\">\n<title>47&#45;&gt;79</title>\n<path fill=\"none\" stroke=\"black\" d=\"M4691.31,-585.4C4718.14,-572.09 4748.88,-556.85 4776.5,-543.16\"/>\n<polygon fill=\"black\" stroke=\"black\" points=\"4778.34,-546.16 4785.74,-538.58 4775.23,-539.89 4778.34,-546.16\"/>\n</g>\n<!-- 49 -->\n<g id=\"node50\" class=\"node\">\n<title>49</title>\n<path fill=\"#e78946\" stroke=\"black\" d=\"M3380.5,-425C3380.5,-425 3272.5,-425 3272.5,-425 3266.5,-425 3260.5,-419 3260.5,-413 3260.5,-413 3260.5,-354 3260.5,-354 3260.5,-348 3266.5,-342 3272.5,-342 3272.5,-342 3380.5,-342 3380.5,-342 3386.5,-342 3392.5,-348 3392.5,-354 3392.5,-354 3392.5,-413 3392.5,-413 3392.5,-419 3386.5,-425 3380.5,-425\"/>\n<text text-anchor=\"start\" x=\"3271\" y=\"-409.8\" font-family=\"Helvetica,sans-Serif\" font-size=\"14.00\">t2_towerKills ≤ 3.5</text>\n<text text-anchor=\"start\" x=\"3279\" y=\"-394.8\" font-family=\"Helvetica,sans-Serif\" font-size=\"14.00\">entropy = 0.338</text>\n<text text-anchor=\"start\" x=\"3278\" y=\"-379.8\" font-family=\"Helvetica,sans-Serif\" font-size=\"14.00\">samples = 1624</text>\n<text text-anchor=\"start\" x=\"3268.5\" y=\"-364.8\" font-family=\"Helvetica,sans-Serif\" font-size=\"14.00\">value = [1522, 102]</text>\n<text text-anchor=\"start\" x=\"3299\" y=\"-349.8\" font-family=\"Helvetica,sans-Serif\" font-size=\"14.00\">class = 1</text>\n</g>\n<!-- 48&#45;&gt;49 -->\n<g id=\"edge49\" class=\"edge\">\n<title>48&#45;&gt;49</title>\n<path fill=\"none\" stroke=\"black\" d=\"M4046.39,-491.12C3898.55,-469.22 3555.88,-418.47 3402.78,-395.8\"/>\n<polygon fill=\"black\" stroke=\"black\" points=\"3402.94,-392.28 3392.54,-394.28 3401.92,-399.21 3402.94,-392.28\"/>\n</g>\n<!-- 64 -->\n<g id=\"node65\" class=\"node\">\n<title>64</title>\n<path fill=\"#e58139\" stroke=\"black\" d=\"M4170.5,-425C4170.5,-425 4062.5,-425 4062.5,-425 4056.5,-425 4050.5,-419 4050.5,-413 4050.5,-413 4050.5,-354 4050.5,-354 4050.5,-348 4056.5,-342 4062.5,-342 4062.5,-342 4170.5,-342 4170.5,-342 4176.5,-342 4182.5,-348 4182.5,-354 4182.5,-354 4182.5,-413 4182.5,-413 4182.5,-419 4176.5,-425 4170.5,-425\"/>\n<text text-anchor=\"start\" x=\"4060.5\" y=\"-409.8\" font-family=\"Helvetica,sans-Serif\" font-size=\"14.00\">t2_baronKills ≤ 0.5</text>\n<text text-anchor=\"start\" x=\"4069\" y=\"-394.8\" font-family=\"Helvetica,sans-Serif\" font-size=\"14.00\">entropy = 0.013</text>\n<text text-anchor=\"start\" x=\"4064\" y=\"-379.8\" font-family=\"Helvetica,sans-Serif\" font-size=\"14.00\">samples = 15938</text>\n<text text-anchor=\"start\" x=\"4058.5\" y=\"-364.8\" font-family=\"Helvetica,sans-Serif\" font-size=\"14.00\">value = [15919, 19]</text>\n<text text-anchor=\"start\" x=\"4089\" y=\"-349.8\" font-family=\"Helvetica,sans-Serif\" font-size=\"14.00\">class = 1</text>\n</g>\n<!-- 48&#45;&gt;64 -->\n<g id=\"edge64\" class=\"edge\">\n<title>48&#45;&gt;64</title>\n<path fill=\"none\" stroke=\"black\" d=\"M4116.5,-460.91C4116.5,-452.65 4116.5,-443.86 4116.5,-435.3\"/>\n<polygon fill=\"black\" stroke=\"black\" points=\"4120,-435.02 4116.5,-425.02 4113,-435.02 4120,-435.02\"/>\n</g>\n<!-- 50 -->\n<g id=\"node51\" class=\"node\">\n<title>50</title>\n<path fill=\"#e5823b\" stroke=\"black\" d=\"M3010,-306C3010,-306 2909,-306 2909,-306 2903,-306 2897,-300 2897,-294 2897,-294 2897,-235 2897,-235 2897,-229 2903,-223 2909,-223 2909,-223 3010,-223 3010,-223 3016,-223 3022,-229 3022,-235 3022,-235 3022,-294 3022,-294 3022,-300 3016,-306 3010,-306\"/>\n<text text-anchor=\"start\" x=\"2913.5\" y=\"-290.8\" font-family=\"Helvetica,sans-Serif\" font-size=\"14.00\">firstBaron ≤ 1.5</text>\n<text text-anchor=\"start\" x=\"2912\" y=\"-275.8\" font-family=\"Helvetica,sans-Serif\" font-size=\"14.00\">entropy = 0.092</text>\n<text text-anchor=\"start\" x=\"2911\" y=\"-260.8\" font-family=\"Helvetica,sans-Serif\" font-size=\"14.00\">samples = 1460</text>\n<text text-anchor=\"start\" x=\"2905\" y=\"-245.8\" font-family=\"Helvetica,sans-Serif\" font-size=\"14.00\">value = [1443, 17]</text>\n<text text-anchor=\"start\" x=\"2932\" y=\"-230.8\" font-family=\"Helvetica,sans-Serif\" font-size=\"14.00\">class = 1</text>\n</g>\n<!-- 49&#45;&gt;50 -->\n<g id=\"edge50\" class=\"edge\">\n<title>49&#45;&gt;50</title>\n<path fill=\"none\" stroke=\"black\" d=\"M3260.46,-361.45C3196.05,-340.91 3098.31,-309.75 3031.82,-288.56\"/>\n<polygon fill=\"black\" stroke=\"black\" points=\"3032.84,-285.21 3022.25,-285.5 3030.71,-291.88 3032.84,-285.21\"/>\n</g>\n<!-- 57 -->\n<g id=\"node58\" class=\"node\">\n<title>57</title>\n<path fill=\"#f1f8fd\" stroke=\"black\" d=\"M3378.5,-306C3378.5,-306 3274.5,-306 3274.5,-306 3268.5,-306 3262.5,-300 3262.5,-294 3262.5,-294 3262.5,-235 3262.5,-235 3262.5,-229 3268.5,-223 3274.5,-223 3274.5,-223 3378.5,-223 3378.5,-223 3384.5,-223 3390.5,-229 3390.5,-235 3390.5,-235 3390.5,-294 3390.5,-294 3390.5,-300 3384.5,-306 3378.5,-306\"/>\n<text text-anchor=\"start\" x=\"3270.5\" y=\"-290.8\" font-family=\"Helvetica,sans-Serif\" font-size=\"14.00\">t1_baronKills ≤ 0.5</text>\n<text text-anchor=\"start\" x=\"3279\" y=\"-275.8\" font-family=\"Helvetica,sans-Serif\" font-size=\"14.00\">entropy = 0.999</text>\n<text text-anchor=\"start\" x=\"3281.5\" y=\"-260.8\" font-family=\"Helvetica,sans-Serif\" font-size=\"14.00\">samples = 164</text>\n<text text-anchor=\"start\" x=\"3279.5\" y=\"-245.8\" font-family=\"Helvetica,sans-Serif\" font-size=\"14.00\">value = [79, 85]</text>\n<text text-anchor=\"start\" x=\"3299\" y=\"-230.8\" font-family=\"Helvetica,sans-Serif\" font-size=\"14.00\">class = 2</text>\n</g>\n<!-- 49&#45;&gt;57 -->\n<g id=\"edge57\" class=\"edge\">\n<title>49&#45;&gt;57</title>\n<path fill=\"none\" stroke=\"black\" d=\"M3326.5,-341.91C3326.5,-333.65 3326.5,-324.86 3326.5,-316.3\"/>\n<polygon fill=\"black\" stroke=\"black\" points=\"3330,-316.02 3326.5,-306.02 3323,-316.02 3330,-316.02\"/>\n</g>\n<!-- 51 -->\n<g id=\"node52\" class=\"node\">\n<title>51</title>\n<path fill=\"#e5823b\" stroke=\"black\" d=\"M2813,-187C2813,-187 2710,-187 2710,-187 2704,-187 2698,-181 2698,-175 2698,-175 2698,-116 2698,-116 2698,-110 2704,-104 2710,-104 2710,-104 2813,-104 2813,-104 2819,-104 2825,-110 2825,-116 2825,-116 2825,-175 2825,-175 2825,-181 2819,-187 2813,-187\"/>\n<text text-anchor=\"start\" x=\"2706\" y=\"-171.8\" font-family=\"Helvetica,sans-Serif\" font-size=\"14.00\">t2_towerKills ≤ 2.5</text>\n<text text-anchor=\"start\" x=\"2714\" y=\"-156.8\" font-family=\"Helvetica,sans-Serif\" font-size=\"14.00\">entropy = 0.065</text>\n<text text-anchor=\"start\" x=\"2713\" y=\"-141.8\" font-family=\"Helvetica,sans-Serif\" font-size=\"14.00\">samples = 1442</text>\n<text text-anchor=\"start\" x=\"2707\" y=\"-126.8\" font-family=\"Helvetica,sans-Serif\" font-size=\"14.00\">value = [1431, 11]</text>\n<text text-anchor=\"start\" x=\"2734\" y=\"-111.8\" font-family=\"Helvetica,sans-Serif\" font-size=\"14.00\">class = 1</text>\n</g>\n<!-- 50&#45;&gt;51 -->\n<g id=\"edge51\" class=\"edge\">\n<title>50&#45;&gt;51</title>\n<path fill=\"none\" stroke=\"black\" d=\"M2896.85,-226.48C2876.83,-214.65 2854.5,-201.45 2833.84,-189.25\"/>\n<polygon fill=\"black\" stroke=\"black\" points=\"2835.49,-186.16 2825.1,-184.08 2831.93,-192.18 2835.49,-186.16\"/>\n</g>\n<!-- 54 -->\n<g id=\"node55\" class=\"node\">\n<title>54</title>\n<path fill=\"#f2c09c\" stroke=\"black\" d=\"M3011,-187C3011,-187 2908,-187 2908,-187 2902,-187 2896,-181 2896,-175 2896,-175 2896,-116 2896,-116 2896,-110 2902,-104 2908,-104 2908,-104 3011,-104 3011,-104 3017,-104 3023,-110 3023,-116 3023,-116 3023,-175 3023,-175 3023,-181 3017,-187 3011,-187\"/>\n<text text-anchor=\"start\" x=\"2904\" y=\"-171.8\" font-family=\"Helvetica,sans-Serif\" font-size=\"14.00\">t1_towerKills ≤ 5.5</text>\n<text text-anchor=\"start\" x=\"2912\" y=\"-156.8\" font-family=\"Helvetica,sans-Serif\" font-size=\"14.00\">entropy = 0.918</text>\n<text text-anchor=\"start\" x=\"2918.5\" y=\"-141.8\" font-family=\"Helvetica,sans-Serif\" font-size=\"14.00\">samples = 18</text>\n<text text-anchor=\"start\" x=\"2916.5\" y=\"-126.8\" font-family=\"Helvetica,sans-Serif\" font-size=\"14.00\">value = [12, 6]</text>\n<text text-anchor=\"start\" x=\"2932\" y=\"-111.8\" font-family=\"Helvetica,sans-Serif\" font-size=\"14.00\">class = 1</text>\n</g>\n<!-- 50&#45;&gt;54 -->\n<g id=\"edge54\" class=\"edge\">\n<title>50&#45;&gt;54</title>\n<path fill=\"none\" stroke=\"black\" d=\"M2959.5,-222.91C2959.5,-214.65 2959.5,-205.86 2959.5,-197.3\"/>\n<polygon fill=\"black\" stroke=\"black\" points=\"2963,-197.02 2959.5,-187.02 2956,-197.02 2963,-197.02\"/>\n</g>\n<!-- 52 -->\n<g id=\"node53\" class=\"node\">\n<title>52</title>\n<path fill=\"#e5813a\" stroke=\"black\" d=\"M2676,-68C2676,-68 2583,-68 2583,-68 2577,-68 2571,-62 2571,-56 2571,-56 2571,-12 2571,-12 2571,-6 2577,0 2583,0 2583,0 2676,0 2676,0 2682,0 2688,-6 2688,-12 2688,-12 2688,-56 2688,-56 2688,-62 2682,-68 2676,-68\"/>\n<text text-anchor=\"start\" x=\"2585.5\" y=\"-52.8\" font-family=\"Helvetica,sans-Serif\" font-size=\"14.00\">entropy = 0.03</text>\n<text text-anchor=\"start\" x=\"2581\" y=\"-37.8\" font-family=\"Helvetica,sans-Serif\" font-size=\"14.00\">samples = 1316</text>\n<text text-anchor=\"start\" x=\"2579\" y=\"-22.8\" font-family=\"Helvetica,sans-Serif\" font-size=\"14.00\">value = [1312, 4]</text>\n<text text-anchor=\"start\" x=\"2602\" y=\"-7.8\" font-family=\"Helvetica,sans-Serif\" font-size=\"14.00\">class = 1</text>\n</g>\n<!-- 51&#45;&gt;52 -->\n<g id=\"edge52\" class=\"edge\">\n<title>51&#45;&gt;52</title>\n<path fill=\"none\" stroke=\"black\" d=\"M2712.35,-103.73C2700.91,-94.24 2688.76,-84.16 2677.38,-74.72\"/>\n<polygon fill=\"black\" stroke=\"black\" points=\"2679.57,-71.99 2669.64,-68.3 2675.1,-77.38 2679.57,-71.99\"/>\n</g>\n<!-- 53 -->\n<g id=\"node54\" class=\"node\">\n<title>53</title>\n<path fill=\"#e78845\" stroke=\"black\" d=\"M2804.5,-68C2804.5,-68 2718.5,-68 2718.5,-68 2712.5,-68 2706.5,-62 2706.5,-56 2706.5,-56 2706.5,-12 2706.5,-12 2706.5,-6 2712.5,0 2718.5,0 2718.5,0 2804.5,0 2804.5,0 2810.5,0 2816.5,-6 2816.5,-12 2816.5,-12 2816.5,-56 2816.5,-56 2816.5,-62 2810.5,-68 2804.5,-68\"/>\n<text text-anchor=\"start\" x=\"2717.5\" y=\"-52.8\" font-family=\"Helvetica,sans-Serif\" font-size=\"14.00\">entropy = 0.31</text>\n<text text-anchor=\"start\" x=\"2716.5\" y=\"-37.8\" font-family=\"Helvetica,sans-Serif\" font-size=\"14.00\">samples = 126</text>\n<text text-anchor=\"start\" x=\"2714.5\" y=\"-22.8\" font-family=\"Helvetica,sans-Serif\" font-size=\"14.00\">value = [119, 7]</text>\n<text text-anchor=\"start\" x=\"2734\" y=\"-7.8\" font-family=\"Helvetica,sans-Serif\" font-size=\"14.00\">class = 1</text>\n</g>\n<!-- 51&#45;&gt;53 -->\n<g id=\"edge53\" class=\"edge\">\n<title>51&#45;&gt;53</title>\n<path fill=\"none\" stroke=\"black\" d=\"M2761.5,-103.73C2761.5,-95.52 2761.5,-86.86 2761.5,-78.56\"/>\n<polygon fill=\"black\" stroke=\"black\" points=\"2765,-78.3 2761.5,-68.3 2758,-78.3 2765,-78.3\"/>\n</g>\n<!-- 55 -->\n<g id=\"node56\" class=\"node\">\n<title>55</title>\n<path fill=\"#9ccef2\" stroke=\"black\" d=\"M2934,-68C2934,-68 2847,-68 2847,-68 2841,-68 2835,-62 2835,-56 2835,-56 2835,-12 2835,-12 2835,-6 2841,0 2847,0 2847,0 2934,0 2934,0 2940,0 2946,-6 2946,-12 2946,-12 2946,-56 2946,-56 2946,-62 2940,-68 2934,-68\"/>\n<text text-anchor=\"start\" x=\"2843\" y=\"-52.8\" font-family=\"Helvetica,sans-Serif\" font-size=\"14.00\">entropy = 0.918</text>\n<text text-anchor=\"start\" x=\"2853\" y=\"-37.8\" font-family=\"Helvetica,sans-Serif\" font-size=\"14.00\">samples = 9</text>\n<text text-anchor=\"start\" x=\"2851\" y=\"-22.8\" font-family=\"Helvetica,sans-Serif\" font-size=\"14.00\">value = [3, 6]</text>\n<text text-anchor=\"start\" x=\"2863\" y=\"-7.8\" font-family=\"Helvetica,sans-Serif\" font-size=\"14.00\">class = 2</text>\n</g>\n<!-- 54&#45;&gt;55 -->\n<g id=\"edge55\" class=\"edge\">\n<title>54&#45;&gt;55</title>\n<path fill=\"none\" stroke=\"black\" d=\"M2933.81,-103.73C2928.29,-94.97 2922.45,-85.7 2916.91,-76.91\"/>\n<polygon fill=\"black\" stroke=\"black\" points=\"2919.78,-74.89 2911.48,-68.3 2913.85,-78.63 2919.78,-74.89\"/>\n</g>\n<!-- 56 -->\n<g id=\"node57\" class=\"node\">\n<title>56</title>\n<path fill=\"#e58139\" stroke=\"black\" d=\"M3048.5,-68C3048.5,-68 2976.5,-68 2976.5,-68 2970.5,-68 2964.5,-62 2964.5,-56 2964.5,-56 2964.5,-12 2964.5,-12 2964.5,-6 2970.5,0 2976.5,0 2976.5,0 3048.5,0 3048.5,0 3054.5,0 3060.5,-6 3060.5,-12 3060.5,-12 3060.5,-56 3060.5,-56 3060.5,-62 3054.5,-68 3048.5,-68\"/>\n<text text-anchor=\"start\" x=\"2972.5\" y=\"-52.8\" font-family=\"Helvetica,sans-Serif\" font-size=\"14.00\">entropy = 0.0</text>\n<text text-anchor=\"start\" x=\"2975\" y=\"-37.8\" font-family=\"Helvetica,sans-Serif\" font-size=\"14.00\">samples = 9</text>\n<text text-anchor=\"start\" x=\"2973\" y=\"-22.8\" font-family=\"Helvetica,sans-Serif\" font-size=\"14.00\">value = [9, 0]</text>\n<text text-anchor=\"start\" x=\"2985\" y=\"-7.8\" font-family=\"Helvetica,sans-Serif\" font-size=\"14.00\">class = 1</text>\n</g>\n<!-- 54&#45;&gt;56 -->\n<g id=\"edge56\" class=\"edge\">\n<title>54&#45;&gt;56</title>\n<path fill=\"none\" stroke=\"black\" d=\"M2979.24,-103.73C2983.39,-95.15 2987.77,-86.09 2991.95,-77.46\"/>\n<polygon fill=\"black\" stroke=\"black\" points=\"2995.18,-78.83 2996.38,-68.3 2988.88,-75.78 2995.18,-78.83\"/>\n</g>\n<!-- 58 -->\n<g id=\"node59\" class=\"node\">\n<title>58</title>\n<path fill=\"#9fcff2\" stroke=\"black\" d=\"M3299,-187C3299,-187 3212,-187 3212,-187 3206,-187 3200,-181 3200,-175 3200,-175 3200,-116 3200,-116 3200,-110 3206,-104 3212,-104 3212,-104 3299,-104 3299,-104 3305,-104 3311,-110 3311,-116 3311,-116 3311,-175 3311,-175 3311,-181 3305,-187 3299,-187\"/>\n<text text-anchor=\"start\" x=\"3209.5\" y=\"-171.8\" font-family=\"Helvetica,sans-Serif\" font-size=\"14.00\">firstTower ≤ 1.5</text>\n<text text-anchor=\"start\" x=\"3208\" y=\"-156.8\" font-family=\"Helvetica,sans-Serif\" font-size=\"14.00\">entropy = 0.924</text>\n<text text-anchor=\"start\" x=\"3210.5\" y=\"-141.8\" font-family=\"Helvetica,sans-Serif\" font-size=\"14.00\">samples = 112</text>\n<text text-anchor=\"start\" x=\"3208.5\" y=\"-126.8\" font-family=\"Helvetica,sans-Serif\" font-size=\"14.00\">value = [38, 74]</text>\n<text text-anchor=\"start\" x=\"3228\" y=\"-111.8\" font-family=\"Helvetica,sans-Serif\" font-size=\"14.00\">class = 2</text>\n</g>\n<!-- 57&#45;&gt;58 -->\n<g id=\"edge58\" class=\"edge\">\n<title>57&#45;&gt;58</title>\n<path fill=\"none\" stroke=\"black\" d=\"M3301.87,-222.91C3296.53,-214.1 3290.82,-204.7 3285.3,-195.61\"/>\n<polygon fill=\"black\" stroke=\"black\" points=\"3288.27,-193.75 3280.09,-187.02 3282.29,-197.39 3288.27,-193.75\"/>\n</g>\n<!-- 61 -->\n<g id=\"node62\" class=\"node\">\n<title>61</title>\n<path fill=\"#eca36e\" stroke=\"black\" d=\"M3453.5,-187C3453.5,-187 3341.5,-187 3341.5,-187 3335.5,-187 3329.5,-181 3329.5,-175 3329.5,-175 3329.5,-116 3329.5,-116 3329.5,-110 3335.5,-104 3341.5,-104 3341.5,-104 3453.5,-104 3453.5,-104 3459.5,-104 3465.5,-110 3465.5,-116 3465.5,-116 3465.5,-175 3465.5,-175 3465.5,-181 3459.5,-187 3453.5,-187\"/>\n<text text-anchor=\"start\" x=\"3337.5\" y=\"-171.8\" font-family=\"Helvetica,sans-Serif\" font-size=\"14.00\">t2_dragonKills ≤ 3.5</text>\n<text text-anchor=\"start\" x=\"3350\" y=\"-156.8\" font-family=\"Helvetica,sans-Serif\" font-size=\"14.00\">entropy = 0.744</text>\n<text text-anchor=\"start\" x=\"3356.5\" y=\"-141.8\" font-family=\"Helvetica,sans-Serif\" font-size=\"14.00\">samples = 52</text>\n<text text-anchor=\"start\" x=\"3350.5\" y=\"-126.8\" font-family=\"Helvetica,sans-Serif\" font-size=\"14.00\">value = [41, 11]</text>\n<text text-anchor=\"start\" x=\"3370\" y=\"-111.8\" font-family=\"Helvetica,sans-Serif\" font-size=\"14.00\">class = 1</text>\n</g>\n<!-- 57&#45;&gt;61 -->\n<g id=\"edge61\" class=\"edge\">\n<title>57&#45;&gt;61</title>\n<path fill=\"none\" stroke=\"black\" d=\"M3351.13,-222.91C3356.47,-214.1 3362.18,-204.7 3367.7,-195.61\"/>\n<polygon fill=\"black\" stroke=\"black\" points=\"3370.71,-197.39 3372.91,-187.02 3364.73,-193.75 3370.71,-197.39\"/>\n</g>\n<!-- 59 -->\n<g id=\"node60\" class=\"node\">\n<title>59</title>\n<path fill=\"#67b4eb\" stroke=\"black\" d=\"M3178,-68C3178,-68 3091,-68 3091,-68 3085,-68 3079,-62 3079,-56 3079,-56 3079,-12 3079,-12 3079,-6 3085,0 3091,0 3091,0 3178,0 3178,0 3184,0 3190,-6 3190,-12 3190,-12 3190,-56 3190,-56 3190,-62 3184,-68 3178,-68\"/>\n<text text-anchor=\"start\" x=\"3087\" y=\"-52.8\" font-family=\"Helvetica,sans-Serif\" font-size=\"14.00\">entropy = 0.698</text>\n<text text-anchor=\"start\" x=\"3093.5\" y=\"-37.8\" font-family=\"Helvetica,sans-Serif\" font-size=\"14.00\">samples = 69</text>\n<text text-anchor=\"start\" x=\"3087.5\" y=\"-22.8\" font-family=\"Helvetica,sans-Serif\" font-size=\"14.00\">value = [13, 56]</text>\n<text text-anchor=\"start\" x=\"3107\" y=\"-7.8\" font-family=\"Helvetica,sans-Serif\" font-size=\"14.00\">class = 2</text>\n</g>\n<!-- 58&#45;&gt;59 -->\n<g id=\"edge59\" class=\"edge\">\n<title>58&#45;&gt;59</title>\n<path fill=\"none\" stroke=\"black\" d=\"M3210.44,-103.73C3200.16,-94.42 3189.25,-84.54 3178.99,-75.26\"/>\n<polygon fill=\"black\" stroke=\"black\" points=\"3181.06,-72.41 3171.3,-68.3 3176.36,-77.6 3181.06,-72.41\"/>\n</g>\n<!-- 60 -->\n<g id=\"node61\" class=\"node\">\n<title>60</title>\n<path fill=\"#f8dcc8\" stroke=\"black\" d=\"M3307,-68C3307,-68 3220,-68 3220,-68 3214,-68 3208,-62 3208,-56 3208,-56 3208,-12 3208,-12 3208,-6 3214,0 3220,0 3220,0 3307,0 3307,0 3313,0 3319,-6 3319,-12 3319,-12 3319,-56 3319,-56 3319,-62 3313,-68 3307,-68\"/>\n<text text-anchor=\"start\" x=\"3216\" y=\"-52.8\" font-family=\"Helvetica,sans-Serif\" font-size=\"14.00\">entropy = 0.981</text>\n<text text-anchor=\"start\" x=\"3222.5\" y=\"-37.8\" font-family=\"Helvetica,sans-Serif\" font-size=\"14.00\">samples = 43</text>\n<text text-anchor=\"start\" x=\"3216.5\" y=\"-22.8\" font-family=\"Helvetica,sans-Serif\" font-size=\"14.00\">value = [25, 18]</text>\n<text text-anchor=\"start\" x=\"3236\" y=\"-7.8\" font-family=\"Helvetica,sans-Serif\" font-size=\"14.00\">class = 1</text>\n</g>\n<!-- 58&#45;&gt;60 -->\n<g id=\"edge60\" class=\"edge\">\n<title>58&#45;&gt;60</title>\n<path fill=\"none\" stroke=\"black\" d=\"M3258.48,-103.73C3259.09,-95.43 3259.73,-86.67 3260.34,-78.28\"/>\n<polygon fill=\"black\" stroke=\"black\" points=\"3263.83,-78.53 3261.07,-68.3 3256.85,-78.02 3263.83,-78.53\"/>\n</g>\n<!-- 62 -->\n<g id=\"node63\" class=\"node\">\n<title>62</title>\n<path fill=\"#eb9d64\" stroke=\"black\" d=\"M3429.5,-68C3429.5,-68 3349.5,-68 3349.5,-68 3343.5,-68 3337.5,-62 3337.5,-56 3337.5,-56 3337.5,-12 3337.5,-12 3337.5,-6 3343.5,0 3349.5,0 3349.5,0 3429.5,0 3429.5,0 3435.5,0 3441.5,-6 3441.5,-12 3441.5,-12 3441.5,-56 3441.5,-56 3441.5,-62 3435.5,-68 3429.5,-68\"/>\n<text text-anchor=\"start\" x=\"3345.5\" y=\"-52.8\" font-family=\"Helvetica,sans-Serif\" font-size=\"14.00\">entropy = 0.68</text>\n<text text-anchor=\"start\" x=\"3348.5\" y=\"-37.8\" font-family=\"Helvetica,sans-Serif\" font-size=\"14.00\">samples = 50</text>\n<text text-anchor=\"start\" x=\"3346.5\" y=\"-22.8\" font-family=\"Helvetica,sans-Serif\" font-size=\"14.00\">value = [41, 9]</text>\n<text text-anchor=\"start\" x=\"3362\" y=\"-7.8\" font-family=\"Helvetica,sans-Serif\" font-size=\"14.00\">class = 1</text>\n</g>\n<!-- 61&#45;&gt;62 -->\n<g id=\"edge62\" class=\"edge\">\n<title>61&#45;&gt;62</title>\n<path fill=\"none\" stroke=\"black\" d=\"M3394.52,-103.73C3393.91,-95.43 3393.27,-86.67 3392.66,-78.28\"/>\n<polygon fill=\"black\" stroke=\"black\" points=\"3396.15,-78.02 3391.93,-68.3 3389.17,-78.53 3396.15,-78.02\"/>\n</g>\n<!-- 63 -->\n<g id=\"node64\" class=\"node\">\n<title>63</title>\n<path fill=\"#399de5\" stroke=\"black\" d=\"M3543.5,-68C3543.5,-68 3471.5,-68 3471.5,-68 3465.5,-68 3459.5,-62 3459.5,-56 3459.5,-56 3459.5,-12 3459.5,-12 3459.5,-6 3465.5,0 3471.5,0 3471.5,0 3543.5,0 3543.5,0 3549.5,0 3555.5,-6 3555.5,-12 3555.5,-12 3555.5,-56 3555.5,-56 3555.5,-62 3549.5,-68 3543.5,-68\"/>\n<text text-anchor=\"start\" x=\"3467.5\" y=\"-52.8\" font-family=\"Helvetica,sans-Serif\" font-size=\"14.00\">entropy = 0.0</text>\n<text text-anchor=\"start\" x=\"3470\" y=\"-37.8\" font-family=\"Helvetica,sans-Serif\" font-size=\"14.00\">samples = 2</text>\n<text text-anchor=\"start\" x=\"3468\" y=\"-22.8\" font-family=\"Helvetica,sans-Serif\" font-size=\"14.00\">value = [0, 2]</text>\n<text text-anchor=\"start\" x=\"3480\" y=\"-7.8\" font-family=\"Helvetica,sans-Serif\" font-size=\"14.00\">class = 2</text>\n</g>\n<!-- 61&#45;&gt;63 -->\n<g id=\"edge63\" class=\"edge\">\n<title>61&#45;&gt;63</title>\n<path fill=\"none\" stroke=\"black\" d=\"M3438.46,-103.73C3447.71,-94.51 3457.54,-84.74 3466.78,-75.53\"/>\n<polygon fill=\"black\" stroke=\"black\" points=\"3469.43,-77.84 3474.05,-68.3 3464.49,-72.87 3469.43,-77.84\"/>\n</g>\n<!-- 65 -->\n<g id=\"node66\" class=\"node\">\n<title>65</title>\n<path fill=\"#e58139\" stroke=\"black\" d=\"M4020.5,-306C4020.5,-306 3916.5,-306 3916.5,-306 3910.5,-306 3904.5,-300 3904.5,-294 3904.5,-294 3904.5,-235 3904.5,-235 3904.5,-229 3910.5,-223 3916.5,-223 3916.5,-223 4020.5,-223 4020.5,-223 4026.5,-223 4032.5,-229 4032.5,-235 4032.5,-235 4032.5,-294 4032.5,-294 4032.5,-300 4026.5,-306 4020.5,-306\"/>\n<text text-anchor=\"start\" x=\"3912.5\" y=\"-290.8\" font-family=\"Helvetica,sans-Serif\" font-size=\"14.00\">t1_baronKills ≤ 2.5</text>\n<text text-anchor=\"start\" x=\"3921\" y=\"-275.8\" font-family=\"Helvetica,sans-Serif\" font-size=\"14.00\">entropy = 0.005</text>\n<text text-anchor=\"start\" x=\"3916\" y=\"-260.8\" font-family=\"Helvetica,sans-Serif\" font-size=\"14.00\">samples = 14132</text>\n<text text-anchor=\"start\" x=\"3914\" y=\"-245.8\" font-family=\"Helvetica,sans-Serif\" font-size=\"14.00\">value = [14127, 5]</text>\n<text text-anchor=\"start\" x=\"3941\" y=\"-230.8\" font-family=\"Helvetica,sans-Serif\" font-size=\"14.00\">class = 1</text>\n</g>\n<!-- 64&#45;&gt;65 -->\n<g id=\"edge65\" class=\"edge\">\n<title>64&#45;&gt;65</title>\n<path fill=\"none\" stroke=\"black\" d=\"M4065.15,-341.91C4053.1,-332.38 4040.16,-322.15 4027.79,-312.37\"/>\n<polygon fill=\"black\" stroke=\"black\" points=\"4029.77,-309.48 4019.76,-306.02 4025.43,-314.97 4029.77,-309.48\"/>\n</g>\n<!-- 72 -->\n<g id=\"node73\" class=\"node\">\n<title>72</title>\n<path fill=\"#e5823b\" stroke=\"black\" d=\"M4260,-306C4260,-306 4157,-306 4157,-306 4151,-306 4145,-300 4145,-294 4145,-294 4145,-235 4145,-235 4145,-229 4151,-223 4157,-223 4157,-223 4260,-223 4260,-223 4266,-223 4272,-229 4272,-235 4272,-235 4272,-294 4272,-294 4272,-300 4266,-306 4260,-306\"/>\n<text text-anchor=\"start\" x=\"4153\" y=\"-290.8\" font-family=\"Helvetica,sans-Serif\" font-size=\"14.00\">t1_towerKills ≤ 6.5</text>\n<text text-anchor=\"start\" x=\"4161\" y=\"-275.8\" font-family=\"Helvetica,sans-Serif\" font-size=\"14.00\">entropy = 0.065</text>\n<text text-anchor=\"start\" x=\"4160\" y=\"-260.8\" font-family=\"Helvetica,sans-Serif\" font-size=\"14.00\">samples = 1806</text>\n<text text-anchor=\"start\" x=\"4154\" y=\"-245.8\" font-family=\"Helvetica,sans-Serif\" font-size=\"14.00\">value = [1792, 14]</text>\n<text text-anchor=\"start\" x=\"4181\" y=\"-230.8\" font-family=\"Helvetica,sans-Serif\" font-size=\"14.00\">class = 1</text>\n</g>\n<!-- 64&#45;&gt;72 -->\n<g id=\"edge72\" class=\"edge\">\n<title>64&#45;&gt;72</title>\n<path fill=\"none\" stroke=\"black\" d=\"M4148.42,-341.91C4155.48,-332.92 4163.04,-323.32 4170.32,-314.05\"/>\n<polygon fill=\"black\" stroke=\"black\" points=\"4173.21,-316.05 4176.64,-306.02 4167.7,-311.72 4173.21,-316.05\"/>\n</g>\n<!-- 66 -->\n<g id=\"node67\" class=\"node\">\n<title>66</title>\n<path fill=\"#e58139\" stroke=\"black\" d=\"M3819,-187C3819,-187 3716,-187 3716,-187 3710,-187 3704,-181 3704,-175 3704,-175 3704,-116 3704,-116 3704,-110 3710,-104 3716,-104 3716,-104 3819,-104 3819,-104 3825,-104 3831,-110 3831,-116 3831,-116 3831,-175 3831,-175 3831,-181 3825,-187 3819,-187\"/>\n<text text-anchor=\"start\" x=\"3712\" y=\"-171.8\" font-family=\"Helvetica,sans-Serif\" font-size=\"14.00\">t1_towerKills ≤ 9.5</text>\n<text text-anchor=\"start\" x=\"3720\" y=\"-156.8\" font-family=\"Helvetica,sans-Serif\" font-size=\"14.00\">entropy = 0.004</text>\n<text text-anchor=\"start\" x=\"3715\" y=\"-141.8\" font-family=\"Helvetica,sans-Serif\" font-size=\"14.00\">samples = 14083</text>\n<text text-anchor=\"start\" x=\"3713\" y=\"-126.8\" font-family=\"Helvetica,sans-Serif\" font-size=\"14.00\">value = [14079, 4]</text>\n<text text-anchor=\"start\" x=\"3740\" y=\"-111.8\" font-family=\"Helvetica,sans-Serif\" font-size=\"14.00\">class = 1</text>\n</g>\n<!-- 65&#45;&gt;66 -->\n<g id=\"edge66\" class=\"edge\">\n<title>65&#45;&gt;66</title>\n<path fill=\"none\" stroke=\"black\" d=\"M3904.35,-226.16C3883.84,-214.22 3861,-200.93 3839.94,-188.67\"/>\n<polygon fill=\"black\" stroke=\"black\" points=\"3841.44,-185.49 3831.04,-183.49 3837.92,-191.54 3841.44,-185.49\"/>\n</g>\n<!-- 69 -->\n<g id=\"node70\" class=\"node\">\n<title>69</title>\n<path fill=\"#e6843d\" stroke=\"black\" d=\"M4020,-187C4020,-187 3917,-187 3917,-187 3911,-187 3905,-181 3905,-175 3905,-175 3905,-116 3905,-116 3905,-110 3911,-104 3917,-104 3917,-104 4020,-104 4020,-104 4026,-104 4032,-110 4032,-116 4032,-116 4032,-175 4032,-175 4032,-181 4026,-187 4020,-187\"/>\n<text text-anchor=\"start\" x=\"3913\" y=\"-171.8\" font-family=\"Helvetica,sans-Serif\" font-size=\"14.00\">t2_towerKills ≤ 2.5</text>\n<text text-anchor=\"start\" x=\"3921\" y=\"-156.8\" font-family=\"Helvetica,sans-Serif\" font-size=\"14.00\">entropy = 0.144</text>\n<text text-anchor=\"start\" x=\"3927.5\" y=\"-141.8\" font-family=\"Helvetica,sans-Serif\" font-size=\"14.00\">samples = 49</text>\n<text text-anchor=\"start\" x=\"3925.5\" y=\"-126.8\" font-family=\"Helvetica,sans-Serif\" font-size=\"14.00\">value = [48, 1]</text>\n<text text-anchor=\"start\" x=\"3941\" y=\"-111.8\" font-family=\"Helvetica,sans-Serif\" font-size=\"14.00\">class = 1</text>\n</g>\n<!-- 65&#45;&gt;69 -->\n<g id=\"edge69\" class=\"edge\">\n<title>65&#45;&gt;69</title>\n<path fill=\"none\" stroke=\"black\" d=\"M3968.5,-222.91C3968.5,-214.65 3968.5,-205.86 3968.5,-197.3\"/>\n<polygon fill=\"black\" stroke=\"black\" points=\"3972,-197.02 3968.5,-187.02 3965,-197.02 3972,-197.02\"/>\n</g>\n<!-- 67 -->\n<g id=\"node68\" class=\"node\">\n<title>67</title>\n<path fill=\"#e58139\" stroke=\"black\" d=\"M3679,-68C3679,-68 3586,-68 3586,-68 3580,-68 3574,-62 3574,-56 3574,-56 3574,-12 3574,-12 3574,-6 3580,0 3586,0 3586,0 3679,0 3679,0 3685,0 3691,-6 3691,-12 3691,-12 3691,-56 3691,-56 3691,-62 3685,-68 3679,-68\"/>\n<text text-anchor=\"start\" x=\"3585\" y=\"-52.8\" font-family=\"Helvetica,sans-Serif\" font-size=\"14.00\">entropy = 0.007</text>\n<text text-anchor=\"start\" x=\"3584\" y=\"-37.8\" font-family=\"Helvetica,sans-Serif\" font-size=\"14.00\">samples = 6701</text>\n<text text-anchor=\"start\" x=\"3582\" y=\"-22.8\" font-family=\"Helvetica,sans-Serif\" font-size=\"14.00\">value = [6697, 4]</text>\n<text text-anchor=\"start\" x=\"3605\" y=\"-7.8\" font-family=\"Helvetica,sans-Serif\" font-size=\"14.00\">class = 1</text>\n</g>\n<!-- 66&#45;&gt;67 -->\n<g id=\"edge67\" class=\"edge\">\n<title>66&#45;&gt;67</title>\n<path fill=\"none\" stroke=\"black\" d=\"M3717.23,-103.73C3705.54,-94.24 3693.1,-84.16 3681.46,-74.72\"/>\n<polygon fill=\"black\" stroke=\"black\" points=\"3683.53,-71.88 3673.55,-68.3 3679.12,-77.32 3683.53,-71.88\"/>\n</g>\n<!-- 68 -->\n<g id=\"node69\" class=\"node\">\n<title>68</title>\n<path fill=\"#e58139\" stroke=\"black\" d=\"M3814,-68C3814,-68 3721,-68 3721,-68 3715,-68 3709,-62 3709,-56 3709,-56 3709,-12 3709,-12 3709,-6 3715,0 3721,0 3721,0 3814,0 3814,0 3820,0 3826,-6 3826,-12 3826,-12 3826,-56 3826,-56 3826,-62 3820,-68 3814,-68\"/>\n<text text-anchor=\"start\" x=\"3727.5\" y=\"-52.8\" font-family=\"Helvetica,sans-Serif\" font-size=\"14.00\">entropy = 0.0</text>\n<text text-anchor=\"start\" x=\"3719\" y=\"-37.8\" font-family=\"Helvetica,sans-Serif\" font-size=\"14.00\">samples = 7382</text>\n<text text-anchor=\"start\" x=\"3717\" y=\"-22.8\" font-family=\"Helvetica,sans-Serif\" font-size=\"14.00\">value = [7382, 0]</text>\n<text text-anchor=\"start\" x=\"3740\" y=\"-7.8\" font-family=\"Helvetica,sans-Serif\" font-size=\"14.00\">class = 1</text>\n</g>\n<!-- 66&#45;&gt;68 -->\n<g id=\"edge68\" class=\"edge\">\n<title>66&#45;&gt;68</title>\n<path fill=\"none\" stroke=\"black\" d=\"M3767.5,-103.73C3767.5,-95.52 3767.5,-86.86 3767.5,-78.56\"/>\n<polygon fill=\"black\" stroke=\"black\" points=\"3771,-78.3 3767.5,-68.3 3764,-78.3 3771,-78.3\"/>\n</g>\n<!-- 70 -->\n<g id=\"node71\" class=\"node\">\n<title>70</title>\n<path fill=\"#e88f4f\" stroke=\"black\" d=\"M3943,-68C3943,-68 3856,-68 3856,-68 3850,-68 3844,-62 3844,-56 3844,-56 3844,-12 3844,-12 3844,-6 3850,0 3856,0 3856,0 3943,0 3943,0 3949,0 3955,-6 3955,-12 3955,-12 3955,-56 3955,-56 3955,-62 3949,-68 3943,-68\"/>\n<text text-anchor=\"start\" x=\"3852\" y=\"-52.8\" font-family=\"Helvetica,sans-Serif\" font-size=\"14.00\">entropy = 0.469</text>\n<text text-anchor=\"start\" x=\"3858.5\" y=\"-37.8\" font-family=\"Helvetica,sans-Serif\" font-size=\"14.00\">samples = 10</text>\n<text text-anchor=\"start\" x=\"3860\" y=\"-22.8\" font-family=\"Helvetica,sans-Serif\" font-size=\"14.00\">value = [9, 1]</text>\n<text text-anchor=\"start\" x=\"3872\" y=\"-7.8\" font-family=\"Helvetica,sans-Serif\" font-size=\"14.00\">class = 1</text>\n</g>\n<!-- 69&#45;&gt;70 -->\n<g id=\"edge70\" class=\"edge\">\n<title>69&#45;&gt;70</title>\n<path fill=\"none\" stroke=\"black\" d=\"M3942.81,-103.73C3937.29,-94.97 3931.45,-85.7 3925.91,-76.91\"/>\n<polygon fill=\"black\" stroke=\"black\" points=\"3928.78,-74.89 3920.48,-68.3 3922.85,-78.63 3928.78,-74.89\"/>\n</g>\n<!-- 71 -->\n<g id=\"node72\" class=\"node\">\n<title>71</title>\n<path fill=\"#e58139\" stroke=\"black\" d=\"M4063.5,-68C4063.5,-68 3985.5,-68 3985.5,-68 3979.5,-68 3973.5,-62 3973.5,-56 3973.5,-56 3973.5,-12 3973.5,-12 3973.5,-6 3979.5,0 3985.5,0 3985.5,0 4063.5,0 4063.5,0 4069.5,0 4075.5,-6 4075.5,-12 4075.5,-12 4075.5,-56 4075.5,-56 4075.5,-62 4069.5,-68 4063.5,-68\"/>\n<text text-anchor=\"start\" x=\"3984.5\" y=\"-52.8\" font-family=\"Helvetica,sans-Serif\" font-size=\"14.00\">entropy = 0.0</text>\n<text text-anchor=\"start\" x=\"3983.5\" y=\"-37.8\" font-family=\"Helvetica,sans-Serif\" font-size=\"14.00\">samples = 39</text>\n<text text-anchor=\"start\" x=\"3981.5\" y=\"-22.8\" font-family=\"Helvetica,sans-Serif\" font-size=\"14.00\">value = [39, 0]</text>\n<text text-anchor=\"start\" x=\"3997\" y=\"-7.8\" font-family=\"Helvetica,sans-Serif\" font-size=\"14.00\">class = 1</text>\n</g>\n<!-- 69&#45;&gt;71 -->\n<g id=\"edge71\" class=\"edge\">\n<title>69&#45;&gt;71</title>\n<path fill=\"none\" stroke=\"black\" d=\"M3989.35,-103.73C3993.74,-95.15 3998.37,-86.09 4002.79,-77.46\"/>\n<polygon fill=\"black\" stroke=\"black\" points=\"4006.03,-78.8 4007.47,-68.3 3999.8,-75.61 4006.03,-78.8\"/>\n</g>\n<!-- 73 -->\n<g id=\"node74\" class=\"node\">\n<title>73</title>\n<path fill=\"#eca26d\" stroke=\"black\" d=\"M4254.5,-187C4254.5,-187 4162.5,-187 4162.5,-187 4156.5,-187 4150.5,-181 4150.5,-175 4150.5,-175 4150.5,-116 4150.5,-116 4150.5,-110 4156.5,-104 4162.5,-104 4162.5,-104 4254.5,-104 4254.5,-104 4260.5,-104 4266.5,-110 4266.5,-116 4266.5,-116 4266.5,-175 4266.5,-175 4266.5,-181 4260.5,-187 4254.5,-187\"/>\n<text text-anchor=\"start\" x=\"4158.5\" y=\"-171.8\" font-family=\"Helvetica,sans-Serif\" font-size=\"14.00\">firstDragon ≤ 1.5</text>\n<text text-anchor=\"start\" x=\"4164.5\" y=\"-156.8\" font-family=\"Helvetica,sans-Serif\" font-size=\"14.00\">entropy = 0.74</text>\n<text text-anchor=\"start\" x=\"4167.5\" y=\"-141.8\" font-family=\"Helvetica,sans-Serif\" font-size=\"14.00\">samples = 43</text>\n<text text-anchor=\"start\" x=\"4165.5\" y=\"-126.8\" font-family=\"Helvetica,sans-Serif\" font-size=\"14.00\">value = [34, 9]</text>\n<text text-anchor=\"start\" x=\"4181\" y=\"-111.8\" font-family=\"Helvetica,sans-Serif\" font-size=\"14.00\">class = 1</text>\n</g>\n<!-- 72&#45;&gt;73 -->\n<g id=\"edge73\" class=\"edge\">\n<title>72&#45;&gt;73</title>\n<path fill=\"none\" stroke=\"black\" d=\"M4208.5,-222.91C4208.5,-214.65 4208.5,-205.86 4208.5,-197.3\"/>\n<polygon fill=\"black\" stroke=\"black\" points=\"4212,-197.02 4208.5,-187.02 4205,-197.02 4212,-197.02\"/>\n</g>\n<!-- 76 -->\n<g id=\"node77\" class=\"node\">\n<title>76</title>\n<path fill=\"#e5813a\" stroke=\"black\" d=\"M4459,-187C4459,-187 4356,-187 4356,-187 4350,-187 4344,-181 4344,-175 4344,-175 4344,-116 4344,-116 4344,-110 4350,-104 4356,-104 4356,-104 4459,-104 4459,-104 4465,-104 4471,-110 4471,-116 4471,-116 4471,-175 4471,-175 4471,-181 4465,-187 4459,-187\"/>\n<text text-anchor=\"start\" x=\"4352\" y=\"-171.8\" font-family=\"Helvetica,sans-Serif\" font-size=\"14.00\">t1_towerKills ≤ 7.5</text>\n<text text-anchor=\"start\" x=\"4360\" y=\"-156.8\" font-family=\"Helvetica,sans-Serif\" font-size=\"14.00\">entropy = 0.028</text>\n<text text-anchor=\"start\" x=\"4359\" y=\"-141.8\" font-family=\"Helvetica,sans-Serif\" font-size=\"14.00\">samples = 1763</text>\n<text text-anchor=\"start\" x=\"4357\" y=\"-126.8\" font-family=\"Helvetica,sans-Serif\" font-size=\"14.00\">value = [1758, 5]</text>\n<text text-anchor=\"start\" x=\"4380\" y=\"-111.8\" font-family=\"Helvetica,sans-Serif\" font-size=\"14.00\">class = 1</text>\n</g>\n<!-- 72&#45;&gt;76 -->\n<g id=\"edge76\" class=\"edge\">\n<title>72&#45;&gt;76</title>\n<path fill=\"none\" stroke=\"black\" d=\"M4272.01,-226.16C4292.12,-214.34 4314.49,-201.19 4335.16,-189.03\"/>\n<polygon fill=\"black\" stroke=\"black\" points=\"4337.06,-191.97 4343.91,-183.89 4333.51,-185.94 4337.06,-191.97\"/>\n</g>\n<!-- 74 -->\n<g id=\"node75\" class=\"node\">\n<title>74</title>\n<path fill=\"#f3c4a3\" stroke=\"black\" d=\"M4193,-68C4193,-68 4106,-68 4106,-68 4100,-68 4094,-62 4094,-56 4094,-56 4094,-12 4094,-12 4094,-6 4100,0 4106,0 4106,0 4193,0 4193,0 4199,0 4205,-6 4205,-12 4205,-12 4205,-56 4205,-56 4205,-62 4199,-68 4193,-68\"/>\n<text text-anchor=\"start\" x=\"4102\" y=\"-52.8\" font-family=\"Helvetica,sans-Serif\" font-size=\"14.00\">entropy = 0.932</text>\n<text text-anchor=\"start\" x=\"4108.5\" y=\"-37.8\" font-family=\"Helvetica,sans-Serif\" font-size=\"14.00\">samples = 23</text>\n<text text-anchor=\"start\" x=\"4106.5\" y=\"-22.8\" font-family=\"Helvetica,sans-Serif\" font-size=\"14.00\">value = [15, 8]</text>\n<text text-anchor=\"start\" x=\"4122\" y=\"-7.8\" font-family=\"Helvetica,sans-Serif\" font-size=\"14.00\">class = 1</text>\n</g>\n<!-- 73&#45;&gt;74 -->\n<g id=\"edge74\" class=\"edge\">\n<title>73&#45;&gt;74</title>\n<path fill=\"none\" stroke=\"black\" d=\"M4186.53,-103.73C4181.86,-95.06 4176.92,-85.9 4172.23,-77.18\"/>\n<polygon fill=\"black\" stroke=\"black\" points=\"4175.27,-75.44 4167.44,-68.3 4169.1,-78.76 4175.27,-75.44\"/>\n</g>\n<!-- 75 -->\n<g id=\"node76\" class=\"node\">\n<title>75</title>\n<path fill=\"#e68843\" stroke=\"black\" d=\"M4322,-68C4322,-68 4235,-68 4235,-68 4229,-68 4223,-62 4223,-56 4223,-56 4223,-12 4223,-12 4223,-6 4229,0 4235,0 4235,0 4322,0 4322,0 4328,0 4334,-6 4334,-12 4334,-12 4334,-56 4334,-56 4334,-62 4328,-68 4322,-68\"/>\n<text text-anchor=\"start\" x=\"4231\" y=\"-52.8\" font-family=\"Helvetica,sans-Serif\" font-size=\"14.00\">entropy = 0.286</text>\n<text text-anchor=\"start\" x=\"4237.5\" y=\"-37.8\" font-family=\"Helvetica,sans-Serif\" font-size=\"14.00\">samples = 20</text>\n<text text-anchor=\"start\" x=\"4235.5\" y=\"-22.8\" font-family=\"Helvetica,sans-Serif\" font-size=\"14.00\">value = [19, 1]</text>\n<text text-anchor=\"start\" x=\"4251\" y=\"-7.8\" font-family=\"Helvetica,sans-Serif\" font-size=\"14.00\">class = 1</text>\n</g>\n<!-- 73&#45;&gt;75 -->\n<g id=\"edge75\" class=\"edge\">\n<title>73&#45;&gt;75</title>\n<path fill=\"none\" stroke=\"black\" d=\"M4234.57,-103.73C4240.16,-94.97 4246.09,-85.7 4251.71,-76.91\"/>\n<polygon fill=\"black\" stroke=\"black\" points=\"4254.78,-78.61 4257.21,-68.3 4248.88,-74.84 4254.78,-78.61\"/>\n</g>\n<!-- 77 -->\n<g id=\"node78\" class=\"node\">\n<title>77</title>\n<path fill=\"#e6833d\" stroke=\"black\" d=\"M4451,-68C4451,-68 4364,-68 4364,-68 4358,-68 4352,-62 4352,-56 4352,-56 4352,-12 4352,-12 4352,-6 4358,0 4364,0 4364,0 4451,0 4451,0 4457,0 4463,-6 4463,-12 4463,-12 4463,-56 4463,-56 4463,-62 4457,-68 4451,-68\"/>\n<text text-anchor=\"start\" x=\"4360\" y=\"-52.8\" font-family=\"Helvetica,sans-Serif\" font-size=\"14.00\">entropy = 0.138</text>\n<text text-anchor=\"start\" x=\"4362.5\" y=\"-37.8\" font-family=\"Helvetica,sans-Serif\" font-size=\"14.00\">samples = 155</text>\n<text text-anchor=\"start\" x=\"4360.5\" y=\"-22.8\" font-family=\"Helvetica,sans-Serif\" font-size=\"14.00\">value = [152, 3]</text>\n<text text-anchor=\"start\" x=\"4380\" y=\"-7.8\" font-family=\"Helvetica,sans-Serif\" font-size=\"14.00\">class = 1</text>\n</g>\n<!-- 76&#45;&gt;77 -->\n<g id=\"edge77\" class=\"edge\">\n<title>76&#45;&gt;77</title>\n<path fill=\"none\" stroke=\"black\" d=\"M4407.5,-103.73C4407.5,-95.52 4407.5,-86.86 4407.5,-78.56\"/>\n<polygon fill=\"black\" stroke=\"black\" points=\"4411,-78.3 4407.5,-68.3 4404,-78.3 4411,-78.3\"/>\n</g>\n<!-- 78 -->\n<g id=\"node79\" class=\"node\">\n<title>78</title>\n<path fill=\"#e58139\" stroke=\"black\" d=\"M4586,-68C4586,-68 4493,-68 4493,-68 4487,-68 4481,-62 4481,-56 4481,-56 4481,-12 4481,-12 4481,-6 4487,0 4493,0 4493,0 4586,0 4586,0 4592,0 4598,-6 4598,-12 4598,-12 4598,-56 4598,-56 4598,-62 4592,-68 4586,-68\"/>\n<text text-anchor=\"start\" x=\"4492\" y=\"-52.8\" font-family=\"Helvetica,sans-Serif\" font-size=\"14.00\">entropy = 0.014</text>\n<text text-anchor=\"start\" x=\"4491\" y=\"-37.8\" font-family=\"Helvetica,sans-Serif\" font-size=\"14.00\">samples = 1608</text>\n<text text-anchor=\"start\" x=\"4489\" y=\"-22.8\" font-family=\"Helvetica,sans-Serif\" font-size=\"14.00\">value = [1606, 2]</text>\n<text text-anchor=\"start\" x=\"4512\" y=\"-7.8\" font-family=\"Helvetica,sans-Serif\" font-size=\"14.00\">class = 1</text>\n</g>\n<!-- 76&#45;&gt;78 -->\n<g id=\"edge78\" class=\"edge\">\n<title>76&#45;&gt;78</title>\n<path fill=\"none\" stroke=\"black\" d=\"M4456.65,-103.73C4468.09,-94.24 4480.24,-84.16 4491.62,-74.72\"/>\n<polygon fill=\"black\" stroke=\"black\" points=\"4493.9,-77.38 4499.36,-68.3 4489.43,-71.99 4493.9,-77.38\"/>\n</g>\n<!-- 80 -->\n<g id=\"node81\" class=\"node\">\n<title>80</title>\n<path fill=\"#3fa0e6\" stroke=\"black\" d=\"M4908.5,-425C4908.5,-425 4804.5,-425 4804.5,-425 4798.5,-425 4792.5,-419 4792.5,-413 4792.5,-413 4792.5,-354 4792.5,-354 4792.5,-348 4798.5,-342 4804.5,-342 4804.5,-342 4908.5,-342 4908.5,-342 4914.5,-342 4920.5,-348 4920.5,-354 4920.5,-354 4920.5,-413 4920.5,-413 4920.5,-419 4914.5,-425 4908.5,-425\"/>\n<text text-anchor=\"start\" x=\"4800.5\" y=\"-409.8\" font-family=\"Helvetica,sans-Serif\" font-size=\"14.00\">t1_baronKills ≤ 0.5</text>\n<text text-anchor=\"start\" x=\"4809\" y=\"-394.8\" font-family=\"Helvetica,sans-Serif\" font-size=\"14.00\">entropy = 0.196</text>\n<text text-anchor=\"start\" x=\"4811.5\" y=\"-379.8\" font-family=\"Helvetica,sans-Serif\" font-size=\"14.00\">samples = 165</text>\n<text text-anchor=\"start\" x=\"4809.5\" y=\"-364.8\" font-family=\"Helvetica,sans-Serif\" font-size=\"14.00\">value = [5, 160]</text>\n<text text-anchor=\"start\" x=\"4829\" y=\"-349.8\" font-family=\"Helvetica,sans-Serif\" font-size=\"14.00\">class = 2</text>\n</g>\n<!-- 79&#45;&gt;80 -->\n<g id=\"edge80\" class=\"edge\">\n<title>79&#45;&gt;80</title>\n<path fill=\"none\" stroke=\"black\" d=\"M4856.5,-460.91C4856.5,-452.65 4856.5,-443.86 4856.5,-435.3\"/>\n<polygon fill=\"black\" stroke=\"black\" points=\"4860,-435.02 4856.5,-425.02 4853,-435.02 4860,-435.02\"/>\n</g>\n<!-- 91 -->\n<g id=\"node92\" class=\"node\">\n<title>91</title>\n<path fill=\"#e88f4f\" stroke=\"black\" d=\"M5415.5,-425C5415.5,-425 5319.5,-425 5319.5,-425 5313.5,-425 5307.5,-419 5307.5,-413 5307.5,-413 5307.5,-354 5307.5,-354 5307.5,-348 5313.5,-342 5319.5,-342 5319.5,-342 5415.5,-342 5415.5,-342 5421.5,-342 5427.5,-348 5427.5,-354 5427.5,-354 5427.5,-413 5427.5,-413 5427.5,-419 5421.5,-425 5415.5,-425\"/>\n<text text-anchor=\"start\" x=\"5315.5\" y=\"-409.8\" font-family=\"Helvetica,sans-Serif\" font-size=\"14.00\">firstInhibitor ≤ 1.5</text>\n<text text-anchor=\"start\" x=\"5320\" y=\"-394.8\" font-family=\"Helvetica,sans-Serif\" font-size=\"14.00\">entropy = 0.468</text>\n<text text-anchor=\"start\" x=\"5322.5\" y=\"-379.8\" font-family=\"Helvetica,sans-Serif\" font-size=\"14.00\">samples = 893</text>\n<text text-anchor=\"start\" x=\"5317\" y=\"-364.8\" font-family=\"Helvetica,sans-Serif\" font-size=\"14.00\">value = [804, 89]</text>\n<text text-anchor=\"start\" x=\"5340\" y=\"-349.8\" font-family=\"Helvetica,sans-Serif\" font-size=\"14.00\">class = 1</text>\n</g>\n<!-- 79&#45;&gt;91 -->\n<g id=\"edge91\" class=\"edge\">\n<title>79&#45;&gt;91</title>\n<path fill=\"none\" stroke=\"black\" d=\"M4927.02,-485.35C5024.69,-462.99 5200.1,-422.83 5297.5,-400.53\"/>\n<polygon fill=\"black\" stroke=\"black\" points=\"5298.29,-403.94 5307.25,-398.29 5296.73,-397.11 5298.29,-403.94\"/>\n</g>\n<!-- 81 -->\n<g id=\"node82\" class=\"node\">\n<title>81</title>\n<path fill=\"#3a9ee5\" stroke=\"black\" d=\"M4836.5,-306C4836.5,-306 4728.5,-306 4728.5,-306 4722.5,-306 4716.5,-300 4716.5,-294 4716.5,-294 4716.5,-235 4716.5,-235 4716.5,-229 4722.5,-223 4728.5,-223 4728.5,-223 4836.5,-223 4836.5,-223 4842.5,-223 4848.5,-229 4848.5,-235 4848.5,-235 4848.5,-294 4848.5,-294 4848.5,-300 4842.5,-306 4836.5,-306\"/>\n<text text-anchor=\"start\" x=\"4724.5\" y=\"-290.8\" font-family=\"Helvetica,sans-Serif\" font-size=\"14.00\">firstRiftHerald ≤ 1.5</text>\n<text text-anchor=\"start\" x=\"4735\" y=\"-275.8\" font-family=\"Helvetica,sans-Serif\" font-size=\"14.00\">entropy = 0.062</text>\n<text text-anchor=\"start\" x=\"4737.5\" y=\"-260.8\" font-family=\"Helvetica,sans-Serif\" font-size=\"14.00\">samples = 138</text>\n<text text-anchor=\"start\" x=\"4735.5\" y=\"-245.8\" font-family=\"Helvetica,sans-Serif\" font-size=\"14.00\">value = [1, 137]</text>\n<text text-anchor=\"start\" x=\"4755\" y=\"-230.8\" font-family=\"Helvetica,sans-Serif\" font-size=\"14.00\">class = 2</text>\n</g>\n<!-- 80&#45;&gt;81 -->\n<g id=\"edge81\" class=\"edge\">\n<title>80&#45;&gt;81</title>\n<path fill=\"none\" stroke=\"black\" d=\"M4830.83,-341.91C4825.26,-333.1 4819.31,-323.7 4813.56,-314.61\"/>\n<polygon fill=\"black\" stroke=\"black\" points=\"4816.43,-312.6 4808.13,-306.02 4810.52,-316.34 4816.43,-312.6\"/>\n</g>\n<!-- 86 -->\n<g id=\"node87\" class=\"node\">\n<title>86</title>\n<path fill=\"#5baeea\" stroke=\"black\" d=\"M4982.5,-306C4982.5,-306 4878.5,-306 4878.5,-306 4872.5,-306 4866.5,-300 4866.5,-294 4866.5,-294 4866.5,-235 4866.5,-235 4866.5,-229 4872.5,-223 4878.5,-223 4878.5,-223 4982.5,-223 4982.5,-223 4988.5,-223 4994.5,-229 4994.5,-235 4994.5,-235 4994.5,-294 4994.5,-294 4994.5,-300 4988.5,-306 4982.5,-306\"/>\n<text text-anchor=\"start\" x=\"4874.5\" y=\"-290.8\" font-family=\"Helvetica,sans-Serif\" font-size=\"14.00\">t2_baronKills ≤ 0.5</text>\n<text text-anchor=\"start\" x=\"4883\" y=\"-275.8\" font-family=\"Helvetica,sans-Serif\" font-size=\"14.00\">entropy = 0.605</text>\n<text text-anchor=\"start\" x=\"4889.5\" y=\"-260.8\" font-family=\"Helvetica,sans-Serif\" font-size=\"14.00\">samples = 27</text>\n<text text-anchor=\"start\" x=\"4887.5\" y=\"-245.8\" font-family=\"Helvetica,sans-Serif\" font-size=\"14.00\">value = [4, 23]</text>\n<text text-anchor=\"start\" x=\"4903\" y=\"-230.8\" font-family=\"Helvetica,sans-Serif\" font-size=\"14.00\">class = 2</text>\n</g>\n<!-- 80&#45;&gt;86 -->\n<g id=\"edge86\" class=\"edge\">\n<title>80&#45;&gt;86</title>\n<path fill=\"none\" stroke=\"black\" d=\"M4882.17,-341.91C4887.74,-333.1 4893.69,-323.7 4899.44,-314.61\"/>\n<polygon fill=\"black\" stroke=\"black\" points=\"4902.48,-316.34 4904.87,-306.02 4896.57,-312.6 4902.48,-316.34\"/>\n</g>\n<!-- 82 -->\n<g id=\"node83\" class=\"node\">\n<title>82</title>\n<path fill=\"#399de5\" stroke=\"black\" d=\"M4685.5,-179.5C4685.5,-179.5 4599.5,-179.5 4599.5,-179.5 4593.5,-179.5 4587.5,-173.5 4587.5,-167.5 4587.5,-167.5 4587.5,-123.5 4587.5,-123.5 4587.5,-117.5 4593.5,-111.5 4599.5,-111.5 4599.5,-111.5 4685.5,-111.5 4685.5,-111.5 4691.5,-111.5 4697.5,-117.5 4697.5,-123.5 4697.5,-123.5 4697.5,-167.5 4697.5,-167.5 4697.5,-173.5 4691.5,-179.5 4685.5,-179.5\"/>\n<text text-anchor=\"start\" x=\"4602.5\" y=\"-164.3\" font-family=\"Helvetica,sans-Serif\" font-size=\"14.00\">entropy = 0.0</text>\n<text text-anchor=\"start\" x=\"4597.5\" y=\"-149.3\" font-family=\"Helvetica,sans-Serif\" font-size=\"14.00\">samples = 114</text>\n<text text-anchor=\"start\" x=\"4595.5\" y=\"-134.3\" font-family=\"Helvetica,sans-Serif\" font-size=\"14.00\">value = [0, 114]</text>\n<text text-anchor=\"start\" x=\"4615\" y=\"-119.3\" font-family=\"Helvetica,sans-Serif\" font-size=\"14.00\">class = 2</text>\n</g>\n<!-- 81&#45;&gt;82 -->\n<g id=\"edge82\" class=\"edge\">\n<title>81&#45;&gt;82</title>\n<path fill=\"none\" stroke=\"black\" d=\"M4733.93,-222.91C4719.67,-210.99 4704.09,-197.98 4689.91,-186.12\"/>\n<polygon fill=\"black\" stroke=\"black\" points=\"4692.1,-183.39 4682.19,-179.67 4687.62,-188.77 4692.1,-183.39\"/>\n</g>\n<!-- 83 -->\n<g id=\"node84\" class=\"node\">\n<title>83</title>\n<path fill=\"#42a1e6\" stroke=\"black\" d=\"M4839.5,-187C4839.5,-187 4727.5,-187 4727.5,-187 4721.5,-187 4715.5,-181 4715.5,-175 4715.5,-175 4715.5,-116 4715.5,-116 4715.5,-110 4721.5,-104 4727.5,-104 4727.5,-104 4839.5,-104 4839.5,-104 4845.5,-104 4851.5,-110 4851.5,-116 4851.5,-116 4851.5,-175 4851.5,-175 4851.5,-181 4845.5,-187 4839.5,-187\"/>\n<text text-anchor=\"start\" x=\"4723.5\" y=\"-171.8\" font-family=\"Helvetica,sans-Serif\" font-size=\"14.00\">t2_dragonKills ≤ 2.5</text>\n<text text-anchor=\"start\" x=\"4739.5\" y=\"-156.8\" font-family=\"Helvetica,sans-Serif\" font-size=\"14.00\">entropy = 0.25</text>\n<text text-anchor=\"start\" x=\"4742.5\" y=\"-141.8\" font-family=\"Helvetica,sans-Serif\" font-size=\"14.00\">samples = 24</text>\n<text text-anchor=\"start\" x=\"4740.5\" y=\"-126.8\" font-family=\"Helvetica,sans-Serif\" font-size=\"14.00\">value = [1, 23]</text>\n<text text-anchor=\"start\" x=\"4756\" y=\"-111.8\" font-family=\"Helvetica,sans-Serif\" font-size=\"14.00\">class = 2</text>\n</g>\n<!-- 81&#45;&gt;83 -->\n<g id=\"edge83\" class=\"edge\">\n<title>81&#45;&gt;83</title>\n<path fill=\"none\" stroke=\"black\" d=\"M4782.85,-222.91C4782.92,-214.65 4782.99,-205.86 4783.07,-197.3\"/>\n<polygon fill=\"black\" stroke=\"black\" points=\"4786.57,-197.05 4783.15,-187.02 4779.57,-196.99 4786.57,-197.05\"/>\n</g>\n<!-- 84 -->\n<g id=\"node85\" class=\"node\">\n<title>84</title>\n<path fill=\"#399de5\" stroke=\"black\" d=\"M4706.5,-68C4706.5,-68 4628.5,-68 4628.5,-68 4622.5,-68 4616.5,-62 4616.5,-56 4616.5,-56 4616.5,-12 4616.5,-12 4616.5,-6 4622.5,0 4628.5,0 4628.5,0 4706.5,0 4706.5,0 4712.5,0 4718.5,-6 4718.5,-12 4718.5,-12 4718.5,-56 4718.5,-56 4718.5,-62 4712.5,-68 4706.5,-68\"/>\n<text text-anchor=\"start\" x=\"4627.5\" y=\"-52.8\" font-family=\"Helvetica,sans-Serif\" font-size=\"14.00\">entropy = 0.0</text>\n<text text-anchor=\"start\" x=\"4626.5\" y=\"-37.8\" font-family=\"Helvetica,sans-Serif\" font-size=\"14.00\">samples = 17</text>\n<text text-anchor=\"start\" x=\"4624.5\" y=\"-22.8\" font-family=\"Helvetica,sans-Serif\" font-size=\"14.00\">value = [0, 17]</text>\n<text text-anchor=\"start\" x=\"4640\" y=\"-7.8\" font-family=\"Helvetica,sans-Serif\" font-size=\"14.00\">class = 2</text>\n</g>\n<!-- 83&#45;&gt;84 -->\n<g id=\"edge84\" class=\"edge\">\n<title>83&#45;&gt;84</title>\n<path fill=\"none\" stroke=\"black\" d=\"M4740.31,-103.73C4730.45,-94.42 4719.98,-84.54 4710.15,-75.26\"/>\n<polygon fill=\"black\" stroke=\"black\" points=\"4712.45,-72.62 4702.78,-68.3 4707.65,-77.71 4712.45,-72.62\"/>\n</g>\n<!-- 85 -->\n<g id=\"node86\" class=\"node\">\n<title>85</title>\n<path fill=\"#5aade9\" stroke=\"black\" d=\"M4836,-68C4836,-68 4749,-68 4749,-68 4743,-68 4737,-62 4737,-56 4737,-56 4737,-12 4737,-12 4737,-6 4743,0 4749,0 4749,0 4836,0 4836,0 4842,0 4848,-6 4848,-12 4848,-12 4848,-56 4848,-56 4848,-62 4842,-68 4836,-68\"/>\n<text text-anchor=\"start\" x=\"4745\" y=\"-52.8\" font-family=\"Helvetica,sans-Serif\" font-size=\"14.00\">entropy = 0.592</text>\n<text text-anchor=\"start\" x=\"4755\" y=\"-37.8\" font-family=\"Helvetica,sans-Serif\" font-size=\"14.00\">samples = 7</text>\n<text text-anchor=\"start\" x=\"4753\" y=\"-22.8\" font-family=\"Helvetica,sans-Serif\" font-size=\"14.00\">value = [1, 6]</text>\n<text text-anchor=\"start\" x=\"4765\" y=\"-7.8\" font-family=\"Helvetica,sans-Serif\" font-size=\"14.00\">class = 2</text>\n</g>\n<!-- 83&#45;&gt;85 -->\n<g id=\"edge85\" class=\"edge\">\n<title>83&#45;&gt;85</title>\n<path fill=\"none\" stroke=\"black\" d=\"M4786.85,-103.73C4787.53,-95.43 4788.25,-86.67 4788.94,-78.28\"/>\n<polygon fill=\"black\" stroke=\"black\" points=\"4792.43,-78.55 4789.76,-68.3 4785.46,-77.98 4792.43,-78.55\"/>\n</g>\n<!-- 87 -->\n<g id=\"node88\" class=\"node\">\n<title>87</title>\n<path fill=\"#88c4ef\" stroke=\"black\" d=\"M4975.5,-187C4975.5,-187 4883.5,-187 4883.5,-187 4877.5,-187 4871.5,-181 4871.5,-175 4871.5,-175 4871.5,-116 4871.5,-116 4871.5,-110 4877.5,-104 4883.5,-104 4883.5,-104 4975.5,-104 4975.5,-104 4981.5,-104 4987.5,-110 4987.5,-116 4987.5,-116 4987.5,-175 4987.5,-175 4987.5,-181 4981.5,-187 4975.5,-187\"/>\n<text text-anchor=\"start\" x=\"4879.5\" y=\"-171.8\" font-family=\"Helvetica,sans-Serif\" font-size=\"14.00\">firstDragon ≤ 1.5</text>\n<text text-anchor=\"start\" x=\"4882\" y=\"-156.8\" font-family=\"Helvetica,sans-Serif\" font-size=\"14.00\">entropy = 0.863</text>\n<text text-anchor=\"start\" x=\"4888.5\" y=\"-141.8\" font-family=\"Helvetica,sans-Serif\" font-size=\"14.00\">samples = 14</text>\n<text text-anchor=\"start\" x=\"4886.5\" y=\"-126.8\" font-family=\"Helvetica,sans-Serif\" font-size=\"14.00\">value = [4, 10]</text>\n<text text-anchor=\"start\" x=\"4902\" y=\"-111.8\" font-family=\"Helvetica,sans-Serif\" font-size=\"14.00\">class = 2</text>\n</g>\n<!-- 86&#45;&gt;87 -->\n<g id=\"edge87\" class=\"edge\">\n<title>86&#45;&gt;87</title>\n<path fill=\"none\" stroke=\"black\" d=\"M4930.15,-222.91C4930.08,-214.65 4930.01,-205.86 4929.93,-197.3\"/>\n<polygon fill=\"black\" stroke=\"black\" points=\"4933.43,-196.99 4929.85,-187.02 4926.43,-197.05 4933.43,-196.99\"/>\n</g>\n<!-- 90 -->\n<g id=\"node91\" class=\"node\">\n<title>90</title>\n<path fill=\"#399de5\" stroke=\"black\" d=\"M5095.5,-179.5C5095.5,-179.5 5017.5,-179.5 5017.5,-179.5 5011.5,-179.5 5005.5,-173.5 5005.5,-167.5 5005.5,-167.5 5005.5,-123.5 5005.5,-123.5 5005.5,-117.5 5011.5,-111.5 5017.5,-111.5 5017.5,-111.5 5095.5,-111.5 5095.5,-111.5 5101.5,-111.5 5107.5,-117.5 5107.5,-123.5 5107.5,-123.5 5107.5,-167.5 5107.5,-167.5 5107.5,-173.5 5101.5,-179.5 5095.5,-179.5\"/>\n<text text-anchor=\"start\" x=\"5016.5\" y=\"-164.3\" font-family=\"Helvetica,sans-Serif\" font-size=\"14.00\">entropy = 0.0</text>\n<text text-anchor=\"start\" x=\"5015.5\" y=\"-149.3\" font-family=\"Helvetica,sans-Serif\" font-size=\"14.00\">samples = 13</text>\n<text text-anchor=\"start\" x=\"5013.5\" y=\"-134.3\" font-family=\"Helvetica,sans-Serif\" font-size=\"14.00\">value = [0, 13]</text>\n<text text-anchor=\"start\" x=\"5029\" y=\"-119.3\" font-family=\"Helvetica,sans-Serif\" font-size=\"14.00\">class = 2</text>\n</g>\n<!-- 86&#45;&gt;90 -->\n<g id=\"edge90\" class=\"edge\">\n<title>86&#45;&gt;90</title>\n<path fill=\"none\" stroke=\"black\" d=\"M4974.22,-222.91C4986.81,-211.21 5000.55,-198.46 5013.12,-186.78\"/>\n<polygon fill=\"black\" stroke=\"black\" points=\"5015.84,-189.04 5020.78,-179.67 5011.07,-183.91 5015.84,-189.04\"/>\n</g>\n<!-- 88 -->\n<g id=\"node89\" class=\"node\">\n<title>88</title>\n<path fill=\"#f6d5bd\" stroke=\"black\" d=\"M4965,-68C4965,-68 4878,-68 4878,-68 4872,-68 4866,-62 4866,-56 4866,-56 4866,-12 4866,-12 4866,-6 4872,0 4878,0 4878,0 4965,0 4965,0 4971,0 4977,-6 4977,-12 4977,-12 4977,-56 4977,-56 4977,-62 4971,-68 4965,-68\"/>\n<text text-anchor=\"start\" x=\"4874\" y=\"-52.8\" font-family=\"Helvetica,sans-Serif\" font-size=\"14.00\">entropy = 0.971</text>\n<text text-anchor=\"start\" x=\"4884\" y=\"-37.8\" font-family=\"Helvetica,sans-Serif\" font-size=\"14.00\">samples = 5</text>\n<text text-anchor=\"start\" x=\"4882\" y=\"-22.8\" font-family=\"Helvetica,sans-Serif\" font-size=\"14.00\">value = [3, 2]</text>\n<text text-anchor=\"start\" x=\"4894\" y=\"-7.8\" font-family=\"Helvetica,sans-Serif\" font-size=\"14.00\">class = 1</text>\n</g>\n<!-- 87&#45;&gt;88 -->\n<g id=\"edge88\" class=\"edge\">\n<title>87&#45;&gt;88</title>\n<path fill=\"none\" stroke=\"black\" d=\"M4926.52,-103.73C4925.91,-95.43 4925.27,-86.67 4924.66,-78.28\"/>\n<polygon fill=\"black\" stroke=\"black\" points=\"4928.15,-78.02 4923.93,-68.3 4921.17,-78.53 4928.15,-78.02\"/>\n</g>\n<!-- 89 -->\n<g id=\"node90\" class=\"node\">\n<title>89</title>\n<path fill=\"#52a9e8\" stroke=\"black\" d=\"M5094,-68C5094,-68 5007,-68 5007,-68 5001,-68 4995,-62 4995,-56 4995,-56 4995,-12 4995,-12 4995,-6 5001,0 5007,0 5007,0 5094,0 5094,0 5100,0 5106,-6 5106,-12 5106,-12 5106,-56 5106,-56 5106,-62 5100,-68 5094,-68\"/>\n<text text-anchor=\"start\" x=\"5003\" y=\"-52.8\" font-family=\"Helvetica,sans-Serif\" font-size=\"14.00\">entropy = 0.503</text>\n<text text-anchor=\"start\" x=\"5013\" y=\"-37.8\" font-family=\"Helvetica,sans-Serif\" font-size=\"14.00\">samples = 9</text>\n<text text-anchor=\"start\" x=\"5011\" y=\"-22.8\" font-family=\"Helvetica,sans-Serif\" font-size=\"14.00\">value = [1, 8]</text>\n<text text-anchor=\"start\" x=\"5023\" y=\"-7.8\" font-family=\"Helvetica,sans-Serif\" font-size=\"14.00\">class = 2</text>\n</g>\n<!-- 87&#45;&gt;89 -->\n<g id=\"edge89\" class=\"edge\">\n<title>87&#45;&gt;89</title>\n<path fill=\"none\" stroke=\"black\" d=\"M4974.56,-103.73C4984.84,-94.42 4995.75,-84.54 5006.01,-75.26\"/>\n<polygon fill=\"black\" stroke=\"black\" points=\"5008.64,-77.6 5013.7,-68.3 5003.94,-72.41 5008.64,-77.6\"/>\n</g>\n<!-- 92 -->\n<g id=\"node93\" class=\"node\">\n<title>92</title>\n<path fill=\"#eda774\" stroke=\"black\" d=\"M5419,-306C5419,-306 5316,-306 5316,-306 5310,-306 5304,-300 5304,-294 5304,-294 5304,-235 5304,-235 5304,-229 5310,-223 5316,-223 5316,-223 5419,-223 5419,-223 5425,-223 5431,-229 5431,-235 5431,-235 5431,-294 5431,-294 5431,-300 5425,-306 5419,-306\"/>\n<text text-anchor=\"start\" x=\"5312\" y=\"-290.8\" font-family=\"Helvetica,sans-Serif\" font-size=\"14.00\">t1_towerKills ≤ 7.5</text>\n<text text-anchor=\"start\" x=\"5320\" y=\"-275.8\" font-family=\"Helvetica,sans-Serif\" font-size=\"14.00\">entropy = 0.778</text>\n<text text-anchor=\"start\" x=\"5322.5\" y=\"-260.8\" font-family=\"Helvetica,sans-Serif\" font-size=\"14.00\">samples = 365</text>\n<text text-anchor=\"start\" x=\"5317\" y=\"-245.8\" font-family=\"Helvetica,sans-Serif\" font-size=\"14.00\">value = [281, 84]</text>\n<text text-anchor=\"start\" x=\"5340\" y=\"-230.8\" font-family=\"Helvetica,sans-Serif\" font-size=\"14.00\">class = 1</text>\n</g>\n<!-- 91&#45;&gt;92 -->\n<g id=\"edge92\" class=\"edge\">\n<title>91&#45;&gt;92</title>\n<path fill=\"none\" stroke=\"black\" d=\"M5367.5,-341.91C5367.5,-333.65 5367.5,-324.86 5367.5,-316.3\"/>\n<polygon fill=\"black\" stroke=\"black\" points=\"5371,-316.02 5367.5,-306.02 5364,-316.02 5371,-316.02\"/>\n</g>\n<!-- 99 -->\n<g id=\"node100\" class=\"node\">\n<title>99</title>\n<path fill=\"#e5823b\" stroke=\"black\" d=\"M5793,-306C5793,-306 5690,-306 5690,-306 5684,-306 5678,-300 5678,-294 5678,-294 5678,-235 5678,-235 5678,-229 5684,-223 5690,-223 5690,-223 5793,-223 5793,-223 5799,-223 5805,-229 5805,-235 5805,-235 5805,-294 5805,-294 5805,-300 5799,-306 5793,-306\"/>\n<text text-anchor=\"start\" x=\"5686\" y=\"-290.8\" font-family=\"Helvetica,sans-Serif\" font-size=\"14.00\">t1_towerKills ≤ 7.5</text>\n<text text-anchor=\"start\" x=\"5694\" y=\"-275.8\" font-family=\"Helvetica,sans-Serif\" font-size=\"14.00\">entropy = 0.077</text>\n<text text-anchor=\"start\" x=\"5696.5\" y=\"-260.8\" font-family=\"Helvetica,sans-Serif\" font-size=\"14.00\">samples = 528</text>\n<text text-anchor=\"start\" x=\"5694.5\" y=\"-245.8\" font-family=\"Helvetica,sans-Serif\" font-size=\"14.00\">value = [523, 5]</text>\n<text text-anchor=\"start\" x=\"5714\" y=\"-230.8\" font-family=\"Helvetica,sans-Serif\" font-size=\"14.00\">class = 1</text>\n</g>\n<!-- 91&#45;&gt;99 -->\n<g id=\"edge99\" class=\"edge\">\n<title>91&#45;&gt;99</title>\n<path fill=\"none\" stroke=\"black\" d=\"M5427.59,-363.7C5493.06,-343.22 5597.84,-310.44 5668.12,-288.45\"/>\n<polygon fill=\"black\" stroke=\"black\" points=\"5669.31,-291.75 5677.8,-285.43 5667.22,-285.07 5669.31,-291.75\"/>\n</g>\n<!-- 93 -->\n<g id=\"node94\" class=\"node\">\n<title>93</title>\n<path fill=\"#94caf1\" stroke=\"black\" d=\"M5342,-187C5342,-187 5255,-187 5255,-187 5249,-187 5243,-181 5243,-175 5243,-175 5243,-116 5243,-116 5243,-110 5249,-104 5255,-104 5255,-104 5342,-104 5342,-104 5348,-104 5354,-110 5354,-116 5354,-116 5354,-175 5354,-175 5354,-181 5348,-187 5342,-187\"/>\n<text text-anchor=\"start\" x=\"5252.5\" y=\"-171.8\" font-family=\"Helvetica,sans-Serif\" font-size=\"14.00\">firstTower ≤ 1.5</text>\n<text text-anchor=\"start\" x=\"5251\" y=\"-156.8\" font-family=\"Helvetica,sans-Serif\" font-size=\"14.00\">entropy = 0.899</text>\n<text text-anchor=\"start\" x=\"5257.5\" y=\"-141.8\" font-family=\"Helvetica,sans-Serif\" font-size=\"14.00\">samples = 54</text>\n<text text-anchor=\"start\" x=\"5251.5\" y=\"-126.8\" font-family=\"Helvetica,sans-Serif\" font-size=\"14.00\">value = [17, 37]</text>\n<text text-anchor=\"start\" x=\"5271\" y=\"-111.8\" font-family=\"Helvetica,sans-Serif\" font-size=\"14.00\">class = 2</text>\n</g>\n<!-- 92&#45;&gt;93 -->\n<g id=\"edge93\" class=\"edge\">\n<title>92&#45;&gt;93</title>\n<path fill=\"none\" stroke=\"black\" d=\"M5343.56,-222.91C5338.42,-214.2 5332.94,-204.9 5327.63,-195.89\"/>\n<polygon fill=\"black\" stroke=\"black\" points=\"5330.49,-193.86 5322.4,-187.02 5324.46,-197.41 5330.49,-193.86\"/>\n</g>\n<!-- 96 -->\n<g id=\"node97\" class=\"node\">\n<title>96</title>\n<path fill=\"#ea975c\" stroke=\"black\" d=\"M5488.5,-187C5488.5,-187 5384.5,-187 5384.5,-187 5378.5,-187 5372.5,-181 5372.5,-175 5372.5,-175 5372.5,-116 5372.5,-116 5372.5,-110 5378.5,-104 5384.5,-104 5384.5,-104 5488.5,-104 5488.5,-104 5494.5,-104 5500.5,-110 5500.5,-116 5500.5,-116 5500.5,-175 5500.5,-175 5500.5,-181 5494.5,-187 5488.5,-187\"/>\n<text text-anchor=\"start\" x=\"5380.5\" y=\"-171.8\" font-family=\"Helvetica,sans-Serif\" font-size=\"14.00\">t2_baronKills ≤ 0.5</text>\n<text text-anchor=\"start\" x=\"5389\" y=\"-156.8\" font-family=\"Helvetica,sans-Serif\" font-size=\"14.00\">entropy = 0.613</text>\n<text text-anchor=\"start\" x=\"5391.5\" y=\"-141.8\" font-family=\"Helvetica,sans-Serif\" font-size=\"14.00\">samples = 311</text>\n<text text-anchor=\"start\" x=\"5386\" y=\"-126.8\" font-family=\"Helvetica,sans-Serif\" font-size=\"14.00\">value = [264, 47]</text>\n<text text-anchor=\"start\" x=\"5409\" y=\"-111.8\" font-family=\"Helvetica,sans-Serif\" font-size=\"14.00\">class = 1</text>\n</g>\n<!-- 92&#45;&gt;96 -->\n<g id=\"edge96\" class=\"edge\">\n<title>92&#45;&gt;96</title>\n<path fill=\"none\" stroke=\"black\" d=\"M5391.44,-222.91C5396.58,-214.2 5402.06,-204.9 5407.37,-195.89\"/>\n<polygon fill=\"black\" stroke=\"black\" points=\"5410.54,-197.41 5412.6,-187.02 5404.51,-193.86 5410.54,-197.41\"/>\n</g>\n<!-- 94 -->\n<g id=\"node95\" class=\"node\">\n<title>94</title>\n<path fill=\"#61b1ea\" stroke=\"black\" d=\"M5216.5,-68C5216.5,-68 5136.5,-68 5136.5,-68 5130.5,-68 5124.5,-62 5124.5,-56 5124.5,-56 5124.5,-12 5124.5,-12 5124.5,-6 5130.5,0 5136.5,0 5136.5,0 5216.5,0 5216.5,0 5222.5,0 5228.5,-6 5228.5,-12 5228.5,-12 5228.5,-56 5228.5,-56 5228.5,-62 5222.5,-68 5216.5,-68\"/>\n<text text-anchor=\"start\" x=\"5132.5\" y=\"-52.8\" font-family=\"Helvetica,sans-Serif\" font-size=\"14.00\">entropy = 0.65</text>\n<text text-anchor=\"start\" x=\"5135.5\" y=\"-37.8\" font-family=\"Helvetica,sans-Serif\" font-size=\"14.00\">samples = 36</text>\n<text text-anchor=\"start\" x=\"5133.5\" y=\"-22.8\" font-family=\"Helvetica,sans-Serif\" font-size=\"14.00\">value = [6, 30]</text>\n<text text-anchor=\"start\" x=\"5149\" y=\"-7.8\" font-family=\"Helvetica,sans-Serif\" font-size=\"14.00\">class = 2</text>\n</g>\n<!-- 93&#45;&gt;94 -->\n<g id=\"edge94\" class=\"edge\">\n<title>93&#45;&gt;94</title>\n<path fill=\"none\" stroke=\"black\" d=\"M5253.07,-103.73C5242.6,-94.33 5231.48,-84.35 5221.05,-74.99\"/>\n<polygon fill=\"black\" stroke=\"black\" points=\"5223.38,-72.37 5213.6,-68.3 5218.71,-77.58 5223.38,-72.37\"/>\n</g>\n<!-- 95 -->\n<g id=\"node96\" class=\"node\">\n<title>95</title>\n<path fill=\"#f6d1b7\" stroke=\"black\" d=\"M5346,-68C5346,-68 5259,-68 5259,-68 5253,-68 5247,-62 5247,-56 5247,-56 5247,-12 5247,-12 5247,-6 5253,0 5259,0 5259,0 5346,0 5346,0 5352,0 5358,-6 5358,-12 5358,-12 5358,-56 5358,-56 5358,-62 5352,-68 5346,-68\"/>\n<text text-anchor=\"start\" x=\"5255\" y=\"-52.8\" font-family=\"Helvetica,sans-Serif\" font-size=\"14.00\">entropy = 0.964</text>\n<text text-anchor=\"start\" x=\"5261.5\" y=\"-37.8\" font-family=\"Helvetica,sans-Serif\" font-size=\"14.00\">samples = 18</text>\n<text text-anchor=\"start\" x=\"5259.5\" y=\"-22.8\" font-family=\"Helvetica,sans-Serif\" font-size=\"14.00\">value = [11, 7]</text>\n<text text-anchor=\"start\" x=\"5275\" y=\"-7.8\" font-family=\"Helvetica,sans-Serif\" font-size=\"14.00\">class = 1</text>\n</g>\n<!-- 93&#45;&gt;95 -->\n<g id=\"edge95\" class=\"edge\">\n<title>93&#45;&gt;95</title>\n<path fill=\"none\" stroke=\"black\" d=\"M5299.99,-103.73C5300.29,-95.52 5300.61,-86.86 5300.91,-78.56\"/>\n<polygon fill=\"black\" stroke=\"black\" points=\"5304.42,-78.42 5301.28,-68.3 5297.42,-78.17 5304.42,-78.42\"/>\n</g>\n<!-- 97 -->\n<g id=\"node98\" class=\"node\">\n<title>97</title>\n<path fill=\"#e68743\" stroke=\"black\" d=\"M5475,-68C5475,-68 5388,-68 5388,-68 5382,-68 5376,-62 5376,-56 5376,-56 5376,-12 5376,-12 5376,-6 5382,0 5388,0 5388,0 5475,0 5475,0 5481,0 5487,-6 5487,-12 5487,-12 5487,-56 5487,-56 5487,-62 5481,-68 5475,-68\"/>\n<text text-anchor=\"start\" x=\"5384\" y=\"-52.8\" font-family=\"Helvetica,sans-Serif\" font-size=\"14.00\">entropy = 0.282</text>\n<text text-anchor=\"start\" x=\"5386.5\" y=\"-37.8\" font-family=\"Helvetica,sans-Serif\" font-size=\"14.00\">samples = 143</text>\n<text text-anchor=\"start\" x=\"5384.5\" y=\"-22.8\" font-family=\"Helvetica,sans-Serif\" font-size=\"14.00\">value = [136, 7]</text>\n<text text-anchor=\"start\" x=\"5404\" y=\"-7.8\" font-family=\"Helvetica,sans-Serif\" font-size=\"14.00\">class = 1</text>\n</g>\n<!-- 96&#45;&gt;97 -->\n<g id=\"edge97\" class=\"edge\">\n<title>96&#45;&gt;97</title>\n<path fill=\"none\" stroke=\"black\" d=\"M5434.64,-103.73C5434.26,-95.52 5433.87,-86.86 5433.49,-78.56\"/>\n<polygon fill=\"black\" stroke=\"black\" points=\"5436.97,-78.13 5433.02,-68.3 5429.98,-78.45 5436.97,-78.13\"/>\n</g>\n<!-- 98 -->\n<g id=\"node99\" class=\"node\">\n<title>98</title>\n<path fill=\"#eda877\" stroke=\"black\" d=\"M5610,-68C5610,-68 5517,-68 5517,-68 5511,-68 5505,-62 5505,-56 5505,-56 5505,-12 5505,-12 5505,-6 5511,0 5517,0 5517,0 5610,0 5610,0 5616,0 5622,-6 5622,-12 5622,-12 5622,-56 5622,-56 5622,-62 5616,-68 5610,-68\"/>\n<text text-anchor=\"start\" x=\"5516\" y=\"-52.8\" font-family=\"Helvetica,sans-Serif\" font-size=\"14.00\">entropy = 0.792</text>\n<text text-anchor=\"start\" x=\"5518.5\" y=\"-37.8\" font-family=\"Helvetica,sans-Serif\" font-size=\"14.00\">samples = 168</text>\n<text text-anchor=\"start\" x=\"5513\" y=\"-22.8\" font-family=\"Helvetica,sans-Serif\" font-size=\"14.00\">value = [128, 40]</text>\n<text text-anchor=\"start\" x=\"5536\" y=\"-7.8\" font-family=\"Helvetica,sans-Serif\" font-size=\"14.00\">class = 1</text>\n</g>\n<!-- 96&#45;&gt;98 -->\n<g id=\"edge98\" class=\"edge\">\n<title>96&#45;&gt;98</title>\n<path fill=\"none\" stroke=\"black\" d=\"M5483.79,-103.73C5494.69,-94.33 5506.26,-84.35 5517.12,-74.99\"/>\n<polygon fill=\"black\" stroke=\"black\" points=\"5519.59,-77.48 5524.88,-68.3 5515.02,-72.18 5519.59,-77.48\"/>\n</g>\n<!-- 100 -->\n<g id=\"node101\" class=\"node\">\n<title>100</title>\n<path fill=\"#e78946\" stroke=\"black\" d=\"M5797.5,-187C5797.5,-187 5685.5,-187 5685.5,-187 5679.5,-187 5673.5,-181 5673.5,-175 5673.5,-175 5673.5,-116 5673.5,-116 5673.5,-110 5679.5,-104 5685.5,-104 5685.5,-104 5797.5,-104 5797.5,-104 5803.5,-104 5809.5,-110 5809.5,-116 5809.5,-116 5809.5,-175 5809.5,-175 5809.5,-181 5803.5,-187 5797.5,-187\"/>\n<text text-anchor=\"start\" x=\"5681.5\" y=\"-171.8\" font-family=\"Helvetica,sans-Serif\" font-size=\"14.00\">t2_dragonKills ≤ 1.5</text>\n<text text-anchor=\"start\" x=\"5694\" y=\"-156.8\" font-family=\"Helvetica,sans-Serif\" font-size=\"14.00\">entropy = 0.337</text>\n<text text-anchor=\"start\" x=\"5700.5\" y=\"-141.8\" font-family=\"Helvetica,sans-Serif\" font-size=\"14.00\">samples = 64</text>\n<text text-anchor=\"start\" x=\"5698.5\" y=\"-126.8\" font-family=\"Helvetica,sans-Serif\" font-size=\"14.00\">value = [60, 4]</text>\n<text text-anchor=\"start\" x=\"5714\" y=\"-111.8\" font-family=\"Helvetica,sans-Serif\" font-size=\"14.00\">class = 1</text>\n</g>\n<!-- 99&#45;&gt;100 -->\n<g id=\"edge100\" class=\"edge\">\n<title>99&#45;&gt;100</title>\n<path fill=\"none\" stroke=\"black\" d=\"M5741.5,-222.91C5741.5,-214.65 5741.5,-205.86 5741.5,-197.3\"/>\n<polygon fill=\"black\" stroke=\"black\" points=\"5745,-197.02 5741.5,-187.02 5738,-197.02 5745,-197.02\"/>\n</g>\n<!-- 103 -->\n<g id=\"node104\" class=\"node\">\n<title>103</title>\n<path fill=\"#e58139\" stroke=\"black\" d=\"M6003,-187C6003,-187 5886,-187 5886,-187 5880,-187 5874,-181 5874,-175 5874,-175 5874,-116 5874,-116 5874,-110 5880,-104 5886,-104 5886,-104 6003,-104 6003,-104 6009,-104 6015,-110 6015,-116 6015,-116 6015,-175 6015,-175 6015,-181 6009,-187 6003,-187\"/>\n<text text-anchor=\"start\" x=\"5882\" y=\"-171.8\" font-family=\"Helvetica,sans-Serif\" font-size=\"14.00\">t2_inhibitorKills ≤ 1.5</text>\n<text text-anchor=\"start\" x=\"5897\" y=\"-156.8\" font-family=\"Helvetica,sans-Serif\" font-size=\"14.00\">entropy = 0.022</text>\n<text text-anchor=\"start\" x=\"5899.5\" y=\"-141.8\" font-family=\"Helvetica,sans-Serif\" font-size=\"14.00\">samples = 464</text>\n<text text-anchor=\"start\" x=\"5897.5\" y=\"-126.8\" font-family=\"Helvetica,sans-Serif\" font-size=\"14.00\">value = [463, 1]</text>\n<text text-anchor=\"start\" x=\"5917\" y=\"-111.8\" font-family=\"Helvetica,sans-Serif\" font-size=\"14.00\">class = 1</text>\n</g>\n<!-- 99&#45;&gt;103 -->\n<g id=\"edge103\" class=\"edge\">\n<title>99&#45;&gt;103</title>\n<path fill=\"none\" stroke=\"black\" d=\"M5805.17,-226.8C5824.22,-215.83 5845.33,-203.66 5865.24,-192.18\"/>\n<polygon fill=\"black\" stroke=\"black\" points=\"5867.08,-195.16 5873.99,-187.14 5863.58,-189.1 5867.08,-195.16\"/>\n</g>\n<!-- 101 -->\n<g id=\"node102\" class=\"node\">\n<title>101</title>\n<path fill=\"#e99456\" stroke=\"black\" d=\"M5739,-68C5739,-68 5652,-68 5652,-68 5646,-68 5640,-62 5640,-56 5640,-56 5640,-12 5640,-12 5640,-6 5646,0 5652,0 5652,0 5739,0 5739,0 5745,0 5751,-6 5751,-12 5751,-12 5751,-56 5751,-56 5751,-62 5745,-68 5739,-68\"/>\n<text text-anchor=\"start\" x=\"5648\" y=\"-52.8\" font-family=\"Helvetica,sans-Serif\" font-size=\"14.00\">entropy = 0.555</text>\n<text text-anchor=\"start\" x=\"5654.5\" y=\"-37.8\" font-family=\"Helvetica,sans-Serif\" font-size=\"14.00\">samples = 31</text>\n<text text-anchor=\"start\" x=\"5652.5\" y=\"-22.8\" font-family=\"Helvetica,sans-Serif\" font-size=\"14.00\">value = [27, 4]</text>\n<text text-anchor=\"start\" x=\"5668\" y=\"-7.8\" font-family=\"Helvetica,sans-Serif\" font-size=\"14.00\">class = 1</text>\n</g>\n<!-- 100&#45;&gt;101 -->\n<g id=\"edge101\" class=\"edge\">\n<title>100&#45;&gt;101</title>\n<path fill=\"none\" stroke=\"black\" d=\"M5724.37,-103.73C5720.81,-95.24 5717.04,-86.28 5713.45,-77.73\"/>\n<polygon fill=\"black\" stroke=\"black\" points=\"5716.59,-76.16 5709.49,-68.3 5710.14,-78.87 5716.59,-76.16\"/>\n</g>\n<!-- 102 -->\n<g id=\"node103\" class=\"node\">\n<title>102</title>\n<path fill=\"#e58139\" stroke=\"black\" d=\"M5859.5,-68C5859.5,-68 5781.5,-68 5781.5,-68 5775.5,-68 5769.5,-62 5769.5,-56 5769.5,-56 5769.5,-12 5769.5,-12 5769.5,-6 5775.5,0 5781.5,0 5781.5,0 5859.5,0 5859.5,0 5865.5,0 5871.5,-6 5871.5,-12 5871.5,-12 5871.5,-56 5871.5,-56 5871.5,-62 5865.5,-68 5859.5,-68\"/>\n<text text-anchor=\"start\" x=\"5780.5\" y=\"-52.8\" font-family=\"Helvetica,sans-Serif\" font-size=\"14.00\">entropy = 0.0</text>\n<text text-anchor=\"start\" x=\"5779.5\" y=\"-37.8\" font-family=\"Helvetica,sans-Serif\" font-size=\"14.00\">samples = 33</text>\n<text text-anchor=\"start\" x=\"5777.5\" y=\"-22.8\" font-family=\"Helvetica,sans-Serif\" font-size=\"14.00\">value = [33, 0]</text>\n<text text-anchor=\"start\" x=\"5793\" y=\"-7.8\" font-family=\"Helvetica,sans-Serif\" font-size=\"14.00\">class = 1</text>\n</g>\n<!-- 100&#45;&gt;102 -->\n<g id=\"edge102\" class=\"edge\">\n<title>100&#45;&gt;102</title>\n<path fill=\"none\" stroke=\"black\" d=\"M5770.92,-103.73C5777.3,-94.88 5784.06,-85.51 5790.47,-76.63\"/>\n<polygon fill=\"black\" stroke=\"black\" points=\"5793.46,-78.46 5796.48,-68.3 5787.79,-74.36 5793.46,-78.46\"/>\n</g>\n<!-- 104 -->\n<g id=\"node105\" class=\"node\">\n<title>104</title>\n<path fill=\"#e58139\" stroke=\"black\" d=\"M5987.5,-68C5987.5,-68 5901.5,-68 5901.5,-68 5895.5,-68 5889.5,-62 5889.5,-56 5889.5,-56 5889.5,-12 5889.5,-12 5889.5,-6 5895.5,0 5901.5,0 5901.5,0 5987.5,0 5987.5,0 5993.5,0 5999.5,-6 5999.5,-12 5999.5,-12 5999.5,-56 5999.5,-56 5999.5,-62 5993.5,-68 5987.5,-68\"/>\n<text text-anchor=\"start\" x=\"5904.5\" y=\"-52.8\" font-family=\"Helvetica,sans-Serif\" font-size=\"14.00\">entropy = 0.0</text>\n<text text-anchor=\"start\" x=\"5899.5\" y=\"-37.8\" font-family=\"Helvetica,sans-Serif\" font-size=\"14.00\">samples = 396</text>\n<text text-anchor=\"start\" x=\"5897.5\" y=\"-22.8\" font-family=\"Helvetica,sans-Serif\" font-size=\"14.00\">value = [396, 0]</text>\n<text text-anchor=\"start\" x=\"5917\" y=\"-7.8\" font-family=\"Helvetica,sans-Serif\" font-size=\"14.00\">class = 1</text>\n</g>\n<!-- 103&#45;&gt;104 -->\n<g id=\"edge104\" class=\"edge\">\n<title>103&#45;&gt;104</title>\n<path fill=\"none\" stroke=\"black\" d=\"M5944.5,-103.73C5944.5,-95.52 5944.5,-86.86 5944.5,-78.56\"/>\n<polygon fill=\"black\" stroke=\"black\" points=\"5948,-78.3 5944.5,-68.3 5941,-78.3 5948,-78.3\"/>\n</g>\n<!-- 105 -->\n<g id=\"node106\" class=\"node\">\n<title>105</title>\n<path fill=\"#e5833c\" stroke=\"black\" d=\"M6117,-68C6117,-68 6030,-68 6030,-68 6024,-68 6018,-62 6018,-56 6018,-56 6018,-12 6018,-12 6018,-6 6024,0 6030,0 6030,0 6117,0 6117,0 6123,0 6129,-6 6129,-12 6129,-12 6129,-56 6129,-56 6129,-62 6123,-68 6117,-68\"/>\n<text text-anchor=\"start\" x=\"6026\" y=\"-52.8\" font-family=\"Helvetica,sans-Serif\" font-size=\"14.00\">entropy = 0.111</text>\n<text text-anchor=\"start\" x=\"6032.5\" y=\"-37.8\" font-family=\"Helvetica,sans-Serif\" font-size=\"14.00\">samples = 68</text>\n<text text-anchor=\"start\" x=\"6030.5\" y=\"-22.8\" font-family=\"Helvetica,sans-Serif\" font-size=\"14.00\">value = [67, 1]</text>\n<text text-anchor=\"start\" x=\"6046\" y=\"-7.8\" font-family=\"Helvetica,sans-Serif\" font-size=\"14.00\">class = 1</text>\n</g>\n<!-- 103&#45;&gt;105 -->\n<g id=\"edge105\" class=\"edge\">\n<title>103&#45;&gt;105</title>\n<path fill=\"none\" stroke=\"black\" d=\"M5992.53,-103.73C6003.6,-94.33 6015.36,-84.35 6026.39,-74.99\"/>\n<polygon fill=\"black\" stroke=\"black\" points=\"6028.91,-77.44 6034.27,-68.3 6024.38,-72.1 6028.91,-77.44\"/>\n</g>\n<!-- 107 -->\n<g id=\"node108\" class=\"node\">\n<title>107</title>\n<path fill=\"#3a9de5\" stroke=\"black\" d=\"M6890,-663C6890,-663 6773,-663 6773,-663 6767,-663 6761,-657 6761,-651 6761,-651 6761,-592 6761,-592 6761,-586 6767,-580 6773,-580 6773,-580 6890,-580 6890,-580 6896,-580 6902,-586 6902,-592 6902,-592 6902,-651 6902,-651 6902,-657 6896,-663 6890,-663\"/>\n<text text-anchor=\"start\" x=\"6769\" y=\"-647.8\" font-family=\"Helvetica,sans-Serif\" font-size=\"14.00\">t1_inhibitorKills ≤ 0.5</text>\n<text text-anchor=\"start\" x=\"6784\" y=\"-632.8\" font-family=\"Helvetica,sans-Serif\" font-size=\"14.00\">entropy = 0.043</text>\n<text text-anchor=\"start\" x=\"6779\" y=\"-617.8\" font-family=\"Helvetica,sans-Serif\" font-size=\"14.00\">samples = 15966</text>\n<text text-anchor=\"start\" x=\"6773.5\" y=\"-602.8\" font-family=\"Helvetica,sans-Serif\" font-size=\"14.00\">value = [74, 15892]</text>\n<text text-anchor=\"start\" x=\"6804\" y=\"-587.8\" font-family=\"Helvetica,sans-Serif\" font-size=\"14.00\">class = 2</text>\n</g>\n<!-- 106&#45;&gt;107 -->\n<g id=\"edge107\" class=\"edge\">\n<title>106&#45;&gt;107</title>\n<path fill=\"none\" stroke=\"black\" d=\"M6831.5,-698.91C6831.5,-690.65 6831.5,-681.86 6831.5,-673.3\"/>\n<polygon fill=\"black\" stroke=\"black\" points=\"6835,-673.02 6831.5,-663.02 6828,-673.02 6835,-673.02\"/>\n</g>\n<!-- 148 -->\n<g id=\"node149\" class=\"node\">\n<title>148</title>\n<path fill=\"#ebf5fc\" stroke=\"black\" d=\"M9234.5,-663C9234.5,-663 9118.5,-663 9118.5,-663 9112.5,-663 9106.5,-657 9106.5,-651 9106.5,-651 9106.5,-592 9106.5,-592 9106.5,-586 9112.5,-580 9118.5,-580 9118.5,-580 9234.5,-580 9234.5,-580 9240.5,-580 9246.5,-586 9246.5,-592 9246.5,-592 9246.5,-651 9246.5,-651 9246.5,-657 9240.5,-663 9234.5,-663\"/>\n<text text-anchor=\"start\" x=\"9121\" y=\"-647.8\" font-family=\"Helvetica,sans-Serif\" font-size=\"14.00\">t1_towerKills ≤ 8.5</text>\n<text text-anchor=\"start\" x=\"9129\" y=\"-632.8\" font-family=\"Helvetica,sans-Serif\" font-size=\"14.00\">entropy = 0.998</text>\n<text text-anchor=\"start\" x=\"9128\" y=\"-617.8\" font-family=\"Helvetica,sans-Serif\" font-size=\"14.00\">samples = 3041</text>\n<text text-anchor=\"start\" x=\"9114.5\" y=\"-602.8\" font-family=\"Helvetica,sans-Serif\" font-size=\"14.00\">value = [1439, 1602]</text>\n<text text-anchor=\"start\" x=\"9149\" y=\"-587.8\" font-family=\"Helvetica,sans-Serif\" font-size=\"14.00\">class = 2</text>\n</g>\n<!-- 106&#45;&gt;148 -->\n<g id=\"edge148\" class=\"edge\">\n<title>106&#45;&gt;148</title>\n<path fill=\"none\" stroke=\"black\" d=\"M6905.23,-735.82C7253.74,-718.43 8734.11,-644.57 9096.29,-626.5\"/>\n<polygon fill=\"black\" stroke=\"black\" points=\"9096.61,-629.99 9106.43,-626 9096.26,-623 9096.61,-629.99\"/>\n</g>\n<!-- 108 -->\n<g id=\"node109\" class=\"node\">\n<title>108</title>\n<path fill=\"#399de5\" stroke=\"black\" d=\"M6834,-544C6834,-544 6731,-544 6731,-544 6725,-544 6719,-538 6719,-532 6719,-532 6719,-473 6719,-473 6719,-467 6725,-461 6731,-461 6731,-461 6834,-461 6834,-461 6840,-461 6846,-467 6846,-473 6846,-473 6846,-532 6846,-532 6846,-538 6840,-544 6834,-544\"/>\n<text text-anchor=\"start\" x=\"6727\" y=\"-528.8\" font-family=\"Helvetica,sans-Serif\" font-size=\"14.00\">t2_towerKills ≤ 8.5</text>\n<text text-anchor=\"start\" x=\"6735\" y=\"-513.8\" font-family=\"Helvetica,sans-Serif\" font-size=\"14.00\">entropy = 0.005</text>\n<text text-anchor=\"start\" x=\"6730\" y=\"-498.8\" font-family=\"Helvetica,sans-Serif\" font-size=\"14.00\">samples = 15027</text>\n<text text-anchor=\"start\" x=\"6728\" y=\"-483.8\" font-family=\"Helvetica,sans-Serif\" font-size=\"14.00\">value = [6, 15021]</text>\n<text text-anchor=\"start\" x=\"6755\" y=\"-468.8\" font-family=\"Helvetica,sans-Serif\" font-size=\"14.00\">class = 2</text>\n</g>\n<!-- 107&#45;&gt;108 -->\n<g id=\"edge108\" class=\"edge\">\n<title>107&#45;&gt;108</title>\n<path fill=\"none\" stroke=\"black\" d=\"M6814.5,-579.91C6810.93,-571.38 6807.12,-562.28 6803.42,-553.46\"/>\n<polygon fill=\"black\" stroke=\"black\" points=\"6806.56,-551.89 6799.47,-544.02 6800.1,-554.6 6806.56,-551.89\"/>\n</g>\n<!-- 121 -->\n<g id=\"node122\" class=\"node\">\n<title>121</title>\n<path fill=\"#48a5e7\" stroke=\"black\" d=\"M7001.5,-544C7001.5,-544 6905.5,-544 6905.5,-544 6899.5,-544 6893.5,-538 6893.5,-532 6893.5,-532 6893.5,-473 6893.5,-473 6893.5,-467 6899.5,-461 6905.5,-461 6905.5,-461 7001.5,-461 7001.5,-461 7007.5,-461 7013.5,-467 7013.5,-473 7013.5,-473 7013.5,-532 7013.5,-532 7013.5,-538 7007.5,-544 7001.5,-544\"/>\n<text text-anchor=\"start\" x=\"6901.5\" y=\"-528.8\" font-family=\"Helvetica,sans-Serif\" font-size=\"14.00\">firstInhibitor ≤ 1.5</text>\n<text text-anchor=\"start\" x=\"6906\" y=\"-513.8\" font-family=\"Helvetica,sans-Serif\" font-size=\"14.00\">entropy = 0.375</text>\n<text text-anchor=\"start\" x=\"6908.5\" y=\"-498.8\" font-family=\"Helvetica,sans-Serif\" font-size=\"14.00\">samples = 939</text>\n<text text-anchor=\"start\" x=\"6903\" y=\"-483.8\" font-family=\"Helvetica,sans-Serif\" font-size=\"14.00\">value = [68, 871]</text>\n<text text-anchor=\"start\" x=\"6926\" y=\"-468.8\" font-family=\"Helvetica,sans-Serif\" font-size=\"14.00\">class = 2</text>\n</g>\n<!-- 107&#45;&gt;121 -->\n<g id=\"edge121\" class=\"edge\">\n<title>107&#45;&gt;121</title>\n<path fill=\"none\" stroke=\"black\" d=\"M6873.83,-579.91C6883.48,-570.65 6893.82,-560.73 6903.75,-551.21\"/>\n<polygon fill=\"black\" stroke=\"black\" points=\"6906.45,-553.47 6911.25,-544.02 6901.61,-548.42 6906.45,-553.47\"/>\n</g>\n<!-- 109 -->\n<g id=\"node110\" class=\"node\">\n<title>109</title>\n<path fill=\"#399de5\" stroke=\"black\" d=\"M6597,-425C6597,-425 6480,-425 6480,-425 6474,-425 6468,-419 6468,-413 6468,-413 6468,-354 6468,-354 6468,-348 6474,-342 6480,-342 6480,-342 6597,-342 6597,-342 6603,-342 6609,-348 6609,-354 6609,-354 6609,-413 6609,-413 6609,-419 6603,-425 6597,-425\"/>\n<text text-anchor=\"start\" x=\"6476\" y=\"-409.8\" font-family=\"Helvetica,sans-Serif\" font-size=\"14.00\">t2_inhibitorKills ≤ 2.5</text>\n<text text-anchor=\"start\" x=\"6491\" y=\"-394.8\" font-family=\"Helvetica,sans-Serif\" font-size=\"14.00\">entropy = 0.018</text>\n<text text-anchor=\"start\" x=\"6490\" y=\"-379.8\" font-family=\"Helvetica,sans-Serif\" font-size=\"14.00\">samples = 3568</text>\n<text text-anchor=\"start\" x=\"6488\" y=\"-364.8\" font-family=\"Helvetica,sans-Serif\" font-size=\"14.00\">value = [6, 3562]</text>\n<text text-anchor=\"start\" x=\"6511\" y=\"-349.8\" font-family=\"Helvetica,sans-Serif\" font-size=\"14.00\">class = 2</text>\n</g>\n<!-- 108&#45;&gt;109 -->\n<g id=\"edge109\" class=\"edge\">\n<title>108&#45;&gt;109</title>\n<path fill=\"none\" stroke=\"black\" d=\"M6718.71,-470.91C6687.99,-456.18 6650.84,-438.37 6618.28,-422.75\"/>\n<polygon fill=\"black\" stroke=\"black\" points=\"6619.75,-419.58 6609.22,-418.41 6616.72,-425.89 6619.75,-419.58\"/>\n</g>\n<!-- 120 -->\n<g id=\"node121\" class=\"node\">\n<title>120</title>\n<path fill=\"#399de5\" stroke=\"black\" d=\"M6833,-417.5C6833,-417.5 6732,-417.5 6732,-417.5 6726,-417.5 6720,-411.5 6720,-405.5 6720,-405.5 6720,-361.5 6720,-361.5 6720,-355.5 6726,-349.5 6732,-349.5 6732,-349.5 6833,-349.5 6833,-349.5 6839,-349.5 6845,-355.5 6845,-361.5 6845,-361.5 6845,-405.5 6845,-405.5 6845,-411.5 6839,-417.5 6833,-417.5\"/>\n<text text-anchor=\"start\" x=\"6742.5\" y=\"-402.3\" font-family=\"Helvetica,sans-Serif\" font-size=\"14.00\">entropy = 0.0</text>\n<text text-anchor=\"start\" x=\"6730\" y=\"-387.3\" font-family=\"Helvetica,sans-Serif\" font-size=\"14.00\">samples = 11459</text>\n<text text-anchor=\"start\" x=\"6728\" y=\"-372.3\" font-family=\"Helvetica,sans-Serif\" font-size=\"14.00\">value = [0, 11459]</text>\n<text text-anchor=\"start\" x=\"6755\" y=\"-357.3\" font-family=\"Helvetica,sans-Serif\" font-size=\"14.00\">class = 2</text>\n</g>\n<!-- 108&#45;&gt;120 -->\n<g id=\"edge120\" class=\"edge\">\n<title>108&#45;&gt;120</title>\n<path fill=\"none\" stroke=\"black\" d=\"M6782.5,-460.91C6782.5,-450.2 6782.5,-438.62 6782.5,-427.78\"/>\n<polygon fill=\"black\" stroke=\"black\" points=\"6786,-427.67 6782.5,-417.67 6779,-427.67 6786,-427.67\"/>\n</g>\n<!-- 110 -->\n<g id=\"node111\" class=\"node\">\n<title>110</title>\n<path fill=\"#399de5\" stroke=\"black\" d=\"M6397,-306C6397,-306 6294,-306 6294,-306 6288,-306 6282,-300 6282,-294 6282,-294 6282,-235 6282,-235 6282,-229 6288,-223 6294,-223 6294,-223 6397,-223 6397,-223 6403,-223 6409,-229 6409,-235 6409,-235 6409,-294 6409,-294 6409,-300 6403,-306 6397,-306\"/>\n<text text-anchor=\"start\" x=\"6290\" y=\"-290.8\" font-family=\"Helvetica,sans-Serif\" font-size=\"14.00\">t2_towerKills ≤ 7.5</text>\n<text text-anchor=\"start\" x=\"6301.5\" y=\"-275.8\" font-family=\"Helvetica,sans-Serif\" font-size=\"14.00\">entropy = 0.01</text>\n<text text-anchor=\"start\" x=\"6297\" y=\"-260.8\" font-family=\"Helvetica,sans-Serif\" font-size=\"14.00\">samples = 3513</text>\n<text text-anchor=\"start\" x=\"6295\" y=\"-245.8\" font-family=\"Helvetica,sans-Serif\" font-size=\"14.00\">value = [3, 3510]</text>\n<text text-anchor=\"start\" x=\"6318\" y=\"-230.8\" font-family=\"Helvetica,sans-Serif\" font-size=\"14.00\">class = 2</text>\n</g>\n<!-- 109&#45;&gt;110 -->\n<g id=\"edge110\" class=\"edge\">\n<title>109&#45;&gt;110</title>\n<path fill=\"none\" stroke=\"black\" d=\"M6471.54,-341.91C6454.14,-331.36 6435.32,-319.95 6417.66,-309.24\"/>\n<polygon fill=\"black\" stroke=\"black\" points=\"6419.46,-306.24 6409.09,-304.05 6415.83,-312.23 6419.46,-306.24\"/>\n</g>\n<!-- 115 -->\n<g id=\"node116\" class=\"node\">\n<title>115</title>\n<path fill=\"#44a3e6\" stroke=\"black\" d=\"M6590.5,-306C6590.5,-306 6486.5,-306 6486.5,-306 6480.5,-306 6474.5,-300 6474.5,-294 6474.5,-294 6474.5,-235 6474.5,-235 6474.5,-229 6480.5,-223 6486.5,-223 6486.5,-223 6590.5,-223 6590.5,-223 6596.5,-223 6602.5,-229 6602.5,-235 6602.5,-235 6602.5,-294 6602.5,-294 6602.5,-300 6596.5,-306 6590.5,-306\"/>\n<text text-anchor=\"start\" x=\"6482.5\" y=\"-290.8\" font-family=\"Helvetica,sans-Serif\" font-size=\"14.00\">t1_baronKills ≤ 0.5</text>\n<text text-anchor=\"start\" x=\"6491\" y=\"-275.8\" font-family=\"Helvetica,sans-Serif\" font-size=\"14.00\">entropy = 0.305</text>\n<text text-anchor=\"start\" x=\"6497.5\" y=\"-260.8\" font-family=\"Helvetica,sans-Serif\" font-size=\"14.00\">samples = 55</text>\n<text text-anchor=\"start\" x=\"6495.5\" y=\"-245.8\" font-family=\"Helvetica,sans-Serif\" font-size=\"14.00\">value = [3, 52]</text>\n<text text-anchor=\"start\" x=\"6511\" y=\"-230.8\" font-family=\"Helvetica,sans-Serif\" font-size=\"14.00\">class = 2</text>\n</g>\n<!-- 109&#45;&gt;115 -->\n<g id=\"edge115\" class=\"edge\">\n<title>109&#45;&gt;115</title>\n<path fill=\"none\" stroke=\"black\" d=\"M6538.5,-341.91C6538.5,-333.65 6538.5,-324.86 6538.5,-316.3\"/>\n<polygon fill=\"black\" stroke=\"black\" points=\"6542,-316.02 6538.5,-306.02 6535,-316.02 6542,-316.02\"/>\n</g>\n<!-- 111 -->\n<g id=\"node112\" class=\"node\">\n<title>111</title>\n<path fill=\"#399de5\" stroke=\"black\" d=\"M6257,-187C6257,-187 6154,-187 6154,-187 6148,-187 6142,-181 6142,-175 6142,-175 6142,-116 6142,-116 6142,-110 6148,-104 6154,-104 6154,-104 6257,-104 6257,-104 6263,-104 6269,-110 6269,-116 6269,-116 6269,-175 6269,-175 6269,-181 6263,-187 6257,-187\"/>\n<text text-anchor=\"start\" x=\"6150\" y=\"-171.8\" font-family=\"Helvetica,sans-Serif\" font-size=\"14.00\">t1_towerKills ≤ 4.5</text>\n<text text-anchor=\"start\" x=\"6158\" y=\"-156.8\" font-family=\"Helvetica,sans-Serif\" font-size=\"14.00\">entropy = 0.021</text>\n<text text-anchor=\"start\" x=\"6157\" y=\"-141.8\" font-family=\"Helvetica,sans-Serif\" font-size=\"14.00\">samples = 1496</text>\n<text text-anchor=\"start\" x=\"6155\" y=\"-126.8\" font-family=\"Helvetica,sans-Serif\" font-size=\"14.00\">value = [3, 1493]</text>\n<text text-anchor=\"start\" x=\"6178\" y=\"-111.8\" font-family=\"Helvetica,sans-Serif\" font-size=\"14.00\">class = 2</text>\n</g>\n<!-- 110&#45;&gt;111 -->\n<g id=\"edge111\" class=\"edge\">\n<title>110&#45;&gt;111</title>\n<path fill=\"none\" stroke=\"black\" d=\"M6296.93,-222.91C6285.63,-213.47 6273.52,-203.34 6261.92,-193.65\"/>\n<polygon fill=\"black\" stroke=\"black\" points=\"6263.9,-190.75 6253.99,-187.02 6259.42,-196.12 6263.9,-190.75\"/>\n</g>\n<!-- 114 -->\n<g id=\"node115\" class=\"node\">\n<title>114</title>\n<path fill=\"#399de5\" stroke=\"black\" d=\"M6392,-179.5C6392,-179.5 6299,-179.5 6299,-179.5 6293,-179.5 6287,-173.5 6287,-167.5 6287,-167.5 6287,-123.5 6287,-123.5 6287,-117.5 6293,-111.5 6299,-111.5 6299,-111.5 6392,-111.5 6392,-111.5 6398,-111.5 6404,-117.5 6404,-123.5 6404,-123.5 6404,-167.5 6404,-167.5 6404,-173.5 6398,-179.5 6392,-179.5\"/>\n<text text-anchor=\"start\" x=\"6305.5\" y=\"-164.3\" font-family=\"Helvetica,sans-Serif\" font-size=\"14.00\">entropy = 0.0</text>\n<text text-anchor=\"start\" x=\"6297\" y=\"-149.3\" font-family=\"Helvetica,sans-Serif\" font-size=\"14.00\">samples = 2017</text>\n<text text-anchor=\"start\" x=\"6295\" y=\"-134.3\" font-family=\"Helvetica,sans-Serif\" font-size=\"14.00\">value = [0, 2017]</text>\n<text text-anchor=\"start\" x=\"6318\" y=\"-119.3\" font-family=\"Helvetica,sans-Serif\" font-size=\"14.00\">class = 2</text>\n</g>\n<!-- 110&#45;&gt;114 -->\n<g id=\"edge114\" class=\"edge\">\n<title>110&#45;&gt;114</title>\n<path fill=\"none\" stroke=\"black\" d=\"M6345.5,-222.91C6345.5,-212.2 6345.5,-200.62 6345.5,-189.78\"/>\n<polygon fill=\"black\" stroke=\"black\" points=\"6349,-189.67 6345.5,-179.67 6342,-189.67 6349,-189.67\"/>\n</g>\n<!-- 112 -->\n<g id=\"node113\" class=\"node\">\n<title>112</title>\n<path fill=\"#399de5\" stroke=\"black\" d=\"M6252,-68C6252,-68 6159,-68 6159,-68 6153,-68 6147,-62 6147,-56 6147,-56 6147,-12 6147,-12 6147,-6 6153,0 6159,0 6159,0 6252,0 6252,0 6258,0 6264,-6 6264,-12 6264,-12 6264,-56 6264,-56 6264,-62 6258,-68 6252,-68\"/>\n<text text-anchor=\"start\" x=\"6158\" y=\"-52.8\" font-family=\"Helvetica,sans-Serif\" font-size=\"14.00\">entropy = 0.009</text>\n<text text-anchor=\"start\" x=\"6157\" y=\"-37.8\" font-family=\"Helvetica,sans-Serif\" font-size=\"14.00\">samples = 1239</text>\n<text text-anchor=\"start\" x=\"6155\" y=\"-22.8\" font-family=\"Helvetica,sans-Serif\" font-size=\"14.00\">value = [1, 1238]</text>\n<text text-anchor=\"start\" x=\"6178\" y=\"-7.8\" font-family=\"Helvetica,sans-Serif\" font-size=\"14.00\">class = 2</text>\n</g>\n<!-- 111&#45;&gt;112 -->\n<g id=\"edge112\" class=\"edge\">\n<title>111&#45;&gt;112</title>\n<path fill=\"none\" stroke=\"black\" d=\"M6205.5,-103.73C6205.5,-95.52 6205.5,-86.86 6205.5,-78.56\"/>\n<polygon fill=\"black\" stroke=\"black\" points=\"6209,-78.3 6205.5,-68.3 6202,-78.3 6209,-78.3\"/>\n</g>\n<!-- 113 -->\n<g id=\"node114\" class=\"node\">\n<title>113</title>\n<path fill=\"#3b9ee5\" stroke=\"black\" d=\"M6381,-68C6381,-68 6294,-68 6294,-68 6288,-68 6282,-62 6282,-56 6282,-56 6282,-12 6282,-12 6282,-6 6288,0 6294,0 6294,0 6381,0 6381,0 6387,0 6393,-6 6393,-12 6393,-12 6393,-56 6393,-56 6393,-62 6387,-68 6381,-68\"/>\n<text text-anchor=\"start\" x=\"6290\" y=\"-52.8\" font-family=\"Helvetica,sans-Serif\" font-size=\"14.00\">entropy = 0.066</text>\n<text text-anchor=\"start\" x=\"6292.5\" y=\"-37.8\" font-family=\"Helvetica,sans-Serif\" font-size=\"14.00\">samples = 257</text>\n<text text-anchor=\"start\" x=\"6290.5\" y=\"-22.8\" font-family=\"Helvetica,sans-Serif\" font-size=\"14.00\">value = [2, 255]</text>\n<text text-anchor=\"start\" x=\"6310\" y=\"-7.8\" font-family=\"Helvetica,sans-Serif\" font-size=\"14.00\">class = 2</text>\n</g>\n<!-- 111&#45;&gt;113 -->\n<g id=\"edge113\" class=\"edge\">\n<title>111&#45;&gt;113</title>\n<path fill=\"none\" stroke=\"black\" d=\"M6254.65,-103.73C6266.09,-94.24 6278.24,-84.16 6289.62,-74.72\"/>\n<polygon fill=\"black\" stroke=\"black\" points=\"6291.9,-77.38 6297.36,-68.3 6287.43,-71.99 6291.9,-77.38\"/>\n</g>\n<!-- 116 -->\n<g id=\"node117\" class=\"node\">\n<title>116</title>\n<path fill=\"#399de5\" stroke=\"black\" d=\"M6512.5,-179.5C6512.5,-179.5 6434.5,-179.5 6434.5,-179.5 6428.5,-179.5 6422.5,-173.5 6422.5,-167.5 6422.5,-167.5 6422.5,-123.5 6422.5,-123.5 6422.5,-117.5 6428.5,-111.5 6434.5,-111.5 6434.5,-111.5 6512.5,-111.5 6512.5,-111.5 6518.5,-111.5 6524.5,-117.5 6524.5,-123.5 6524.5,-123.5 6524.5,-167.5 6524.5,-167.5 6524.5,-173.5 6518.5,-179.5 6512.5,-179.5\"/>\n<text text-anchor=\"start\" x=\"6433.5\" y=\"-164.3\" font-family=\"Helvetica,sans-Serif\" font-size=\"14.00\">entropy = 0.0</text>\n<text text-anchor=\"start\" x=\"6432.5\" y=\"-149.3\" font-family=\"Helvetica,sans-Serif\" font-size=\"14.00\">samples = 38</text>\n<text text-anchor=\"start\" x=\"6430.5\" y=\"-134.3\" font-family=\"Helvetica,sans-Serif\" font-size=\"14.00\">value = [0, 38]</text>\n<text text-anchor=\"start\" x=\"6446\" y=\"-119.3\" font-family=\"Helvetica,sans-Serif\" font-size=\"14.00\">class = 2</text>\n</g>\n<!-- 115&#45;&gt;116 -->\n<g id=\"edge116\" class=\"edge\">\n<title>115&#45;&gt;116</title>\n<path fill=\"none\" stroke=\"black\" d=\"M6515.95,-222.91C6509.76,-211.76 6503.03,-199.66 6496.8,-188.44\"/>\n<polygon fill=\"black\" stroke=\"black\" points=\"6499.84,-186.71 6491.93,-179.67 6493.72,-190.11 6499.84,-186.71\"/>\n</g>\n<!-- 117 -->\n<g id=\"node118\" class=\"node\">\n<title>117</title>\n<path fill=\"#63b2eb\" stroke=\"black\" d=\"M6642,-187C6642,-187 6555,-187 6555,-187 6549,-187 6543,-181 6543,-175 6543,-175 6543,-116 6543,-116 6543,-110 6549,-104 6555,-104 6555,-104 6642,-104 6642,-104 6648,-104 6654,-110 6654,-116 6654,-116 6654,-175 6654,-175 6654,-181 6648,-187 6642,-187\"/>\n<text text-anchor=\"start\" x=\"6553\" y=\"-171.8\" font-family=\"Helvetica,sans-Serif\" font-size=\"14.00\">firstBlood ≤ 1.5</text>\n<text text-anchor=\"start\" x=\"6551\" y=\"-156.8\" font-family=\"Helvetica,sans-Serif\" font-size=\"14.00\">entropy = 0.672</text>\n<text text-anchor=\"start\" x=\"6557.5\" y=\"-141.8\" font-family=\"Helvetica,sans-Serif\" font-size=\"14.00\">samples = 17</text>\n<text text-anchor=\"start\" x=\"6555.5\" y=\"-126.8\" font-family=\"Helvetica,sans-Serif\" font-size=\"14.00\">value = [3, 14]</text>\n<text text-anchor=\"start\" x=\"6571\" y=\"-111.8\" font-family=\"Helvetica,sans-Serif\" font-size=\"14.00\">class = 2</text>\n</g>\n<!-- 115&#45;&gt;117 -->\n<g id=\"edge117\" class=\"edge\">\n<title>115&#45;&gt;117</title>\n<path fill=\"none\" stroke=\"black\" d=\"M6559.32,-222.91C6563.74,-214.29 6568.45,-205.09 6573.03,-196.17\"/>\n<polygon fill=\"black\" stroke=\"black\" points=\"6576.27,-197.52 6577.72,-187.02 6570.04,-194.32 6576.27,-197.52\"/>\n</g>\n<!-- 118 -->\n<g id=\"node119\" class=\"node\">\n<title>118</title>\n<path fill=\"#cee6f8\" stroke=\"black\" d=\"M6577,-68C6577,-68 6490,-68 6490,-68 6484,-68 6478,-62 6478,-56 6478,-56 6478,-12 6478,-12 6478,-6 6484,0 6490,0 6490,0 6577,0 6577,0 6583,0 6589,-6 6589,-12 6589,-12 6589,-56 6589,-56 6589,-62 6583,-68 6577,-68\"/>\n<text text-anchor=\"start\" x=\"6486\" y=\"-52.8\" font-family=\"Helvetica,sans-Serif\" font-size=\"14.00\">entropy = 0.985</text>\n<text text-anchor=\"start\" x=\"6496\" y=\"-37.8\" font-family=\"Helvetica,sans-Serif\" font-size=\"14.00\">samples = 7</text>\n<text text-anchor=\"start\" x=\"6494\" y=\"-22.8\" font-family=\"Helvetica,sans-Serif\" font-size=\"14.00\">value = [3, 4]</text>\n<text text-anchor=\"start\" x=\"6506\" y=\"-7.8\" font-family=\"Helvetica,sans-Serif\" font-size=\"14.00\">class = 2</text>\n</g>\n<!-- 117&#45;&gt;118 -->\n<g id=\"edge118\" class=\"edge\">\n<title>117&#45;&gt;118</title>\n<path fill=\"none\" stroke=\"black\" d=\"M6574.3,-103.73C6569.1,-94.97 6563.6,-85.7 6558.38,-76.91\"/>\n<polygon fill=\"black\" stroke=\"black\" points=\"6561.38,-75.11 6553.27,-68.3 6555.36,-78.69 6561.38,-75.11\"/>\n</g>\n<!-- 119 -->\n<g id=\"node120\" class=\"node\">\n<title>119</title>\n<path fill=\"#399de5\" stroke=\"black\" d=\"M6697.5,-68C6697.5,-68 6619.5,-68 6619.5,-68 6613.5,-68 6607.5,-62 6607.5,-56 6607.5,-56 6607.5,-12 6607.5,-12 6607.5,-6 6613.5,0 6619.5,0 6619.5,0 6697.5,0 6697.5,0 6703.5,0 6709.5,-6 6709.5,-12 6709.5,-12 6709.5,-56 6709.5,-56 6709.5,-62 6703.5,-68 6697.5,-68\"/>\n<text text-anchor=\"start\" x=\"6618.5\" y=\"-52.8\" font-family=\"Helvetica,sans-Serif\" font-size=\"14.00\">entropy = 0.0</text>\n<text text-anchor=\"start\" x=\"6617.5\" y=\"-37.8\" font-family=\"Helvetica,sans-Serif\" font-size=\"14.00\">samples = 10</text>\n<text text-anchor=\"start\" x=\"6615.5\" y=\"-22.8\" font-family=\"Helvetica,sans-Serif\" font-size=\"14.00\">value = [0, 10]</text>\n<text text-anchor=\"start\" x=\"6631\" y=\"-7.8\" font-family=\"Helvetica,sans-Serif\" font-size=\"14.00\">class = 2</text>\n</g>\n<!-- 117&#45;&gt;119 -->\n<g id=\"edge119\" class=\"edge\">\n<title>117&#45;&gt;119</title>\n<path fill=\"none\" stroke=\"black\" d=\"M6620.84,-103.73C6625.59,-95.06 6630.61,-85.9 6635.39,-77.18\"/>\n<polygon fill=\"black\" stroke=\"black\" points=\"6638.52,-78.75 6640.25,-68.3 6632.38,-75.39 6638.52,-78.75\"/>\n</g>\n<!-- 122 -->\n<g id=\"node123\" class=\"node\">\n<title>122</title>\n<path fill=\"#3d9fe6\" stroke=\"black\" d=\"M7012,-425C7012,-425 6895,-425 6895,-425 6889,-425 6883,-419 6883,-413 6883,-413 6883,-354 6883,-354 6883,-348 6889,-342 6895,-342 6895,-342 7012,-342 7012,-342 7018,-342 7024,-348 7024,-354 7024,-354 7024,-413 7024,-413 7024,-419 7018,-425 7012,-425\"/>\n<text text-anchor=\"start\" x=\"6891\" y=\"-409.8\" font-family=\"Helvetica,sans-Serif\" font-size=\"14.00\">t2_inhibitorKills ≤ 0.5</text>\n<text text-anchor=\"start\" x=\"6906\" y=\"-394.8\" font-family=\"Helvetica,sans-Serif\" font-size=\"14.00\">entropy = 0.139</text>\n<text text-anchor=\"start\" x=\"6908.5\" y=\"-379.8\" font-family=\"Helvetica,sans-Serif\" font-size=\"14.00\">samples = 562</text>\n<text text-anchor=\"start\" x=\"6903\" y=\"-364.8\" font-family=\"Helvetica,sans-Serif\" font-size=\"14.00\">value = [11, 551]</text>\n<text text-anchor=\"start\" x=\"6926\" y=\"-349.8\" font-family=\"Helvetica,sans-Serif\" font-size=\"14.00\">class = 2</text>\n</g>\n<!-- 121&#45;&gt;122 -->\n<g id=\"edge122\" class=\"edge\">\n<title>121&#45;&gt;122</title>\n<path fill=\"none\" stroke=\"black\" d=\"M6953.5,-460.91C6953.5,-452.65 6953.5,-443.86 6953.5,-435.3\"/>\n<polygon fill=\"black\" stroke=\"black\" points=\"6957,-435.02 6953.5,-425.02 6950,-435.02 6957,-435.02\"/>\n</g>\n<!-- 133 -->\n<g id=\"node134\" class=\"node\">\n<title>133</title>\n<path fill=\"#5caeea\" stroke=\"black\" d=\"M7545,-425C7545,-425 7428,-425 7428,-425 7422,-425 7416,-419 7416,-413 7416,-413 7416,-354 7416,-354 7416,-348 7422,-342 7428,-342 7428,-342 7545,-342 7545,-342 7551,-342 7557,-348 7557,-354 7557,-354 7557,-413 7557,-413 7557,-419 7551,-425 7545,-425\"/>\n<text text-anchor=\"start\" x=\"7424\" y=\"-409.8\" font-family=\"Helvetica,sans-Serif\" font-size=\"14.00\">t2_inhibitorKills ≤ 1.5</text>\n<text text-anchor=\"start\" x=\"7439\" y=\"-394.8\" font-family=\"Helvetica,sans-Serif\" font-size=\"14.00\">entropy = 0.613</text>\n<text text-anchor=\"start\" x=\"7441.5\" y=\"-379.8\" font-family=\"Helvetica,sans-Serif\" font-size=\"14.00\">samples = 377</text>\n<text text-anchor=\"start\" x=\"7436\" y=\"-364.8\" font-family=\"Helvetica,sans-Serif\" font-size=\"14.00\">value = [57, 320]</text>\n<text text-anchor=\"start\" x=\"7459\" y=\"-349.8\" font-family=\"Helvetica,sans-Serif\" font-size=\"14.00\">class = 2</text>\n</g>\n<!-- 121&#45;&gt;133 -->\n<g id=\"edge133\" class=\"edge\">\n<title>121&#45;&gt;133</title>\n<path fill=\"none\" stroke=\"black\" d=\"M7013.61,-488.31C7109.71,-467.21 7298.06,-425.86 7405.8,-402.22\"/>\n<polygon fill=\"black\" stroke=\"black\" points=\"7406.63,-405.62 7415.64,-400.05 7405.13,-398.78 7406.63,-405.62\"/>\n</g>\n<!-- 123 -->\n<g id=\"node124\" class=\"node\">\n<title>123</title>\n<path fill=\"#e9965a\" stroke=\"black\" d=\"M6882,-306C6882,-306 6779,-306 6779,-306 6773,-306 6767,-300 6767,-294 6767,-294 6767,-235 6767,-235 6767,-229 6773,-223 6779,-223 6779,-223 6882,-223 6882,-223 6888,-223 6894,-229 6894,-235 6894,-235 6894,-294 6894,-294 6894,-300 6888,-306 6882,-306\"/>\n<text text-anchor=\"start\" x=\"6775\" y=\"-290.8\" font-family=\"Helvetica,sans-Serif\" font-size=\"14.00\">t2_towerKills ≤ 8.5</text>\n<text text-anchor=\"start\" x=\"6783\" y=\"-275.8\" font-family=\"Helvetica,sans-Serif\" font-size=\"14.00\">entropy = 0.592</text>\n<text text-anchor=\"start\" x=\"6793\" y=\"-260.8\" font-family=\"Helvetica,sans-Serif\" font-size=\"14.00\">samples = 7</text>\n<text text-anchor=\"start\" x=\"6791\" y=\"-245.8\" font-family=\"Helvetica,sans-Serif\" font-size=\"14.00\">value = [6, 1]</text>\n<text text-anchor=\"start\" x=\"6803\" y=\"-230.8\" font-family=\"Helvetica,sans-Serif\" font-size=\"14.00\">class = 1</text>\n</g>\n<!-- 122&#45;&gt;123 -->\n<g id=\"edge123\" class=\"edge\">\n<title>122&#45;&gt;123</title>\n<path fill=\"none\" stroke=\"black\" d=\"M6910.83,-341.91C6901,-332.56 6890.46,-322.54 6880.36,-312.93\"/>\n<polygon fill=\"black\" stroke=\"black\" points=\"6882.76,-310.38 6873.1,-306.02 6877.93,-315.45 6882.76,-310.38\"/>\n</g>\n<!-- 126 -->\n<g id=\"node127\" class=\"node\">\n<title>126</title>\n<path fill=\"#3b9ee5\" stroke=\"black\" d=\"M7028.5,-306C7028.5,-306 6924.5,-306 6924.5,-306 6918.5,-306 6912.5,-300 6912.5,-294 6912.5,-294 6912.5,-235 6912.5,-235 6912.5,-229 6918.5,-223 6924.5,-223 6924.5,-223 7028.5,-223 7028.5,-223 7034.5,-223 7040.5,-229 7040.5,-235 7040.5,-235 7040.5,-294 7040.5,-294 7040.5,-300 7034.5,-306 7028.5,-306\"/>\n<text text-anchor=\"start\" x=\"6920.5\" y=\"-290.8\" font-family=\"Helvetica,sans-Serif\" font-size=\"14.00\">t1_baronKills ≤ 0.5</text>\n<text text-anchor=\"start\" x=\"6929\" y=\"-275.8\" font-family=\"Helvetica,sans-Serif\" font-size=\"14.00\">entropy = 0.074</text>\n<text text-anchor=\"start\" x=\"6931.5\" y=\"-260.8\" font-family=\"Helvetica,sans-Serif\" font-size=\"14.00\">samples = 555</text>\n<text text-anchor=\"start\" x=\"6929.5\" y=\"-245.8\" font-family=\"Helvetica,sans-Serif\" font-size=\"14.00\">value = [5, 550]</text>\n<text text-anchor=\"start\" x=\"6949\" y=\"-230.8\" font-family=\"Helvetica,sans-Serif\" font-size=\"14.00\">class = 2</text>\n</g>\n<!-- 122&#45;&gt;126 -->\n<g id=\"edge126\" class=\"edge\">\n<title>122&#45;&gt;126</title>\n<path fill=\"none\" stroke=\"black\" d=\"M6961.48,-341.91C6963.12,-333.56 6964.87,-324.67 6966.57,-316.02\"/>\n<polygon fill=\"black\" stroke=\"black\" points=\"6970.04,-316.51 6968.53,-306.02 6963.17,-315.16 6970.04,-316.51\"/>\n</g>\n<!-- 124 -->\n<g id=\"node125\" class=\"node\">\n<title>124</title>\n<path fill=\"#e58139\" stroke=\"black\" d=\"M6756.5,-179.5C6756.5,-179.5 6684.5,-179.5 6684.5,-179.5 6678.5,-179.5 6672.5,-173.5 6672.5,-167.5 6672.5,-167.5 6672.5,-123.5 6672.5,-123.5 6672.5,-117.5 6678.5,-111.5 6684.5,-111.5 6684.5,-111.5 6756.5,-111.5 6756.5,-111.5 6762.5,-111.5 6768.5,-117.5 6768.5,-123.5 6768.5,-123.5 6768.5,-167.5 6768.5,-167.5 6768.5,-173.5 6762.5,-179.5 6756.5,-179.5\"/>\n<text text-anchor=\"start\" x=\"6680.5\" y=\"-164.3\" font-family=\"Helvetica,sans-Serif\" font-size=\"14.00\">entropy = 0.0</text>\n<text text-anchor=\"start\" x=\"6683\" y=\"-149.3\" font-family=\"Helvetica,sans-Serif\" font-size=\"14.00\">samples = 6</text>\n<text text-anchor=\"start\" x=\"6681\" y=\"-134.3\" font-family=\"Helvetica,sans-Serif\" font-size=\"14.00\">value = [6, 0]</text>\n<text text-anchor=\"start\" x=\"6693\" y=\"-119.3\" font-family=\"Helvetica,sans-Serif\" font-size=\"14.00\">class = 1</text>\n</g>\n<!-- 123&#45;&gt;124 -->\n<g id=\"edge124\" class=\"edge\">\n<title>123&#45;&gt;124</title>\n<path fill=\"none\" stroke=\"black\" d=\"M6792.34,-222.91C6781.44,-211.32 6769.57,-198.7 6758.68,-187.11\"/>\n<polygon fill=\"black\" stroke=\"black\" points=\"6761.08,-184.56 6751.68,-179.67 6755.98,-189.35 6761.08,-184.56\"/>\n</g>\n<!-- 125 -->\n<g id=\"node126\" class=\"node\">\n<title>125</title>\n<path fill=\"#399de5\" stroke=\"black\" d=\"M6870.5,-179.5C6870.5,-179.5 6798.5,-179.5 6798.5,-179.5 6792.5,-179.5 6786.5,-173.5 6786.5,-167.5 6786.5,-167.5 6786.5,-123.5 6786.5,-123.5 6786.5,-117.5 6792.5,-111.5 6798.5,-111.5 6798.5,-111.5 6870.5,-111.5 6870.5,-111.5 6876.5,-111.5 6882.5,-117.5 6882.5,-123.5 6882.5,-123.5 6882.5,-167.5 6882.5,-167.5 6882.5,-173.5 6876.5,-179.5 6870.5,-179.5\"/>\n<text text-anchor=\"start\" x=\"6794.5\" y=\"-164.3\" font-family=\"Helvetica,sans-Serif\" font-size=\"14.00\">entropy = 0.0</text>\n<text text-anchor=\"start\" x=\"6797\" y=\"-149.3\" font-family=\"Helvetica,sans-Serif\" font-size=\"14.00\">samples = 1</text>\n<text text-anchor=\"start\" x=\"6795\" y=\"-134.3\" font-family=\"Helvetica,sans-Serif\" font-size=\"14.00\">value = [0, 1]</text>\n<text text-anchor=\"start\" x=\"6807\" y=\"-119.3\" font-family=\"Helvetica,sans-Serif\" font-size=\"14.00\">class = 2</text>\n</g>\n<!-- 123&#45;&gt;125 -->\n<g id=\"edge125\" class=\"edge\">\n<title>123&#45;&gt;125</title>\n<path fill=\"none\" stroke=\"black\" d=\"M6831.89,-222.91C6832.25,-212.2 6832.65,-200.62 6833.02,-189.78\"/>\n<polygon fill=\"black\" stroke=\"black\" points=\"6836.52,-189.78 6833.37,-179.67 6829.53,-189.54 6836.52,-189.78\"/>\n</g>\n<!-- 127 -->\n<g id=\"node128\" class=\"node\">\n<title>127</title>\n<path fill=\"#3a9de5\" stroke=\"black\" d=\"M7030,-187C7030,-187 6913,-187 6913,-187 6907,-187 6901,-181 6901,-175 6901,-175 6901,-116 6901,-116 6901,-110 6907,-104 6913,-104 6913,-104 7030,-104 7030,-104 7036,-104 7042,-110 7042,-116 7042,-116 7042,-175 7042,-175 7042,-181 7036,-187 7030,-187\"/>\n<text text-anchor=\"start\" x=\"6909\" y=\"-171.8\" font-family=\"Helvetica,sans-Serif\" font-size=\"14.00\">t1_inhibitorKills ≤ 1.5</text>\n<text text-anchor=\"start\" x=\"6924\" y=\"-156.8\" font-family=\"Helvetica,sans-Serif\" font-size=\"14.00\">entropy = 0.026</text>\n<text text-anchor=\"start\" x=\"6926.5\" y=\"-141.8\" font-family=\"Helvetica,sans-Serif\" font-size=\"14.00\">samples = 381</text>\n<text text-anchor=\"start\" x=\"6924.5\" y=\"-126.8\" font-family=\"Helvetica,sans-Serif\" font-size=\"14.00\">value = [1, 380]</text>\n<text text-anchor=\"start\" x=\"6944\" y=\"-111.8\" font-family=\"Helvetica,sans-Serif\" font-size=\"14.00\">class = 2</text>\n</g>\n<!-- 126&#45;&gt;127 -->\n<g id=\"edge127\" class=\"edge\">\n<title>126&#45;&gt;127</title>\n<path fill=\"none\" stroke=\"black\" d=\"M6974.77,-222.91C6974.41,-214.56 6974.03,-205.67 6973.66,-197.02\"/>\n<polygon fill=\"black\" stroke=\"black\" points=\"6977.16,-196.86 6973.23,-187.02 6970.16,-197.16 6977.16,-196.86\"/>\n</g>\n<!-- 130 -->\n<g id=\"node131\" class=\"node\">\n<title>130</title>\n<path fill=\"#3e9fe6\" stroke=\"black\" d=\"M7184.5,-187C7184.5,-187 7072.5,-187 7072.5,-187 7066.5,-187 7060.5,-181 7060.5,-175 7060.5,-175 7060.5,-116 7060.5,-116 7060.5,-110 7066.5,-104 7072.5,-104 7072.5,-104 7184.5,-104 7184.5,-104 7190.5,-104 7196.5,-110 7196.5,-116 7196.5,-116 7196.5,-175 7196.5,-175 7196.5,-181 7190.5,-187 7184.5,-187\"/>\n<text text-anchor=\"start\" x=\"7068.5\" y=\"-171.8\" font-family=\"Helvetica,sans-Serif\" font-size=\"14.00\">t2_dragonKills ≤ 3.5</text>\n<text text-anchor=\"start\" x=\"7081\" y=\"-156.8\" font-family=\"Helvetica,sans-Serif\" font-size=\"14.00\">entropy = 0.158</text>\n<text text-anchor=\"start\" x=\"7083.5\" y=\"-141.8\" font-family=\"Helvetica,sans-Serif\" font-size=\"14.00\">samples = 174</text>\n<text text-anchor=\"start\" x=\"7081.5\" y=\"-126.8\" font-family=\"Helvetica,sans-Serif\" font-size=\"14.00\">value = [4, 170]</text>\n<text text-anchor=\"start\" x=\"7101\" y=\"-111.8\" font-family=\"Helvetica,sans-Serif\" font-size=\"14.00\">class = 2</text>\n</g>\n<!-- 126&#45;&gt;130 -->\n<g id=\"edge130\" class=\"edge\">\n<title>126&#45;&gt;130</title>\n<path fill=\"none\" stroke=\"black\" d=\"M7029.24,-222.91C7041.62,-213.38 7054.91,-203.15 7067.61,-193.37\"/>\n<polygon fill=\"black\" stroke=\"black\" points=\"7070.07,-195.89 7075.86,-187.02 7065.8,-190.35 7070.07,-195.89\"/>\n</g>\n<!-- 128 -->\n<g id=\"node129\" class=\"node\">\n<title>128</title>\n<path fill=\"#399de5\" stroke=\"black\" d=\"M6836.5,-68C6836.5,-68 6750.5,-68 6750.5,-68 6744.5,-68 6738.5,-62 6738.5,-56 6738.5,-56 6738.5,-12 6738.5,-12 6738.5,-6 6744.5,0 6750.5,0 6750.5,0 6836.5,0 6836.5,0 6842.5,0 6848.5,-6 6848.5,-12 6848.5,-12 6848.5,-56 6848.5,-56 6848.5,-62 6842.5,-68 6836.5,-68\"/>\n<text text-anchor=\"start\" x=\"6753.5\" y=\"-52.8\" font-family=\"Helvetica,sans-Serif\" font-size=\"14.00\">entropy = 0.0</text>\n<text text-anchor=\"start\" x=\"6748.5\" y=\"-37.8\" font-family=\"Helvetica,sans-Serif\" font-size=\"14.00\">samples = 319</text>\n<text text-anchor=\"start\" x=\"6746.5\" y=\"-22.8\" font-family=\"Helvetica,sans-Serif\" font-size=\"14.00\">value = [0, 319]</text>\n<text text-anchor=\"start\" x=\"6766\" y=\"-7.8\" font-family=\"Helvetica,sans-Serif\" font-size=\"14.00\">class = 2</text>\n</g>\n<!-- 127&#45;&gt;128 -->\n<g id=\"edge128\" class=\"edge\">\n<title>127&#45;&gt;128</title>\n<path fill=\"none\" stroke=\"black\" d=\"M6905.47,-103.88C6889.28,-93.92 6871.99,-83.29 6855.97,-73.43\"/>\n<polygon fill=\"black\" stroke=\"black\" points=\"6857.57,-70.3 6847.21,-68.04 6853.9,-76.26 6857.57,-70.3\"/>\n</g>\n<!-- 129 -->\n<g id=\"node130\" class=\"node\">\n<title>129</title>\n<path fill=\"#3c9fe5\" stroke=\"black\" d=\"M6966,-68C6966,-68 6879,-68 6879,-68 6873,-68 6867,-62 6867,-56 6867,-56 6867,-12 6867,-12 6867,-6 6873,0 6879,0 6879,0 6966,0 6966,0 6972,0 6978,-6 6978,-12 6978,-12 6978,-56 6978,-56 6978,-62 6972,-68 6966,-68\"/>\n<text text-anchor=\"start\" x=\"6875\" y=\"-52.8\" font-family=\"Helvetica,sans-Serif\" font-size=\"14.00\">entropy = 0.119</text>\n<text text-anchor=\"start\" x=\"6881.5\" y=\"-37.8\" font-family=\"Helvetica,sans-Serif\" font-size=\"14.00\">samples = 62</text>\n<text text-anchor=\"start\" x=\"6879.5\" y=\"-22.8\" font-family=\"Helvetica,sans-Serif\" font-size=\"14.00\">value = [1, 61]</text>\n<text text-anchor=\"start\" x=\"6895\" y=\"-7.8\" font-family=\"Helvetica,sans-Serif\" font-size=\"14.00\">class = 2</text>\n</g>\n<!-- 127&#45;&gt;129 -->\n<g id=\"edge129\" class=\"edge\">\n<title>127&#45;&gt;129</title>\n<path fill=\"none\" stroke=\"black\" d=\"M6953.25,-103.73C6949.42,-95.15 6945.36,-86.09 6941.5,-77.46\"/>\n<polygon fill=\"black\" stroke=\"black\" points=\"6944.68,-76 6937.4,-68.3 6938.29,-78.86 6944.68,-76\"/>\n</g>\n<!-- 131 -->\n<g id=\"node132\" class=\"node\">\n<title>131</title>\n<path fill=\"#3fa0e6\" stroke=\"black\" d=\"M7095,-68C7095,-68 7008,-68 7008,-68 7002,-68 6996,-62 6996,-56 6996,-56 6996,-12 6996,-12 6996,-6 7002,0 7008,0 7008,0 7095,0 7095,0 7101,0 7107,-6 7107,-12 7107,-12 7107,-56 7107,-56 7107,-62 7101,-68 7095,-68\"/>\n<text text-anchor=\"start\" x=\"7004\" y=\"-52.8\" font-family=\"Helvetica,sans-Serif\" font-size=\"14.00\">entropy = 0.191</text>\n<text text-anchor=\"start\" x=\"7006.5\" y=\"-37.8\" font-family=\"Helvetica,sans-Serif\" font-size=\"14.00\">samples = 136</text>\n<text text-anchor=\"start\" x=\"7004.5\" y=\"-22.8\" font-family=\"Helvetica,sans-Serif\" font-size=\"14.00\">value = [4, 132]</text>\n<text text-anchor=\"start\" x=\"7024\" y=\"-7.8\" font-family=\"Helvetica,sans-Serif\" font-size=\"14.00\">class = 2</text>\n</g>\n<!-- 130&#45;&gt;131 -->\n<g id=\"edge131\" class=\"edge\">\n<title>130&#45;&gt;131</title>\n<path fill=\"none\" stroke=\"black\" d=\"M7099.83,-103.73C7093.61,-94.88 7087.02,-85.51 7080.77,-76.63\"/>\n<polygon fill=\"black\" stroke=\"black\" points=\"7083.53,-74.47 7074.92,-68.3 7077.81,-78.49 7083.53,-74.47\"/>\n</g>\n<!-- 132 -->\n<g id=\"node133\" class=\"node\">\n<title>132</title>\n<path fill=\"#399de5\" stroke=\"black\" d=\"M7215.5,-68C7215.5,-68 7137.5,-68 7137.5,-68 7131.5,-68 7125.5,-62 7125.5,-56 7125.5,-56 7125.5,-12 7125.5,-12 7125.5,-6 7131.5,0 7137.5,0 7137.5,0 7215.5,0 7215.5,0 7221.5,0 7227.5,-6 7227.5,-12 7227.5,-12 7227.5,-56 7227.5,-56 7227.5,-62 7221.5,-68 7215.5,-68\"/>\n<text text-anchor=\"start\" x=\"7136.5\" y=\"-52.8\" font-family=\"Helvetica,sans-Serif\" font-size=\"14.00\">entropy = 0.0</text>\n<text text-anchor=\"start\" x=\"7135.5\" y=\"-37.8\" font-family=\"Helvetica,sans-Serif\" font-size=\"14.00\">samples = 38</text>\n<text text-anchor=\"start\" x=\"7133.5\" y=\"-22.8\" font-family=\"Helvetica,sans-Serif\" font-size=\"14.00\">value = [0, 38]</text>\n<text text-anchor=\"start\" x=\"7149\" y=\"-7.8\" font-family=\"Helvetica,sans-Serif\" font-size=\"14.00\">class = 2</text>\n</g>\n<!-- 130&#45;&gt;132 -->\n<g id=\"edge132\" class=\"edge\">\n<title>130&#45;&gt;132</title>\n<path fill=\"none\" stroke=\"black\" d=\"M7146.37,-103.73C7150.09,-95.24 7154.02,-86.28 7157.77,-77.73\"/>\n<polygon fill=\"black\" stroke=\"black\" points=\"7161.09,-78.86 7161.9,-68.3 7154.68,-76.05 7161.09,-78.86\"/>\n</g>\n<!-- 134 -->\n<g id=\"node135\" class=\"node\">\n<title>134</title>\n<path fill=\"#b5daf5\" stroke=\"black\" d=\"M7538.5,-306C7538.5,-306 7434.5,-306 7434.5,-306 7428.5,-306 7422.5,-300 7422.5,-294 7422.5,-294 7422.5,-235 7422.5,-235 7422.5,-229 7428.5,-223 7434.5,-223 7434.5,-223 7538.5,-223 7538.5,-223 7544.5,-223 7550.5,-229 7550.5,-235 7550.5,-235 7550.5,-294 7550.5,-294 7550.5,-300 7544.5,-306 7538.5,-306\"/>\n<text text-anchor=\"start\" x=\"7430.5\" y=\"-290.8\" font-family=\"Helvetica,sans-Serif\" font-size=\"14.00\">t1_baronKills ≤ 0.5</text>\n<text text-anchor=\"start\" x=\"7439\" y=\"-275.8\" font-family=\"Helvetica,sans-Serif\" font-size=\"14.00\">entropy = 0.961</text>\n<text text-anchor=\"start\" x=\"7445.5\" y=\"-260.8\" font-family=\"Helvetica,sans-Serif\" font-size=\"14.00\">samples = 65</text>\n<text text-anchor=\"start\" x=\"7439.5\" y=\"-245.8\" font-family=\"Helvetica,sans-Serif\" font-size=\"14.00\">value = [25, 40]</text>\n<text text-anchor=\"start\" x=\"7459\" y=\"-230.8\" font-family=\"Helvetica,sans-Serif\" font-size=\"14.00\">class = 2</text>\n</g>\n<!-- 133&#45;&gt;134 -->\n<g id=\"edge134\" class=\"edge\">\n<title>133&#45;&gt;134</title>\n<path fill=\"none\" stroke=\"black\" d=\"M7486.5,-341.91C7486.5,-333.65 7486.5,-324.86 7486.5,-316.3\"/>\n<polygon fill=\"black\" stroke=\"black\" points=\"7490,-316.02 7486.5,-306.02 7483,-316.02 7490,-316.02\"/>\n</g>\n<!-- 141 -->\n<g id=\"node142\" class=\"node\">\n<title>141</title>\n<path fill=\"#50a8e8\" stroke=\"black\" d=\"M7915.5,-306C7915.5,-306 7811.5,-306 7811.5,-306 7805.5,-306 7799.5,-300 7799.5,-294 7799.5,-294 7799.5,-235 7799.5,-235 7799.5,-229 7805.5,-223 7811.5,-223 7811.5,-223 7915.5,-223 7915.5,-223 7921.5,-223 7927.5,-229 7927.5,-235 7927.5,-235 7927.5,-294 7927.5,-294 7927.5,-300 7921.5,-306 7915.5,-306\"/>\n<text text-anchor=\"start\" x=\"7807.5\" y=\"-290.8\" font-family=\"Helvetica,sans-Serif\" font-size=\"14.00\">t1_baronKills ≤ 0.5</text>\n<text text-anchor=\"start\" x=\"7816\" y=\"-275.8\" font-family=\"Helvetica,sans-Serif\" font-size=\"14.00\">entropy = 0.477</text>\n<text text-anchor=\"start\" x=\"7818.5\" y=\"-260.8\" font-family=\"Helvetica,sans-Serif\" font-size=\"14.00\">samples = 312</text>\n<text text-anchor=\"start\" x=\"7813\" y=\"-245.8\" font-family=\"Helvetica,sans-Serif\" font-size=\"14.00\">value = [32, 280]</text>\n<text text-anchor=\"start\" x=\"7836\" y=\"-230.8\" font-family=\"Helvetica,sans-Serif\" font-size=\"14.00\">class = 2</text>\n</g>\n<!-- 133&#45;&gt;141 -->\n<g id=\"edge141\" class=\"edge\">\n<title>133&#45;&gt;141</title>\n<path fill=\"none\" stroke=\"black\" d=\"M7557.41,-360.49C7623.69,-339.93 7722.25,-309.34 7789.51,-288.46\"/>\n<polygon fill=\"black\" stroke=\"black\" points=\"7790.68,-291.76 7799.19,-285.46 7788.61,-285.08 7790.68,-291.76\"/>\n</g>\n<!-- 135 -->\n<g id=\"node136\" class=\"node\">\n<title>135</title>\n<path fill=\"#5aade9\" stroke=\"black\" d=\"M7465,-187C7465,-187 7378,-187 7378,-187 7372,-187 7366,-181 7366,-175 7366,-175 7366,-116 7366,-116 7366,-110 7372,-104 7378,-104 7378,-104 7465,-104 7465,-104 7471,-104 7477,-110 7477,-116 7477,-116 7477,-175 7477,-175 7477,-181 7471,-187 7465,-187\"/>\n<text text-anchor=\"start\" x=\"7375.5\" y=\"-171.8\" font-family=\"Helvetica,sans-Serif\" font-size=\"14.00\">firstTower ≤ 1.5</text>\n<text text-anchor=\"start\" x=\"7374\" y=\"-156.8\" font-family=\"Helvetica,sans-Serif\" font-size=\"14.00\">entropy = 0.592</text>\n<text text-anchor=\"start\" x=\"7380.5\" y=\"-141.8\" font-family=\"Helvetica,sans-Serif\" font-size=\"14.00\">samples = 35</text>\n<text text-anchor=\"start\" x=\"7378.5\" y=\"-126.8\" font-family=\"Helvetica,sans-Serif\" font-size=\"14.00\">value = [5, 30]</text>\n<text text-anchor=\"start\" x=\"7394\" y=\"-111.8\" font-family=\"Helvetica,sans-Serif\" font-size=\"14.00\">class = 2</text>\n</g>\n<!-- 134&#45;&gt;135 -->\n<g id=\"edge135\" class=\"edge\">\n<title>134&#45;&gt;135</title>\n<path fill=\"none\" stroke=\"black\" d=\"M7463.95,-222.91C7459.11,-214.2 7453.94,-204.9 7448.94,-195.89\"/>\n<polygon fill=\"black\" stroke=\"black\" points=\"7451.93,-194.06 7444.01,-187.02 7445.81,-197.46 7451.93,-194.06\"/>\n</g>\n<!-- 138 -->\n<g id=\"node139\" class=\"node\">\n<title>138</title>\n<path fill=\"#f2c09c\" stroke=\"black\" d=\"M7594,-187C7594,-187 7507,-187 7507,-187 7501,-187 7495,-181 7495,-175 7495,-175 7495,-116 7495,-116 7495,-110 7501,-104 7507,-104 7507,-104 7594,-104 7594,-104 7600,-104 7606,-110 7606,-116 7606,-116 7606,-175 7606,-175 7606,-181 7600,-187 7594,-187\"/>\n<text text-anchor=\"start\" x=\"7505\" y=\"-171.8\" font-family=\"Helvetica,sans-Serif\" font-size=\"14.00\">firstBlood ≤ 1.5</text>\n<text text-anchor=\"start\" x=\"7503\" y=\"-156.8\" font-family=\"Helvetica,sans-Serif\" font-size=\"14.00\">entropy = 0.918</text>\n<text text-anchor=\"start\" x=\"7509.5\" y=\"-141.8\" font-family=\"Helvetica,sans-Serif\" font-size=\"14.00\">samples = 30</text>\n<text text-anchor=\"start\" x=\"7503.5\" y=\"-126.8\" font-family=\"Helvetica,sans-Serif\" font-size=\"14.00\">value = [20, 10]</text>\n<text text-anchor=\"start\" x=\"7523\" y=\"-111.8\" font-family=\"Helvetica,sans-Serif\" font-size=\"14.00\">class = 1</text>\n</g>\n<!-- 134&#45;&gt;138 -->\n<g id=\"edge138\" class=\"edge\">\n<title>134&#45;&gt;138</title>\n<path fill=\"none\" stroke=\"black\" d=\"M7508.7,-222.91C7513.47,-214.2 7518.56,-204.9 7523.48,-195.89\"/>\n<polygon fill=\"black\" stroke=\"black\" points=\"7526.61,-197.47 7528.33,-187.02 7520.47,-194.11 7526.61,-197.47\"/>\n</g>\n<!-- 136 -->\n<g id=\"node137\" class=\"node\">\n<title>136</title>\n<path fill=\"#399de5\" stroke=\"black\" d=\"M7335.5,-68C7335.5,-68 7257.5,-68 7257.5,-68 7251.5,-68 7245.5,-62 7245.5,-56 7245.5,-56 7245.5,-12 7245.5,-12 7245.5,-6 7251.5,0 7257.5,0 7257.5,0 7335.5,0 7335.5,0 7341.5,0 7347.5,-6 7347.5,-12 7347.5,-12 7347.5,-56 7347.5,-56 7347.5,-62 7341.5,-68 7335.5,-68\"/>\n<text text-anchor=\"start\" x=\"7256.5\" y=\"-52.8\" font-family=\"Helvetica,sans-Serif\" font-size=\"14.00\">entropy = 0.0</text>\n<text text-anchor=\"start\" x=\"7255.5\" y=\"-37.8\" font-family=\"Helvetica,sans-Serif\" font-size=\"14.00\">samples = 18</text>\n<text text-anchor=\"start\" x=\"7253.5\" y=\"-22.8\" font-family=\"Helvetica,sans-Serif\" font-size=\"14.00\">value = [0, 18]</text>\n<text text-anchor=\"start\" x=\"7269\" y=\"-7.8\" font-family=\"Helvetica,sans-Serif\" font-size=\"14.00\">class = 2</text>\n</g>\n<!-- 135&#45;&gt;136 -->\n<g id=\"edge136\" class=\"edge\">\n<title>135&#45;&gt;136</title>\n<path fill=\"none\" stroke=\"black\" d=\"M7374.95,-103.73C7364.23,-94.33 7352.83,-84.35 7342.15,-74.99\"/>\n<polygon fill=\"black\" stroke=\"black\" points=\"7344.34,-72.26 7334.51,-68.3 7339.73,-77.52 7344.34,-72.26\"/>\n</g>\n<!-- 137 -->\n<g id=\"node138\" class=\"node\">\n<title>137</title>\n<path fill=\"#8bc6f0\" stroke=\"black\" d=\"M7465,-68C7465,-68 7378,-68 7378,-68 7372,-68 7366,-62 7366,-56 7366,-56 7366,-12 7366,-12 7366,-6 7372,0 7378,0 7378,0 7465,0 7465,0 7471,0 7477,-6 7477,-12 7477,-12 7477,-56 7477,-56 7477,-62 7471,-68 7465,-68\"/>\n<text text-anchor=\"start\" x=\"7374\" y=\"-52.8\" font-family=\"Helvetica,sans-Serif\" font-size=\"14.00\">entropy = 0.874</text>\n<text text-anchor=\"start\" x=\"7380.5\" y=\"-37.8\" font-family=\"Helvetica,sans-Serif\" font-size=\"14.00\">samples = 17</text>\n<text text-anchor=\"start\" x=\"7378.5\" y=\"-22.8\" font-family=\"Helvetica,sans-Serif\" font-size=\"14.00\">value = [5, 12]</text>\n<text text-anchor=\"start\" x=\"7394\" y=\"-7.8\" font-family=\"Helvetica,sans-Serif\" font-size=\"14.00\">class = 2</text>\n</g>\n<!-- 135&#45;&gt;137 -->\n<g id=\"edge137\" class=\"edge\">\n<title>135&#45;&gt;137</title>\n<path fill=\"none\" stroke=\"black\" d=\"M7421.5,-103.73C7421.5,-95.52 7421.5,-86.86 7421.5,-78.56\"/>\n<polygon fill=\"black\" stroke=\"black\" points=\"7425,-78.3 7421.5,-68.3 7418,-78.3 7425,-78.3\"/>\n</g>\n<!-- 139 -->\n<g id=\"node140\" class=\"node\">\n<title>139</title>\n<path fill=\"#e6f3fc\" stroke=\"black\" d=\"M7594,-68C7594,-68 7507,-68 7507,-68 7501,-68 7495,-62 7495,-56 7495,-56 7495,-12 7495,-12 7495,-6 7501,0 7507,0 7507,0 7594,0 7594,0 7600,0 7606,-6 7606,-12 7606,-12 7606,-56 7606,-56 7606,-62 7600,-68 7594,-68\"/>\n<text text-anchor=\"start\" x=\"7503\" y=\"-52.8\" font-family=\"Helvetica,sans-Serif\" font-size=\"14.00\">entropy = 0.997</text>\n<text text-anchor=\"start\" x=\"7509.5\" y=\"-37.8\" font-family=\"Helvetica,sans-Serif\" font-size=\"14.00\">samples = 15</text>\n<text text-anchor=\"start\" x=\"7511\" y=\"-22.8\" font-family=\"Helvetica,sans-Serif\" font-size=\"14.00\">value = [7, 8]</text>\n<text text-anchor=\"start\" x=\"7523\" y=\"-7.8\" font-family=\"Helvetica,sans-Serif\" font-size=\"14.00\">class = 2</text>\n</g>\n<!-- 138&#45;&gt;139 -->\n<g id=\"edge139\" class=\"edge\">\n<title>138&#45;&gt;139</title>\n<path fill=\"none\" stroke=\"black\" d=\"M7550.5,-103.73C7550.5,-95.52 7550.5,-86.86 7550.5,-78.56\"/>\n<polygon fill=\"black\" stroke=\"black\" points=\"7554,-78.3 7550.5,-68.3 7547,-78.3 7554,-78.3\"/>\n</g>\n<!-- 140 -->\n<g id=\"node141\" class=\"node\">\n<title>140</title>\n<path fill=\"#e99457\" stroke=\"black\" d=\"M7723,-68C7723,-68 7636,-68 7636,-68 7630,-68 7624,-62 7624,-56 7624,-56 7624,-12 7624,-12 7624,-6 7630,0 7636,0 7636,0 7723,0 7723,0 7729,0 7735,-6 7735,-12 7735,-12 7735,-56 7735,-56 7735,-62 7729,-68 7723,-68\"/>\n<text text-anchor=\"start\" x=\"7632\" y=\"-52.8\" font-family=\"Helvetica,sans-Serif\" font-size=\"14.00\">entropy = 0.567</text>\n<text text-anchor=\"start\" x=\"7638.5\" y=\"-37.8\" font-family=\"Helvetica,sans-Serif\" font-size=\"14.00\">samples = 15</text>\n<text text-anchor=\"start\" x=\"7636.5\" y=\"-22.8\" font-family=\"Helvetica,sans-Serif\" font-size=\"14.00\">value = [13, 2]</text>\n<text text-anchor=\"start\" x=\"7652\" y=\"-7.8\" font-family=\"Helvetica,sans-Serif\" font-size=\"14.00\">class = 1</text>\n</g>\n<!-- 138&#45;&gt;140 -->\n<g id=\"edge140\" class=\"edge\">\n<title>138&#45;&gt;140</title>\n<path fill=\"none\" stroke=\"black\" d=\"M7598.53,-103.73C7609.6,-94.33 7621.36,-84.35 7632.39,-74.99\"/>\n<polygon fill=\"black\" stroke=\"black\" points=\"7634.91,-77.44 7640.27,-68.3 7630.38,-72.1 7634.91,-77.44\"/>\n</g>\n<!-- 142 -->\n<g id=\"node143\" class=\"node\">\n<title>142</title>\n<path fill=\"#43a2e6\" stroke=\"black\" d=\"M7919.5,-187C7919.5,-187 7807.5,-187 7807.5,-187 7801.5,-187 7795.5,-181 7795.5,-175 7795.5,-175 7795.5,-116 7795.5,-116 7795.5,-110 7801.5,-104 7807.5,-104 7807.5,-104 7919.5,-104 7919.5,-104 7925.5,-104 7931.5,-110 7931.5,-116 7931.5,-116 7931.5,-175 7931.5,-175 7931.5,-181 7925.5,-187 7919.5,-187\"/>\n<text text-anchor=\"start\" x=\"7803.5\" y=\"-171.8\" font-family=\"Helvetica,sans-Serif\" font-size=\"14.00\">t2_dragonKills ≤ 2.5</text>\n<text text-anchor=\"start\" x=\"7816\" y=\"-156.8\" font-family=\"Helvetica,sans-Serif\" font-size=\"14.00\">entropy = 0.279</text>\n<text text-anchor=\"start\" x=\"7818.5\" y=\"-141.8\" font-family=\"Helvetica,sans-Serif\" font-size=\"14.00\">samples = 166</text>\n<text text-anchor=\"start\" x=\"7816.5\" y=\"-126.8\" font-family=\"Helvetica,sans-Serif\" font-size=\"14.00\">value = [8, 158]</text>\n<text text-anchor=\"start\" x=\"7836\" y=\"-111.8\" font-family=\"Helvetica,sans-Serif\" font-size=\"14.00\">class = 2</text>\n</g>\n<!-- 141&#45;&gt;142 -->\n<g id=\"edge142\" class=\"edge\">\n<title>141&#45;&gt;142</title>\n<path fill=\"none\" stroke=\"black\" d=\"M7863.5,-222.91C7863.5,-214.65 7863.5,-205.86 7863.5,-197.3\"/>\n<polygon fill=\"black\" stroke=\"black\" points=\"7867,-197.02 7863.5,-187.02 7860,-197.02 7867,-197.02\"/>\n</g>\n<!-- 145 -->\n<g id=\"node146\" class=\"node\">\n<title>145</title>\n<path fill=\"#60b0ea\" stroke=\"black\" d=\"M8110,-187C8110,-187 8017,-187 8017,-187 8011,-187 8005,-181 8005,-175 8005,-175 8005,-116 8005,-116 8005,-110 8011,-104 8017,-104 8017,-104 8110,-104 8110,-104 8116,-104 8122,-110 8122,-116 8122,-116 8122,-175 8122,-175 8122,-181 8116,-187 8110,-187\"/>\n<text text-anchor=\"start\" x=\"8017.5\" y=\"-171.8\" font-family=\"Helvetica,sans-Serif\" font-size=\"14.00\">firstTower ≤ 1.5</text>\n<text text-anchor=\"start\" x=\"8016\" y=\"-156.8\" font-family=\"Helvetica,sans-Serif\" font-size=\"14.00\">entropy = 0.645</text>\n<text text-anchor=\"start\" x=\"8018.5\" y=\"-141.8\" font-family=\"Helvetica,sans-Serif\" font-size=\"14.00\">samples = 146</text>\n<text text-anchor=\"start\" x=\"8013\" y=\"-126.8\" font-family=\"Helvetica,sans-Serif\" font-size=\"14.00\">value = [24, 122]</text>\n<text text-anchor=\"start\" x=\"8036\" y=\"-111.8\" font-family=\"Helvetica,sans-Serif\" font-size=\"14.00\">class = 2</text>\n</g>\n<!-- 141&#45;&gt;145 -->\n<g id=\"edge145\" class=\"edge\">\n<title>141&#45;&gt;145</title>\n<path fill=\"none\" stroke=\"black\" d=\"M7927.61,-226C7949.49,-213.19 7974.03,-198.84 7996.16,-185.89\"/>\n<polygon fill=\"black\" stroke=\"black\" points=\"7997.97,-188.89 8004.84,-180.82 7994.44,-182.85 7997.97,-188.89\"/>\n</g>\n<!-- 143 -->\n<g id=\"node144\" class=\"node\">\n<title>143</title>\n<path fill=\"#3c9ee5\" stroke=\"black\" d=\"M7852,-68C7852,-68 7765,-68 7765,-68 7759,-68 7753,-62 7753,-56 7753,-56 7753,-12 7753,-12 7753,-6 7759,0 7765,0 7765,0 7852,0 7852,0 7858,0 7864,-6 7864,-12 7864,-12 7864,-56 7864,-56 7864,-62 7858,-68 7852,-68\"/>\n<text text-anchor=\"start\" x=\"7761\" y=\"-52.8\" font-family=\"Helvetica,sans-Serif\" font-size=\"14.00\">entropy = 0.097</text>\n<text text-anchor=\"start\" x=\"7767.5\" y=\"-37.8\" font-family=\"Helvetica,sans-Serif\" font-size=\"14.00\">samples = 80</text>\n<text text-anchor=\"start\" x=\"7765.5\" y=\"-22.8\" font-family=\"Helvetica,sans-Serif\" font-size=\"14.00\">value = [1, 79]</text>\n<text text-anchor=\"start\" x=\"7781\" y=\"-7.8\" font-family=\"Helvetica,sans-Serif\" font-size=\"14.00\">class = 2</text>\n</g>\n<!-- 142&#45;&gt;143 -->\n<g id=\"edge143\" class=\"edge\">\n<title>142&#45;&gt;143</title>\n<path fill=\"none\" stroke=\"black\" d=\"M7843.02,-103.73C7838.71,-95.15 7834.16,-86.09 7829.82,-77.46\"/>\n<polygon fill=\"black\" stroke=\"black\" points=\"7832.84,-75.66 7825.23,-68.3 7826.59,-78.81 7832.84,-75.66\"/>\n</g>\n<!-- 144 -->\n<g id=\"node145\" class=\"node\">\n<title>144</title>\n<path fill=\"#4ba6e7\" stroke=\"black\" d=\"M7981,-68C7981,-68 7894,-68 7894,-68 7888,-68 7882,-62 7882,-56 7882,-56 7882,-12 7882,-12 7882,-6 7888,0 7894,0 7894,0 7981,0 7981,0 7987,0 7993,-6 7993,-12 7993,-12 7993,-56 7993,-56 7993,-62 7987,-68 7981,-68\"/>\n<text text-anchor=\"start\" x=\"7890\" y=\"-52.8\" font-family=\"Helvetica,sans-Serif\" font-size=\"14.00\">entropy = 0.407</text>\n<text text-anchor=\"start\" x=\"7896.5\" y=\"-37.8\" font-family=\"Helvetica,sans-Serif\" font-size=\"14.00\">samples = 86</text>\n<text text-anchor=\"start\" x=\"7894.5\" y=\"-22.8\" font-family=\"Helvetica,sans-Serif\" font-size=\"14.00\">value = [7, 79]</text>\n<text text-anchor=\"start\" x=\"7910\" y=\"-7.8\" font-family=\"Helvetica,sans-Serif\" font-size=\"14.00\">class = 2</text>\n</g>\n<!-- 142&#45;&gt;144 -->\n<g id=\"edge144\" class=\"edge\">\n<title>142&#45;&gt;144</title>\n<path fill=\"none\" stroke=\"black\" d=\"M7891.05,-103.73C7897.03,-94.88 7903.37,-85.51 7909.37,-76.63\"/>\n<polygon fill=\"black\" stroke=\"black\" points=\"7912.3,-78.54 7915,-68.3 7906.5,-74.63 7912.3,-78.54\"/>\n</g>\n<!-- 146 -->\n<g id=\"node147\" class=\"node\">\n<title>146</title>\n<path fill=\"#42a1e6\" stroke=\"black\" d=\"M8103.5,-68C8103.5,-68 8023.5,-68 8023.5,-68 8017.5,-68 8011.5,-62 8011.5,-56 8011.5,-56 8011.5,-12 8011.5,-12 8011.5,-6 8017.5,0 8023.5,0 8023.5,0 8103.5,0 8103.5,0 8109.5,0 8115.5,-6 8115.5,-12 8115.5,-12 8115.5,-56 8115.5,-56 8115.5,-62 8109.5,-68 8103.5,-68\"/>\n<text text-anchor=\"start\" x=\"8019.5\" y=\"-52.8\" font-family=\"Helvetica,sans-Serif\" font-size=\"14.00\">entropy = 0.25</text>\n<text text-anchor=\"start\" x=\"8022.5\" y=\"-37.8\" font-family=\"Helvetica,sans-Serif\" font-size=\"14.00\">samples = 48</text>\n<text text-anchor=\"start\" x=\"8020.5\" y=\"-22.8\" font-family=\"Helvetica,sans-Serif\" font-size=\"14.00\">value = [2, 46]</text>\n<text text-anchor=\"start\" x=\"8036\" y=\"-7.8\" font-family=\"Helvetica,sans-Serif\" font-size=\"14.00\">class = 2</text>\n</g>\n<!-- 145&#45;&gt;146 -->\n<g id=\"edge146\" class=\"edge\">\n<title>145&#45;&gt;146</title>\n<path fill=\"none\" stroke=\"black\" d=\"M8063.5,-103.73C8063.5,-95.52 8063.5,-86.86 8063.5,-78.56\"/>\n<polygon fill=\"black\" stroke=\"black\" points=\"8067,-78.3 8063.5,-68.3 8060,-78.3 8067,-78.3\"/>\n</g>\n<!-- 147 -->\n<g id=\"node148\" class=\"node\">\n<title>147</title>\n<path fill=\"#72b9ed\" stroke=\"black\" d=\"M8233,-68C8233,-68 8146,-68 8146,-68 8140,-68 8134,-62 8134,-56 8134,-56 8134,-12 8134,-12 8134,-6 8140,0 8146,0 8146,0 8233,0 8233,0 8239,0 8245,-6 8245,-12 8245,-12 8245,-56 8245,-56 8245,-62 8239,-68 8233,-68\"/>\n<text text-anchor=\"start\" x=\"8142\" y=\"-52.8\" font-family=\"Helvetica,sans-Serif\" font-size=\"14.00\">entropy = 0.768</text>\n<text text-anchor=\"start\" x=\"8148.5\" y=\"-37.8\" font-family=\"Helvetica,sans-Serif\" font-size=\"14.00\">samples = 98</text>\n<text text-anchor=\"start\" x=\"8142.5\" y=\"-22.8\" font-family=\"Helvetica,sans-Serif\" font-size=\"14.00\">value = [22, 76]</text>\n<text text-anchor=\"start\" x=\"8162\" y=\"-7.8\" font-family=\"Helvetica,sans-Serif\" font-size=\"14.00\">class = 2</text>\n</g>\n<!-- 145&#45;&gt;147 -->\n<g id=\"edge147\" class=\"edge\">\n<title>145&#45;&gt;147</title>\n<path fill=\"none\" stroke=\"black\" d=\"M8110.42,-103.73C8121.23,-94.33 8132.71,-84.35 8143.49,-74.99\"/>\n<polygon fill=\"black\" stroke=\"black\" points=\"8145.93,-77.5 8151.18,-68.3 8141.34,-72.22 8145.93,-77.5\"/>\n</g>\n<!-- 149 -->\n<g id=\"node150\" class=\"node\">\n<title>149</title>\n<path fill=\"#9acdf2\" stroke=\"black\" d=\"M9230.5,-544C9230.5,-544 9122.5,-544 9122.5,-544 9116.5,-544 9110.5,-538 9110.5,-532 9110.5,-532 9110.5,-473 9110.5,-473 9110.5,-467 9116.5,-461 9122.5,-461 9122.5,-461 9230.5,-461 9230.5,-461 9236.5,-461 9242.5,-467 9242.5,-473 9242.5,-473 9242.5,-532 9242.5,-532 9242.5,-538 9236.5,-544 9230.5,-544\"/>\n<text text-anchor=\"start\" x=\"9121\" y=\"-528.8\" font-family=\"Helvetica,sans-Serif\" font-size=\"14.00\">t2_towerKills ≤ 8.5</text>\n<text text-anchor=\"start\" x=\"9129\" y=\"-513.8\" font-family=\"Helvetica,sans-Serif\" font-size=\"14.00\">entropy = 0.913</text>\n<text text-anchor=\"start\" x=\"9128\" y=\"-498.8\" font-family=\"Helvetica,sans-Serif\" font-size=\"14.00\">samples = 1788</text>\n<text text-anchor=\"start\" x=\"9118.5\" y=\"-483.8\" font-family=\"Helvetica,sans-Serif\" font-size=\"14.00\">value = [586, 1202]</text>\n<text text-anchor=\"start\" x=\"9149\" y=\"-468.8\" font-family=\"Helvetica,sans-Serif\" font-size=\"14.00\">class = 2</text>\n</g>\n<!-- 148&#45;&gt;149 -->\n<g id=\"edge149\" class=\"edge\">\n<title>148&#45;&gt;149</title>\n<path fill=\"none\" stroke=\"black\" d=\"M9176.5,-579.91C9176.5,-571.65 9176.5,-562.86 9176.5,-554.3\"/>\n<polygon fill=\"black\" stroke=\"black\" points=\"9180,-554.02 9176.5,-544.02 9173,-554.02 9180,-554.02\"/>\n</g>\n<!-- 178 -->\n<g id=\"node179\" class=\"node\">\n<title>178</title>\n<path fill=\"#f1bc96\" stroke=\"black\" d=\"M10288,-544C10288,-544 10187,-544 10187,-544 10181,-544 10175,-538 10175,-532 10175,-532 10175,-473 10175,-473 10175,-467 10181,-461 10187,-461 10187,-461 10288,-461 10288,-461 10294,-461 10300,-467 10300,-473 10300,-473 10300,-532 10300,-532 10300,-538 10294,-544 10288,-544\"/>\n<text text-anchor=\"start\" x=\"10185.5\" y=\"-528.8\" font-family=\"Helvetica,sans-Serif\" font-size=\"14.00\">firstInhibitor ≤ 1.5</text>\n<text text-anchor=\"start\" x=\"10190\" y=\"-513.8\" font-family=\"Helvetica,sans-Serif\" font-size=\"14.00\">entropy = 0.904</text>\n<text text-anchor=\"start\" x=\"10189\" y=\"-498.8\" font-family=\"Helvetica,sans-Serif\" font-size=\"14.00\">samples = 1253</text>\n<text text-anchor=\"start\" x=\"10183\" y=\"-483.8\" font-family=\"Helvetica,sans-Serif\" font-size=\"14.00\">value = [853, 400]</text>\n<text text-anchor=\"start\" x=\"10210\" y=\"-468.8\" font-family=\"Helvetica,sans-Serif\" font-size=\"14.00\">class = 1</text>\n</g>\n<!-- 148&#45;&gt;178 -->\n<g id=\"edge178\" class=\"edge\">\n<title>148&#45;&gt;178</title>\n<path fill=\"none\" stroke=\"black\" d=\"M9246.53,-612.78C9438.15,-591.65 9969.78,-533.02 10164.67,-511.53\"/>\n<polygon fill=\"black\" stroke=\"black\" points=\"10165.25,-514.99 10174.8,-510.41 10164.48,-508.03 10165.25,-514.99\"/>\n</g>\n<!-- 150 -->\n<g id=\"node151\" class=\"node\">\n<title>150</title>\n<path fill=\"#eff7fd\" stroke=\"black\" d=\"M9055,-425C9055,-425 8938,-425 8938,-425 8932,-425 8926,-419 8926,-413 8926,-413 8926,-354 8926,-354 8926,-348 8932,-342 8938,-342 8938,-342 9055,-342 9055,-342 9061,-342 9067,-348 9067,-354 9067,-354 9067,-413 9067,-413 9067,-419 9061,-425 9055,-425\"/>\n<text text-anchor=\"start\" x=\"8934\" y=\"-409.8\" font-family=\"Helvetica,sans-Serif\" font-size=\"14.00\">t1_inhibitorKills ≤ 0.5</text>\n<text text-anchor=\"start\" x=\"8949\" y=\"-394.8\" font-family=\"Helvetica,sans-Serif\" font-size=\"14.00\">entropy = 0.999</text>\n<text text-anchor=\"start\" x=\"8951.5\" y=\"-379.8\" font-family=\"Helvetica,sans-Serif\" font-size=\"14.00\">samples = 905</text>\n<text text-anchor=\"start\" x=\"8942\" y=\"-364.8\" font-family=\"Helvetica,sans-Serif\" font-size=\"14.00\">value = [433, 472]</text>\n<text text-anchor=\"start\" x=\"8969\" y=\"-349.8\" font-family=\"Helvetica,sans-Serif\" font-size=\"14.00\">class = 2</text>\n</g>\n<!-- 149&#45;&gt;150 -->\n<g id=\"edge150\" class=\"edge\">\n<title>149&#45;&gt;150</title>\n<path fill=\"none\" stroke=\"black\" d=\"M9114.05,-460.91C9098.97,-451.11 9082.75,-440.56 9067.32,-430.53\"/>\n<polygon fill=\"black\" stroke=\"black\" points=\"9069.13,-427.54 9058.84,-425.02 9065.32,-433.41 9069.13,-427.54\"/>\n</g>\n<!-- 165 -->\n<g id=\"node166\" class=\"node\">\n<title>165</title>\n<path fill=\"#62b2ea\" stroke=\"black\" d=\"M9559,-425C9559,-425 9458,-425 9458,-425 9452,-425 9446,-419 9446,-413 9446,-413 9446,-354 9446,-354 9446,-348 9452,-342 9458,-342 9458,-342 9559,-342 9559,-342 9565,-342 9571,-348 9571,-354 9571,-354 9571,-413 9571,-413 9571,-419 9565,-425 9559,-425\"/>\n<text text-anchor=\"start\" x=\"9456.5\" y=\"-409.8\" font-family=\"Helvetica,sans-Serif\" font-size=\"14.00\">firstInhibitor ≤ 1.5</text>\n<text text-anchor=\"start\" x=\"9461\" y=\"-394.8\" font-family=\"Helvetica,sans-Serif\" font-size=\"14.00\">entropy = 0.665</text>\n<text text-anchor=\"start\" x=\"9463.5\" y=\"-379.8\" font-family=\"Helvetica,sans-Serif\" font-size=\"14.00\">samples = 883</text>\n<text text-anchor=\"start\" x=\"9454\" y=\"-364.8\" font-family=\"Helvetica,sans-Serif\" font-size=\"14.00\">value = [153, 730]</text>\n<text text-anchor=\"start\" x=\"9481\" y=\"-349.8\" font-family=\"Helvetica,sans-Serif\" font-size=\"14.00\">class = 2</text>\n</g>\n<!-- 149&#45;&gt;165 -->\n<g id=\"edge165\" class=\"edge\">\n<title>149&#45;&gt;165</title>\n<path fill=\"none\" stroke=\"black\" d=\"M9242.89,-478.1C9298.79,-458.4 9378.6,-430.28 9436.13,-410\"/>\n<polygon fill=\"black\" stroke=\"black\" points=\"9437.61,-413.19 9445.88,-406.57 9435.29,-406.59 9437.61,-413.19\"/>\n</g>\n<!-- 151 -->\n<g id=\"node152\" class=\"node\">\n<title>151</title>\n<path fill=\"#3fa0e6\" stroke=\"black\" d=\"M8691,-306C8691,-306 8574,-306 8574,-306 8568,-306 8562,-300 8562,-294 8562,-294 8562,-235 8562,-235 8562,-229 8568,-223 8574,-223 8574,-223 8691,-223 8691,-223 8697,-223 8703,-229 8703,-235 8703,-235 8703,-294 8703,-294 8703,-300 8697,-306 8691,-306\"/>\n<text text-anchor=\"start\" x=\"8570\" y=\"-290.8\" font-family=\"Helvetica,sans-Serif\" font-size=\"14.00\">t2_inhibitorKills ≤ 2.5</text>\n<text text-anchor=\"start\" x=\"8588.5\" y=\"-275.8\" font-family=\"Helvetica,sans-Serif\" font-size=\"14.00\">entropy = 0.19</text>\n<text text-anchor=\"start\" x=\"8587.5\" y=\"-260.8\" font-family=\"Helvetica,sans-Serif\" font-size=\"14.00\">samples = 103</text>\n<text text-anchor=\"start\" x=\"8585.5\" y=\"-245.8\" font-family=\"Helvetica,sans-Serif\" font-size=\"14.00\">value = [3, 100]</text>\n<text text-anchor=\"start\" x=\"8605\" y=\"-230.8\" font-family=\"Helvetica,sans-Serif\" font-size=\"14.00\">class = 2</text>\n</g>\n<!-- 150&#45;&gt;151 -->\n<g id=\"edge151\" class=\"edge\">\n<title>150&#45;&gt;151</title>\n<path fill=\"none\" stroke=\"black\" d=\"M8925.89,-359.8C8864.83,-340.18 8776.59,-311.81 8712.84,-291.32\"/>\n<polygon fill=\"black\" stroke=\"black\" points=\"8713.82,-287.96 8703.23,-288.23 8711.68,-294.63 8713.82,-287.96\"/>\n</g>\n<!-- 158 -->\n<g id=\"node159\" class=\"node\">\n<title>158</title>\n<path fill=\"#fbeee4\" stroke=\"black\" d=\"M9047,-306C9047,-306 8946,-306 8946,-306 8940,-306 8934,-300 8934,-294 8934,-294 8934,-235 8934,-235 8934,-229 8940,-223 8946,-223 8946,-223 9047,-223 9047,-223 9053,-223 9059,-229 9059,-235 9059,-235 9059,-294 9059,-294 9059,-300 9053,-306 9047,-306\"/>\n<text text-anchor=\"start\" x=\"8944.5\" y=\"-290.8\" font-family=\"Helvetica,sans-Serif\" font-size=\"14.00\">firstInhibitor ≤ 1.5</text>\n<text text-anchor=\"start\" x=\"8949\" y=\"-275.8\" font-family=\"Helvetica,sans-Serif\" font-size=\"14.00\">entropy = 0.996</text>\n<text text-anchor=\"start\" x=\"8951.5\" y=\"-260.8\" font-family=\"Helvetica,sans-Serif\" font-size=\"14.00\">samples = 802</text>\n<text text-anchor=\"start\" x=\"8942\" y=\"-245.8\" font-family=\"Helvetica,sans-Serif\" font-size=\"14.00\">value = [430, 372]</text>\n<text text-anchor=\"start\" x=\"8969\" y=\"-230.8\" font-family=\"Helvetica,sans-Serif\" font-size=\"14.00\">class = 1</text>\n</g>\n<!-- 150&#45;&gt;158 -->\n<g id=\"edge158\" class=\"edge\">\n<title>150&#45;&gt;158</title>\n<path fill=\"none\" stroke=\"black\" d=\"M8996.5,-341.91C8996.5,-333.65 8996.5,-324.86 8996.5,-316.3\"/>\n<polygon fill=\"black\" stroke=\"black\" points=\"9000,-316.02 8996.5,-306.02 8993,-316.02 9000,-316.02\"/>\n</g>\n<!-- 152 -->\n<g id=\"node153\" class=\"node\">\n<title>152</title>\n<path fill=\"#3b9ee5\" stroke=\"black\" d=\"M8495.5,-187C8495.5,-187 8383.5,-187 8383.5,-187 8377.5,-187 8371.5,-181 8371.5,-175 8371.5,-175 8371.5,-116 8371.5,-116 8371.5,-110 8377.5,-104 8383.5,-104 8383.5,-104 8495.5,-104 8495.5,-104 8501.5,-104 8507.5,-110 8507.5,-116 8507.5,-116 8507.5,-175 8507.5,-175 8507.5,-181 8501.5,-187 8495.5,-187\"/>\n<text text-anchor=\"start\" x=\"8379.5\" y=\"-171.8\" font-family=\"Helvetica,sans-Serif\" font-size=\"14.00\">t1_dragonKills ≤ 3.5</text>\n<text text-anchor=\"start\" x=\"8392\" y=\"-156.8\" font-family=\"Helvetica,sans-Serif\" font-size=\"14.00\">entropy = 0.082</text>\n<text text-anchor=\"start\" x=\"8398.5\" y=\"-141.8\" font-family=\"Helvetica,sans-Serif\" font-size=\"14.00\">samples = 98</text>\n<text text-anchor=\"start\" x=\"8396.5\" y=\"-126.8\" font-family=\"Helvetica,sans-Serif\" font-size=\"14.00\">value = [1, 97]</text>\n<text text-anchor=\"start\" x=\"8412\" y=\"-111.8\" font-family=\"Helvetica,sans-Serif\" font-size=\"14.00\">class = 2</text>\n</g>\n<!-- 151&#45;&gt;152 -->\n<g id=\"edge152\" class=\"edge\">\n<title>151&#45;&gt;152</title>\n<path fill=\"none\" stroke=\"black\" d=\"M8565.54,-222.91C8549.22,-213.02 8531.66,-202.37 8514.97,-192.25\"/>\n<polygon fill=\"black\" stroke=\"black\" points=\"8516.71,-189.21 8506.34,-187.02 8513.08,-195.2 8516.71,-189.21\"/>\n</g>\n<!-- 155 -->\n<g id=\"node156\" class=\"node\">\n<title>155</title>\n<path fill=\"#bddef6\" stroke=\"black\" d=\"M8684.5,-187C8684.5,-187 8580.5,-187 8580.5,-187 8574.5,-187 8568.5,-181 8568.5,-175 8568.5,-175 8568.5,-116 8568.5,-116 8568.5,-110 8574.5,-104 8580.5,-104 8580.5,-104 8684.5,-104 8684.5,-104 8690.5,-104 8696.5,-110 8696.5,-116 8696.5,-116 8696.5,-175 8696.5,-175 8696.5,-181 8690.5,-187 8684.5,-187\"/>\n<text text-anchor=\"start\" x=\"8576.5\" y=\"-171.8\" font-family=\"Helvetica,sans-Serif\" font-size=\"14.00\">t1_baronKills ≤ 1.5</text>\n<text text-anchor=\"start\" x=\"8585\" y=\"-156.8\" font-family=\"Helvetica,sans-Serif\" font-size=\"14.00\">entropy = 0.971</text>\n<text text-anchor=\"start\" x=\"8595\" y=\"-141.8\" font-family=\"Helvetica,sans-Serif\" font-size=\"14.00\">samples = 5</text>\n<text text-anchor=\"start\" x=\"8593\" y=\"-126.8\" font-family=\"Helvetica,sans-Serif\" font-size=\"14.00\">value = [2, 3]</text>\n<text text-anchor=\"start\" x=\"8605\" y=\"-111.8\" font-family=\"Helvetica,sans-Serif\" font-size=\"14.00\">class = 2</text>\n</g>\n<!-- 151&#45;&gt;155 -->\n<g id=\"edge155\" class=\"edge\">\n<title>151&#45;&gt;155</title>\n<path fill=\"none\" stroke=\"black\" d=\"M8632.5,-222.91C8632.5,-214.65 8632.5,-205.86 8632.5,-197.3\"/>\n<polygon fill=\"black\" stroke=\"black\" points=\"8636,-197.02 8632.5,-187.02 8629,-197.02 8636,-197.02\"/>\n</g>\n<!-- 153 -->\n<g id=\"node154\" class=\"node\">\n<title>153</title>\n<path fill=\"#399de5\" stroke=\"black\" d=\"M8353.5,-68C8353.5,-68 8275.5,-68 8275.5,-68 8269.5,-68 8263.5,-62 8263.5,-56 8263.5,-56 8263.5,-12 8263.5,-12 8263.5,-6 8269.5,0 8275.5,0 8275.5,0 8353.5,0 8353.5,0 8359.5,0 8365.5,-6 8365.5,-12 8365.5,-12 8365.5,-56 8365.5,-56 8365.5,-62 8359.5,-68 8353.5,-68\"/>\n<text text-anchor=\"start\" x=\"8274.5\" y=\"-52.8\" font-family=\"Helvetica,sans-Serif\" font-size=\"14.00\">entropy = 0.0</text>\n<text text-anchor=\"start\" x=\"8273.5\" y=\"-37.8\" font-family=\"Helvetica,sans-Serif\" font-size=\"14.00\">samples = 86</text>\n<text text-anchor=\"start\" x=\"8271.5\" y=\"-22.8\" font-family=\"Helvetica,sans-Serif\" font-size=\"14.00\">value = [0, 86]</text>\n<text text-anchor=\"start\" x=\"8287\" y=\"-7.8\" font-family=\"Helvetica,sans-Serif\" font-size=\"14.00\">class = 2</text>\n</g>\n<!-- 152&#45;&gt;153 -->\n<g id=\"edge153\" class=\"edge\">\n<title>152&#45;&gt;153</title>\n<path fill=\"none\" stroke=\"black\" d=\"M8392.95,-103.73C8382.23,-94.33 8370.83,-84.35 8360.15,-74.99\"/>\n<polygon fill=\"black\" stroke=\"black\" points=\"8362.34,-72.26 8352.51,-68.3 8357.73,-77.52 8362.34,-72.26\"/>\n</g>\n<!-- 154 -->\n<g id=\"node155\" class=\"node\">\n<title>154</title>\n<path fill=\"#4ba6e7\" stroke=\"black\" d=\"M8483,-68C8483,-68 8396,-68 8396,-68 8390,-68 8384,-62 8384,-56 8384,-56 8384,-12 8384,-12 8384,-6 8390,0 8396,0 8396,0 8483,0 8483,0 8489,0 8495,-6 8495,-12 8495,-12 8495,-56 8495,-56 8495,-62 8489,-68 8483,-68\"/>\n<text text-anchor=\"start\" x=\"8392\" y=\"-52.8\" font-family=\"Helvetica,sans-Serif\" font-size=\"14.00\">entropy = 0.414</text>\n<text text-anchor=\"start\" x=\"8398.5\" y=\"-37.8\" font-family=\"Helvetica,sans-Serif\" font-size=\"14.00\">samples = 12</text>\n<text text-anchor=\"start\" x=\"8396.5\" y=\"-22.8\" font-family=\"Helvetica,sans-Serif\" font-size=\"14.00\">value = [1, 11]</text>\n<text text-anchor=\"start\" x=\"8412\" y=\"-7.8\" font-family=\"Helvetica,sans-Serif\" font-size=\"14.00\">class = 2</text>\n</g>\n<!-- 152&#45;&gt;154 -->\n<g id=\"edge154\" class=\"edge\">\n<title>152&#45;&gt;154</title>\n<path fill=\"none\" stroke=\"black\" d=\"M8439.5,-103.73C8439.5,-95.52 8439.5,-86.86 8439.5,-78.56\"/>\n<polygon fill=\"black\" stroke=\"black\" points=\"8443,-78.3 8439.5,-68.3 8436,-78.3 8443,-78.3\"/>\n</g>\n<!-- 156 -->\n<g id=\"node157\" class=\"node\">\n<title>156</title>\n<path fill=\"#399de5\" stroke=\"black\" d=\"M8597.5,-68C8597.5,-68 8525.5,-68 8525.5,-68 8519.5,-68 8513.5,-62 8513.5,-56 8513.5,-56 8513.5,-12 8513.5,-12 8513.5,-6 8519.5,0 8525.5,0 8525.5,0 8597.5,0 8597.5,0 8603.5,0 8609.5,-6 8609.5,-12 8609.5,-12 8609.5,-56 8609.5,-56 8609.5,-62 8603.5,-68 8597.5,-68\"/>\n<text text-anchor=\"start\" x=\"8521.5\" y=\"-52.8\" font-family=\"Helvetica,sans-Serif\" font-size=\"14.00\">entropy = 0.0</text>\n<text text-anchor=\"start\" x=\"8524\" y=\"-37.8\" font-family=\"Helvetica,sans-Serif\" font-size=\"14.00\">samples = 3</text>\n<text text-anchor=\"start\" x=\"8522\" y=\"-22.8\" font-family=\"Helvetica,sans-Serif\" font-size=\"14.00\">value = [0, 3]</text>\n<text text-anchor=\"start\" x=\"8534\" y=\"-7.8\" font-family=\"Helvetica,sans-Serif\" font-size=\"14.00\">class = 2</text>\n</g>\n<!-- 155&#45;&gt;156 -->\n<g id=\"edge156\" class=\"edge\">\n<title>155&#45;&gt;156</title>\n<path fill=\"none\" stroke=\"black\" d=\"M8606.06,-103.73C8600.38,-94.97 8594.38,-85.7 8588.67,-76.91\"/>\n<polygon fill=\"black\" stroke=\"black\" points=\"8591.47,-74.79 8583.09,-68.3 8585.6,-78.59 8591.47,-74.79\"/>\n</g>\n<!-- 157 -->\n<g id=\"node158\" class=\"node\">\n<title>157</title>\n<path fill=\"#e58139\" stroke=\"black\" d=\"M8711.5,-68C8711.5,-68 8639.5,-68 8639.5,-68 8633.5,-68 8627.5,-62 8627.5,-56 8627.5,-56 8627.5,-12 8627.5,-12 8627.5,-6 8633.5,0 8639.5,0 8639.5,0 8711.5,0 8711.5,0 8717.5,0 8723.5,-6 8723.5,-12 8723.5,-12 8723.5,-56 8723.5,-56 8723.5,-62 8717.5,-68 8711.5,-68\"/>\n<text text-anchor=\"start\" x=\"8635.5\" y=\"-52.8\" font-family=\"Helvetica,sans-Serif\" font-size=\"14.00\">entropy = 0.0</text>\n<text text-anchor=\"start\" x=\"8638\" y=\"-37.8\" font-family=\"Helvetica,sans-Serif\" font-size=\"14.00\">samples = 2</text>\n<text text-anchor=\"start\" x=\"8636\" y=\"-22.8\" font-family=\"Helvetica,sans-Serif\" font-size=\"14.00\">value = [2, 0]</text>\n<text text-anchor=\"start\" x=\"8648\" y=\"-7.8\" font-family=\"Helvetica,sans-Serif\" font-size=\"14.00\">class = 1</text>\n</g>\n<!-- 155&#45;&gt;157 -->\n<g id=\"edge157\" class=\"edge\">\n<title>155&#45;&gt;157</title>\n<path fill=\"none\" stroke=\"black\" d=\"M8648.51,-103.73C8651.84,-95.24 8655.36,-86.28 8658.72,-77.73\"/>\n<polygon fill=\"black\" stroke=\"black\" points=\"8662.03,-78.89 8662.42,-68.3 8655.51,-76.33 8662.03,-78.89\"/>\n</g>\n<!-- 159 -->\n<g id=\"node160\" class=\"node\">\n<title>159</title>\n<path fill=\"#95cbf1\" stroke=\"black\" d=\"M8976,-187C8976,-187 8859,-187 8859,-187 8853,-187 8847,-181 8847,-175 8847,-175 8847,-116 8847,-116 8847,-110 8853,-104 8859,-104 8859,-104 8976,-104 8976,-104 8982,-104 8988,-110 8988,-116 8988,-116 8988,-175 8988,-175 8988,-181 8982,-187 8976,-187\"/>\n<text text-anchor=\"start\" x=\"8855\" y=\"-171.8\" font-family=\"Helvetica,sans-Serif\" font-size=\"14.00\">t2_inhibitorKills ≤ 0.5</text>\n<text text-anchor=\"start\" x=\"8870\" y=\"-156.8\" font-family=\"Helvetica,sans-Serif\" font-size=\"14.00\">entropy = 0.903</text>\n<text text-anchor=\"start\" x=\"8872.5\" y=\"-141.8\" font-family=\"Helvetica,sans-Serif\" font-size=\"14.00\">samples = 443</text>\n<text text-anchor=\"start\" x=\"8863\" y=\"-126.8\" font-family=\"Helvetica,sans-Serif\" font-size=\"14.00\">value = [141, 302]</text>\n<text text-anchor=\"start\" x=\"8890\" y=\"-111.8\" font-family=\"Helvetica,sans-Serif\" font-size=\"14.00\">class = 2</text>\n</g>\n<!-- 158&#45;&gt;159 -->\n<g id=\"edge159\" class=\"edge\">\n<title>158&#45;&gt;159</title>\n<path fill=\"none\" stroke=\"black\" d=\"M8969.09,-222.91C8963.09,-214.01 8956.67,-204.51 8950.47,-195.33\"/>\n<polygon fill=\"black\" stroke=\"black\" points=\"8953.36,-193.35 8944.86,-187.02 8947.56,-197.27 8953.36,-193.35\"/>\n</g>\n<!-- 162 -->\n<g id=\"node163\" class=\"node\">\n<title>162</title>\n<path fill=\"#eba069\" stroke=\"black\" d=\"M9135,-187C9135,-187 9018,-187 9018,-187 9012,-187 9006,-181 9006,-175 9006,-175 9006,-116 9006,-116 9006,-110 9012,-104 9018,-104 9018,-104 9135,-104 9135,-104 9141,-104 9147,-110 9147,-116 9147,-116 9147,-175 9147,-175 9147,-181 9141,-187 9135,-187\"/>\n<text text-anchor=\"start\" x=\"9014\" y=\"-171.8\" font-family=\"Helvetica,sans-Serif\" font-size=\"14.00\">t2_inhibitorKills ≤ 1.5</text>\n<text text-anchor=\"start\" x=\"9029\" y=\"-156.8\" font-family=\"Helvetica,sans-Serif\" font-size=\"14.00\">entropy = 0.712</text>\n<text text-anchor=\"start\" x=\"9031.5\" y=\"-141.8\" font-family=\"Helvetica,sans-Serif\" font-size=\"14.00\">samples = 359</text>\n<text text-anchor=\"start\" x=\"9026\" y=\"-126.8\" font-family=\"Helvetica,sans-Serif\" font-size=\"14.00\">value = [289, 70]</text>\n<text text-anchor=\"start\" x=\"9049\" y=\"-111.8\" font-family=\"Helvetica,sans-Serif\" font-size=\"14.00\">class = 1</text>\n</g>\n<!-- 158&#45;&gt;162 -->\n<g id=\"edge162\" class=\"edge\">\n<title>158&#45;&gt;162</title>\n<path fill=\"none\" stroke=\"black\" d=\"M9024.26,-222.91C9030.34,-214.01 9036.84,-204.51 9043.11,-195.33\"/>\n<polygon fill=\"black\" stroke=\"black\" points=\"9046.04,-197.25 9048.79,-187.02 9040.26,-193.3 9046.04,-197.25\"/>\n</g>\n<!-- 160 -->\n<g id=\"node161\" class=\"node\">\n<title>160</title>\n<path fill=\"#e6843e\" stroke=\"black\" d=\"M8841,-68C8841,-68 8754,-68 8754,-68 8748,-68 8742,-62 8742,-56 8742,-56 8742,-12 8742,-12 8742,-6 8748,0 8754,0 8754,0 8841,0 8841,0 8847,0 8853,-6 8853,-12 8853,-12 8853,-56 8853,-56 8853,-62 8847,-68 8841,-68\"/>\n<text text-anchor=\"start\" x=\"8750\" y=\"-52.8\" font-family=\"Helvetica,sans-Serif\" font-size=\"14.00\">entropy = 0.158</text>\n<text text-anchor=\"start\" x=\"8756.5\" y=\"-37.8\" font-family=\"Helvetica,sans-Serif\" font-size=\"14.00\">samples = 87</text>\n<text text-anchor=\"start\" x=\"8754.5\" y=\"-22.8\" font-family=\"Helvetica,sans-Serif\" font-size=\"14.00\">value = [85, 2]</text>\n<text text-anchor=\"start\" x=\"8770\" y=\"-7.8\" font-family=\"Helvetica,sans-Serif\" font-size=\"14.00\">class = 1</text>\n</g>\n<!-- 159&#45;&gt;160 -->\n<g id=\"edge160\" class=\"edge\">\n<title>159&#45;&gt;160</title>\n<path fill=\"none\" stroke=\"black\" d=\"M8872.82,-103.73C8862.62,-94.42 8851.79,-84.54 8841.62,-75.26\"/>\n<polygon fill=\"black\" stroke=\"black\" points=\"8843.74,-72.45 8833.99,-68.3 8839.02,-77.63 8843.74,-72.45\"/>\n</g>\n<!-- 161 -->\n<g id=\"node162\" class=\"node\">\n<title>161</title>\n<path fill=\"#5eafea\" stroke=\"black\" d=\"M8976,-68C8976,-68 8883,-68 8883,-68 8877,-68 8871,-62 8871,-56 8871,-56 8871,-12 8871,-12 8871,-6 8877,0 8883,0 8883,0 8976,0 8976,0 8982,0 8988,-6 8988,-12 8988,-12 8988,-56 8988,-56 8988,-62 8982,-68 8976,-68\"/>\n<text text-anchor=\"start\" x=\"8882\" y=\"-52.8\" font-family=\"Helvetica,sans-Serif\" font-size=\"14.00\">entropy = 0.628</text>\n<text text-anchor=\"start\" x=\"8884.5\" y=\"-37.8\" font-family=\"Helvetica,sans-Serif\" font-size=\"14.00\">samples = 356</text>\n<text text-anchor=\"start\" x=\"8879\" y=\"-22.8\" font-family=\"Helvetica,sans-Serif\" font-size=\"14.00\">value = [56, 300]</text>\n<text text-anchor=\"start\" x=\"8902\" y=\"-7.8\" font-family=\"Helvetica,sans-Serif\" font-size=\"14.00\">class = 2</text>\n</g>\n<!-- 159&#45;&gt;161 -->\n<g id=\"edge161\" class=\"edge\">\n<title>159&#45;&gt;161</title>\n<path fill=\"none\" stroke=\"black\" d=\"M8921.97,-103.73C8922.88,-95.43 8923.84,-86.67 8924.76,-78.28\"/>\n<polygon fill=\"black\" stroke=\"black\" points=\"8928.24,-78.62 8925.85,-68.3 8921.28,-77.86 8928.24,-78.62\"/>\n</g>\n<!-- 163 -->\n<g id=\"node164\" class=\"node\">\n<title>163</title>\n<path fill=\"#e88f4f\" stroke=\"black\" d=\"M9111,-68C9111,-68 9018,-68 9018,-68 9012,-68 9006,-62 9006,-56 9006,-56 9006,-12 9006,-12 9006,-6 9012,0 9018,0 9018,0 9111,0 9111,0 9117,0 9123,-6 9123,-12 9123,-12 9123,-56 9123,-56 9123,-62 9117,-68 9111,-68\"/>\n<text text-anchor=\"start\" x=\"9017\" y=\"-52.8\" font-family=\"Helvetica,sans-Serif\" font-size=\"14.00\">entropy = 0.471</text>\n<text text-anchor=\"start\" x=\"9019.5\" y=\"-37.8\" font-family=\"Helvetica,sans-Serif\" font-size=\"14.00\">samples = 189</text>\n<text text-anchor=\"start\" x=\"9014\" y=\"-22.8\" font-family=\"Helvetica,sans-Serif\" font-size=\"14.00\">value = [170, 19]</text>\n<text text-anchor=\"start\" x=\"9037\" y=\"-7.8\" font-family=\"Helvetica,sans-Serif\" font-size=\"14.00\">class = 1</text>\n</g>\n<!-- 162&#45;&gt;163 -->\n<g id=\"edge163\" class=\"edge\">\n<title>162&#45;&gt;163</title>\n<path fill=\"none\" stroke=\"black\" d=\"M9072.03,-103.73C9071.12,-95.43 9070.16,-86.67 9069.24,-78.28\"/>\n<polygon fill=\"black\" stroke=\"black\" points=\"9072.72,-77.86 9068.15,-68.3 9065.76,-78.62 9072.72,-77.86\"/>\n</g>\n<!-- 164 -->\n<g id=\"node165\" class=\"node\">\n<title>164</title>\n<path fill=\"#f0b78e\" stroke=\"black\" d=\"M9246,-68C9246,-68 9153,-68 9153,-68 9147,-68 9141,-62 9141,-56 9141,-56 9141,-12 9141,-12 9141,-6 9147,0 9153,0 9153,0 9246,0 9246,0 9252,0 9258,-6 9258,-12 9258,-12 9258,-56 9258,-56 9258,-62 9252,-68 9246,-68\"/>\n<text text-anchor=\"start\" x=\"9152\" y=\"-52.8\" font-family=\"Helvetica,sans-Serif\" font-size=\"14.00\">entropy = 0.881</text>\n<text text-anchor=\"start\" x=\"9154.5\" y=\"-37.8\" font-family=\"Helvetica,sans-Serif\" font-size=\"14.00\">samples = 170</text>\n<text text-anchor=\"start\" x=\"9149\" y=\"-22.8\" font-family=\"Helvetica,sans-Serif\" font-size=\"14.00\">value = [119, 51]</text>\n<text text-anchor=\"start\" x=\"9172\" y=\"-7.8\" font-family=\"Helvetica,sans-Serif\" font-size=\"14.00\">class = 1</text>\n</g>\n<!-- 162&#45;&gt;164 -->\n<g id=\"edge164\" class=\"edge\">\n<title>162&#45;&gt;164</title>\n<path fill=\"none\" stroke=\"black\" d=\"M9122.3,-103.73C9132.85,-94.33 9144.07,-84.35 9154.58,-74.99\"/>\n<polygon fill=\"black\" stroke=\"black\" points=\"9156.95,-77.56 9162.09,-68.3 9152.3,-72.33 9156.95,-77.56\"/>\n</g>\n<!-- 166 -->\n<g id=\"node167\" class=\"node\">\n<title>166</title>\n<path fill=\"#44a3e6\" stroke=\"black\" d=\"M9567,-306C9567,-306 9450,-306 9450,-306 9444,-306 9438,-300 9438,-294 9438,-294 9438,-235 9438,-235 9438,-229 9444,-223 9450,-223 9450,-223 9567,-223 9567,-223 9573,-223 9579,-229 9579,-235 9579,-235 9579,-294 9579,-294 9579,-300 9573,-306 9567,-306\"/>\n<text text-anchor=\"start\" x=\"9446\" y=\"-290.8\" font-family=\"Helvetica,sans-Serif\" font-size=\"14.00\">t2_inhibitorKills ≤ 3.5</text>\n<text text-anchor=\"start\" x=\"9461\" y=\"-275.8\" font-family=\"Helvetica,sans-Serif\" font-size=\"14.00\">entropy = 0.305</text>\n<text text-anchor=\"start\" x=\"9463.5\" y=\"-260.8\" font-family=\"Helvetica,sans-Serif\" font-size=\"14.00\">samples = 423</text>\n<text text-anchor=\"start\" x=\"9458\" y=\"-245.8\" font-family=\"Helvetica,sans-Serif\" font-size=\"14.00\">value = [23, 400]</text>\n<text text-anchor=\"start\" x=\"9481\" y=\"-230.8\" font-family=\"Helvetica,sans-Serif\" font-size=\"14.00\">class = 2</text>\n</g>\n<!-- 165&#45;&gt;166 -->\n<g id=\"edge166\" class=\"edge\">\n<title>165&#45;&gt;166</title>\n<path fill=\"none\" stroke=\"black\" d=\"M9508.5,-341.91C9508.5,-333.65 9508.5,-324.86 9508.5,-316.3\"/>\n<polygon fill=\"black\" stroke=\"black\" points=\"9512,-316.02 9508.5,-306.02 9505,-316.02 9512,-316.02\"/>\n</g>\n<!-- 173 -->\n<g id=\"node174\" class=\"node\">\n<title>173</title>\n<path fill=\"#87c4ef\" stroke=\"black\" d=\"M9788,-306C9788,-306 9671,-306 9671,-306 9665,-306 9659,-300 9659,-294 9659,-294 9659,-235 9659,-235 9659,-229 9665,-223 9671,-223 9671,-223 9788,-223 9788,-223 9794,-223 9800,-229 9800,-235 9800,-235 9800,-294 9800,-294 9800,-300 9794,-306 9788,-306\"/>\n<text text-anchor=\"start\" x=\"9667\" y=\"-290.8\" font-family=\"Helvetica,sans-Serif\" font-size=\"14.00\">t1_inhibitorKills ≤ 0.5</text>\n<text text-anchor=\"start\" x=\"9682\" y=\"-275.8\" font-family=\"Helvetica,sans-Serif\" font-size=\"14.00\">entropy = 0.859</text>\n<text text-anchor=\"start\" x=\"9684.5\" y=\"-260.8\" font-family=\"Helvetica,sans-Serif\" font-size=\"14.00\">samples = 460</text>\n<text text-anchor=\"start\" x=\"9675\" y=\"-245.8\" font-family=\"Helvetica,sans-Serif\" font-size=\"14.00\">value = [130, 330]</text>\n<text text-anchor=\"start\" x=\"9702\" y=\"-230.8\" font-family=\"Helvetica,sans-Serif\" font-size=\"14.00\">class = 2</text>\n</g>\n<!-- 165&#45;&gt;173 -->\n<g id=\"edge173\" class=\"edge\">\n<title>165&#45;&gt;173</title>\n<path fill=\"none\" stroke=\"black\" d=\"M9571.24,-349.29C9595.67,-336.35 9623.95,-321.38 9649.8,-307.7\"/>\n<polygon fill=\"black\" stroke=\"black\" points=\"9651.62,-310.69 9658.82,-302.92 9648.35,-304.5 9651.62,-310.69\"/>\n</g>\n<!-- 167 -->\n<g id=\"node168\" class=\"node\">\n<title>167</title>\n<path fill=\"#40a1e6\" stroke=\"black\" d=\"M9498.5,-187C9498.5,-187 9394.5,-187 9394.5,-187 9388.5,-187 9382.5,-181 9382.5,-175 9382.5,-175 9382.5,-116 9382.5,-116 9382.5,-110 9388.5,-104 9394.5,-104 9394.5,-104 9498.5,-104 9498.5,-104 9504.5,-104 9510.5,-110 9510.5,-116 9510.5,-116 9510.5,-175 9510.5,-175 9510.5,-181 9504.5,-187 9498.5,-187\"/>\n<text text-anchor=\"start\" x=\"9390.5\" y=\"-171.8\" font-family=\"Helvetica,sans-Serif\" font-size=\"14.00\">t1_baronKills ≤ 0.5</text>\n<text text-anchor=\"start\" x=\"9399\" y=\"-156.8\" font-family=\"Helvetica,sans-Serif\" font-size=\"14.00\">entropy = 0.225</text>\n<text text-anchor=\"start\" x=\"9401.5\" y=\"-141.8\" font-family=\"Helvetica,sans-Serif\" font-size=\"14.00\">samples = 386</text>\n<text text-anchor=\"start\" x=\"9396\" y=\"-126.8\" font-family=\"Helvetica,sans-Serif\" font-size=\"14.00\">value = [14, 372]</text>\n<text text-anchor=\"start\" x=\"9419\" y=\"-111.8\" font-family=\"Helvetica,sans-Serif\" font-size=\"14.00\">class = 2</text>\n</g>\n<!-- 166&#45;&gt;167 -->\n<g id=\"edge167\" class=\"edge\">\n<title>166&#45;&gt;167</title>\n<path fill=\"none\" stroke=\"black\" d=\"M9486.99,-222.91C9482.37,-214.2 9477.45,-204.9 9472.67,-195.89\"/>\n<polygon fill=\"black\" stroke=\"black\" points=\"9475.75,-194.22 9467.97,-187.02 9469.56,-197.5 9475.75,-194.22\"/>\n</g>\n<!-- 170 -->\n<g id=\"node171\" class=\"node\">\n<title>170</title>\n<path fill=\"#79bced\" stroke=\"black\" d=\"M9644,-187C9644,-187 9541,-187 9541,-187 9535,-187 9529,-181 9529,-175 9529,-175 9529,-116 9529,-116 9529,-110 9535,-104 9541,-104 9541,-104 9644,-104 9644,-104 9650,-104 9656,-110 9656,-116 9656,-116 9656,-175 9656,-175 9656,-181 9650,-187 9644,-187\"/>\n<text text-anchor=\"start\" x=\"9537\" y=\"-171.8\" font-family=\"Helvetica,sans-Serif\" font-size=\"14.00\">t2_towerKills ≤ 9.5</text>\n<text text-anchor=\"start\" x=\"9552.5\" y=\"-156.8\" font-family=\"Helvetica,sans-Serif\" font-size=\"14.00\">entropy = 0.8</text>\n<text text-anchor=\"start\" x=\"9551.5\" y=\"-141.8\" font-family=\"Helvetica,sans-Serif\" font-size=\"14.00\">samples = 37</text>\n<text text-anchor=\"start\" x=\"9549.5\" y=\"-126.8\" font-family=\"Helvetica,sans-Serif\" font-size=\"14.00\">value = [9, 28]</text>\n<text text-anchor=\"start\" x=\"9565\" y=\"-111.8\" font-family=\"Helvetica,sans-Serif\" font-size=\"14.00\">class = 2</text>\n</g>\n<!-- 166&#45;&gt;170 -->\n<g id=\"edge170\" class=\"edge\">\n<title>166&#45;&gt;170</title>\n<path fill=\"none\" stroke=\"black\" d=\"M9537.64,-222.91C9544.03,-214.01 9550.85,-204.51 9557.44,-195.33\"/>\n<polygon fill=\"black\" stroke=\"black\" points=\"9560.42,-197.19 9563.41,-187.02 9554.73,-193.1 9560.42,-197.19\"/>\n</g>\n<!-- 168 -->\n<g id=\"node169\" class=\"node\">\n<title>168</title>\n<path fill=\"#3b9ee5\" stroke=\"black\" d=\"M9375,-68C9375,-68 9288,-68 9288,-68 9282,-68 9276,-62 9276,-56 9276,-56 9276,-12 9276,-12 9276,-6 9282,0 9288,0 9288,0 9375,0 9375,0 9381,0 9387,-6 9387,-12 9387,-12 9387,-56 9387,-56 9387,-62 9381,-68 9375,-68\"/>\n<text text-anchor=\"start\" x=\"9284\" y=\"-52.8\" font-family=\"Helvetica,sans-Serif\" font-size=\"14.00\">entropy = 0.086</text>\n<text text-anchor=\"start\" x=\"9286.5\" y=\"-37.8\" font-family=\"Helvetica,sans-Serif\" font-size=\"14.00\">samples = 185</text>\n<text text-anchor=\"start\" x=\"9284.5\" y=\"-22.8\" font-family=\"Helvetica,sans-Serif\" font-size=\"14.00\">value = [2, 183]</text>\n<text text-anchor=\"start\" x=\"9304\" y=\"-7.8\" font-family=\"Helvetica,sans-Serif\" font-size=\"14.00\">class = 2</text>\n</g>\n<!-- 167&#45;&gt;168 -->\n<g id=\"edge168\" class=\"edge\">\n<title>167&#45;&gt;168</title>\n<path fill=\"none\" stroke=\"black\" d=\"M9403.68,-103.73C9393.91,-94.42 9383.53,-84.54 9373.78,-75.26\"/>\n<polygon fill=\"black\" stroke=\"black\" points=\"9376.13,-72.66 9366.47,-68.3 9371.3,-77.73 9376.13,-72.66\"/>\n</g>\n<!-- 169 -->\n<g id=\"node170\" class=\"node\">\n<title>169</title>\n<path fill=\"#46a3e7\" stroke=\"black\" d=\"M9510,-68C9510,-68 9417,-68 9417,-68 9411,-68 9405,-62 9405,-56 9405,-56 9405,-12 9405,-12 9405,-6 9411,0 9417,0 9417,0 9510,0 9510,0 9516,0 9522,-6 9522,-12 9522,-12 9522,-56 9522,-56 9522,-62 9516,-68 9510,-68\"/>\n<text text-anchor=\"start\" x=\"9416\" y=\"-52.8\" font-family=\"Helvetica,sans-Serif\" font-size=\"14.00\">entropy = 0.326</text>\n<text text-anchor=\"start\" x=\"9418.5\" y=\"-37.8\" font-family=\"Helvetica,sans-Serif\" font-size=\"14.00\">samples = 201</text>\n<text text-anchor=\"start\" x=\"9413\" y=\"-22.8\" font-family=\"Helvetica,sans-Serif\" font-size=\"14.00\">value = [12, 189]</text>\n<text text-anchor=\"start\" x=\"9436\" y=\"-7.8\" font-family=\"Helvetica,sans-Serif\" font-size=\"14.00\">class = 2</text>\n</g>\n<!-- 167&#45;&gt;169 -->\n<g id=\"edge169\" class=\"edge\">\n<title>167&#45;&gt;169</title>\n<path fill=\"none\" stroke=\"black\" d=\"M9452.83,-103.73C9454.12,-95.43 9455.48,-86.67 9456.78,-78.28\"/>\n<polygon fill=\"black\" stroke=\"black\" points=\"9460.25,-78.72 9458.33,-68.3 9453.34,-77.64 9460.25,-78.72\"/>\n</g>\n<!-- 171 -->\n<g id=\"node172\" class=\"node\">\n<title>171</title>\n<path fill=\"#ea9a61\" stroke=\"black\" d=\"M9632.5,-68C9632.5,-68 9552.5,-68 9552.5,-68 9546.5,-68 9540.5,-62 9540.5,-56 9540.5,-56 9540.5,-12 9540.5,-12 9540.5,-6 9546.5,0 9552.5,0 9552.5,0 9632.5,0 9632.5,0 9638.5,0 9644.5,-6 9644.5,-12 9644.5,-12 9644.5,-56 9644.5,-56 9644.5,-62 9638.5,-68 9632.5,-68\"/>\n<text text-anchor=\"start\" x=\"9548.5\" y=\"-52.8\" font-family=\"Helvetica,sans-Serif\" font-size=\"14.00\">entropy = 0.65</text>\n<text text-anchor=\"start\" x=\"9555\" y=\"-37.8\" font-family=\"Helvetica,sans-Serif\" font-size=\"14.00\">samples = 6</text>\n<text text-anchor=\"start\" x=\"9553\" y=\"-22.8\" font-family=\"Helvetica,sans-Serif\" font-size=\"14.00\">value = [5, 1]</text>\n<text text-anchor=\"start\" x=\"9565\" y=\"-7.8\" font-family=\"Helvetica,sans-Serif\" font-size=\"14.00\">class = 1</text>\n</g>\n<!-- 170&#45;&gt;171 -->\n<g id=\"edge171\" class=\"edge\">\n<title>170&#45;&gt;171</title>\n<path fill=\"none\" stroke=\"black\" d=\"M9592.5,-103.73C9592.5,-95.52 9592.5,-86.86 9592.5,-78.56\"/>\n<polygon fill=\"black\" stroke=\"black\" points=\"9596,-78.3 9592.5,-68.3 9589,-78.3 9596,-78.3\"/>\n</g>\n<!-- 172 -->\n<g id=\"node173\" class=\"node\">\n<title>172</title>\n<path fill=\"#56ace9\" stroke=\"black\" d=\"M9762,-68C9762,-68 9675,-68 9675,-68 9669,-68 9663,-62 9663,-56 9663,-56 9663,-12 9663,-12 9663,-6 9669,0 9675,0 9675,0 9762,0 9762,0 9768,0 9774,-6 9774,-12 9774,-12 9774,-56 9774,-56 9774,-62 9768,-68 9762,-68\"/>\n<text text-anchor=\"start\" x=\"9671\" y=\"-52.8\" font-family=\"Helvetica,sans-Serif\" font-size=\"14.00\">entropy = 0.555</text>\n<text text-anchor=\"start\" x=\"9677.5\" y=\"-37.8\" font-family=\"Helvetica,sans-Serif\" font-size=\"14.00\">samples = 31</text>\n<text text-anchor=\"start\" x=\"9675.5\" y=\"-22.8\" font-family=\"Helvetica,sans-Serif\" font-size=\"14.00\">value = [4, 27]</text>\n<text text-anchor=\"start\" x=\"9691\" y=\"-7.8\" font-family=\"Helvetica,sans-Serif\" font-size=\"14.00\">class = 2</text>\n</g>\n<!-- 170&#45;&gt;172 -->\n<g id=\"edge172\" class=\"edge\">\n<title>170&#45;&gt;172</title>\n<path fill=\"none\" stroke=\"black\" d=\"M9639.42,-103.73C9650.23,-94.33 9661.71,-84.35 9672.49,-74.99\"/>\n<polygon fill=\"black\" stroke=\"black\" points=\"9674.93,-77.5 9680.18,-68.3 9670.34,-72.22 9674.93,-77.5\"/>\n</g>\n<!-- 174 -->\n<g id=\"node175\" class=\"node\">\n<title>174</title>\n<path fill=\"#399de5\" stroke=\"black\" d=\"M9772.5,-179.5C9772.5,-179.5 9686.5,-179.5 9686.5,-179.5 9680.5,-179.5 9674.5,-173.5 9674.5,-167.5 9674.5,-167.5 9674.5,-123.5 9674.5,-123.5 9674.5,-117.5 9680.5,-111.5 9686.5,-111.5 9686.5,-111.5 9772.5,-111.5 9772.5,-111.5 9778.5,-111.5 9784.5,-117.5 9784.5,-123.5 9784.5,-123.5 9784.5,-167.5 9784.5,-167.5 9784.5,-173.5 9778.5,-179.5 9772.5,-179.5\"/>\n<text text-anchor=\"start\" x=\"9689.5\" y=\"-164.3\" font-family=\"Helvetica,sans-Serif\" font-size=\"14.00\">entropy = 0.0</text>\n<text text-anchor=\"start\" x=\"9684.5\" y=\"-149.3\" font-family=\"Helvetica,sans-Serif\" font-size=\"14.00\">samples = 146</text>\n<text text-anchor=\"start\" x=\"9682.5\" y=\"-134.3\" font-family=\"Helvetica,sans-Serif\" font-size=\"14.00\">value = [0, 146]</text>\n<text text-anchor=\"start\" x=\"9702\" y=\"-119.3\" font-family=\"Helvetica,sans-Serif\" font-size=\"14.00\">class = 2</text>\n</g>\n<!-- 173&#45;&gt;174 -->\n<g id=\"edge174\" class=\"edge\">\n<title>173&#45;&gt;174</title>\n<path fill=\"none\" stroke=\"black\" d=\"M9729.5,-222.91C9729.5,-212.2 9729.5,-200.62 9729.5,-189.78\"/>\n<polygon fill=\"black\" stroke=\"black\" points=\"9733,-189.67 9729.5,-179.67 9726,-189.67 9733,-189.67\"/>\n</g>\n<!-- 175 -->\n<g id=\"node176\" class=\"node\">\n<title>175</title>\n<path fill=\"#c5e2f7\" stroke=\"black\" d=\"M9918,-187C9918,-187 9815,-187 9815,-187 9809,-187 9803,-181 9803,-175 9803,-175 9803,-116 9803,-116 9803,-110 9809,-104 9815,-104 9815,-104 9918,-104 9918,-104 9924,-104 9930,-110 9930,-116 9930,-116 9930,-175 9930,-175 9930,-181 9924,-187 9918,-187\"/>\n<text text-anchor=\"start\" x=\"9811\" y=\"-171.8\" font-family=\"Helvetica,sans-Serif\" font-size=\"14.00\">t2_towerKills ≤ 9.5</text>\n<text text-anchor=\"start\" x=\"9819\" y=\"-156.8\" font-family=\"Helvetica,sans-Serif\" font-size=\"14.00\">entropy = 0.979</text>\n<text text-anchor=\"start\" x=\"9821.5\" y=\"-141.8\" font-family=\"Helvetica,sans-Serif\" font-size=\"14.00\">samples = 314</text>\n<text text-anchor=\"start\" x=\"9812\" y=\"-126.8\" font-family=\"Helvetica,sans-Serif\" font-size=\"14.00\">value = [130, 184]</text>\n<text text-anchor=\"start\" x=\"9839\" y=\"-111.8\" font-family=\"Helvetica,sans-Serif\" font-size=\"14.00\">class = 2</text>\n</g>\n<!-- 173&#45;&gt;175 -->\n<g id=\"edge175\" class=\"edge\">\n<title>173&#45;&gt;175</title>\n<path fill=\"none\" stroke=\"black\" d=\"M9777.03,-222.91C9788.08,-213.47 9799.94,-203.34 9811.29,-193.65\"/>\n<polygon fill=\"black\" stroke=\"black\" points=\"9813.72,-196.18 9819.05,-187.02 9809.18,-190.85 9813.72,-196.18\"/>\n</g>\n<!-- 176 -->\n<g id=\"node177\" class=\"node\">\n<title>176</title>\n<path fill=\"#fbebe0\" stroke=\"black\" d=\"M9891,-68C9891,-68 9804,-68 9804,-68 9798,-68 9792,-62 9792,-56 9792,-56 9792,-12 9792,-12 9792,-6 9798,0 9804,0 9804,0 9891,0 9891,0 9897,0 9903,-6 9903,-12 9903,-12 9903,-56 9903,-56 9903,-62 9897,-68 9891,-68\"/>\n<text text-anchor=\"start\" x=\"9800\" y=\"-52.8\" font-family=\"Helvetica,sans-Serif\" font-size=\"14.00\">entropy = 0.995</text>\n<text text-anchor=\"start\" x=\"9802.5\" y=\"-37.8\" font-family=\"Helvetica,sans-Serif\" font-size=\"14.00\">samples = 153</text>\n<text text-anchor=\"start\" x=\"9800.5\" y=\"-22.8\" font-family=\"Helvetica,sans-Serif\" font-size=\"14.00\">value = [83, 70]</text>\n<text text-anchor=\"start\" x=\"9820\" y=\"-7.8\" font-family=\"Helvetica,sans-Serif\" font-size=\"14.00\">class = 1</text>\n</g>\n<!-- 175&#45;&gt;176 -->\n<g id=\"edge176\" class=\"edge\">\n<title>175&#45;&gt;176</title>\n<path fill=\"none\" stroke=\"black\" d=\"M9859.43,-103.73C9857.98,-95.43 9856.47,-86.67 9855.01,-78.28\"/>\n<polygon fill=\"black\" stroke=\"black\" points=\"9858.44,-77.55 9853.28,-68.3 9851.54,-78.75 9858.44,-77.55\"/>\n</g>\n<!-- 177 -->\n<g id=\"node178\" class=\"node\">\n<title>177</title>\n<path fill=\"#8bc5f0\" stroke=\"black\" d=\"M10026,-68C10026,-68 9933,-68 9933,-68 9927,-68 9921,-62 9921,-56 9921,-56 9921,-12 9921,-12 9921,-6 9927,0 9933,0 9933,0 10026,0 10026,0 10032,0 10038,-6 10038,-12 10038,-12 10038,-56 10038,-56 10038,-62 10032,-68 10026,-68\"/>\n<text text-anchor=\"start\" x=\"9932\" y=\"-52.8\" font-family=\"Helvetica,sans-Serif\" font-size=\"14.00\">entropy = 0.871</text>\n<text text-anchor=\"start\" x=\"9934.5\" y=\"-37.8\" font-family=\"Helvetica,sans-Serif\" font-size=\"14.00\">samples = 161</text>\n<text text-anchor=\"start\" x=\"9929\" y=\"-22.8\" font-family=\"Helvetica,sans-Serif\" font-size=\"14.00\">value = [47, 114]</text>\n<text text-anchor=\"start\" x=\"9952\" y=\"-7.8\" font-family=\"Helvetica,sans-Serif\" font-size=\"14.00\">class = 2</text>\n</g>\n<!-- 175&#45;&gt;177 -->\n<g id=\"edge177\" class=\"edge\">\n<title>175&#45;&gt;177</title>\n<path fill=\"none\" stroke=\"black\" d=\"M9908.58,-103.73C9918.18,-94.42 9928.37,-84.54 9937.95,-75.26\"/>\n<polygon fill=\"black\" stroke=\"black\" points=\"9940.39,-77.77 9945.14,-68.3 9935.52,-72.75 9940.39,-77.77\"/>\n</g>\n<!-- 179 -->\n<g id=\"node180\" class=\"node\">\n<title>179</title>\n<path fill=\"#fdf7f3\" stroke=\"black\" d=\"M10296,-425C10296,-425 10179,-425 10179,-425 10173,-425 10167,-419 10167,-413 10167,-413 10167,-354 10167,-354 10167,-348 10173,-342 10179,-342 10179,-342 10296,-342 10296,-342 10302,-342 10308,-348 10308,-354 10308,-354 10308,-413 10308,-413 10308,-419 10302,-425 10296,-425\"/>\n<text text-anchor=\"start\" x=\"10175\" y=\"-409.8\" font-family=\"Helvetica,sans-Serif\" font-size=\"14.00\">t2_inhibitorKills ≤ 0.5</text>\n<text text-anchor=\"start\" x=\"10190\" y=\"-394.8\" font-family=\"Helvetica,sans-Serif\" font-size=\"14.00\">entropy = 0.999</text>\n<text text-anchor=\"start\" x=\"10192.5\" y=\"-379.8\" font-family=\"Helvetica,sans-Serif\" font-size=\"14.00\">samples = 690</text>\n<text text-anchor=\"start\" x=\"10183\" y=\"-364.8\" font-family=\"Helvetica,sans-Serif\" font-size=\"14.00\">value = [356, 334]</text>\n<text text-anchor=\"start\" x=\"10210\" y=\"-349.8\" font-family=\"Helvetica,sans-Serif\" font-size=\"14.00\">class = 1</text>\n</g>\n<!-- 178&#45;&gt;179 -->\n<g id=\"edge179\" class=\"edge\">\n<title>178&#45;&gt;179</title>\n<path fill=\"none\" stroke=\"black\" d=\"M10237.5,-460.91C10237.5,-452.65 10237.5,-443.86 10237.5,-435.3\"/>\n<polygon fill=\"black\" stroke=\"black\" points=\"10241,-435.02 10237.5,-425.02 10234,-435.02 10241,-435.02\"/>\n</g>\n<!-- 188 -->\n<g id=\"node189\" class=\"node\">\n<title>188</title>\n<path fill=\"#e89253\" stroke=\"black\" d=\"M10706,-425C10706,-425 10589,-425 10589,-425 10583,-425 10577,-419 10577,-413 10577,-413 10577,-354 10577,-354 10577,-348 10583,-342 10589,-342 10589,-342 10706,-342 10706,-342 10712,-342 10718,-348 10718,-354 10718,-354 10718,-413 10718,-413 10718,-419 10712,-425 10706,-425\"/>\n<text text-anchor=\"start\" x=\"10585\" y=\"-409.8\" font-family=\"Helvetica,sans-Serif\" font-size=\"14.00\">t2_inhibitorKills ≤ 1.5</text>\n<text text-anchor=\"start\" x=\"10600\" y=\"-394.8\" font-family=\"Helvetica,sans-Serif\" font-size=\"14.00\">entropy = 0.521</text>\n<text text-anchor=\"start\" x=\"10602.5\" y=\"-379.8\" font-family=\"Helvetica,sans-Serif\" font-size=\"14.00\">samples = 563</text>\n<text text-anchor=\"start\" x=\"10597\" y=\"-364.8\" font-family=\"Helvetica,sans-Serif\" font-size=\"14.00\">value = [497, 66]</text>\n<text text-anchor=\"start\" x=\"10620\" y=\"-349.8\" font-family=\"Helvetica,sans-Serif\" font-size=\"14.00\">class = 1</text>\n</g>\n<!-- 178&#45;&gt;188 -->\n<g id=\"edge188\" class=\"edge\">\n<title>178&#45;&gt;188</title>\n<path fill=\"none\" stroke=\"black\" d=\"M10300.22,-483.6C10371.74,-463.19 10488.88,-429.77 10567.07,-407.45\"/>\n<polygon fill=\"black\" stroke=\"black\" points=\"10568.22,-410.76 10576.88,-404.65 10566.3,-404.03 10568.22,-410.76\"/>\n</g>\n<!-- 180 -->\n<g id=\"node181\" class=\"node\">\n<title>180</title>\n<path fill=\"#e58139\" stroke=\"black\" d=\"M10211.5,-298.5C10211.5,-298.5 10125.5,-298.5 10125.5,-298.5 10119.5,-298.5 10113.5,-292.5 10113.5,-286.5 10113.5,-286.5 10113.5,-242.5 10113.5,-242.5 10113.5,-236.5 10119.5,-230.5 10125.5,-230.5 10125.5,-230.5 10211.5,-230.5 10211.5,-230.5 10217.5,-230.5 10223.5,-236.5 10223.5,-242.5 10223.5,-242.5 10223.5,-286.5 10223.5,-286.5 10223.5,-292.5 10217.5,-298.5 10211.5,-298.5\"/>\n<text text-anchor=\"start\" x=\"10128.5\" y=\"-283.3\" font-family=\"Helvetica,sans-Serif\" font-size=\"14.00\">entropy = 0.0</text>\n<text text-anchor=\"start\" x=\"10123.5\" y=\"-268.3\" font-family=\"Helvetica,sans-Serif\" font-size=\"14.00\">samples = 128</text>\n<text text-anchor=\"start\" x=\"10121.5\" y=\"-253.3\" font-family=\"Helvetica,sans-Serif\" font-size=\"14.00\">value = [128, 0]</text>\n<text text-anchor=\"start\" x=\"10141\" y=\"-238.3\" font-family=\"Helvetica,sans-Serif\" font-size=\"14.00\">class = 1</text>\n</g>\n<!-- 179&#45;&gt;180 -->\n<g id=\"edge180\" class=\"edge\">\n<title>179&#45;&gt;180</title>\n<path fill=\"none\" stroke=\"black\" d=\"M10213.56,-341.91C10206.99,-330.76 10199.85,-318.66 10193.23,-307.44\"/>\n<polygon fill=\"black\" stroke=\"black\" points=\"10196.15,-305.5 10188.06,-298.67 10190.13,-309.06 10196.15,-305.5\"/>\n</g>\n<!-- 181 -->\n<g id=\"node182\" class=\"node\">\n<title>181</title>\n<path fill=\"#c0e0f7\" stroke=\"black\" d=\"M10357,-306C10357,-306 10254,-306 10254,-306 10248,-306 10242,-300 10242,-294 10242,-294 10242,-235 10242,-235 10242,-229 10248,-223 10254,-223 10254,-223 10357,-223 10357,-223 10363,-223 10369,-229 10369,-235 10369,-235 10369,-294 10369,-294 10369,-300 10363,-306 10357,-306\"/>\n<text text-anchor=\"start\" x=\"10250\" y=\"-290.8\" font-family=\"Helvetica,sans-Serif\" font-size=\"14.00\">t2_towerKills ≤ 7.5</text>\n<text text-anchor=\"start\" x=\"10258\" y=\"-275.8\" font-family=\"Helvetica,sans-Serif\" font-size=\"14.00\">entropy = 0.974</text>\n<text text-anchor=\"start\" x=\"10260.5\" y=\"-260.8\" font-family=\"Helvetica,sans-Serif\" font-size=\"14.00\">samples = 562</text>\n<text text-anchor=\"start\" x=\"10251\" y=\"-245.8\" font-family=\"Helvetica,sans-Serif\" font-size=\"14.00\">value = [228, 334]</text>\n<text text-anchor=\"start\" x=\"10278\" y=\"-230.8\" font-family=\"Helvetica,sans-Serif\" font-size=\"14.00\">class = 2</text>\n</g>\n<!-- 179&#45;&gt;181 -->\n<g id=\"edge181\" class=\"edge\">\n<title>179&#45;&gt;181</title>\n<path fill=\"none\" stroke=\"black\" d=\"M10261.09,-341.91C10266.16,-333.2 10271.56,-323.9 10276.79,-314.89\"/>\n<polygon fill=\"black\" stroke=\"black\" points=\"10279.95,-316.43 10281.95,-306.02 10273.9,-312.91 10279.95,-316.43\"/>\n</g>\n<!-- 182 -->\n<g id=\"node183\" class=\"node\">\n<title>182</title>\n<path fill=\"#f9e3d3\" stroke=\"black\" d=\"M10282.5,-187C10282.5,-187 10172.5,-187 10172.5,-187 10166.5,-187 10160.5,-181 10160.5,-175 10160.5,-175 10160.5,-116 10160.5,-116 10160.5,-110 10166.5,-104 10172.5,-104 10172.5,-104 10282.5,-104 10282.5,-104 10288.5,-104 10294.5,-110 10294.5,-116 10294.5,-116 10294.5,-175 10294.5,-175 10294.5,-181 10288.5,-187 10282.5,-187\"/>\n<text text-anchor=\"start\" x=\"10168.5\" y=\"-171.8\" font-family=\"Helvetica,sans-Serif\" font-size=\"14.00\">t1_towerKills ≤ 10.5</text>\n<text text-anchor=\"start\" x=\"10180\" y=\"-156.8\" font-family=\"Helvetica,sans-Serif\" font-size=\"14.00\">entropy = 0.988</text>\n<text text-anchor=\"start\" x=\"10182.5\" y=\"-141.8\" font-family=\"Helvetica,sans-Serif\" font-size=\"14.00\">samples = 206</text>\n<text text-anchor=\"start\" x=\"10177\" y=\"-126.8\" font-family=\"Helvetica,sans-Serif\" font-size=\"14.00\">value = [116, 90]</text>\n<text text-anchor=\"start\" x=\"10200\" y=\"-111.8\" font-family=\"Helvetica,sans-Serif\" font-size=\"14.00\">class = 1</text>\n</g>\n<!-- 181&#45;&gt;182 -->\n<g id=\"edge182\" class=\"edge\">\n<title>181&#45;&gt;182</title>\n<path fill=\"none\" stroke=\"black\" d=\"M10278.44,-222.91C10272.57,-214.1 10266.3,-204.7 10260.24,-195.61\"/>\n<polygon fill=\"black\" stroke=\"black\" points=\"10262.97,-193.4 10254.51,-187.02 10257.15,-197.28 10262.97,-193.4\"/>\n</g>\n<!-- 185 -->\n<g id=\"node186\" class=\"node\">\n<title>185</title>\n<path fill=\"#94caf1\" stroke=\"black\" d=\"M10442,-187C10442,-187 10325,-187 10325,-187 10319,-187 10313,-181 10313,-175 10313,-175 10313,-116 10313,-116 10313,-110 10319,-104 10325,-104 10325,-104 10442,-104 10442,-104 10448,-104 10454,-110 10454,-116 10454,-116 10454,-175 10454,-175 10454,-181 10448,-187 10442,-187\"/>\n<text text-anchor=\"start\" x=\"10321\" y=\"-171.8\" font-family=\"Helvetica,sans-Serif\" font-size=\"14.00\">t1_inhibitorKills ≤ 1.5</text>\n<text text-anchor=\"start\" x=\"10336\" y=\"-156.8\" font-family=\"Helvetica,sans-Serif\" font-size=\"14.00\">entropy = 0.898</text>\n<text text-anchor=\"start\" x=\"10338.5\" y=\"-141.8\" font-family=\"Helvetica,sans-Serif\" font-size=\"14.00\">samples = 356</text>\n<text text-anchor=\"start\" x=\"10329\" y=\"-126.8\" font-family=\"Helvetica,sans-Serif\" font-size=\"14.00\">value = [112, 244]</text>\n<text text-anchor=\"start\" x=\"10356\" y=\"-111.8\" font-family=\"Helvetica,sans-Serif\" font-size=\"14.00\">class = 2</text>\n</g>\n<!-- 181&#45;&gt;185 -->\n<g id=\"edge185\" class=\"edge\">\n<title>181&#45;&gt;185</title>\n<path fill=\"none\" stroke=\"black\" d=\"M10332.56,-222.91C10338.43,-214.1 10344.7,-204.7 10350.76,-195.61\"/>\n<polygon fill=\"black\" stroke=\"black\" points=\"10353.85,-197.28 10356.49,-187.02 10348.03,-193.4 10353.85,-197.28\"/>\n</g>\n<!-- 183 -->\n<g id=\"node184\" class=\"node\">\n<title>183</title>\n<path fill=\"#f5fafe\" stroke=\"black\" d=\"M10154.5,-68C10154.5,-68 10068.5,-68 10068.5,-68 10062.5,-68 10056.5,-62 10056.5,-56 10056.5,-56 10056.5,-12 10056.5,-12 10056.5,-6 10062.5,0 10068.5,0 10068.5,0 10154.5,0 10154.5,0 10160.5,0 10166.5,-6 10166.5,-12 10166.5,-12 10166.5,-56 10166.5,-56 10166.5,-62 10160.5,-68 10154.5,-68\"/>\n<text text-anchor=\"start\" x=\"10071.5\" y=\"-52.8\" font-family=\"Helvetica,sans-Serif\" font-size=\"14.00\">entropy = 1.0</text>\n<text text-anchor=\"start\" x=\"10066.5\" y=\"-37.8\" font-family=\"Helvetica,sans-Serif\" font-size=\"14.00\">samples = 160</text>\n<text text-anchor=\"start\" x=\"10064.5\" y=\"-22.8\" font-family=\"Helvetica,sans-Serif\" font-size=\"14.00\">value = [78, 82]</text>\n<text text-anchor=\"start\" x=\"10084\" y=\"-7.8\" font-family=\"Helvetica,sans-Serif\" font-size=\"14.00\">class = 2</text>\n</g>\n<!-- 182&#45;&gt;183 -->\n<g id=\"edge183\" class=\"edge\">\n<title>182&#45;&gt;183</title>\n<path fill=\"none\" stroke=\"black\" d=\"M10184.31,-103.73C10174.45,-94.42 10163.98,-84.54 10154.15,-75.26\"/>\n<polygon fill=\"black\" stroke=\"black\" points=\"10156.45,-72.62 10146.78,-68.3 10151.65,-77.71 10156.45,-72.62\"/>\n</g>\n<!-- 184 -->\n<g id=\"node185\" class=\"node\">\n<title>184</title>\n<path fill=\"#ea9c63\" stroke=\"black\" d=\"M10284,-68C10284,-68 10197,-68 10197,-68 10191,-68 10185,-62 10185,-56 10185,-56 10185,-12 10185,-12 10185,-6 10191,0 10197,0 10197,0 10284,0 10284,0 10290,0 10296,-6 10296,-12 10296,-12 10296,-56 10296,-56 10296,-62 10290,-68 10284,-68\"/>\n<text text-anchor=\"start\" x=\"10193\" y=\"-52.8\" font-family=\"Helvetica,sans-Serif\" font-size=\"14.00\">entropy = 0.667</text>\n<text text-anchor=\"start\" x=\"10199.5\" y=\"-37.8\" font-family=\"Helvetica,sans-Serif\" font-size=\"14.00\">samples = 46</text>\n<text text-anchor=\"start\" x=\"10197.5\" y=\"-22.8\" font-family=\"Helvetica,sans-Serif\" font-size=\"14.00\">value = [38, 8]</text>\n<text text-anchor=\"start\" x=\"10213\" y=\"-7.8\" font-family=\"Helvetica,sans-Serif\" font-size=\"14.00\">class = 1</text>\n</g>\n<!-- 182&#45;&gt;184 -->\n<g id=\"edge184\" class=\"edge\">\n<title>182&#45;&gt;184</title>\n<path fill=\"none\" stroke=\"black\" d=\"M10232.34,-103.73C10233.33,-95.43 10234.37,-86.67 10235.36,-78.28\"/>\n<polygon fill=\"black\" stroke=\"black\" points=\"10238.84,-78.64 10236.55,-68.3 10231.89,-77.82 10238.84,-78.64\"/>\n</g>\n<!-- 186 -->\n<g id=\"node187\" class=\"node\">\n<title>186</title>\n<path fill=\"#3fa0e6\" stroke=\"black\" d=\"M10413,-68C10413,-68 10326,-68 10326,-68 10320,-68 10314,-62 10314,-56 10314,-56 10314,-12 10314,-12 10314,-6 10320,0 10326,0 10326,0 10413,0 10413,0 10419,0 10425,-6 10425,-12 10425,-12 10425,-56 10425,-56 10425,-62 10419,-68 10413,-68\"/>\n<text text-anchor=\"start\" x=\"10322\" y=\"-52.8\" font-family=\"Helvetica,sans-Serif\" font-size=\"14.00\">entropy = 0.196</text>\n<text text-anchor=\"start\" x=\"10328.5\" y=\"-37.8\" font-family=\"Helvetica,sans-Serif\" font-size=\"14.00\">samples = 33</text>\n<text text-anchor=\"start\" x=\"10326.5\" y=\"-22.8\" font-family=\"Helvetica,sans-Serif\" font-size=\"14.00\">value = [1, 32]</text>\n<text text-anchor=\"start\" x=\"10342\" y=\"-7.8\" font-family=\"Helvetica,sans-Serif\" font-size=\"14.00\">class = 2</text>\n</g>\n<!-- 185&#45;&gt;186 -->\n<g id=\"edge186\" class=\"edge\">\n<title>185&#45;&gt;186</title>\n<path fill=\"none\" stroke=\"black\" d=\"M10378.29,-103.73C10377.23,-95.43 10376.11,-86.67 10375.03,-78.28\"/>\n<polygon fill=\"black\" stroke=\"black\" points=\"10378.5,-77.77 10373.76,-68.3 10371.55,-78.66 10378.5,-77.77\"/>\n</g>\n<!-- 187 -->\n<g id=\"node188\" class=\"node\">\n<title>187</title>\n<path fill=\"#a1d0f3\" stroke=\"black\" d=\"M10556,-68C10556,-68 10455,-68 10455,-68 10449,-68 10443,-62 10443,-56 10443,-56 10443,-12 10443,-12 10443,-6 10449,0 10455,0 10455,0 10556,0 10556,0 10562,0 10568,-6 10568,-12 10568,-12 10568,-56 10568,-56 10568,-62 10562,-68 10556,-68\"/>\n<text text-anchor=\"start\" x=\"10458\" y=\"-52.8\" font-family=\"Helvetica,sans-Serif\" font-size=\"14.00\">entropy = 0.928</text>\n<text text-anchor=\"start\" x=\"10460.5\" y=\"-37.8\" font-family=\"Helvetica,sans-Serif\" font-size=\"14.00\">samples = 323</text>\n<text text-anchor=\"start\" x=\"10451\" y=\"-22.8\" font-family=\"Helvetica,sans-Serif\" font-size=\"14.00\">value = [111, 212]</text>\n<text text-anchor=\"start\" x=\"10478\" y=\"-7.8\" font-family=\"Helvetica,sans-Serif\" font-size=\"14.00\">class = 2</text>\n</g>\n<!-- 185&#45;&gt;187 -->\n<g id=\"edge187\" class=\"edge\">\n<title>185&#45;&gt;187</title>\n<path fill=\"none\" stroke=\"black\" d=\"M10428.93,-103.73C10439.4,-94.33 10450.52,-84.35 10460.95,-74.99\"/>\n<polygon fill=\"black\" stroke=\"black\" points=\"10463.29,-77.58 10468.4,-68.3 10458.62,-72.37 10463.29,-77.58\"/>\n</g>\n<!-- 189 -->\n<g id=\"node190\" class=\"node\">\n<title>189</title>\n<path fill=\"#e5823a\" stroke=\"black\" d=\"M10703.5,-306C10703.5,-306 10591.5,-306 10591.5,-306 10585.5,-306 10579.5,-300 10579.5,-294 10579.5,-294 10579.5,-235 10579.5,-235 10579.5,-229 10585.5,-223 10591.5,-223 10591.5,-223 10703.5,-223 10703.5,-223 10709.5,-223 10715.5,-229 10715.5,-235 10715.5,-235 10715.5,-294 10715.5,-294 10715.5,-300 10709.5,-306 10703.5,-306\"/>\n<text text-anchor=\"start\" x=\"10587.5\" y=\"-290.8\" font-family=\"Helvetica,sans-Serif\" font-size=\"14.00\">t1_dragonKills ≤ 3.5</text>\n<text text-anchor=\"start\" x=\"10600\" y=\"-275.8\" font-family=\"Helvetica,sans-Serif\" font-size=\"14.00\">entropy = 0.041</text>\n<text text-anchor=\"start\" x=\"10602.5\" y=\"-260.8\" font-family=\"Helvetica,sans-Serif\" font-size=\"14.00\">samples = 228</text>\n<text text-anchor=\"start\" x=\"10600.5\" y=\"-245.8\" font-family=\"Helvetica,sans-Serif\" font-size=\"14.00\">value = [227, 1]</text>\n<text text-anchor=\"start\" x=\"10620\" y=\"-230.8\" font-family=\"Helvetica,sans-Serif\" font-size=\"14.00\">class = 1</text>\n</g>\n<!-- 188&#45;&gt;189 -->\n<g id=\"edge189\" class=\"edge\">\n<title>188&#45;&gt;189</title>\n<path fill=\"none\" stroke=\"black\" d=\"M10647.5,-341.91C10647.5,-333.65 10647.5,-324.86 10647.5,-316.3\"/>\n<polygon fill=\"black\" stroke=\"black\" points=\"10651,-316.02 10647.5,-306.02 10644,-316.02 10651,-316.02\"/>\n</g>\n<!-- 194 -->\n<g id=\"node195\" class=\"node\">\n<title>194</title>\n<path fill=\"#eb9f69\" stroke=\"black\" d=\"M11010,-306C11010,-306 10907,-306 10907,-306 10901,-306 10895,-300 10895,-294 10895,-294 10895,-235 10895,-235 10895,-229 10901,-223 10907,-223 10907,-223 11010,-223 11010,-223 11016,-223 11022,-229 11022,-235 11022,-235 11022,-294 11022,-294 11022,-300 11016,-306 11010,-306\"/>\n<text text-anchor=\"start\" x=\"10903\" y=\"-290.8\" font-family=\"Helvetica,sans-Serif\" font-size=\"14.00\">t2_towerKills ≤ 8.5</text>\n<text text-anchor=\"start\" x=\"10914.5\" y=\"-275.8\" font-family=\"Helvetica,sans-Serif\" font-size=\"14.00\">entropy = 0.71</text>\n<text text-anchor=\"start\" x=\"10913.5\" y=\"-260.8\" font-family=\"Helvetica,sans-Serif\" font-size=\"14.00\">samples = 335</text>\n<text text-anchor=\"start\" x=\"10908\" y=\"-245.8\" font-family=\"Helvetica,sans-Serif\" font-size=\"14.00\">value = [270, 65]</text>\n<text text-anchor=\"start\" x=\"10931\" y=\"-230.8\" font-family=\"Helvetica,sans-Serif\" font-size=\"14.00\">class = 1</text>\n</g>\n<!-- 188&#45;&gt;194 -->\n<g id=\"edge194\" class=\"edge\">\n<title>188&#45;&gt;194</title>\n<path fill=\"none\" stroke=\"black\" d=\"M10718.07,-355.95C10767.99,-337.17 10834.76,-312.05 10885.26,-293.05\"/>\n<polygon fill=\"black\" stroke=\"black\" points=\"10886.69,-296.26 10894.82,-289.46 10884.22,-289.7 10886.69,-296.26\"/>\n</g>\n<!-- 190 -->\n<g id=\"node191\" class=\"node\">\n<title>190</title>\n<path fill=\"#e58139\" stroke=\"black\" d=\"M10621.5,-179.5C10621.5,-179.5 10535.5,-179.5 10535.5,-179.5 10529.5,-179.5 10523.5,-173.5 10523.5,-167.5 10523.5,-167.5 10523.5,-123.5 10523.5,-123.5 10523.5,-117.5 10529.5,-111.5 10535.5,-111.5 10535.5,-111.5 10621.5,-111.5 10621.5,-111.5 10627.5,-111.5 10633.5,-117.5 10633.5,-123.5 10633.5,-123.5 10633.5,-167.5 10633.5,-167.5 10633.5,-173.5 10627.5,-179.5 10621.5,-179.5\"/>\n<text text-anchor=\"start\" x=\"10538.5\" y=\"-164.3\" font-family=\"Helvetica,sans-Serif\" font-size=\"14.00\">entropy = 0.0</text>\n<text text-anchor=\"start\" x=\"10533.5\" y=\"-149.3\" font-family=\"Helvetica,sans-Serif\" font-size=\"14.00\">samples = 213</text>\n<text text-anchor=\"start\" x=\"10531.5\" y=\"-134.3\" font-family=\"Helvetica,sans-Serif\" font-size=\"14.00\">value = [213, 0]</text>\n<text text-anchor=\"start\" x=\"10551\" y=\"-119.3\" font-family=\"Helvetica,sans-Serif\" font-size=\"14.00\">class = 1</text>\n</g>\n<!-- 189&#45;&gt;190 -->\n<g id=\"edge190\" class=\"edge\">\n<title>189&#45;&gt;190</title>\n<path fill=\"none\" stroke=\"black\" d=\"M10623.56,-222.91C10616.99,-211.76 10609.85,-199.66 10603.23,-188.44\"/>\n<polygon fill=\"black\" stroke=\"black\" points=\"10606.15,-186.5 10598.06,-179.67 10600.13,-190.06 10606.15,-186.5\"/>\n</g>\n<!-- 191 -->\n<g id=\"node192\" class=\"node\">\n<title>191</title>\n<path fill=\"#e78a47\" stroke=\"black\" d=\"M10767,-187C10767,-187 10664,-187 10664,-187 10658,-187 10652,-181 10652,-175 10652,-175 10652,-116 10652,-116 10652,-110 10658,-104 10664,-104 10664,-104 10767,-104 10767,-104 10773,-104 10779,-110 10779,-116 10779,-116 10779,-175 10779,-175 10779,-181 10773,-187 10767,-187\"/>\n<text text-anchor=\"start\" x=\"10660\" y=\"-171.8\" font-family=\"Helvetica,sans-Serif\" font-size=\"14.00\">t1_towerKills ≤ 9.5</text>\n<text text-anchor=\"start\" x=\"10668\" y=\"-156.8\" font-family=\"Helvetica,sans-Serif\" font-size=\"14.00\">entropy = 0.353</text>\n<text text-anchor=\"start\" x=\"10674.5\" y=\"-141.8\" font-family=\"Helvetica,sans-Serif\" font-size=\"14.00\">samples = 15</text>\n<text text-anchor=\"start\" x=\"10672.5\" y=\"-126.8\" font-family=\"Helvetica,sans-Serif\" font-size=\"14.00\">value = [14, 1]</text>\n<text text-anchor=\"start\" x=\"10688\" y=\"-111.8\" font-family=\"Helvetica,sans-Serif\" font-size=\"14.00\">class = 1</text>\n</g>\n<!-- 189&#45;&gt;191 -->\n<g id=\"edge191\" class=\"edge\">\n<title>189&#45;&gt;191</title>\n<path fill=\"none\" stroke=\"black\" d=\"M10671.09,-222.91C10676.16,-214.2 10681.56,-204.9 10686.79,-195.89\"/>\n<polygon fill=\"black\" stroke=\"black\" points=\"10689.95,-197.43 10691.95,-187.02 10683.9,-193.91 10689.95,-197.43\"/>\n</g>\n<!-- 192 -->\n<g id=\"node193\" class=\"node\">\n<title>192</title>\n<path fill=\"#eeab7b\" stroke=\"black\" d=\"M10685,-68C10685,-68 10598,-68 10598,-68 10592,-68 10586,-62 10586,-56 10586,-56 10586,-12 10586,-12 10586,-6 10592,0 10598,0 10598,0 10685,0 10685,0 10691,0 10697,-6 10697,-12 10697,-12 10697,-56 10697,-56 10697,-62 10691,-68 10685,-68\"/>\n<text text-anchor=\"start\" x=\"10594\" y=\"-52.8\" font-family=\"Helvetica,sans-Serif\" font-size=\"14.00\">entropy = 0.811</text>\n<text text-anchor=\"start\" x=\"10604\" y=\"-37.8\" font-family=\"Helvetica,sans-Serif\" font-size=\"14.00\">samples = 4</text>\n<text text-anchor=\"start\" x=\"10602\" y=\"-22.8\" font-family=\"Helvetica,sans-Serif\" font-size=\"14.00\">value = [3, 1]</text>\n<text text-anchor=\"start\" x=\"10614\" y=\"-7.8\" font-family=\"Helvetica,sans-Serif\" font-size=\"14.00\">class = 1</text>\n</g>\n<!-- 191&#45;&gt;192 -->\n<g id=\"edge192\" class=\"edge\">\n<title>191&#45;&gt;192</title>\n<path fill=\"none\" stroke=\"black\" d=\"M10687.95,-103.73C10681.97,-94.88 10675.63,-85.51 10669.63,-76.63\"/>\n<polygon fill=\"black\" stroke=\"black\" points=\"10672.5,-74.63 10664,-68.3 10666.7,-78.54 10672.5,-74.63\"/>\n</g>\n<!-- 193 -->\n<g id=\"node194\" class=\"node\">\n<title>193</title>\n<path fill=\"#e58139\" stroke=\"black\" d=\"M10805.5,-68C10805.5,-68 10727.5,-68 10727.5,-68 10721.5,-68 10715.5,-62 10715.5,-56 10715.5,-56 10715.5,-12 10715.5,-12 10715.5,-6 10721.5,0 10727.5,0 10727.5,0 10805.5,0 10805.5,0 10811.5,0 10817.5,-6 10817.5,-12 10817.5,-12 10817.5,-56 10817.5,-56 10817.5,-62 10811.5,-68 10805.5,-68\"/>\n<text text-anchor=\"start\" x=\"10726.5\" y=\"-52.8\" font-family=\"Helvetica,sans-Serif\" font-size=\"14.00\">entropy = 0.0</text>\n<text text-anchor=\"start\" x=\"10725.5\" y=\"-37.8\" font-family=\"Helvetica,sans-Serif\" font-size=\"14.00\">samples = 11</text>\n<text text-anchor=\"start\" x=\"10723.5\" y=\"-22.8\" font-family=\"Helvetica,sans-Serif\" font-size=\"14.00\">value = [11, 0]</text>\n<text text-anchor=\"start\" x=\"10739\" y=\"-7.8\" font-family=\"Helvetica,sans-Serif\" font-size=\"14.00\">class = 1</text>\n</g>\n<!-- 191&#45;&gt;193 -->\n<g id=\"edge193\" class=\"edge\">\n<title>191&#45;&gt;193</title>\n<path fill=\"none\" stroke=\"black\" d=\"M10734.49,-103.73C10738.48,-95.15 10742.71,-86.09 10746.73,-77.46\"/>\n<polygon fill=\"black\" stroke=\"black\" points=\"10749.94,-78.84 10750.99,-68.3 10743.6,-75.89 10749.94,-78.84\"/>\n</g>\n<!-- 195 -->\n<g id=\"node196\" class=\"node\">\n<title>195</title>\n<path fill=\"#e89152\" stroke=\"black\" d=\"M11010.5,-187C11010.5,-187 10906.5,-187 10906.5,-187 10900.5,-187 10894.5,-181 10894.5,-175 10894.5,-175 10894.5,-116 10894.5,-116 10894.5,-110 10900.5,-104 10906.5,-104 10906.5,-104 11010.5,-104 11010.5,-104 11016.5,-104 11022.5,-110 11022.5,-116 11022.5,-116 11022.5,-175 11022.5,-175 11022.5,-181 11016.5,-187 11010.5,-187\"/>\n<text text-anchor=\"start\" x=\"10902.5\" y=\"-171.8\" font-family=\"Helvetica,sans-Serif\" font-size=\"14.00\">t2_baronKills ≤ 0.5</text>\n<text text-anchor=\"start\" x=\"10911\" y=\"-156.8\" font-family=\"Helvetica,sans-Serif\" font-size=\"14.00\">entropy = 0.505</text>\n<text text-anchor=\"start\" x=\"10913.5\" y=\"-141.8\" font-family=\"Helvetica,sans-Serif\" font-size=\"14.00\">samples = 161</text>\n<text text-anchor=\"start\" x=\"10908\" y=\"-126.8\" font-family=\"Helvetica,sans-Serif\" font-size=\"14.00\">value = [143, 18]</text>\n<text text-anchor=\"start\" x=\"10931\" y=\"-111.8\" font-family=\"Helvetica,sans-Serif\" font-size=\"14.00\">class = 1</text>\n</g>\n<!-- 194&#45;&gt;195 -->\n<g id=\"edge195\" class=\"edge\">\n<title>194&#45;&gt;195</title>\n<path fill=\"none\" stroke=\"black\" d=\"M10958.5,-222.91C10958.5,-214.65 10958.5,-205.86 10958.5,-197.3\"/>\n<polygon fill=\"black\" stroke=\"black\" points=\"10962,-197.02 10958.5,-187.02 10955,-197.02 10962,-197.02\"/>\n</g>\n<!-- 198 -->\n<g id=\"node199\" class=\"node\">\n<title>198</title>\n<path fill=\"#efb082\" stroke=\"black\" d=\"M11201.5,-187C11201.5,-187 11097.5,-187 11097.5,-187 11091.5,-187 11085.5,-181 11085.5,-175 11085.5,-175 11085.5,-116 11085.5,-116 11085.5,-110 11091.5,-104 11097.5,-104 11097.5,-104 11201.5,-104 11201.5,-104 11207.5,-104 11213.5,-110 11213.5,-116 11213.5,-116 11213.5,-175 11213.5,-175 11213.5,-181 11207.5,-187 11201.5,-187\"/>\n<text text-anchor=\"start\" x=\"11093.5\" y=\"-171.8\" font-family=\"Helvetica,sans-Serif\" font-size=\"14.00\">t1_baronKills ≤ 1.5</text>\n<text text-anchor=\"start\" x=\"11102\" y=\"-156.8\" font-family=\"Helvetica,sans-Serif\" font-size=\"14.00\">entropy = 0.842</text>\n<text text-anchor=\"start\" x=\"11104.5\" y=\"-141.8\" font-family=\"Helvetica,sans-Serif\" font-size=\"14.00\">samples = 174</text>\n<text text-anchor=\"start\" x=\"11099\" y=\"-126.8\" font-family=\"Helvetica,sans-Serif\" font-size=\"14.00\">value = [127, 47]</text>\n<text text-anchor=\"start\" x=\"11122\" y=\"-111.8\" font-family=\"Helvetica,sans-Serif\" font-size=\"14.00\">class = 1</text>\n</g>\n<!-- 194&#45;&gt;198 -->\n<g id=\"edge198\" class=\"edge\">\n<title>194&#45;&gt;198</title>\n<path fill=\"none\" stroke=\"black\" d=\"M11022.1,-224.54C11039.54,-213.86 11058.58,-202.19 11076.5,-191.21\"/>\n<polygon fill=\"black\" stroke=\"black\" points=\"11078.5,-194.1 11085.2,-185.89 11074.84,-188.13 11078.5,-194.1\"/>\n</g>\n<!-- 196 -->\n<g id=\"node197\" class=\"node\">\n<title>196</title>\n<path fill=\"#e5833c\" stroke=\"black\" d=\"M10935,-68C10935,-68 10848,-68 10848,-68 10842,-68 10836,-62 10836,-56 10836,-56 10836,-12 10836,-12 10836,-6 10842,0 10848,0 10848,0 10935,0 10935,0 10941,0 10947,-6 10947,-12 10947,-12 10947,-56 10947,-56 10947,-62 10941,-68 10935,-68\"/>\n<text text-anchor=\"start\" x=\"10844\" y=\"-52.8\" font-family=\"Helvetica,sans-Serif\" font-size=\"14.00\">entropy = 0.122</text>\n<text text-anchor=\"start\" x=\"10850.5\" y=\"-37.8\" font-family=\"Helvetica,sans-Serif\" font-size=\"14.00\">samples = 60</text>\n<text text-anchor=\"start\" x=\"10848.5\" y=\"-22.8\" font-family=\"Helvetica,sans-Serif\" font-size=\"14.00\">value = [59, 1]</text>\n<text text-anchor=\"start\" x=\"10864\" y=\"-7.8\" font-family=\"Helvetica,sans-Serif\" font-size=\"14.00\">class = 1</text>\n</g>\n<!-- 195&#45;&gt;196 -->\n<g id=\"edge196\" class=\"edge\">\n<title>195&#45;&gt;196</title>\n<path fill=\"none\" stroke=\"black\" d=\"M10933.55,-103.73C10928.19,-94.97 10922.52,-85.7 10917.14,-76.91\"/>\n<polygon fill=\"black\" stroke=\"black\" points=\"10920.08,-75 10911.88,-68.3 10914.11,-78.66 10920.08,-75\"/>\n</g>\n<!-- 197 -->\n<g id=\"node198\" class=\"node\">\n<title>197</title>\n<path fill=\"#ea9a61\" stroke=\"black\" d=\"M11064,-68C11064,-68 10977,-68 10977,-68 10971,-68 10965,-62 10965,-56 10965,-56 10965,-12 10965,-12 10965,-6 10971,0 10977,0 10977,0 11064,0 11064,0 11070,0 11076,-6 11076,-12 11076,-12 11076,-56 11076,-56 11076,-62 11070,-68 11064,-68\"/>\n<text text-anchor=\"start\" x=\"10973\" y=\"-52.8\" font-family=\"Helvetica,sans-Serif\" font-size=\"14.00\">entropy = 0.654</text>\n<text text-anchor=\"start\" x=\"10975.5\" y=\"-37.8\" font-family=\"Helvetica,sans-Serif\" font-size=\"14.00\">samples = 101</text>\n<text text-anchor=\"start\" x=\"10973.5\" y=\"-22.8\" font-family=\"Helvetica,sans-Serif\" font-size=\"14.00\">value = [84, 17]</text>\n<text text-anchor=\"start\" x=\"10993\" y=\"-7.8\" font-family=\"Helvetica,sans-Serif\" font-size=\"14.00\">class = 1</text>\n</g>\n<!-- 195&#45;&gt;197 -->\n<g id=\"edge197\" class=\"edge\">\n<title>195&#45;&gt;197</title>\n<path fill=\"none\" stroke=\"black\" d=\"M10981.59,-103.73C10986.49,-95.06 10991.68,-85.9 10996.62,-77.18\"/>\n<polygon fill=\"black\" stroke=\"black\" points=\"10999.76,-78.73 11001.65,-68.3 10993.67,-75.28 10999.76,-78.73\"/>\n</g>\n<!-- 199 -->\n<g id=\"node200\" class=\"node\">\n<title>199</title>\n<path fill=\"#eca26d\" stroke=\"black\" d=\"M11193,-68C11193,-68 11106,-68 11106,-68 11100,-68 11094,-62 11094,-56 11094,-56 11094,-12 11094,-12 11094,-6 11100,0 11106,0 11106,0 11193,0 11193,0 11199,0 11205,-6 11205,-12 11205,-12 11205,-56 11205,-56 11205,-62 11199,-68 11193,-68\"/>\n<text text-anchor=\"start\" x=\"11102\" y=\"-52.8\" font-family=\"Helvetica,sans-Serif\" font-size=\"14.00\">entropy = 0.736</text>\n<text text-anchor=\"start\" x=\"11104.5\" y=\"-37.8\" font-family=\"Helvetica,sans-Serif\" font-size=\"14.00\">samples = 116</text>\n<text text-anchor=\"start\" x=\"11102.5\" y=\"-22.8\" font-family=\"Helvetica,sans-Serif\" font-size=\"14.00\">value = [92, 24]</text>\n<text text-anchor=\"start\" x=\"11122\" y=\"-7.8\" font-family=\"Helvetica,sans-Serif\" font-size=\"14.00\">class = 1</text>\n</g>\n<!-- 198&#45;&gt;199 -->\n<g id=\"edge199\" class=\"edge\">\n<title>198&#45;&gt;199</title>\n<path fill=\"none\" stroke=\"black\" d=\"M11149.5,-103.73C11149.5,-95.52 11149.5,-86.86 11149.5,-78.56\"/>\n<polygon fill=\"black\" stroke=\"black\" points=\"11153,-78.3 11149.5,-68.3 11146,-78.3 11153,-78.3\"/>\n</g>\n<!-- 200 -->\n<g id=\"node201\" class=\"node\">\n<title>200</title>\n<path fill=\"#f6d4bb\" stroke=\"black\" d=\"M11322,-68C11322,-68 11235,-68 11235,-68 11229,-68 11223,-62 11223,-56 11223,-56 11223,-12 11223,-12 11223,-6 11229,0 11235,0 11235,0 11322,0 11322,0 11328,0 11334,-6 11334,-12 11334,-12 11334,-56 11334,-56 11334,-62 11328,-68 11322,-68\"/>\n<text text-anchor=\"start\" x=\"11231\" y=\"-52.8\" font-family=\"Helvetica,sans-Serif\" font-size=\"14.00\">entropy = 0.969</text>\n<text text-anchor=\"start\" x=\"11237.5\" y=\"-37.8\" font-family=\"Helvetica,sans-Serif\" font-size=\"14.00\">samples = 58</text>\n<text text-anchor=\"start\" x=\"11231.5\" y=\"-22.8\" font-family=\"Helvetica,sans-Serif\" font-size=\"14.00\">value = [35, 23]</text>\n<text text-anchor=\"start\" x=\"11251\" y=\"-7.8\" font-family=\"Helvetica,sans-Serif\" font-size=\"14.00\">class = 1</text>\n</g>\n<!-- 198&#45;&gt;200 -->\n<g id=\"edge200\" class=\"edge\">\n<title>198&#45;&gt;200</title>\n<path fill=\"none\" stroke=\"black\" d=\"M11197.53,-103.73C11208.6,-94.33 11220.36,-84.35 11231.39,-74.99\"/>\n<polygon fill=\"black\" stroke=\"black\" points=\"11233.91,-77.44 11239.27,-68.3 11229.38,-72.1 11233.91,-77.44\"/>\n</g>\n</g>\n</svg>\n",
            "text/plain": [
              "<graphviz.sources.Source at 0x79bfc791b940>"
            ]
          },
          "metadata": {},
          "execution_count": 67
        }
      ],
      "source": [
        "dot_data = tree.export_graphviz(dt2, out_file=None, feature_names=x.columns,class_names=[\"1\",\"2\"],\n",
        "                     filled=True, rounded=True, special_characters=True)\n",
        "graph = graphviz.Source(dot_data)\n",
        "graph"
      ]
    },
    {
      "cell_type": "markdown",
      "metadata": {
        "id": "nWxauEgUDf3r"
      },
      "source": [
        "### Evaluacion de modelo"
      ]
    },
    {
      "cell_type": "code",
      "execution_count": null,
      "metadata": {
        "id": "cEnWrc46gg9F",
        "colab": {
          "base_uri": "https://localhost:8080/"
        },
        "outputId": "ca0596b9-c7fa-4bec-9b7e-ad61cd2fa337"
      },
      "outputs": [
        {
          "output_type": "stream",
          "name": "stdout",
          "text": [
            "Classification report : \n",
            "               precision    recall  f1-score   support\n",
            "\n",
            "           1       0.96      0.97      0.97      5286\n",
            "           2       0.97      0.96      0.96      5004\n",
            "\n",
            "    accuracy                           0.97     10290\n",
            "   macro avg       0.97      0.97      0.97     10290\n",
            "weighted avg       0.97      0.97      0.97     10290\n",
            "\n"
          ]
        }
      ],
      "source": [
        "predicted_values = dt2.predict(x_test)\n",
        "cm=confusion_matrix(y_test,predicted_values)\n",
        "cr=classification_report(y_test,predicted_values)\n",
        "print('Classification report : \\n',cr)"
      ]
    },
    {
      "cell_type": "code",
      "execution_count": null,
      "metadata": {
        "id": "9eLwYH0pgmS0",
        "colab": {
          "base_uri": "https://localhost:8080/",
          "height": 467
        },
        "outputId": "d82d6f42-91e5-46a5-b201-292dedec390f"
      },
      "outputs": [
        {
          "output_type": "execute_result",
          "data": {
            "text/plain": [
              "Text(0.5, 23.52222222222222, 'y_head')"
            ]
          },
          "metadata": {},
          "execution_count": 69
        },
        {
          "output_type": "display_data",
          "data": {
            "text/plain": [
              "<Figure size 640x480 with 1 Axes>"
            ],
            "image/png": "[encoded data removed]"
          },
          "metadata": {}
        }
      ],
      "source": [
        "g1 = sns.heatmap(cm,annot=True,fmt=\".1f\",cmap=\"flag\",cbar=False)\n",
        "g1.set_ylabel('y_true')\n",
        "g1.set_xlabel('y_head')"
      ]
    },
    {
      "cell_type": "markdown",
      "metadata": {
        "id": "MGv-Z0njg4R1"
      },
      "source": [
        "### Predicciones"
      ]
    },
    {
      "cell_type": "code",
      "execution_count": null,
      "metadata": {
        "id": "zuqxf17qg7w6",
        "colab": {
          "base_uri": "https://localhost:8080/",
          "height": 132
        },
        "outputId": "389577da-cd9a-4dbf-9ec5-3ac83af76cfd"
      },
      "outputs": [
        {
          "output_type": "execute_result",
          "data": {
            "text/plain": [
              "                  0            1                2            3             4   \\\n",
              "feature  first_blood  first_tower  first_inhibitor  first_Baron  first_Dragon   \n",
              "value              1            1                2            1             1   \n",
              "\n",
              "                       5         6             7         8          9   \\\n",
              "feature  first_RiftHerald  t1_tower  t1_inhibitor  t1_baron  t1_dragon   \n",
              "value                   1        10             2         1          4   \n",
              "\n",
              "               10            11        12         13  \n",
              "feature  t2_tower  t2_inhibitor  t2_baron  t2_dragon  \n",
              "value           7             2         1          1  "
            ],
            "text/html": [
              "\n",
              "  <div id=\"df-acf8bae8-e659-4331-bd79-cb2b772318eb\" class=\"colab-df-container\">\n",
              "    <div>\n",
              "<style scoped>\n",
              "    .dataframe tbody tr th:only-of-type {\n",
              "        vertical-align: middle;\n",
              "    }\n",
              "\n",
              "    .dataframe tbody tr th {\n",
              "        vertical-align: top;\n",
              "    }\n",
              "\n",
              "    .dataframe thead th {\n",
              "        text-align: right;\n",
              "    }\n",
              "</style>\n",
              "<table border=\"1\" class=\"dataframe\">\n",
              "  <thead>\n",
              "    <tr style=\"text-align: right;\">\n",
              "      <th></th>\n",
              "      <th>0</th>\n",
              "      <th>1</th>\n",
              "      <th>2</th>\n",
              "      <th>3</th>\n",
              "      <th>4</th>\n",
              "      <th>5</th>\n",
              "      <th>6</th>\n",
              "      <th>7</th>\n",
              "      <th>8</th>\n",
              "      <th>9</th>\n",
              "      <th>10</th>\n",
              "      <th>11</th>\n",
              "      <th>12</th>\n",
              "      <th>13</th>\n",
              "    </tr>\n",
              "  </thead>\n",
              "  <tbody>\n",
              "    <tr>\n",
              "      <th>feature</th>\n",
              "      <td>first_blood</td>\n",
              "      <td>first_tower</td>\n",
              "      <td>first_inhibitor</td>\n",
              "      <td>first_Baron</td>\n",
              "      <td>first_Dragon</td>\n",
              "      <td>first_RiftHerald</td>\n",
              "      <td>t1_tower</td>\n",
              "      <td>t1_inhibitor</td>\n",
              "      <td>t1_baron</td>\n",
              "      <td>t1_dragon</td>\n",
              "      <td>t2_tower</td>\n",
              "      <td>t2_inhibitor</td>\n",
              "      <td>t2_baron</td>\n",
              "      <td>t2_dragon</td>\n",
              "    </tr>\n",
              "    <tr>\n",
              "      <th>value</th>\n",
              "      <td>1</td>\n",
              "      <td>1</td>\n",
              "      <td>2</td>\n",
              "      <td>1</td>\n",
              "      <td>1</td>\n",
              "      <td>1</td>\n",
              "      <td>10</td>\n",
              "      <td>2</td>\n",
              "      <td>1</td>\n",
              "      <td>4</td>\n",
              "      <td>7</td>\n",
              "      <td>2</td>\n",
              "      <td>1</td>\n",
              "      <td>1</td>\n",
              "    </tr>\n",
              "  </tbody>\n",
              "</table>\n",
              "</div>\n",
              "    <div class=\"colab-df-buttons\">\n",
              "\n",
              "  <div class=\"colab-df-container\">\n",
              "    <button class=\"colab-df-convert\" onclick=\"convertToInteractive('df-acf8bae8-e659-4331-bd79-cb2b772318eb')\"\n",
              "            title=\"Convert this dataframe to an interactive table.\"\n",
              "            style=\"display:none;\">\n",
              "\n",
              "  <svg xmlns=\"http://www.w3.org/2000/svg\" height=\"24px\" viewBox=\"0 -960 960 960\">\n",
              "    <path d=\"M120-120v-720h720v720H120Zm60-500h600v-160H180v160Zm220 220h160v-160H400v160Zm0 220h160v-160H400v160ZM180-400h160v-160H180v160Zm440 0h160v-160H620v160ZM180-180h160v-160H180v160Zm440 0h160v-160H620v160Z\"/>\n",
              "  </svg>\n",
              "    </button>\n",
              "\n",
              "  <style>\n",
              "    .colab-df-container {\n",
              "      display:flex;\n",
              "      gap: 12px;\n",
              "    }\n",
              "\n",
              "    .colab-df-convert {\n",
              "      background-color: #E8F0FE;\n",
              "      border: none;\n",
              "      border-radius: 50%;\n",
              "      cursor: pointer;\n",
              "      display: none;\n",
              "      fill: #1967D2;\n",
              "      height: 32px;\n",
              "      padding: 0 0 0 0;\n",
              "      width: 32px;\n",
              "    }\n",
              "\n",
              "    .colab-df-convert:hover {\n",
              "      background-color: #E2EBFA;\n",
              "      box-shadow: 0px 1px 2px rgba(60, 64, 67, 0.3), 0px 1px 3px 1px rgba(60, 64, 67, 0.15);\n",
              "      fill: #174EA6;\n",
              "    }\n",
              "\n",
              "    .colab-df-buttons div {\n",
              "      margin-bottom: 4px;\n",
              "    }\n",
              "\n",
              "    [theme=dark] .colab-df-convert {\n",
              "      background-color: #3B4455;\n",
              "      fill: #D2E3FC;\n",
              "    }\n",
              "\n",
              "    [theme=dark] .colab-df-convert:hover {\n",
              "      background-color: #434B5C;\n",
              "      box-shadow: 0px 1px 3px 1px rgba(0, 0, 0, 0.15);\n",
              "      filter: drop-shadow(0px 1px 2px rgba(0, 0, 0, 0.3));\n",
              "      fill: #FFFFFF;\n",
              "    }\n",
              "  </style>\n",
              "\n",
              "    <script>\n",
              "      const buttonEl =\n",
              "        document.querySelector('#df-acf8bae8-e659-4331-bd79-cb2b772318eb button.colab-df-convert');\n",
              "      buttonEl.style.display =\n",
              "        google.colab.kernel.accessAllowed ? 'block' : 'none';\n",
              "\n",
              "      async function convertToInteractive(key) {\n",
              "        const element = document.querySelector('#df-acf8bae8-e659-4331-bd79-cb2b772318eb');\n",
              "        const dataTable =\n",
              "          await google.colab.kernel.invokeFunction('convertToInteractive',\n",
              "                                                    [key], {});\n",
              "        if (!dataTable) return;\n",
              "\n",
              "        const docLinkHtml = 'Like what you see? Visit the ' +\n",
              "          '<a target=\"_blank\" href=https://colab.research.google.com/notebooks/data_table.ipynb>data table notebook</a>'\n",
              "          + ' to learn more about interactive tables.';\n",
              "        element.innerHTML = '';\n",
              "        dataTable['output_type'] = 'display_data';\n",
              "        await google.colab.output.renderOutput(dataTable, element);\n",
              "        const docLink = document.createElement('div');\n",
              "        docLink.innerHTML = docLinkHtml;\n",
              "        element.appendChild(docLink);\n",
              "      }\n",
              "    </script>\n",
              "  </div>\n",
              "\n",
              "\n",
              "<div id=\"df-01193474-0b1b-49fe-8f36-c57d4d7b9938\">\n",
              "  <button class=\"colab-df-quickchart\" onclick=\"quickchart('df-01193474-0b1b-49fe-8f36-c57d4d7b9938')\"\n",
              "            title=\"Suggest charts\"\n",
              "            style=\"display:none;\">\n",
              "\n",
              "<svg xmlns=\"http://www.w3.org/2000/svg\" height=\"24px\"viewBox=\"0 0 24 24\"\n",
              "     width=\"24px\">\n",
              "    <g>\n",
              "        <path d=\"M19 3H5c-1.1 0-2 .9-2 2v14c0 1.1.9 2 2 2h14c1.1 0 2-.9 2-2V5c0-1.1-.9-2-2-2zM9 17H7v-7h2v7zm4 0h-2V7h2v10zm4 0h-2v-4h2v4z\"/>\n",
              "    </g>\n",
              "</svg>\n",
              "  </button>\n",
              "\n",
              "<style>\n",
              "  .colab-df-quickchart {\n",
              "      --bg-color: #E8F0FE;\n",
              "      --fill-color: #1967D2;\n",
              "      --hover-bg-color: #E2EBFA;\n",
              "      --hover-fill-color: #174EA6;\n",
              "      --disabled-fill-color: #AAA;\n",
              "      --disabled-bg-color: #DDD;\n",
              "  }\n",
              "\n",
              "  [theme=dark] .colab-df-quickchart {\n",
              "      --bg-color: #3B4455;\n",
              "      --fill-color: #D2E3FC;\n",
              "      --hover-bg-color: #434B5C;\n",
              "      --hover-fill-color: #FFFFFF;\n",
              "      --disabled-bg-color: #3B4455;\n",
              "      --disabled-fill-color: #666;\n",
              "  }\n",
              "\n",
              "  .colab-df-quickchart {\n",
              "    background-color: var(--bg-color);\n",
              "    border: none;\n",
              "    border-radius: 50%;\n",
              "    cursor: pointer;\n",
              "    display: none;\n",
              "    fill: var(--fill-color);\n",
              "    height: 32px;\n",
              "    padding: 0;\n",
              "    width: 32px;\n",
              "  }\n",
              "\n",
              "  .colab-df-quickchart:hover {\n",
              "    background-color: var(--hover-bg-color);\n",
              "    box-shadow: 0 1px 2px rgba(60, 64, 67, 0.3), 0 1px 3px 1px rgba(60, 64, 67, 0.15);\n",
              "    fill: var(--button-hover-fill-color);\n",
              "  }\n",
              "\n",
              "  .colab-df-quickchart-complete:disabled,\n",
              "  .colab-df-quickchart-complete:disabled:hover {\n",
              "    background-color: var(--disabled-bg-color);\n",
              "    fill: var(--disabled-fill-color);\n",
              "    box-shadow: none;\n",
              "  }\n",
              "\n",
              "  .colab-df-spinner {\n",
              "    border: 2px solid var(--fill-color);\n",
              "    border-color: transparent;\n",
              "    border-bottom-color: var(--fill-color);\n",
              "    animation:\n",
              "      spin 1s steps(1) infinite;\n",
              "  }\n",
              "\n",
              "  @keyframes spin {\n",
              "    0% {\n",
              "      border-color: transparent;\n",
              "      border-bottom-color: var(--fill-color);\n",
              "      border-left-color: var(--fill-color);\n",
              "    }\n",
              "    20% {\n",
              "      border-color: transparent;\n",
              "      border-left-color: var(--fill-color);\n",
              "      border-top-color: var(--fill-color);\n",
              "    }\n",
              "    30% {\n",
              "      border-color: transparent;\n",
              "      border-left-color: var(--fill-color);\n",
              "      border-top-color: var(--fill-color);\n",
              "      border-right-color: var(--fill-color);\n",
              "    }\n",
              "    40% {\n",
              "      border-color: transparent;\n",
              "      border-right-color: var(--fill-color);\n",
              "      border-top-color: var(--fill-color);\n",
              "    }\n",
              "    60% {\n",
              "      border-color: transparent;\n",
              "      border-right-color: var(--fill-color);\n",
              "    }\n",
              "    80% {\n",
              "      border-color: transparent;\n",
              "      border-right-color: var(--fill-color);\n",
              "      border-bottom-color: var(--fill-color);\n",
              "    }\n",
              "    90% {\n",
              "      border-color: transparent;\n",
              "      border-bottom-color: var(--fill-color);\n",
              "    }\n",
              "  }\n",
              "</style>\n",
              "\n",
              "  <script>\n",
              "    async function quickchart(key) {\n",
              "      const quickchartButtonEl =\n",
              "        document.querySelector('#' + key + ' button');\n",
              "      quickchartButtonEl.disabled = true;  // To prevent multiple clicks.\n",
              "      quickchartButtonEl.classList.add('colab-df-spinner');\n",
              "      try {\n",
              "        const charts = await google.colab.kernel.invokeFunction(\n",
              "            'suggestCharts', [key], {});\n",
              "      } catch (error) {\n",
              "        console.error('Error during call to suggestCharts:', error);\n",
              "      }\n",
              "      quickchartButtonEl.classList.remove('colab-df-spinner');\n",
              "      quickchartButtonEl.classList.add('colab-df-quickchart-complete');\n",
              "    }\n",
              "    (() => {\n",
              "      let quickchartButtonEl =\n",
              "        document.querySelector('#df-01193474-0b1b-49fe-8f36-c57d4d7b9938 button');\n",
              "      quickchartButtonEl.style.display =\n",
              "        google.colab.kernel.accessAllowed ? 'block' : 'none';\n",
              "    })();\n",
              "  </script>\n",
              "</div>\n",
              "\n",
              "    </div>\n",
              "  </div>\n"
            ],
            "application/vnd.google.colaboratory.intrinsic+json": {
              "type": "dataframe",
              "summary": "{\n  \"name\": \"scen\",\n  \"rows\": 2,\n  \"fields\": [\n    {\n      \"column\": 0,\n      \"properties\": {\n        \"dtype\": \"string\",\n        \"num_unique_values\": 2,\n        \"samples\": [\n          1,\n          \"first_blood\"\n        ],\n        \"semantic_type\": \"\",\n        \"description\": \"\"\n      }\n    },\n    {\n      \"column\": 1,\n      \"properties\": {\n        \"dtype\": \"string\",\n        \"num_unique_values\": 2,\n        \"samples\": [\n          1,\n          \"first_tower\"\n        ],\n        \"semantic_type\": \"\",\n        \"description\": \"\"\n      }\n    },\n    {\n      \"column\": 2,\n      \"properties\": {\n        \"dtype\": \"string\",\n        \"num_unique_values\": 2,\n        \"samples\": [\n          2,\n          \"first_inhibitor\"\n        ],\n        \"semantic_type\": \"\",\n        \"description\": \"\"\n      }\n    },\n    {\n      \"column\": 3,\n      \"properties\": {\n        \"dtype\": \"string\",\n        \"num_unique_values\": 2,\n        \"samples\": [\n          1,\n          \"first_Baron\"\n        ],\n        \"semantic_type\": \"\",\n        \"description\": \"\"\n      }\n    },\n    {\n      \"column\": 4,\n      \"properties\": {\n        \"dtype\": \"string\",\n        \"num_unique_values\": 2,\n        \"samples\": [\n          1,\n          \"first_Dragon\"\n        ],\n        \"semantic_type\": \"\",\n        \"description\": \"\"\n      }\n    },\n    {\n      \"column\": 5,\n      \"properties\": {\n        \"dtype\": \"string\",\n        \"num_unique_values\": 2,\n        \"samples\": [\n          1,\n          \"first_RiftHerald\"\n        ],\n        \"semantic_type\": \"\",\n        \"description\": \"\"\n      }\n    },\n    {\n      \"column\": 6,\n      \"properties\": {\n        \"dtype\": \"string\",\n        \"num_unique_values\": 2,\n        \"samples\": [\n          10,\n          \"t1_tower\"\n        ],\n        \"semantic_type\": \"\",\n        \"description\": \"\"\n      }\n    },\n    {\n      \"column\": 7,\n      \"properties\": {\n        \"dtype\": \"string\",\n        \"num_unique_values\": 2,\n        \"samples\": [\n          2,\n          \"t1_inhibitor\"\n        ],\n        \"semantic_type\": \"\",\n        \"description\": \"\"\n      }\n    },\n    {\n      \"column\": 8,\n      \"properties\": {\n        \"dtype\": \"string\",\n        \"num_unique_values\": 2,\n        \"samples\": [\n          1,\n          \"t1_baron\"\n        ],\n        \"semantic_type\": \"\",\n        \"description\": \"\"\n      }\n    },\n    {\n      \"column\": 9,\n      \"properties\": {\n        \"dtype\": \"string\",\n        \"num_unique_values\": 2,\n        \"samples\": [\n          4,\n          \"t1_dragon\"\n        ],\n        \"semantic_type\": \"\",\n        \"description\": \"\"\n      }\n    },\n    {\n      \"column\": 10,\n      \"properties\": {\n        \"dtype\": \"string\",\n        \"num_unique_values\": 2,\n        \"samples\": [\n          7,\n          \"t2_tower\"\n        ],\n        \"semantic_type\": \"\",\n        \"description\": \"\"\n      }\n    },\n    {\n      \"column\": 11,\n      \"properties\": {\n        \"dtype\": \"string\",\n        \"num_unique_values\": 2,\n        \"samples\": [\n          2,\n          \"t2_inhibitor\"\n        ],\n        \"semantic_type\": \"\",\n        \"description\": \"\"\n      }\n    },\n    {\n      \"column\": 12,\n      \"properties\": {\n        \"dtype\": \"string\",\n        \"num_unique_values\": 2,\n        \"samples\": [\n          1,\n          \"t2_baron\"\n        ],\n        \"semantic_type\": \"\",\n        \"description\": \"\"\n      }\n    },\n    {\n      \"column\": 13,\n      \"properties\": {\n        \"dtype\": \"string\",\n        \"num_unique_values\": 2,\n        \"samples\": [\n          1,\n          \"t2_dragon\"\n        ],\n        \"semantic_type\": \"\",\n        \"description\": \"\"\n      }\n    }\n  ]\n}"
            }
          },
          "metadata": {},
          "execution_count": 70
        }
      ],
      "source": [
        "scenario={\"feature\":[\"first_blood\",\"first_tower\",\"first_inhibitor\",\"first_Baron\",\"first_Dragon\",\"first_RiftHerald\",\n",
        "\"t1_tower\",\"t1_inhibitor\",\"t1_baron\",\"t1_dragon\",\"t2_tower\",\"t2_inhibitor\",\"t2_baron\",\"t2_dragon\"],\n",
        "         \"value\":[1,1,2,1,1,1,10,2,1,4,7,2,1,1]}\n",
        "scen=pd.DataFrame(scenario)\n",
        "scen.T"
      ]
    },
    {
      "cell_type": "code",
      "execution_count": null,
      "metadata": {
        "id": "9oPYwxiag9rl",
        "colab": {
          "base_uri": "https://localhost:8080/"
        },
        "outputId": "2f1e3cc3-ad60-4b78-ff37-560c1b0d8227"
      },
      "outputs": [
        {
          "output_type": "stream",
          "name": "stdout",
          "text": [
            "winner is : [1]\n",
            "first team win probability is %  [83.16831683168317] \n",
            "second team win probability is %: [16.831683168316832]\n"
          ]
        },
        {
          "output_type": "stream",
          "name": "stderr",
          "text": [
            "/usr/local/lib/python3.10/dist-packages/sklearn/base.py:439: UserWarning: X does not have valid feature names, but DecisionTreeClassifier was fitted with feature names\n",
            "  warnings.warn(\n",
            "/usr/local/lib/python3.10/dist-packages/sklearn/base.py:439: UserWarning: X does not have valid feature names, but DecisionTreeClassifier was fitted with feature names\n",
            "  warnings.warn(\n"
          ]
        }
      ],
      "source": [
        "x1=[[1,1,2,1,1,1,10,2,1,4,7,2,1,1]]\n",
        "c=dt2.predict_proba(x1).reshape(-1,1)\n",
        "print(\"winner is :\" , dt2.predict(x1) )\n",
        "print(\"first team win probability is % \", list(c[0]*100),\"\\nsecond team win probability is %:\",list(c[1]*100)  )"
      ]
    },
    {
      "cell_type": "code",
      "execution_count": null,
      "metadata": {
        "id": "qyq_o9AYhB5w",
        "colab": {
          "base_uri": "https://localhost:8080/"
        },
        "outputId": "a7b71598-75cf-4f15-d6f4-72bb164b1959"
      },
      "outputs": [
        {
          "output_type": "stream",
          "name": "stdout",
          "text": [
            "winner is : [1]\n",
            "first team win probability is %  [55.338345864661655] \n",
            "second team win probability is %: [44.661654135338345]\n"
          ]
        },
        {
          "output_type": "stream",
          "name": "stderr",
          "text": [
            "/usr/local/lib/python3.10/dist-packages/sklearn/base.py:439: UserWarning: X does not have valid feature names, but DecisionTreeClassifier was fitted with feature names\n",
            "  warnings.warn(\n",
            "/usr/local/lib/python3.10/dist-packages/sklearn/base.py:439: UserWarning: X does not have valid feature names, but DecisionTreeClassifier was fitted with feature names\n",
            "  warnings.warn(\n"
          ]
        }
      ],
      "source": [
        "x2=[[0,0,0,0,0,0,0,0,0,0,0,0,0,0]]\n",
        "c=dt2.predict_proba(x2).reshape(-1,1)\n",
        "print(\"winner is :\" , dt2.predict(x2) )\n",
        "print(\"first team win probability is % \", list(c[0]*100),\"\\nsecond team win probability is %:\",list(c[1]*100)  )"
      ]
    },
    {
      "cell_type": "markdown",
      "metadata": {
        "id": "DYaKnRzSDSHo"
      },
      "source": [
        "## Modelo de regresion para los campeones"
      ]
    },
    {
      "cell_type": "markdown",
      "metadata": {
        "id": "8yYcRwWfe1gl"
      },
      "source": [
        "El segundo modelo se basa en la proyeccion de Gold Efficiency, la cual en juego se representa que tan bien es utilizado el oro por campeon. utilice modelos de regresion sin aplicar parametros, (ya que vi que se solicita en otra entrega) los cuales son Regresion Lineas, Random Forest, Gradient Boosting, Decision Tree."
      ]
    },
    {
      "cell_type": "code",
      "execution_count": null,
      "metadata": {
        "id": "gHwYi5VhGqHE",
        "colab": {
          "base_uri": "https://localhost:8080/",
          "height": 206
        },
        "outputId": "161fa3d4-3404-4aaa-b937-16ce5ea3726f"
      },
      "outputs": [
        {
          "output_type": "execute_result",
          "data": {
            "text/plain": [
              "  Champion Name     Role  Base Health  Base Mana  Base Armor  \\\n",
              "0        Aatrox      Top          580          0          38   \n",
              "1          Ahri      Mid          526        418          21   \n",
              "2         Akali      Mid          575        200          23   \n",
              "3       Alistar  Support          600        350          44   \n",
              "4         Amumu   Jungle          615        285          33   \n",
              "\n",
              "   Base Attack Damage  Gold Efficiency  \n",
              "0                  60             1.05  \n",
              "1                  53             1.02  \n",
              "2                  62             1.03  \n",
              "3                  62             1.08  \n",
              "4                  53             1.06  "
            ],
            "text/html": [
              "\n",
              "  <div id=\"df-9863b5d4-1f31-4fb5-8f33-9279fad35a4b\" class=\"colab-df-container\">\n",
              "    <div>\n",
              "<style scoped>\n",
              "    .dataframe tbody tr th:only-of-type {\n",
              "        vertical-align: middle;\n",
              "    }\n",
              "\n",
              "    .dataframe tbody tr th {\n",
              "        vertical-align: top;\n",
              "    }\n",
              "\n",
              "    .dataframe thead th {\n",
              "        text-align: right;\n",
              "    }\n",
              "</style>\n",
              "<table border=\"1\" class=\"dataframe\">\n",
              "  <thead>\n",
              "    <tr style=\"text-align: right;\">\n",
              "      <th></th>\n",
              "      <th>Champion Name</th>\n",
              "      <th>Role</th>\n",
              "      <th>Base Health</th>\n",
              "      <th>Base Mana</th>\n",
              "      <th>Base Armor</th>\n",
              "      <th>Base Attack Damage</th>\n",
              "      <th>Gold Efficiency</th>\n",
              "    </tr>\n",
              "  </thead>\n",
              "  <tbody>\n",
              "    <tr>\n",
              "      <th>0</th>\n",
              "      <td>Aatrox</td>\n",
              "      <td>Top</td>\n",
              "      <td>580</td>\n",
              "      <td>0</td>\n",
              "      <td>38</td>\n",
              "      <td>60</td>\n",
              "      <td>1.05</td>\n",
              "    </tr>\n",
              "    <tr>\n",
              "      <th>1</th>\n",
              "      <td>Ahri</td>\n",
              "      <td>Mid</td>\n",
              "      <td>526</td>\n",
              "      <td>418</td>\n",
              "      <td>21</td>\n",
              "      <td>53</td>\n",
              "      <td>1.02</td>\n",
              "    </tr>\n",
              "    <tr>\n",
              "      <th>2</th>\n",
              "      <td>Akali</td>\n",
              "      <td>Mid</td>\n",
              "      <td>575</td>\n",
              "      <td>200</td>\n",
              "      <td>23</td>\n",
              "      <td>62</td>\n",
              "      <td>1.03</td>\n",
              "    </tr>\n",
              "    <tr>\n",
              "      <th>3</th>\n",
              "      <td>Alistar</td>\n",
              "      <td>Support</td>\n",
              "      <td>600</td>\n",
              "      <td>350</td>\n",
              "      <td>44</td>\n",
              "      <td>62</td>\n",
              "      <td>1.08</td>\n",
              "    </tr>\n",
              "    <tr>\n",
              "      <th>4</th>\n",
              "      <td>Amumu</td>\n",
              "      <td>Jungle</td>\n",
              "      <td>615</td>\n",
              "      <td>285</td>\n",
              "      <td>33</td>\n",
              "      <td>53</td>\n",
              "      <td>1.06</td>\n",
              "    </tr>\n",
              "  </tbody>\n",
              "</table>\n",
              "</div>\n",
              "    <div class=\"colab-df-buttons\">\n",
              "\n",
              "  <div class=\"colab-df-container\">\n",
              "    <button class=\"colab-df-convert\" onclick=\"convertToInteractive('df-9863b5d4-1f31-4fb5-8f33-9279fad35a4b')\"\n",
              "            title=\"Convert this dataframe to an interactive table.\"\n",
              "            style=\"display:none;\">\n",
              "\n",
              "  <svg xmlns=\"http://www.w3.org/2000/svg\" height=\"24px\" viewBox=\"0 -960 960 960\">\n",
              "    <path d=\"M120-120v-720h720v720H120Zm60-500h600v-160H180v160Zm220 220h160v-160H400v160Zm0 220h160v-160H400v160ZM180-400h160v-160H180v160Zm440 0h160v-160H620v160ZM180-180h160v-160H180v160Zm440 0h160v-160H620v160Z\"/>\n",
              "  </svg>\n",
              "    </button>\n",
              "\n",
              "  <style>\n",
              "    .colab-df-container {\n",
              "      display:flex;\n",
              "      gap: 12px;\n",
              "    }\n",
              "\n",
              "    .colab-df-convert {\n",
              "      background-color: #E8F0FE;\n",
              "      border: none;\n",
              "      border-radius: 50%;\n",
              "      cursor: pointer;\n",
              "      display: none;\n",
              "      fill: #1967D2;\n",
              "      height: 32px;\n",
              "      padding: 0 0 0 0;\n",
              "      width: 32px;\n",
              "    }\n",
              "\n",
              "    .colab-df-convert:hover {\n",
              "      background-color: #E2EBFA;\n",
              "      box-shadow: 0px 1px 2px rgba(60, 64, 67, 0.3), 0px 1px 3px 1px rgba(60, 64, 67, 0.15);\n",
              "      fill: #174EA6;\n",
              "    }\n",
              "\n",
              "    .colab-df-buttons div {\n",
              "      margin-bottom: 4px;\n",
              "    }\n",
              "\n",
              "    [theme=dark] .colab-df-convert {\n",
              "      background-color: #3B4455;\n",
              "      fill: #D2E3FC;\n",
              "    }\n",
              "\n",
              "    [theme=dark] .colab-df-convert:hover {\n",
              "      background-color: #434B5C;\n",
              "      box-shadow: 0px 1px 3px 1px rgba(0, 0, 0, 0.15);\n",
              "      filter: drop-shadow(0px 1px 2px rgba(0, 0, 0, 0.3));\n",
              "      fill: #FFFFFF;\n",
              "    }\n",
              "  </style>\n",
              "\n",
              "    <script>\n",
              "      const buttonEl =\n",
              "        document.querySelector('#df-9863b5d4-1f31-4fb5-8f33-9279fad35a4b button.colab-df-convert');\n",
              "      buttonEl.style.display =\n",
              "        google.colab.kernel.accessAllowed ? 'block' : 'none';\n",
              "\n",
              "      async function convertToInteractive(key) {\n",
              "        const element = document.querySelector('#df-9863b5d4-1f31-4fb5-8f33-9279fad35a4b');\n",
              "        const dataTable =\n",
              "          await google.colab.kernel.invokeFunction('convertToInteractive',\n",
              "                                                    [key], {});\n",
              "        if (!dataTable) return;\n",
              "\n",
              "        const docLinkHtml = 'Like what you see? Visit the ' +\n",
              "          '<a target=\"_blank\" href=https://colab.research.google.com/notebooks/data_table.ipynb>data table notebook</a>'\n",
              "          + ' to learn more about interactive tables.';\n",
              "        element.innerHTML = '';\n",
              "        dataTable['output_type'] = 'display_data';\n",
              "        await google.colab.output.renderOutput(dataTable, element);\n",
              "        const docLink = document.createElement('div');\n",
              "        docLink.innerHTML = docLinkHtml;\n",
              "        element.appendChild(docLink);\n",
              "      }\n",
              "    </script>\n",
              "  </div>\n",
              "\n",
              "\n",
              "<div id=\"df-9a31142a-5304-4fe2-bcf4-52776b036c50\">\n",
              "  <button class=\"colab-df-quickchart\" onclick=\"quickchart('df-9a31142a-5304-4fe2-bcf4-52776b036c50')\"\n",
              "            title=\"Suggest charts\"\n",
              "            style=\"display:none;\">\n",
              "\n",
              "<svg xmlns=\"http://www.w3.org/2000/svg\" height=\"24px\"viewBox=\"0 0 24 24\"\n",
              "     width=\"24px\">\n",
              "    <g>\n",
              "        <path d=\"M19 3H5c-1.1 0-2 .9-2 2v14c0 1.1.9 2 2 2h14c1.1 0 2-.9 2-2V5c0-1.1-.9-2-2-2zM9 17H7v-7h2v7zm4 0h-2V7h2v10zm4 0h-2v-4h2v4z\"/>\n",
              "    </g>\n",
              "</svg>\n",
              "  </button>\n",
              "\n",
              "<style>\n",
              "  .colab-df-quickchart {\n",
              "      --bg-color: #E8F0FE;\n",
              "      --fill-color: #1967D2;\n",
              "      --hover-bg-color: #E2EBFA;\n",
              "      --hover-fill-color: #174EA6;\n",
              "      --disabled-fill-color: #AAA;\n",
              "      --disabled-bg-color: #DDD;\n",
              "  }\n",
              "\n",
              "  [theme=dark] .colab-df-quickchart {\n",
              "      --bg-color: #3B4455;\n",
              "      --fill-color: #D2E3FC;\n",
              "      --hover-bg-color: #434B5C;\n",
              "      --hover-fill-color: #FFFFFF;\n",
              "      --disabled-bg-color: #3B4455;\n",
              "      --disabled-fill-color: #666;\n",
              "  }\n",
              "\n",
              "  .colab-df-quickchart {\n",
              "    background-color: var(--bg-color);\n",
              "    border: none;\n",
              "    border-radius: 50%;\n",
              "    cursor: pointer;\n",
              "    display: none;\n",
              "    fill: var(--fill-color);\n",
              "    height: 32px;\n",
              "    padding: 0;\n",
              "    width: 32px;\n",
              "  }\n",
              "\n",
              "  .colab-df-quickchart:hover {\n",
              "    background-color: var(--hover-bg-color);\n",
              "    box-shadow: 0 1px 2px rgba(60, 64, 67, 0.3), 0 1px 3px 1px rgba(60, 64, 67, 0.15);\n",
              "    fill: var(--button-hover-fill-color);\n",
              "  }\n",
              "\n",
              "  .colab-df-quickchart-complete:disabled,\n",
              "  .colab-df-quickchart-complete:disabled:hover {\n",
              "    background-color: var(--disabled-bg-color);\n",
              "    fill: var(--disabled-fill-color);\n",
              "    box-shadow: none;\n",
              "  }\n",
              "\n",
              "  .colab-df-spinner {\n",
              "    border: 2px solid var(--fill-color);\n",
              "    border-color: transparent;\n",
              "    border-bottom-color: var(--fill-color);\n",
              "    animation:\n",
              "      spin 1s steps(1) infinite;\n",
              "  }\n",
              "\n",
              "  @keyframes spin {\n",
              "    0% {\n",
              "      border-color: transparent;\n",
              "      border-bottom-color: var(--fill-color);\n",
              "      border-left-color: var(--fill-color);\n",
              "    }\n",
              "    20% {\n",
              "      border-color: transparent;\n",
              "      border-left-color: var(--fill-color);\n",
              "      border-top-color: var(--fill-color);\n",
              "    }\n",
              "    30% {\n",
              "      border-color: transparent;\n",
              "      border-left-color: var(--fill-color);\n",
              "      border-top-color: var(--fill-color);\n",
              "      border-right-color: var(--fill-color);\n",
              "    }\n",
              "    40% {\n",
              "      border-color: transparent;\n",
              "      border-right-color: var(--fill-color);\n",
              "      border-top-color: var(--fill-color);\n",
              "    }\n",
              "    60% {\n",
              "      border-color: transparent;\n",
              "      border-right-color: var(--fill-color);\n",
              "    }\n",
              "    80% {\n",
              "      border-color: transparent;\n",
              "      border-right-color: var(--fill-color);\n",
              "      border-bottom-color: var(--fill-color);\n",
              "    }\n",
              "    90% {\n",
              "      border-color: transparent;\n",
              "      border-bottom-color: var(--fill-color);\n",
              "    }\n",
              "  }\n",
              "</style>\n",
              "\n",
              "  <script>\n",
              "    async function quickchart(key) {\n",
              "      const quickchartButtonEl =\n",
              "        document.querySelector('#' + key + ' button');\n",
              "      quickchartButtonEl.disabled = true;  // To prevent multiple clicks.\n",
              "      quickchartButtonEl.classList.add('colab-df-spinner');\n",
              "      try {\n",
              "        const charts = await google.colab.kernel.invokeFunction(\n",
              "            'suggestCharts', [key], {});\n",
              "      } catch (error) {\n",
              "        console.error('Error during call to suggestCharts:', error);\n",
              "      }\n",
              "      quickchartButtonEl.classList.remove('colab-df-spinner');\n",
              "      quickchartButtonEl.classList.add('colab-df-quickchart-complete');\n",
              "    }\n",
              "    (() => {\n",
              "      let quickchartButtonEl =\n",
              "        document.querySelector('#df-9a31142a-5304-4fe2-bcf4-52776b036c50 button');\n",
              "      quickchartButtonEl.style.display =\n",
              "        google.colab.kernel.accessAllowed ? 'block' : 'none';\n",
              "    })();\n",
              "  </script>\n",
              "</div>\n",
              "\n",
              "    </div>\n",
              "  </div>\n"
            ],
            "application/vnd.google.colaboratory.intrinsic+json": {
              "type": "dataframe",
              "variable_name": "df",
              "summary": "{\n  \"name\": \"df\",\n  \"rows\": 149,\n  \"fields\": [\n    {\n      \"column\": \"Champion Name\",\n      \"properties\": {\n        \"dtype\": \"string\",\n        \"num_unique_values\": 149,\n        \"samples\": [\n          \"Morgana\",\n          \"Corki\",\n          \"Teemo\"\n        ],\n        \"semantic_type\": \"\",\n        \"description\": \"\"\n      }\n    },\n    {\n      \"column\": \"Role\",\n      \"properties\": {\n        \"dtype\": \"category\",\n        \"num_unique_values\": 5,\n        \"samples\": [\n          \"Mid\",\n          \"ADC\",\n          \"Support\"\n        ],\n        \"semantic_type\": \"\",\n        \"description\": \"\"\n      }\n    },\n    {\n      \"column\": \"Base Health\",\n      \"properties\": {\n        \"dtype\": \"number\",\n        \"std\": 36,\n        \"min\": 340,\n        \"max\": 625,\n        \"num_unique_values\": 64,\n        \"samples\": [\n          523,\n          594,\n          580\n        ],\n        \"semantic_type\": \"\",\n        \"description\": \"\"\n      }\n    },\n    {\n      \"column\": \"Base Mana\",\n      \"properties\": {\n        \"dtype\": \"number\",\n        \"std\": 123,\n        \"min\": 0,\n        \"max\": 800,\n        \"num_unique_values\": 67,\n        \"samples\": [\n          410,\n          375,\n          285\n        ],\n        \"semantic_type\": \"\",\n        \"description\": \"\"\n      }\n    },\n    {\n      \"column\": \"Base Armor\",\n      \"properties\": {\n        \"dtype\": \"number\",\n        \"std\": 6,\n        \"min\": 17,\n        \"max\": 47,\n        \"num_unique_values\": 27,\n        \"samples\": [\n          37,\n          18,\n          22\n        ],\n        \"semantic_type\": \"\",\n        \"description\": \"\"\n      }\n    },\n    {\n      \"column\": \"Base Attack Damage\",\n      \"properties\": {\n        \"dtype\": \"number\",\n        \"std\": 5,\n        \"min\": 45,\n        \"max\": 72,\n        \"num_unique_values\": 27,\n        \"samples\": [\n          61,\n          58,\n          55\n        ],\n        \"semantic_type\": \"\",\n        \"description\": \"\"\n      }\n    },\n    {\n      \"column\": \"Gold Efficiency\",\n      \"properties\": {\n        \"dtype\": \"number\",\n        \"std\": 0.02043846418071547,\n        \"min\": 1.0,\n        \"max\": 1.1,\n        \"num_unique_values\": 10,\n        \"samples\": [\n          1.07,\n          1.02,\n          1.01\n        ],\n        \"semantic_type\": \"\",\n        \"description\": \"\"\n      }\n    }\n  ]\n}"
            }
          },
          "metadata": {},
          "execution_count": 73
        }
      ],
      "source": [
        "df = pd.read_csv('./champions.csv')\n",
        "df.head()"
      ]
    },
    {
      "cell_type": "markdown",
      "metadata": {
        "id": "XgMkucEdG-HG"
      },
      "source": [
        "### manejo de las variables categoricas"
      ]
    },
    {
      "cell_type": "code",
      "execution_count": null,
      "metadata": {
        "id": "NIbRNn7eGxZX",
        "colab": {
          "base_uri": "https://localhost:8080/",
          "height": 206
        },
        "outputId": "e7f8af4e-776a-4b73-bdd6-04ed2495d8c3"
      },
      "outputs": [
        {
          "output_type": "execute_result",
          "data": {
            "text/plain": [
              "   Base Health  Base Mana  Base Armor  Base Attack Damage  Gold Efficiency  \\\n",
              "0          580          0          38                  60             1.05   \n",
              "1          526        418          21                  53             1.02   \n",
              "2          575        200          23                  62             1.03   \n",
              "3          600        350          44                  62             1.08   \n",
              "4          615        285          33                  53             1.06   \n",
              "\n",
              "   Role_ADC  Role_Jungle  Role_Mid  Role_Support  Role_Top  \n",
              "0     False        False     False         False      True  \n",
              "1     False        False      True         False     False  \n",
              "2     False        False      True         False     False  \n",
              "3     False        False     False          True     False  \n",
              "4     False         True     False         False     False  "
            ],
            "text/html": [
              "\n",
              "  <div id=\"df-8f7faf5f-a583-47c5-a58d-ed63cde1b1da\" class=\"colab-df-container\">\n",
              "    <div>\n",
              "<style scoped>\n",
              "    .dataframe tbody tr th:only-of-type {\n",
              "        vertical-align: middle;\n",
              "    }\n",
              "\n",
              "    .dataframe tbody tr th {\n",
              "        vertical-align: top;\n",
              "    }\n",
              "\n",
              "    .dataframe thead th {\n",
              "        text-align: right;\n",
              "    }\n",
              "</style>\n",
              "<table border=\"1\" class=\"dataframe\">\n",
              "  <thead>\n",
              "    <tr style=\"text-align: right;\">\n",
              "      <th></th>\n",
              "      <th>Base Health</th>\n",
              "      <th>Base Mana</th>\n",
              "      <th>Base Armor</th>\n",
              "      <th>Base Attack Damage</th>\n",
              "      <th>Gold Efficiency</th>\n",
              "      <th>Role_ADC</th>\n",
              "      <th>Role_Jungle</th>\n",
              "      <th>Role_Mid</th>\n",
              "      <th>Role_Support</th>\n",
              "      <th>Role_Top</th>\n",
              "    </tr>\n",
              "  </thead>\n",
              "  <tbody>\n",
              "    <tr>\n",
              "      <th>0</th>\n",
              "      <td>580</td>\n",
              "      <td>0</td>\n",
              "      <td>38</td>\n",
              "      <td>60</td>\n",
              "      <td>1.05</td>\n",
              "      <td>False</td>\n",
              "      <td>False</td>\n",
              "      <td>False</td>\n",
              "      <td>False</td>\n",
              "      <td>True</td>\n",
              "    </tr>\n",
              "    <tr>\n",
              "      <th>1</th>\n",
              "      <td>526</td>\n",
              "      <td>418</td>\n",
              "      <td>21</td>\n",
              "      <td>53</td>\n",
              "      <td>1.02</td>\n",
              "      <td>False</td>\n",
              "      <td>False</td>\n",
              "      <td>True</td>\n",
              "      <td>False</td>\n",
              "      <td>False</td>\n",
              "    </tr>\n",
              "    <tr>\n",
              "      <th>2</th>\n",
              "      <td>575</td>\n",
              "      <td>200</td>\n",
              "      <td>23</td>\n",
              "      <td>62</td>\n",
              "      <td>1.03</td>\n",
              "      <td>False</td>\n",
              "      <td>False</td>\n",
              "      <td>True</td>\n",
              "      <td>False</td>\n",
              "      <td>False</td>\n",
              "    </tr>\n",
              "    <tr>\n",
              "      <th>3</th>\n",
              "      <td>600</td>\n",
              "      <td>350</td>\n",
              "      <td>44</td>\n",
              "      <td>62</td>\n",
              "      <td>1.08</td>\n",
              "      <td>False</td>\n",
              "      <td>False</td>\n",
              "      <td>False</td>\n",
              "      <td>True</td>\n",
              "      <td>False</td>\n",
              "    </tr>\n",
              "    <tr>\n",
              "      <th>4</th>\n",
              "      <td>615</td>\n",
              "      <td>285</td>\n",
              "      <td>33</td>\n",
              "      <td>53</td>\n",
              "      <td>1.06</td>\n",
              "      <td>False</td>\n",
              "      <td>True</td>\n",
              "      <td>False</td>\n",
              "      <td>False</td>\n",
              "      <td>False</td>\n",
              "    </tr>\n",
              "  </tbody>\n",
              "</table>\n",
              "</div>\n",
              "    <div class=\"colab-df-buttons\">\n",
              "\n",
              "  <div class=\"colab-df-container\">\n",
              "    <button class=\"colab-df-convert\" onclick=\"convertToInteractive('df-8f7faf5f-a583-47c5-a58d-ed63cde1b1da')\"\n",
              "            title=\"Convert this dataframe to an interactive table.\"\n",
              "            style=\"display:none;\">\n",
              "\n",
              "  <svg xmlns=\"http://www.w3.org/2000/svg\" height=\"24px\" viewBox=\"0 -960 960 960\">\n",
              "    <path d=\"M120-120v-720h720v720H120Zm60-500h600v-160H180v160Zm220 220h160v-160H400v160Zm0 220h160v-160H400v160ZM180-400h160v-160H180v160Zm440 0h160v-160H620v160ZM180-180h160v-160H180v160Zm440 0h160v-160H620v160Z\"/>\n",
              "  </svg>\n",
              "    </button>\n",
              "\n",
              "  <style>\n",
              "    .colab-df-container {\n",
              "      display:flex;\n",
              "      gap: 12px;\n",
              "    }\n",
              "\n",
              "    .colab-df-convert {\n",
              "      background-color: #E8F0FE;\n",
              "      border: none;\n",
              "      border-radius: 50%;\n",
              "      cursor: pointer;\n",
              "      display: none;\n",
              "      fill: #1967D2;\n",
              "      height: 32px;\n",
              "      padding: 0 0 0 0;\n",
              "      width: 32px;\n",
              "    }\n",
              "\n",
              "    .colab-df-convert:hover {\n",
              "      background-color: #E2EBFA;\n",
              "      box-shadow: 0px 1px 2px rgba(60, 64, 67, 0.3), 0px 1px 3px 1px rgba(60, 64, 67, 0.15);\n",
              "      fill: #174EA6;\n",
              "    }\n",
              "\n",
              "    .colab-df-buttons div {\n",
              "      margin-bottom: 4px;\n",
              "    }\n",
              "\n",
              "    [theme=dark] .colab-df-convert {\n",
              "      background-color: #3B4455;\n",
              "      fill: #D2E3FC;\n",
              "    }\n",
              "\n",
              "    [theme=dark] .colab-df-convert:hover {\n",
              "      background-color: #434B5C;\n",
              "      box-shadow: 0px 1px 3px 1px rgba(0, 0, 0, 0.15);\n",
              "      filter: drop-shadow(0px 1px 2px rgba(0, 0, 0, 0.3));\n",
              "      fill: #FFFFFF;\n",
              "    }\n",
              "  </style>\n",
              "\n",
              "    <script>\n",
              "      const buttonEl =\n",
              "        document.querySelector('#df-8f7faf5f-a583-47c5-a58d-ed63cde1b1da button.colab-df-convert');\n",
              "      buttonEl.style.display =\n",
              "        google.colab.kernel.accessAllowed ? 'block' : 'none';\n",
              "\n",
              "      async function convertToInteractive(key) {\n",
              "        const element = document.querySelector('#df-8f7faf5f-a583-47c5-a58d-ed63cde1b1da');\n",
              "        const dataTable =\n",
              "          await google.colab.kernel.invokeFunction('convertToInteractive',\n",
              "                                                    [key], {});\n",
              "        if (!dataTable) return;\n",
              "\n",
              "        const docLinkHtml = 'Like what you see? Visit the ' +\n",
              "          '<a target=\"_blank\" href=https://colab.research.google.com/notebooks/data_table.ipynb>data table notebook</a>'\n",
              "          + ' to learn more about interactive tables.';\n",
              "        element.innerHTML = '';\n",
              "        dataTable['output_type'] = 'display_data';\n",
              "        await google.colab.output.renderOutput(dataTable, element);\n",
              "        const docLink = document.createElement('div');\n",
              "        docLink.innerHTML = docLinkHtml;\n",
              "        element.appendChild(docLink);\n",
              "      }\n",
              "    </script>\n",
              "  </div>\n",
              "\n",
              "\n",
              "<div id=\"df-3d514bd7-56ab-4979-a986-0f3890635603\">\n",
              "  <button class=\"colab-df-quickchart\" onclick=\"quickchart('df-3d514bd7-56ab-4979-a986-0f3890635603')\"\n",
              "            title=\"Suggest charts\"\n",
              "            style=\"display:none;\">\n",
              "\n",
              "<svg xmlns=\"http://www.w3.org/2000/svg\" height=\"24px\"viewBox=\"0 0 24 24\"\n",
              "     width=\"24px\">\n",
              "    <g>\n",
              "        <path d=\"M19 3H5c-1.1 0-2 .9-2 2v14c0 1.1.9 2 2 2h14c1.1 0 2-.9 2-2V5c0-1.1-.9-2-2-2zM9 17H7v-7h2v7zm4 0h-2V7h2v10zm4 0h-2v-4h2v4z\"/>\n",
              "    </g>\n",
              "</svg>\n",
              "  </button>\n",
              "\n",
              "<style>\n",
              "  .colab-df-quickchart {\n",
              "      --bg-color: #E8F0FE;\n",
              "      --fill-color: #1967D2;\n",
              "      --hover-bg-color: #E2EBFA;\n",
              "      --hover-fill-color: #174EA6;\n",
              "      --disabled-fill-color: #AAA;\n",
              "      --disabled-bg-color: #DDD;\n",
              "  }\n",
              "\n",
              "  [theme=dark] .colab-df-quickchart {\n",
              "      --bg-color: #3B4455;\n",
              "      --fill-color: #D2E3FC;\n",
              "      --hover-bg-color: #434B5C;\n",
              "      --hover-fill-color: #FFFFFF;\n",
              "      --disabled-bg-color: #3B4455;\n",
              "      --disabled-fill-color: #666;\n",
              "  }\n",
              "\n",
              "  .colab-df-quickchart {\n",
              "    background-color: var(--bg-color);\n",
              "    border: none;\n",
              "    border-radius: 50%;\n",
              "    cursor: pointer;\n",
              "    display: none;\n",
              "    fill: var(--fill-color);\n",
              "    height: 32px;\n",
              "    padding: 0;\n",
              "    width: 32px;\n",
              "  }\n",
              "\n",
              "  .colab-df-quickchart:hover {\n",
              "    background-color: var(--hover-bg-color);\n",
              "    box-shadow: 0 1px 2px rgba(60, 64, 67, 0.3), 0 1px 3px 1px rgba(60, 64, 67, 0.15);\n",
              "    fill: var(--button-hover-fill-color);\n",
              "  }\n",
              "\n",
              "  .colab-df-quickchart-complete:disabled,\n",
              "  .colab-df-quickchart-complete:disabled:hover {\n",
              "    background-color: var(--disabled-bg-color);\n",
              "    fill: var(--disabled-fill-color);\n",
              "    box-shadow: none;\n",
              "  }\n",
              "\n",
              "  .colab-df-spinner {\n",
              "    border: 2px solid var(--fill-color);\n",
              "    border-color: transparent;\n",
              "    border-bottom-color: var(--fill-color);\n",
              "    animation:\n",
              "      spin 1s steps(1) infinite;\n",
              "  }\n",
              "\n",
              "  @keyframes spin {\n",
              "    0% {\n",
              "      border-color: transparent;\n",
              "      border-bottom-color: var(--fill-color);\n",
              "      border-left-color: var(--fill-color);\n",
              "    }\n",
              "    20% {\n",
              "      border-color: transparent;\n",
              "      border-left-color: var(--fill-color);\n",
              "      border-top-color: var(--fill-color);\n",
              "    }\n",
              "    30% {\n",
              "      border-color: transparent;\n",
              "      border-left-color: var(--fill-color);\n",
              "      border-top-color: var(--fill-color);\n",
              "      border-right-color: var(--fill-color);\n",
              "    }\n",
              "    40% {\n",
              "      border-color: transparent;\n",
              "      border-right-color: var(--fill-color);\n",
              "      border-top-color: var(--fill-color);\n",
              "    }\n",
              "    60% {\n",
              "      border-color: transparent;\n",
              "      border-right-color: var(--fill-color);\n",
              "    }\n",
              "    80% {\n",
              "      border-color: transparent;\n",
              "      border-right-color: var(--fill-color);\n",
              "      border-bottom-color: var(--fill-color);\n",
              "    }\n",
              "    90% {\n",
              "      border-color: transparent;\n",
              "      border-bottom-color: var(--fill-color);\n",
              "    }\n",
              "  }\n",
              "</style>\n",
              "\n",
              "  <script>\n",
              "    async function quickchart(key) {\n",
              "      const quickchartButtonEl =\n",
              "        document.querySelector('#' + key + ' button');\n",
              "      quickchartButtonEl.disabled = true;  // To prevent multiple clicks.\n",
              "      quickchartButtonEl.classList.add('colab-df-spinner');\n",
              "      try {\n",
              "        const charts = await google.colab.kernel.invokeFunction(\n",
              "            'suggestCharts', [key], {});\n",
              "      } catch (error) {\n",
              "        console.error('Error during call to suggestCharts:', error);\n",
              "      }\n",
              "      quickchartButtonEl.classList.remove('colab-df-spinner');\n",
              "      quickchartButtonEl.classList.add('colab-df-quickchart-complete');\n",
              "    }\n",
              "    (() => {\n",
              "      let quickchartButtonEl =\n",
              "        document.querySelector('#df-3d514bd7-56ab-4979-a986-0f3890635603 button');\n",
              "      quickchartButtonEl.style.display =\n",
              "        google.colab.kernel.accessAllowed ? 'block' : 'none';\n",
              "    })();\n",
              "  </script>\n",
              "</div>\n",
              "\n",
              "    </div>\n",
              "  </div>\n"
            ],
            "application/vnd.google.colaboratory.intrinsic+json": {
              "type": "dataframe",
              "variable_name": "df",
              "summary": "{\n  \"name\": \"df\",\n  \"rows\": 149,\n  \"fields\": [\n    {\n      \"column\": \"Base Health\",\n      \"properties\": {\n        \"dtype\": \"number\",\n        \"std\": 36,\n        \"min\": 340,\n        \"max\": 625,\n        \"num_unique_values\": 64,\n        \"samples\": [\n          523,\n          594,\n          580\n        ],\n        \"semantic_type\": \"\",\n        \"description\": \"\"\n      }\n    },\n    {\n      \"column\": \"Base Mana\",\n      \"properties\": {\n        \"dtype\": \"number\",\n        \"std\": 123,\n        \"min\": 0,\n        \"max\": 800,\n        \"num_unique_values\": 67,\n        \"samples\": [\n          410,\n          375,\n          285\n        ],\n        \"semantic_type\": \"\",\n        \"description\": \"\"\n      }\n    },\n    {\n      \"column\": \"Base Armor\",\n      \"properties\": {\n        \"dtype\": \"number\",\n        \"std\": 6,\n        \"min\": 17,\n        \"max\": 47,\n        \"num_unique_values\": 27,\n        \"samples\": [\n          37,\n          18,\n          22\n        ],\n        \"semantic_type\": \"\",\n        \"description\": \"\"\n      }\n    },\n    {\n      \"column\": \"Base Attack Damage\",\n      \"properties\": {\n        \"dtype\": \"number\",\n        \"std\": 5,\n        \"min\": 45,\n        \"max\": 72,\n        \"num_unique_values\": 27,\n        \"samples\": [\n          61,\n          58,\n          55\n        ],\n        \"semantic_type\": \"\",\n        \"description\": \"\"\n      }\n    },\n    {\n      \"column\": \"Gold Efficiency\",\n      \"properties\": {\n        \"dtype\": \"number\",\n        \"std\": 0.02043846418071547,\n        \"min\": 1.0,\n        \"max\": 1.1,\n        \"num_unique_values\": 10,\n        \"samples\": [\n          1.07,\n          1.02,\n          1.01\n        ],\n        \"semantic_type\": \"\",\n        \"description\": \"\"\n      }\n    },\n    {\n      \"column\": \"Role_ADC\",\n      \"properties\": {\n        \"dtype\": \"boolean\",\n        \"num_unique_values\": 2,\n        \"samples\": [\n          true,\n          false\n        ],\n        \"semantic_type\": \"\",\n        \"description\": \"\"\n      }\n    },\n    {\n      \"column\": \"Role_Jungle\",\n      \"properties\": {\n        \"dtype\": \"boolean\",\n        \"num_unique_values\": 2,\n        \"samples\": [\n          true,\n          false\n        ],\n        \"semantic_type\": \"\",\n        \"description\": \"\"\n      }\n    },\n    {\n      \"column\": \"Role_Mid\",\n      \"properties\": {\n        \"dtype\": \"boolean\",\n        \"num_unique_values\": 2,\n        \"samples\": [\n          true,\n          false\n        ],\n        \"semantic_type\": \"\",\n        \"description\": \"\"\n      }\n    },\n    {\n      \"column\": \"Role_Support\",\n      \"properties\": {\n        \"dtype\": \"boolean\",\n        \"num_unique_values\": 2,\n        \"samples\": [\n          true,\n          false\n        ],\n        \"semantic_type\": \"\",\n        \"description\": \"\"\n      }\n    },\n    {\n      \"column\": \"Role_Top\",\n      \"properties\": {\n        \"dtype\": \"boolean\",\n        \"num_unique_values\": 2,\n        \"samples\": [\n          false,\n          true\n        ],\n        \"semantic_type\": \"\",\n        \"description\": \"\"\n      }\n    }\n  ]\n}"
            }
          },
          "metadata": {},
          "execution_count": 74
        }
      ],
      "source": [
        "df = pd.get_dummies(df, columns=['Role']) #esto transformara los valores de Top,Mid,Support,Jungle,ADC y agrega 5 nuevas columnas\n",
        "df = df.drop(columns=['Champion Name'])\n",
        "df.head()"
      ]
    },
    {
      "cell_type": "markdown",
      "metadata": {
        "id": "X8h0SjW2IxX7"
      },
      "source": [
        "### Entrenamiento de los datos"
      ]
    },
    {
      "cell_type": "code",
      "execution_count": null,
      "metadata": {
        "id": "C_6SukXHH20d"
      },
      "outputs": [],
      "source": [
        "X = df.drop(columns=['Gold Efficiency'])\n",
        "y = df['Gold Efficiency']\n",
        "\n",
        "X_train, X_test, y_train, y_test = train_test_split(X, y, test_size=0.2)"
      ]
    },
    {
      "cell_type": "markdown",
      "metadata": {
        "id": "5fT4OjQFI4Ae"
      },
      "source": [
        "### Linear Regression"
      ]
    },
    {
      "cell_type": "code",
      "execution_count": null,
      "metadata": {
        "id": "Py8Ora6EI4bZ",
        "colab": {
          "base_uri": "https://localhost:8080/"
        },
        "outputId": "8a8c31e8-d3a7-4977-df73-25fa65351b94"
      },
      "outputs": [
        {
          "output_type": "execute_result",
          "data": {
            "text/plain": [
              "0.9371463807684988"
            ]
          },
          "metadata": {},
          "execution_count": 76
        }
      ],
      "source": [
        "model = LinearRegression()\n",
        "model.fit(X_train, y_train)\n",
        "model.score(X_test, y_test)"
      ]
    },
    {
      "cell_type": "markdown",
      "metadata": {
        "id": "WeJw_myxIFTc"
      },
      "source": [
        "### Random Forest"
      ]
    },
    {
      "cell_type": "code",
      "execution_count": null,
      "metadata": {
        "id": "s3puyQUxIFCI",
        "colab": {
          "base_uri": "https://localhost:8080/"
        },
        "outputId": "c0d61f1f-3a8a-47e2-9544-1d9ad6a6df77"
      },
      "outputs": [
        {
          "output_type": "execute_result",
          "data": {
            "text/plain": [
              "0.9022086283185853"
            ]
          },
          "metadata": {},
          "execution_count": 77
        }
      ],
      "source": [
        "model = RandomForestRegressor()\n",
        "model.fit(X_train, y_train)\n",
        "model.score(X_test, y_test)"
      ]
    },
    {
      "cell_type": "markdown",
      "metadata": {
        "id": "lLyVKo2wINVf"
      },
      "source": [
        "### Gradient Boosting"
      ]
    },
    {
      "cell_type": "code",
      "execution_count": null,
      "metadata": {
        "id": "oY2M6pfCIPQD",
        "colab": {
          "base_uri": "https://localhost:8080/"
        },
        "outputId": "ec0047e4-39e0-49de-a968-f5aece947c71"
      },
      "outputs": [
        {
          "output_type": "execute_result",
          "data": {
            "text/plain": [
              "0.9055914964465063"
            ]
          },
          "metadata": {},
          "execution_count": 78
        }
      ],
      "source": [
        "model = GradientBoostingRegressor()\n",
        "model.fit(X_train, y_train)\n",
        "model.score(X_test, y_test)"
      ]
    },
    {
      "cell_type": "markdown",
      "metadata": {
        "id": "d6R25ghPImVi"
      },
      "source": [
        "### Decision tree"
      ]
    },
    {
      "cell_type": "code",
      "execution_count": null,
      "metadata": {
        "id": "kKCvlC77ImFO",
        "colab": {
          "base_uri": "https://localhost:8080/"
        },
        "outputId": "02e3fa6c-d400-4fd7-a714-57d21dde49d1"
      },
      "outputs": [
        {
          "output_type": "execute_result",
          "data": {
            "text/plain": [
              "0.6216814159292041"
            ]
          },
          "metadata": {},
          "execution_count": 79
        }
      ],
      "source": [
        "model = DecisionTreeRegressor()\n",
        "model.fit(X_train, y_train)\n",
        "model.score(X_test, y_test)"
      ]
    },
    {
      "cell_type": "markdown",
      "metadata": {
        "id": "BHeIey8kd6kT"
      },
      "source": [
        "## Aplicacion de PCA"
      ]
    },
    {
      "cell_type": "markdown",
      "metadata": {
        "id": "kFk7FmvceAMH"
      },
      "source": [
        "### Linear Regression"
      ]
    },
    {
      "cell_type": "code",
      "execution_count": null,
      "metadata": {
        "id": "bLkWPeIod9Cp"
      },
      "outputs": [],
      "source": [
        "from sklearn.decomposition import PCA\n",
        "import matplotlib.pyplot as plt\n",
        "\n",
        "\n",
        "#primer modelo Linear Regression\n",
        "model = LinearRegression()\n",
        "model.fit(X_train, y_train)\n",
        "model_acc = [model.score(X_test, y_test)]\n",
        "model_name = ['Linear Regression','Linear Regression PCA']"
      ]
    },
    {
      "cell_type": "code",
      "execution_count": null,
      "metadata": {
        "id": "mtAuGOfaeInR",
        "colab": {
          "base_uri": "https://localhost:8080/"
        },
        "outputId": "54090af4-ed1e-44db-828e-c206490a452a"
      },
      "outputs": [
        {
          "output_type": "stream",
          "name": "stdout",
          "text": [
            "0.28438865738850827\n"
          ]
        }
      ],
      "source": [
        "X = df.drop(columns=['Gold Efficiency'])\n",
        "y = df['Gold Efficiency']\n",
        "\n",
        "X_train, X_test, y_train, y_test = train_test_split(X, y, test_size=0.2)\n",
        "\n",
        "#aplica PCA\n",
        "pca = PCA(n_components=2)\n",
        "X_train = pca.fit_transform(X_train)\n",
        "X_test = pca.transform(X_test)\n",
        "\n",
        "#acurracy\n",
        "model = LinearRegression()\n",
        "model.fit(X_train, y_train)\n",
        "#mostrar accuracy\n",
        "print(model.score(X_test, y_test))\n",
        "#agregar accuracy a la lista\n",
        "model_acc.append(model.score(X_test, y_test))\n"
      ]
    },
    {
      "cell_type": "markdown",
      "metadata": {
        "id": "5Wnwd86KeSqW"
      },
      "source": [
        "### Confiable?"
      ]
    },
    {
      "cell_type": "code",
      "execution_count": null,
      "metadata": {
        "id": "bs0QGwV2ef-H",
        "colab": {
          "base_uri": "https://localhost:8080/"
        },
        "outputId": "ad649007-a3a1-4ab6-9f7c-baaa0fe4814e"
      },
      "outputs": [
        {
          "output_type": "execute_result",
          "data": {
            "text/plain": [
              "array([0.9228381 , 0.07413939])"
            ]
          },
          "metadata": {},
          "execution_count": 82
        }
      ],
      "source": [
        "explained_variance = pca.explained_variance_ratio_\n",
        "explained_variance"
      ]
    },
    {
      "cell_type": "markdown",
      "metadata": {
        "id": "iriMxJfgegvD"
      },
      "source": [
        "### Comparacion"
      ]
    },
    {
      "cell_type": "code",
      "execution_count": null,
      "metadata": {
        "id": "Lpq189tSeTP4",
        "colab": {
          "base_uri": "https://localhost:8080/",
          "height": 231
        },
        "outputId": "60c28167-384a-4fdb-82c1-20fd46c9ad4c"
      },
      "outputs": [
        {
          "output_type": "execute_result",
          "data": {
            "text/plain": [
              "<Axes: >"
            ]
          },
          "metadata": {},
          "execution_count": 83
        },
        {
          "output_type": "display_data",
          "data": {
            "text/plain": [
              "<Figure size 1200x200 with 1 Axes>"
            ],
            "image/png": "[encoded data removed]"
          },
          "metadata": {}
        }
      ],
      "source": [
        "plt.figure(figsize=(12,2))\n",
        "sns.barplot(x=model_acc, y=model_name)"
      ]
    },
    {
      "cell_type": "markdown",
      "source": [
        "## Variables sinteticas"
      ],
      "metadata": {
        "id": "RMNsl6rGq_Gu"
      }
    },
    {
      "cell_type": "markdown",
      "source": [
        "Primero revisamos la correlacion de las variables para seleccionar las mas relacionadas"
      ],
      "metadata": {
        "id": "kT289N7arL4M"
      }
    },
    {
      "cell_type": "code",
      "source": [
        "plt.figure(figsize=(12,6))\n",
        "sns.heatmap(df.corr(), annot=True)"
      ],
      "metadata": {
        "colab": {
          "base_uri": "https://localhost:8080/",
          "height": 677
        },
        "id": "oal8Ym99rIpD",
        "outputId": "0d56e471-d27c-4fe4-8aa7-1e5e170e27fe"
      },
      "execution_count": null,
      "outputs": [
        {
          "output_type": "execute_result",
          "data": {
            "text/plain": [
              "<Axes: >"
            ]
          },
          "metadata": {},
          "execution_count": 84
        },
        {
          "output_type": "display_data",
          "data": {
            "text/plain": [
              "<Figure size 1200x600 with 2 Axes>"
            ],
            "image/png": "[encoded data removed]"
          },
          "metadata": {}
        }
      ]
    },
    {
      "cell_type": "code",
      "source": [
        "#creacion de variables sinteticas\n",
        "#se tendra en cuenta las mas correlacionadas  Base Armor, Base Attack Damage\n",
        "\n",
        "# variable de relacion entre Base Armor y Gold Efficiency\n",
        "df['Armor_Efficiency'] = df['Base Armor'] * df['Gold Efficiency']\n",
        "\n",
        "# variable de relacion entre Base Attack Damage y Gold Efficiency\n",
        "df['Attack_Efficiency'] = df['Base Attack Damage'] * df['Gold Efficiency']"
      ],
      "metadata": {
        "id": "l_bIAahKri3e"
      },
      "execution_count": null,
      "outputs": []
    },
    {
      "cell_type": "code",
      "source": [
        "df[['Armor_Efficiency','Attack_Efficiency']].head()"
      ],
      "metadata": {
        "colab": {
          "base_uri": "https://localhost:8080/",
          "height": 206
        },
        "id": "BChKDn6ermuk",
        "outputId": "64967923-8dfe-4069-b812-6b686646b487"
      },
      "execution_count": null,
      "outputs": [
        {
          "output_type": "execute_result",
          "data": {
            "text/plain": [
              "   Armor_Efficiency  Attack_Efficiency\n",
              "0             39.90              63.00\n",
              "1             21.42              54.06\n",
              "2             23.69              63.86\n",
              "3             47.52              66.96\n",
              "4             34.98              56.18"
            ],
            "text/html": [
              "\n",
              "  <div id=\"df-c70035ab-ae5a-4e2f-bef1-8228600444bc\" class=\"colab-df-container\">\n",
              "    <div>\n",
              "<style scoped>\n",
              "    .dataframe tbody tr th:only-of-type {\n",
              "        vertical-align: middle;\n",
              "    }\n",
              "\n",
              "    .dataframe tbody tr th {\n",
              "        vertical-align: top;\n",
              "    }\n",
              "\n",
              "    .dataframe thead th {\n",
              "        text-align: right;\n",
              "    }\n",
              "</style>\n",
              "<table border=\"1\" class=\"dataframe\">\n",
              "  <thead>\n",
              "    <tr style=\"text-align: right;\">\n",
              "      <th></th>\n",
              "      <th>Armor_Efficiency</th>\n",
              "      <th>Attack_Efficiency</th>\n",
              "    </tr>\n",
              "  </thead>\n",
              "  <tbody>\n",
              "    <tr>\n",
              "      <th>0</th>\n",
              "      <td>39.90</td>\n",
              "      <td>63.00</td>\n",
              "    </tr>\n",
              "    <tr>\n",
              "      <th>1</th>\n",
              "      <td>21.42</td>\n",
              "      <td>54.06</td>\n",
              "    </tr>\n",
              "    <tr>\n",
              "      <th>2</th>\n",
              "      <td>23.69</td>\n",
              "      <td>63.86</td>\n",
              "    </tr>\n",
              "    <tr>\n",
              "      <th>3</th>\n",
              "      <td>47.52</td>\n",
              "      <td>66.96</td>\n",
              "    </tr>\n",
              "    <tr>\n",
              "      <th>4</th>\n",
              "      <td>34.98</td>\n",
              "      <td>56.18</td>\n",
              "    </tr>\n",
              "  </tbody>\n",
              "</table>\n",
              "</div>\n",
              "    <div class=\"colab-df-buttons\">\n",
              "\n",
              "  <div class=\"colab-df-container\">\n",
              "    <button class=\"colab-df-convert\" onclick=\"convertToInteractive('df-c70035ab-ae5a-4e2f-bef1-8228600444bc')\"\n",
              "            title=\"Convert this dataframe to an interactive table.\"\n",
              "            style=\"display:none;\">\n",
              "\n",
              "  <svg xmlns=\"http://www.w3.org/2000/svg\" height=\"24px\" viewBox=\"0 -960 960 960\">\n",
              "    <path d=\"M120-120v-720h720v720H120Zm60-500h600v-160H180v160Zm220 220h160v-160H400v160Zm0 220h160v-160H400v160ZM180-400h160v-160H180v160Zm440 0h160v-160H620v160ZM180-180h160v-160H180v160Zm440 0h160v-160H620v160Z\"/>\n",
              "  </svg>\n",
              "    </button>\n",
              "\n",
              "  <style>\n",
              "    .colab-df-container {\n",
              "      display:flex;\n",
              "      gap: 12px;\n",
              "    }\n",
              "\n",
              "    .colab-df-convert {\n",
              "      background-color: #E8F0FE;\n",
              "      border: none;\n",
              "      border-radius: 50%;\n",
              "      cursor: pointer;\n",
              "      display: none;\n",
              "      fill: #1967D2;\n",
              "      height: 32px;\n",
              "      padding: 0 0 0 0;\n",
              "      width: 32px;\n",
              "    }\n",
              "\n",
              "    .colab-df-convert:hover {\n",
              "      background-color: #E2EBFA;\n",
              "      box-shadow: 0px 1px 2px rgba(60, 64, 67, 0.3), 0px 1px 3px 1px rgba(60, 64, 67, 0.15);\n",
              "      fill: #174EA6;\n",
              "    }\n",
              "\n",
              "    .colab-df-buttons div {\n",
              "      margin-bottom: 4px;\n",
              "    }\n",
              "\n",
              "    [theme=dark] .colab-df-convert {\n",
              "      background-color: #3B4455;\n",
              "      fill: #D2E3FC;\n",
              "    }\n",
              "\n",
              "    [theme=dark] .colab-df-convert:hover {\n",
              "      background-color: #434B5C;\n",
              "      box-shadow: 0px 1px 3px 1px rgba(0, 0, 0, 0.15);\n",
              "      filter: drop-shadow(0px 1px 2px rgba(0, 0, 0, 0.3));\n",
              "      fill: #FFFFFF;\n",
              "    }\n",
              "  </style>\n",
              "\n",
              "    <script>\n",
              "      const buttonEl =\n",
              "        document.querySelector('#df-c70035ab-ae5a-4e2f-bef1-8228600444bc button.colab-df-convert');\n",
              "      buttonEl.style.display =\n",
              "        google.colab.kernel.accessAllowed ? 'block' : 'none';\n",
              "\n",
              "      async function convertToInteractive(key) {\n",
              "        const element = document.querySelector('#df-c70035ab-ae5a-4e2f-bef1-8228600444bc');\n",
              "        const dataTable =\n",
              "          await google.colab.kernel.invokeFunction('convertToInteractive',\n",
              "                                                    [key], {});\n",
              "        if (!dataTable) return;\n",
              "\n",
              "        const docLinkHtml = 'Like what you see? Visit the ' +\n",
              "          '<a target=\"_blank\" href=https://colab.research.google.com/notebooks/data_table.ipynb>data table notebook</a>'\n",
              "          + ' to learn more about interactive tables.';\n",
              "        element.innerHTML = '';\n",
              "        dataTable['output_type'] = 'display_data';\n",
              "        await google.colab.output.renderOutput(dataTable, element);\n",
              "        const docLink = document.createElement('div');\n",
              "        docLink.innerHTML = docLinkHtml;\n",
              "        element.appendChild(docLink);\n",
              "      }\n",
              "    </script>\n",
              "  </div>\n",
              "\n",
              "\n",
              "<div id=\"df-39a2edf6-5e1b-4112-a3a5-e0b538c79995\">\n",
              "  <button class=\"colab-df-quickchart\" onclick=\"quickchart('df-39a2edf6-5e1b-4112-a3a5-e0b538c79995')\"\n",
              "            title=\"Suggest charts\"\n",
              "            style=\"display:none;\">\n",
              "\n",
              "<svg xmlns=\"http://www.w3.org/2000/svg\" height=\"24px\"viewBox=\"0 0 24 24\"\n",
              "     width=\"24px\">\n",
              "    <g>\n",
              "        <path d=\"M19 3H5c-1.1 0-2 .9-2 2v14c0 1.1.9 2 2 2h14c1.1 0 2-.9 2-2V5c0-1.1-.9-2-2-2zM9 17H7v-7h2v7zm4 0h-2V7h2v10zm4 0h-2v-4h2v4z\"/>\n",
              "    </g>\n",
              "</svg>\n",
              "  </button>\n",
              "\n",
              "<style>\n",
              "  .colab-df-quickchart {\n",
              "      --bg-color: #E8F0FE;\n",
              "      --fill-color: #1967D2;\n",
              "      --hover-bg-color: #E2EBFA;\n",
              "      --hover-fill-color: #174EA6;\n",
              "      --disabled-fill-color: #AAA;\n",
              "      --disabled-bg-color: #DDD;\n",
              "  }\n",
              "\n",
              "  [theme=dark] .colab-df-quickchart {\n",
              "      --bg-color: #3B4455;\n",
              "      --fill-color: #D2E3FC;\n",
              "      --hover-bg-color: #434B5C;\n",
              "      --hover-fill-color: #FFFFFF;\n",
              "      --disabled-bg-color: #3B4455;\n",
              "      --disabled-fill-color: #666;\n",
              "  }\n",
              "\n",
              "  .colab-df-quickchart {\n",
              "    background-color: var(--bg-color);\n",
              "    border: none;\n",
              "    border-radius: 50%;\n",
              "    cursor: pointer;\n",
              "    display: none;\n",
              "    fill: var(--fill-color);\n",
              "    height: 32px;\n",
              "    padding: 0;\n",
              "    width: 32px;\n",
              "  }\n",
              "\n",
              "  .colab-df-quickchart:hover {\n",
              "    background-color: var(--hover-bg-color);\n",
              "    box-shadow: 0 1px 2px rgba(60, 64, 67, 0.3), 0 1px 3px 1px rgba(60, 64, 67, 0.15);\n",
              "    fill: var(--button-hover-fill-color);\n",
              "  }\n",
              "\n",
              "  .colab-df-quickchart-complete:disabled,\n",
              "  .colab-df-quickchart-complete:disabled:hover {\n",
              "    background-color: var(--disabled-bg-color);\n",
              "    fill: var(--disabled-fill-color);\n",
              "    box-shadow: none;\n",
              "  }\n",
              "\n",
              "  .colab-df-spinner {\n",
              "    border: 2px solid var(--fill-color);\n",
              "    border-color: transparent;\n",
              "    border-bottom-color: var(--fill-color);\n",
              "    animation:\n",
              "      spin 1s steps(1) infinite;\n",
              "  }\n",
              "\n",
              "  @keyframes spin {\n",
              "    0% {\n",
              "      border-color: transparent;\n",
              "      border-bottom-color: var(--fill-color);\n",
              "      border-left-color: var(--fill-color);\n",
              "    }\n",
              "    20% {\n",
              "      border-color: transparent;\n",
              "      border-left-color: var(--fill-color);\n",
              "      border-top-color: var(--fill-color);\n",
              "    }\n",
              "    30% {\n",
              "      border-color: transparent;\n",
              "      border-left-color: var(--fill-color);\n",
              "      border-top-color: var(--fill-color);\n",
              "      border-right-color: var(--fill-color);\n",
              "    }\n",
              "    40% {\n",
              "      border-color: transparent;\n",
              "      border-right-color: var(--fill-color);\n",
              "      border-top-color: var(--fill-color);\n",
              "    }\n",
              "    60% {\n",
              "      border-color: transparent;\n",
              "      border-right-color: var(--fill-color);\n",
              "    }\n",
              "    80% {\n",
              "      border-color: transparent;\n",
              "      border-right-color: var(--fill-color);\n",
              "      border-bottom-color: var(--fill-color);\n",
              "    }\n",
              "    90% {\n",
              "      border-color: transparent;\n",
              "      border-bottom-color: var(--fill-color);\n",
              "    }\n",
              "  }\n",
              "</style>\n",
              "\n",
              "  <script>\n",
              "    async function quickchart(key) {\n",
              "      const quickchartButtonEl =\n",
              "        document.querySelector('#' + key + ' button');\n",
              "      quickchartButtonEl.disabled = true;  // To prevent multiple clicks.\n",
              "      quickchartButtonEl.classList.add('colab-df-spinner');\n",
              "      try {\n",
              "        const charts = await google.colab.kernel.invokeFunction(\n",
              "            'suggestCharts', [key], {});\n",
              "      } catch (error) {\n",
              "        console.error('Error during call to suggestCharts:', error);\n",
              "      }\n",
              "      quickchartButtonEl.classList.remove('colab-df-spinner');\n",
              "      quickchartButtonEl.classList.add('colab-df-quickchart-complete');\n",
              "    }\n",
              "    (() => {\n",
              "      let quickchartButtonEl =\n",
              "        document.querySelector('#df-39a2edf6-5e1b-4112-a3a5-e0b538c79995 button');\n",
              "      quickchartButtonEl.style.display =\n",
              "        google.colab.kernel.accessAllowed ? 'block' : 'none';\n",
              "    })();\n",
              "  </script>\n",
              "</div>\n",
              "\n",
              "    </div>\n",
              "  </div>\n"
            ],
            "application/vnd.google.colaboratory.intrinsic+json": {
              "type": "dataframe",
              "summary": "{\n  \"name\": \"df[['Armor_Efficiency','Attack_Efficiency']]\",\n  \"rows\": 5,\n  \"fields\": [\n    {\n      \"column\": \"Armor_Efficiency\",\n      \"properties\": {\n        \"dtype\": \"number\",\n        \"std\": 10.975806120736646,\n        \"min\": 21.42,\n        \"max\": 47.52,\n        \"num_unique_values\": 5,\n        \"samples\": [\n          21.42,\n          34.980000000000004,\n          23.69\n        ],\n        \"semantic_type\": \"\",\n        \"description\": \"\"\n      }\n    },\n    {\n      \"column\": \"Attack_Efficiency\",\n      \"properties\": {\n        \"dtype\": \"number\",\n        \"std\": 5.452533356156569,\n        \"min\": 54.06,\n        \"max\": 66.96000000000001,\n        \"num_unique_values\": 5,\n        \"samples\": [\n          54.06,\n          56.18,\n          63.86\n        ],\n        \"semantic_type\": \"\",\n        \"description\": \"\"\n      }\n    }\n  ]\n}"
            }
          },
          "metadata": {},
          "execution_count": 86
        }
      ]
    },
    {
      "cell_type": "code",
      "source": [
        "df.Armor_Efficiency.describe()"
      ],
      "metadata": {
        "colab": {
          "base_uri": "https://localhost:8080/"
        },
        "id": "dO84Ululr9_6",
        "outputId": "1ffc0f83-34a7-4bed-84a4-10711e96e2e7"
      },
      "execution_count": null,
      "outputs": [
        {
          "output_type": "execute_result",
          "data": {
            "text/plain": [
              "count    149.000000\n",
              "mean      31.320000\n",
              "std        7.609563\n",
              "min       17.000000\n",
              "25%       24.960000\n",
              "50%       31.200000\n",
              "75%       37.100000\n",
              "max       51.700000\n",
              "Name: Armor_Efficiency, dtype: float64"
            ]
          },
          "metadata": {},
          "execution_count": 87
        }
      ]
    },
    {
      "cell_type": "code",
      "source": [
        "df.Attack_Efficiency.describe()"
      ],
      "metadata": {
        "colab": {
          "base_uri": "https://localhost:8080/"
        },
        "id": "AIvXZM1DsCBM",
        "outputId": "b1616d29-7b4a-45b6-d96b-25f7c1a6e5be"
      },
      "execution_count": null,
      "outputs": [
        {
          "output_type": "execute_result",
          "data": {
            "text/plain": [
              "count    149.000000\n",
              "mean      62.086711\n",
              "std        7.085460\n",
              "min       45.000000\n",
              "25%       56.100000\n",
              "50%       63.000000\n",
              "75%       67.200000\n",
              "max       77.760000\n",
              "Name: Attack_Efficiency, dtype: float64"
            ]
          },
          "metadata": {},
          "execution_count": 88
        }
      ]
    },
    {
      "cell_type": "markdown",
      "source": [
        "Notemos que los valores se encuentras bastante bien, ya que lo importante es que esten entre 0 y 100"
      ],
      "metadata": {
        "id": "14Fs_0wosGPk"
      }
    },
    {
      "cell_type": "markdown",
      "source": [
        "### Nuevo PCA"
      ],
      "metadata": {
        "id": "NjDYuL2IsQjV"
      }
    },
    {
      "cell_type": "code",
      "source": [
        "pca = PCA(n_components=3)\n",
        "X = df.drop(columns=['Gold Efficiency'])\n",
        "y = df['Gold Efficiency']\n",
        "\n",
        "X_train, X_test, y_train, y_test = train_test_split(X, y, test_size=0.2)\n",
        "\n",
        "X_train = pca.fit_transform(X_train)\n",
        "X_test = pca.transform(X_test)\n",
        "\n",
        "model = LinearRegression()\n",
        "model.fit(X_train, y_train)\n",
        "model.score(X_test, y_test)"
      ],
      "metadata": {
        "colab": {
          "base_uri": "https://localhost:8080/"
        },
        "id": "rhD3ysAgsLo8",
        "outputId": "c31a5a74-773a-48f0-a8a3-982821eec7c9"
      },
      "execution_count": null,
      "outputs": [
        {
          "output_type": "execute_result",
          "data": {
            "text/plain": [
              "0.8916035669195184"
            ]
          },
          "metadata": {},
          "execution_count": 99
        }
      ]
    },
    {
      "cell_type": "code",
      "source": [
        "model_name.append('Linear Regression PCA with Synthetic Variables')\n",
        "model_acc.append(model.score(X_test, y_test))"
      ],
      "metadata": {
        "id": "2Rhj_RH5salh"
      },
      "execution_count": null,
      "outputs": []
    },
    {
      "cell_type": "code",
      "source": [
        "plt.figure(figsize=(14,2))\n",
        "sns.barplot(x=model_acc, y=model_name)\n"
      ],
      "metadata": {
        "colab": {
          "base_uri": "https://localhost:8080/",
          "height": 186
        },
        "id": "flwrXTn6sbym",
        "outputId": "e49a0e17-0cf5-4d14-bf2d-87319b1dd69e"
      },
      "execution_count": null,
      "outputs": [
        {
          "output_type": "execute_result",
          "data": {
            "text/plain": [
              "<Axes: >"
            ]
          },
          "metadata": {},
          "execution_count": 109
        },
        {
          "output_type": "display_data",
          "data": {
            "text/plain": [
              "<Figure size 1400x200 with 1 Axes>"
            ],
            "image/png": "[encoded data removed]"
          },
          "metadata": {}
        }
      ]
    },
    {
      "cell_type": "markdown",
      "source": [
        "Podemos ver una mejora en el modelo evaluado despues del PCA agregando estas dos variables sinteticas. sin embargo aqui agregamos un componente mas, pero sin agregar este componente mas se obtiene un 0.57 aprox lo cual es una mejora significativa ya que sin agregar las variables se obtenia aproximadamente 0.3"
      ],
      "metadata": {
        "id": "6qk8kDCHs9Nm"
      }
    }
  ],
  "metadata": {
    "colab": {
      "provenance": []
    },
    "kernelspec": {
      "display_name": "Python 3",
      "name": "python3"
    },
    "language_info": {
      "name": "python"
    }
  },
  "nbformat": 4,
  "nbformat_minor": 0
}